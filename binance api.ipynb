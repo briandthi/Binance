{
 "metadata": {
  "language_info": {
   "codemirror_mode": {
    "name": "ipython",
    "version": 3
   },
   "file_extension": ".py",
   "mimetype": "text/x-python",
   "name": "python",
   "nbconvert_exporter": "python",
   "pygments_lexer": "ipython3",
   "version": "3.7.8"
  },
  "orig_nbformat": 2,
  "kernelspec": {
   "name": "python3",
   "display_name": "Python 3.7.8 64-bit"
  },
  "metadata": {
   "interpreter": {
    "hash": "40a72caf6fa46f53aa7f5b366fbd5b98b2736726cc2be7465f0404892e27bcbd"
   }
  },
  "interpreter": {
   "hash": "40a72caf6fa46f53aa7f5b366fbd5b98b2736726cc2be7465f0404892e27bcbd"
  }
 },
 "nbformat": 4,
 "nbformat_minor": 2,
 "cells": [
  {
   "cell_type": "markdown",
   "source": [
    "# Binance\n",
    "\n",
    "- Créér un clé API : https://www.binance.com/en/support/faq/360002502072\n",
    "- **Quand elle est créée garder en mémoire l'api key et la secret KEY**\n",
    "\n",
    "- créer un fichier config.cfg dans le même répertoire que le notebook et remplacer les valeurs par celles de l'API créée\n",
    "\n",
    "```cfg\n",
    "[BINANCE]\n",
    "API_KEY = YOUR KEY                  \n",
    "SECRET_KEY = YOUR SECRET KEY        \n",
    "```\n",
    "\n",
    "\n",
    "\n",
    "- installer le package python-binance \n",
    "\n",
    "```shell\n",
    "pip install python-binance\n",
    "ou\n",
    "py -m pip install python-binance\n",
    "ou autre\n",
    "```\n",
    "- Editer la list my_coins avec vos crypto \n",
    "```python\n",
    "#exemple\n",
    "my_coins = ['BTC','USDT', 'ETH']     # A ADAPTER\n",
    "```\n",
    "\n",
    "- Editer le dict stack car l'API ne sait pas encore récupérer les crypto stackées \n",
    "\n",
    "```python\n",
    "#exemple\n",
    "stack = {'DOT':3, 'ADA':6.1938, 'CAKE':3.125, 'TRX': 67}      # A ADAPTER\n",
    "```\n",
    "\n",
    "- et lancer tout les cellules\n",
    "! Tout est en dollars\n",
    "\n",
    "\n",
    "(Il peut y avoir des erreurs de désynchronisation d'horloge. Pour corriger cliquer sur l'heure, puis \"paramètre date et heure\", puis \"synchroniser maintenant\")\n"
   ],
   "metadata": {}
  },
  {
   "cell_type": "markdown",
   "source": [
    "#### LISTE A COMPLETER"
   ],
   "metadata": {}
  },
  {
   "cell_type": "code",
   "execution_count": 1,
   "source": [
    "import requests, json, time, hashlib,hmac, configparser\r\n",
    "from binance import Client\r\n",
    "# A ADAPTER \r\n",
    "my_coins = ['BTC', 'ETH', 'ADA', 'DOT', 'MATIC', 'KSM', 'CAKE', 'VET', 'SOL', 'BNB', 'LTC', 'THETA', 'AVAX', 'DENT', 'EGLD', 'HOT', 'TRX', 'ONE', 'BAND', 'SXP', 'LINK', 'UTK', 'USDT', 'BUSD']  \r\n",
    "my_symbols = [coin + 'USDT' for coin in my_coins]\r\n",
    "\r\n",
    "config = configparser.ConfigParser()\r\n",
    "config.read_file(open('config.cfg'))\r\n",
    "\r\n",
    "KEY = config.get('BINANCE', 'API_KEY')\r\n",
    "SECRET_KEY = config.get('BINANCE', 'SECRET_KEY')\r\n",
    "BASE_URL = 'https://api.binance.com/'\r\n",
    "\r\n",
    "client = Client(KEY, SECRET_KEY)\r\n"
   ],
   "outputs": [],
   "metadata": {}
  },
  {
   "cell_type": "code",
   "execution_count": 2,
   "source": [
    "from urllib.parse import urlencode\r\n",
    "\r\n",
    "# fonctions utilitaires\r\n",
    "\r\n",
    "def get_timestamp():\r\n",
    "    return int(time.time() * 1000)\r\n",
    "\r\n",
    "def hashing(query_string):\r\n",
    "    return hmac.new(SECRET_KEY.encode('utf-8'), query_string.encode('utf-8'), hashlib.sha256).hexdigest()\r\n",
    "\r\n",
    "def dispatch_request(http_method):\r\n",
    "    session = requests.Session()\r\n",
    "    session.headers.update({\r\n",
    "        'Content-Type': 'application/json;charset=utf-8',\r\n",
    "        'X-MBX-APIKEY': KEY\r\n",
    "    })\r\n",
    "    return {\r\n",
    "        'GET': session.get,\r\n",
    "        'DELETE': session.delete,\r\n",
    "        'PUT': session.put,\r\n",
    "        'POST': session.post,\r\n",
    "    }.get(http_method, 'GET')\r\n",
    "\r\n",
    "def send_signed_request(http_method, url_path, payload={}):\r\n",
    "    query_string = urlencode(payload, True)\r\n",
    "    if query_string:\r\n",
    "        query_string = \"{}&timestamp={}\".format(query_string, get_timestamp())\r\n",
    "    else:\r\n",
    "        query_string = 'timestamp={}'.format(get_timestamp())\r\n",
    "\r\n",
    "    url = BASE_URL + url_path + '?' + query_string + '&signature=' + hashing(query_string)\r\n",
    "    print(\"{} {}\".format(http_method, url))\r\n",
    "    params = {'url': url, 'params': {}}\r\n",
    "    response = dispatch_request(http_method)(**params)\r\n",
    "    return response.json()\r\n"
   ],
   "outputs": [],
   "metadata": {}
  },
  {
   "cell_type": "code",
   "execution_count": 3,
   "source": [
    "# Create wallet\r\n",
    "def create_wallet():\r\n",
    "    wallet = {}\r\n",
    "    for asset in my_coins:\r\n",
    "        wallet[asset] = { 'Current_market_price':0, 'Current_value':0, 'Buy':0, 'Buy_price': 0, 'Buy_Qty':0, 'Sell':0, 'Sell_price': 0, 'Sell_Qty':0, 'Saving_value':0, 'Saving_Qty':0, 'Spot_value':0, 'Spot_Qty':0, 'Stack_value':0, 'Stack_Qty':0, 'ATH': 0, 'ATH_percent':0, 'Buy_price_percent':0, 'Balance':0}\r\n",
    "    return wallet"
   ],
   "outputs": [],
   "metadata": {}
  },
  {
   "cell_type": "code",
   "execution_count": 4,
   "source": [
    "# Get order history\r\n",
    "def update_order_history(wallet):\r\n",
    "    for symbol in my_symbols:\r\n",
    "        \r\n",
    "        if symbol != 'USDTUSDT' and symbol != 'BUSDUSDT':\r\n",
    "            for i in range(3):\r\n",
    "                orders_history = []\r\n",
    "                while orders_history == [] :\r\n",
    "                    orders_history = client.get_all_orders(symbol=symbol)\r\n",
    "                sum_coin = 0.0\r\n",
    "                sum_cost = 0.0\r\n",
    "                sell_coin = 0.0\r\n",
    "                sell_cost = 0.0\r\n",
    "                for order in orders_history:\r\n",
    "                    if order['side'] == 'BUY':\r\n",
    "                        sum_cost += float(order['executedQty']) * float(order['price'])\r\n",
    "                        sum_coin += float(order['executedQty']) \r\n",
    "                    elif order['side'] == 'SELL':\r\n",
    "                        sell_cost +=  float(order['executedQty']) * float(order['price'])\r\n",
    "                        sell_coin += float(order['executedQty'])\r\n",
    "                if sum_coin > wallet[symbol.replace('USDT', '')]['Buy_Qty']:\r\n",
    "                    wallet[symbol.replace('USDT', '')]['Buy_Qty'] = sum_coin \r\n",
    "                    wallet[symbol.replace('USDT', '')]['Buy_price'] = sum_cost / sum_coin\r\n",
    "                    wallet[symbol.replace('USDT', '')]['Buy'] = sum_cost\r\n",
    "                    if sell_cost != 0:\r\n",
    "                        wallet[symbol.replace('USDT', '')]['Sell_Qty'] = sell_coin \r\n",
    "                        wallet[symbol.replace('USDT', '')]['Sell_price'] = sell_cost / sell_coin\r\n",
    "                        wallet[symbol.replace('USDT', '')]['Sell'] = sell_cost"
   ],
   "outputs": [],
   "metadata": {}
  },
  {
   "cell_type": "code",
   "execution_count": 5,
   "source": [
    "def update_market_price(wallet):\r\n",
    "    all_coins = client.get_all_tickers()\r\n",
    "    for asset in my_coins:\r\n",
    "        if asset != 'USDT':\r\n",
    "            for symbol in all_coins:\r\n",
    "                if symbol['symbol'] == asset+'USDT':\r\n",
    "                    wallet[asset]['Current_market_price'] = float(symbol['price'])"
   ],
   "outputs": [],
   "metadata": {}
  },
  {
   "cell_type": "code",
   "execution_count": 6,
   "source": [
    "# Get current Savings\r\n",
    "def update_saving(wallet):\r\n",
    "    saving = send_signed_request('GET', 'sapi/v1/lending/union/account')\r\n",
    "    savings = saving['positionAmountVos']\r\n",
    "    for asset in savings:\r\n",
    "        wallet[asset['asset']][\"Saving_value\"] = float(asset['amountInUSDT'])\r\n",
    "        wallet[asset['asset']][\"Saving_Qty\"] = float(asset['amount'])"
   ],
   "outputs": [],
   "metadata": {}
  },
  {
   "cell_type": "code",
   "execution_count": 7,
   "source": [
    "# stop value\r\n",
    "def update_spot(wallet):\r\n",
    "    spot = send_signed_request('GET', 'api/v3/account')\r\n",
    "\r\n",
    "    for asset in my_coins:\r\n",
    "        for asset_spot in spot[\"balances\"]:\r\n",
    "            if asset_spot['asset'] == asset:\r\n",
    "                if asset != \"USDT\":\r\n",
    "                    wallet[asset]['Spot_value'] = wallet[asset]['Current_market_price'] * float(asset_spot['free'])\r\n",
    "                    wallet[asset]['Spot_Qty'] = float(asset_spot['free'])\r\n",
    "                else:\r\n",
    "                    wallet[asset]['Spot_value'] = float(asset_spot['free'])"
   ],
   "outputs": [],
   "metadata": {
    "tags": []
   }
  },
  {
   "cell_type": "markdown",
   "source": [
    "#### STACK A COMPLETER"
   ],
   "metadata": {}
  },
  {
   "cell_type": "code",
   "execution_count": 8,
   "source": [
    "# get stacking value\r\n",
    "def update_stacking(wallet):    \r\n",
    "    # A ADAPTER\r\n",
    "    stack = {'ADA':33.3+17.2+6.247+18.94+7.992+14.5+8.02,  'KSM':0.1599+0.24, 'MATIC':65+139.7+18, 'VET':497 , 'CAKE':1.785+4.06, 'SOL':0.5, 'DOT':9.556 , 'ETH':0.068836, 'BNB': 0.09388}\r\n",
    "    for asset in my_coins:\r\n",
    "        try:\r\n",
    "            coin = stack[asset]\r\n",
    "            wallet[asset]['Stack_value'] = wallet[asset]['Current_market_price'] * coin\r\n",
    "            wallet[asset]['Stack_Qty'] = stack[asset]\r\n",
    "        except:\r\n",
    "            pass"
   ],
   "outputs": [],
   "metadata": {}
  },
  {
   "cell_type": "code",
   "execution_count": 9,
   "source": [
    "# balance calcul\r\n",
    "def update_balance(wallet):\r\n",
    "    for asset in my_coins:\r\n",
    "        wallet[asset][\"Balance\"] =  wallet[asset][\"Stack_value\"] + wallet[asset][\"Saving_value\"] + wallet[asset][\"Spot_value\"] -  wallet[asset][\"Buy\"] + wallet[asset][\"Sell\"]"
   ],
   "outputs": [],
   "metadata": {}
  },
  {
   "cell_type": "code",
   "execution_count": 10,
   "source": [
    "# Get ATH\r\n",
    "def update_ath(wallet):\r\n",
    "    for asset in my_coins:\r\n",
    "        if asset != 'USDT':\r\n",
    "            earliest_timestamp = client._get_earliest_valid_timestamp(asset + 'USDT', '1d')  # Here \"ETHUSDT\" is a trading pair and \"1d\" is time interval\r\n",
    "            candle = client.get_historical_klines(asset + 'USDT', Client.KLINE_INTERVAL_1WEEK, \"1 May, 2021\")\r\n",
    "            max_asset = 0\r\n",
    "            for c in candle:\r\n",
    "                if float(c[2]) > max_asset:\r\n",
    "                    max_asset = float(c[2])\r\n",
    "            wallet[asset]['ATH'] = max_asset\r\n",
    "            wallet[asset]['ATH_percent'] = wallet[asset]['Current_market_price'] / wallet[asset]['ATH'] "
   ],
   "outputs": [],
   "metadata": {}
  },
  {
   "cell_type": "code",
   "execution_count": 11,
   "source": [
    "def update_buy_price_percent(wallet):\r\n",
    "    for asset in my_coins:\r\n",
    "        if wallet[asset]['Current_market_price'] != 0:\r\n",
    "            wallet[asset]['Buy_price_percent'] = wallet[asset]['Buy_price']  / wallet[asset]['Current_market_price'] "
   ],
   "outputs": [],
   "metadata": {}
  },
  {
   "cell_type": "code",
   "execution_count": null,
   "source": [
    "def update_current_value(wallet):\r\n",
    "    for asset in my_coins:\r\n",
    "        wallet[asset]['Current_value'] = wallet[asset]['Spot_value']  + wallet[asset]['Stack_value'] + wallet[asset]['Saving_value']"
   ],
   "outputs": [],
   "metadata": {}
  },
  {
   "cell_type": "code",
   "execution_count": 12,
   "source": [
    "def main():\r\n",
    "    wallet = create_wallet()\r\n",
    "    update_market_price(wallet)\r\n",
    "    update_order_history(wallet)\r\n",
    "    update_ath(wallet)\r\n",
    "    update_market_price(wallet)\r\n",
    "    update_saving(wallet)\r\n",
    "    update_spot(wallet)\r\n",
    "    update_stacking(wallet)\r\n",
    "    update_balance(wallet)\r\n",
    "    update_buy_price_percent(wallet)\r\n",
    "    update_current_value(wallet)\r\n",
    "    with open(\"binance.json\", \"w\") as outfile: \r\n",
    "        json.dump(wallet, outfile)\r\n",
    "    return wallet\r\n",
    "\r\n",
    "wallet = main()"
   ],
   "outputs": [
    {
     "output_type": "stream",
     "name": "stdout",
     "text": [
      "GET https://api.binance.com/sapi/v1/lending/union/account?timestamp=1628327792365&signature=0daa5fc48dac6e275bb107d80037b4003b382f09554f249c4c5e245c1473c1cd\n",
      "{'asset': 'USDT', 'amount': '305.71009438', 'amountInBTC': '0.00701299', 'amountInUSDT': '305.71009438'}\n",
      "{'asset': 'BTC', 'amount': '0.00593024', 'amountInBTC': '0.00593024', 'amountInUSDT': '258.41821382'}\n",
      "{'asset': 'ETH', 'amount': '0.0121054', 'amountInBTC': '0.00083429', 'amountInUSDT': '36.35832679'}\n",
      "{'asset': 'DOT', 'amount': '1.08362907', 'amountInBTC': '0.0005241', 'amountInUSDT': '22.84398442'}\n",
      "{'asset': 'SXP', 'amount': '7.40079903', 'amountInBTC': '0.00044975', 'amountInUSDT': '19.61951823'}\n",
      "{'asset': 'LTC', 'amount': '0.10604751', 'amountInBTC': '0.00037244', 'amountInUSDT': '16.22845046'}\n",
      "{'asset': 'THETA', 'amount': '2.00154507', 'amountInBTC': '0.00032463', 'amountInUSDT': '14.15292519'}\n",
      "{'asset': 'ONE', 'amount': '80.67710911', 'amountInBTC': '0.00015571', 'amountInUSDT': '6.76719591'}\n",
      "{'asset': 'EGLD', 'amount': '0.0531131', 'amountInBTC': '0.00014627', 'amountInUSDT': '6.36826069'}\n",
      "{'asset': 'LINK', 'amount': '0.21512921', 'amountInBTC': '0.00012053', 'amountInUSDT': '5.25280992'}\n",
      "{'asset': 'TRX', 'amount': '67.41572531', 'amountInBTC': '0.00011663', 'amountInUSDT': '5.07572996'}\n",
      "{'asset': 'MATIC', 'amount': '1.0256037', 'amountInBTC': '0.00002672', 'amountInUSDT': '1.16376277'}\n",
      "{'asset': 'CAKE', 'amount': '0.04269246', 'amountInBTC': '0.00001809', 'amountInUSDT': '0.78763319'}\n",
      "{'asset': 'BNB', 'amount': '0.00033022', 'amountInBTC': '0.00000266', 'amountInUSDT': '0.11597326'}\n",
      "{'asset': 'ADA', 'amount': '0.06090923', 'amountInBTC': '0.00000202', 'amountInUSDT': '0.08806256'}\n",
      "{'asset': 'VET', 'amount': '0', 'amountInBTC': '0', 'amountInUSDT': '0'}\n",
      "GET https://api.binance.com/api/v3/account?timestamp=1628327792678&signature=bf760c147183781b49ba9de6f3b5aa94e82411bf9ac7a592c2dd34c3e0e7c530\n"
     ]
    }
   ],
   "metadata": {
    "tags": []
   }
  },
  {
   "cell_type": "code",
   "execution_count": 13,
   "source": [
    "import pandas as pd\r\n",
    "pd.DataFrame.from_dict(wallet,  orient='index')"
   ],
   "outputs": [
    {
     "output_type": "execute_result",
     "data": {
      "text/plain": [
       "       Current_market_price  Current_value         Buy     Buy_price  \\\n",
       "BTC            43577.360000              0  226.092220  38165.465901   \n",
       "ETH             3001.500000              0  191.958088   2374.837164   \n",
       "ADA                1.445600              0  143.654880      1.363985   \n",
       "DOT               21.068000              0  217.063720     20.674704   \n",
       "MATIC              1.135300              0  312.526722      1.427063   \n",
       "KSM              237.500000              0  113.495750    286.750253   \n",
       "CAKE              18.455000              0  126.912600     14.267858   \n",
       "VET                0.108080              0   55.757800      0.112053   \n",
       "SOL               39.815000              0   35.046424     32.938368   \n",
       "BNB              350.950000              0   21.064000    263.300000   \n",
       "LTC              153.230000              0   30.442000    287.188679   \n",
       "THETA              7.071000              0   21.000000     10.500000   \n",
       "AVAX              15.564000              0   10.096500     38.100000   \n",
       "DENT               0.002960              0   10.185000      0.009700   \n",
       "EGLD             119.910000              0   10.085900    190.300000   \n",
       "HOT                0.008102              0   10.131000      0.015350   \n",
       "TRX                0.075330              0   10.117000      0.151000   \n",
       "ONE                0.083930              0   10.127800      0.128200   \n",
       "BAND               7.572000              0   19.994330     16.930000   \n",
       "SXP                2.648000              0   31.395600      4.251266   \n",
       "LINK              24.394000              0   10.019000     46.600000   \n",
       "UTK                0.321800              0   10.260000      0.540000   \n",
       "USDT               0.000000              0    0.000000      0.000000   \n",
       "BUSD               0.999400              0    0.000000      0.000000   \n",
       "\n",
       "           Buy_Qty     Sell  Sell_price  Sell_Qty  Saving_value  Saving_Qty  \\\n",
       "BTC       0.005924   0.0000         0.0     0.000    258.418214           0   \n",
       "ETH       0.080830   0.0000         0.0     0.000     36.358327           0   \n",
       "ADA     105.320000   0.0000         0.0     0.000      0.088063           0   \n",
       "DOT      10.499000   0.0000         0.0     0.000     22.843984           0   \n",
       "MATIC   219.000000   0.0000         0.0     0.000      1.163763           0   \n",
       "KSM       0.395800   0.0000         0.0     0.000      0.000000           0   \n",
       "CAKE      8.895000  53.2392        16.8     3.169      0.787633           0   \n",
       "VET     497.600000   0.0000         0.0     0.000      0.000000           0   \n",
       "SOL       1.064000   0.0000         0.0     0.000      0.000000           0   \n",
       "BNB       0.080000   0.0000         0.0     0.000      0.115973           0   \n",
       "LTC       0.106000   0.0000         0.0     0.000     16.228450           0   \n",
       "THETA     2.000000   0.0000         0.0     0.000     14.152925           0   \n",
       "AVAX      0.265000   0.0000         0.0     0.000      0.000000           0   \n",
       "DENT   1050.000000   0.0000         0.0     0.000      0.000000           0   \n",
       "EGLD      0.053000   0.0000         0.0     0.000      6.368261           0   \n",
       "HOT     660.000000   0.0000         0.0     0.000      0.000000           0   \n",
       "TRX      67.000000   0.0000         0.0     0.000      5.075730           0   \n",
       "ONE      79.000000   0.0000         0.0     0.000      6.767196           0   \n",
       "BAND      1.181000   0.0000         0.0     0.000      0.000000           0   \n",
       "SXP       7.385000   0.0000         0.0     0.000     19.619518           0   \n",
       "LINK      0.215000   0.0000         0.0     0.000      5.252810           0   \n",
       "UTK      19.000000   0.0000         0.0     0.000      0.000000           0   \n",
       "USDT      0.000000   0.0000         0.0     0.000    305.710094           0   \n",
       "BUSD      0.000000   0.0000         0.0     0.000      0.000000           0   \n",
       "\n",
       "       Spot_value  Spot_Qty  Stack_value  Stack_Qty           ATH  \\\n",
       "BTC      0.000000         0     0.000000          0  59500.000000   \n",
       "ETH      0.000000         0   206.611254          0   4372.720000   \n",
       "ADA      0.000000         0   153.521274          0      2.470000   \n",
       "DOT      0.000000         0   201.325808          0     49.780000   \n",
       "MATIC    0.000000         0   252.831310          0      2.700000   \n",
       "KSM      0.293859         0    94.976250          0    625.000000   \n",
       "CAKE     0.000000         0   107.869475          0     42.980000   \n",
       "VET      0.000000         0    53.715760          0      0.250000   \n",
       "SOL     22.500676         0    19.907500          0     58.380000   \n",
       "BNB      0.000000         0    32.947186          0    691.770000   \n",
       "LTC      0.000000         0     0.000000          0    413.490000   \n",
       "THETA    0.000000         0     0.000000          0     13.200000   \n",
       "AVAX     4.152919         0     0.000000          0     43.885000   \n",
       "DENT     3.107580         0     0.000000          0      0.011699   \n",
       "EGLD     0.000000         0     0.000000          0    205.000000   \n",
       "HOT      5.347320         0     0.000000          0      0.016840   \n",
       "TRX      0.000000         0     0.000000          0      0.170000   \n",
       "ONE      0.000000         0     0.000000          0      0.188580   \n",
       "BAND     8.942532         0     0.000000          0     20.673000   \n",
       "SXP      0.000000         0     0.000000          0      5.870000   \n",
       "LINK     0.000000         0     0.000000          0     53.000000   \n",
       "UTK      6.114200         0     0.000000          0      1.065000   \n",
       "USDT     0.000000         0     0.000000          0      0.000000   \n",
       "BUSD     0.000000         0     0.000000          0      1.002900   \n",
       "\n",
       "       ATH_percent  Buy_price_percent     Balance  \n",
       "BTC       0.732361           0.875810   32.325994  \n",
       "ETH       0.686719           0.791217   51.011493  \n",
       "ADA       0.585385           0.943542    9.954457  \n",
       "DOT       0.423564           0.981332    7.106072  \n",
       "MATIC     0.420370           1.256992  -58.531649  \n",
       "KSM       0.379968           1.207369  -18.225641  \n",
       "CAKE      0.429525           0.773116   34.983708  \n",
       "VET       0.432040           1.036764   -2.042040  \n",
       "SOL       0.682100           0.827285    7.361752  \n",
       "BNB       0.507683           0.750249   11.999159  \n",
       "LTC       0.370190           1.874233  -14.213550  \n",
       "THETA     0.535606           1.484938   -6.847075  \n",
       "AVAX      0.355907           2.447957   -5.943581  \n",
       "DENT      0.252876           3.277470   -7.077420  \n",
       "EGLD      0.584878           1.587024   -3.717639  \n",
       "HOT       0.480938           1.894594   -4.783680  \n",
       "TRX       0.442882           2.004513   -5.041270  \n",
       "ONE       0.444798           1.527463   -3.360604  \n",
       "BAND      0.366904           2.235869  -11.051798  \n",
       "SXP       0.451448           1.605463  -11.776082  \n",
       "LINK      0.460717           1.910306   -4.766190  \n",
       "UTK       0.302629           1.678061   -4.145800  \n",
       "USDT      0.000000           0.000000  305.710094  \n",
       "BUSD      0.996510           0.000000    0.000000  "
      ],
      "text/html": [
       "<div>\n",
       "<style scoped>\n",
       "    .dataframe tbody tr th:only-of-type {\n",
       "        vertical-align: middle;\n",
       "    }\n",
       "\n",
       "    .dataframe tbody tr th {\n",
       "        vertical-align: top;\n",
       "    }\n",
       "\n",
       "    .dataframe thead th {\n",
       "        text-align: right;\n",
       "    }\n",
       "</style>\n",
       "<table border=\"1\" class=\"dataframe\">\n",
       "  <thead>\n",
       "    <tr style=\"text-align: right;\">\n",
       "      <th></th>\n",
       "      <th>Current_market_price</th>\n",
       "      <th>Current_value</th>\n",
       "      <th>Buy</th>\n",
       "      <th>Buy_price</th>\n",
       "      <th>Buy_Qty</th>\n",
       "      <th>Sell</th>\n",
       "      <th>Sell_price</th>\n",
       "      <th>Sell_Qty</th>\n",
       "      <th>Saving_value</th>\n",
       "      <th>Saving_Qty</th>\n",
       "      <th>Spot_value</th>\n",
       "      <th>Spot_Qty</th>\n",
       "      <th>Stack_value</th>\n",
       "      <th>Stack_Qty</th>\n",
       "      <th>ATH</th>\n",
       "      <th>ATH_percent</th>\n",
       "      <th>Buy_price_percent</th>\n",
       "      <th>Balance</th>\n",
       "    </tr>\n",
       "  </thead>\n",
       "  <tbody>\n",
       "    <tr>\n",
       "      <th>BTC</th>\n",
       "      <td>43577.360000</td>\n",
       "      <td>0</td>\n",
       "      <td>226.092220</td>\n",
       "      <td>38165.465901</td>\n",
       "      <td>0.005924</td>\n",
       "      <td>0.0000</td>\n",
       "      <td>0.0</td>\n",
       "      <td>0.000</td>\n",
       "      <td>258.418214</td>\n",
       "      <td>0</td>\n",
       "      <td>0.000000</td>\n",
       "      <td>0</td>\n",
       "      <td>0.000000</td>\n",
       "      <td>0</td>\n",
       "      <td>59500.000000</td>\n",
       "      <td>0.732361</td>\n",
       "      <td>0.875810</td>\n",
       "      <td>32.325994</td>\n",
       "    </tr>\n",
       "    <tr>\n",
       "      <th>ETH</th>\n",
       "      <td>3001.500000</td>\n",
       "      <td>0</td>\n",
       "      <td>191.958088</td>\n",
       "      <td>2374.837164</td>\n",
       "      <td>0.080830</td>\n",
       "      <td>0.0000</td>\n",
       "      <td>0.0</td>\n",
       "      <td>0.000</td>\n",
       "      <td>36.358327</td>\n",
       "      <td>0</td>\n",
       "      <td>0.000000</td>\n",
       "      <td>0</td>\n",
       "      <td>206.611254</td>\n",
       "      <td>0</td>\n",
       "      <td>4372.720000</td>\n",
       "      <td>0.686719</td>\n",
       "      <td>0.791217</td>\n",
       "      <td>51.011493</td>\n",
       "    </tr>\n",
       "    <tr>\n",
       "      <th>ADA</th>\n",
       "      <td>1.445600</td>\n",
       "      <td>0</td>\n",
       "      <td>143.654880</td>\n",
       "      <td>1.363985</td>\n",
       "      <td>105.320000</td>\n",
       "      <td>0.0000</td>\n",
       "      <td>0.0</td>\n",
       "      <td>0.000</td>\n",
       "      <td>0.088063</td>\n",
       "      <td>0</td>\n",
       "      <td>0.000000</td>\n",
       "      <td>0</td>\n",
       "      <td>153.521274</td>\n",
       "      <td>0</td>\n",
       "      <td>2.470000</td>\n",
       "      <td>0.585385</td>\n",
       "      <td>0.943542</td>\n",
       "      <td>9.954457</td>\n",
       "    </tr>\n",
       "    <tr>\n",
       "      <th>DOT</th>\n",
       "      <td>21.068000</td>\n",
       "      <td>0</td>\n",
       "      <td>217.063720</td>\n",
       "      <td>20.674704</td>\n",
       "      <td>10.499000</td>\n",
       "      <td>0.0000</td>\n",
       "      <td>0.0</td>\n",
       "      <td>0.000</td>\n",
       "      <td>22.843984</td>\n",
       "      <td>0</td>\n",
       "      <td>0.000000</td>\n",
       "      <td>0</td>\n",
       "      <td>201.325808</td>\n",
       "      <td>0</td>\n",
       "      <td>49.780000</td>\n",
       "      <td>0.423564</td>\n",
       "      <td>0.981332</td>\n",
       "      <td>7.106072</td>\n",
       "    </tr>\n",
       "    <tr>\n",
       "      <th>MATIC</th>\n",
       "      <td>1.135300</td>\n",
       "      <td>0</td>\n",
       "      <td>312.526722</td>\n",
       "      <td>1.427063</td>\n",
       "      <td>219.000000</td>\n",
       "      <td>0.0000</td>\n",
       "      <td>0.0</td>\n",
       "      <td>0.000</td>\n",
       "      <td>1.163763</td>\n",
       "      <td>0</td>\n",
       "      <td>0.000000</td>\n",
       "      <td>0</td>\n",
       "      <td>252.831310</td>\n",
       "      <td>0</td>\n",
       "      <td>2.700000</td>\n",
       "      <td>0.420370</td>\n",
       "      <td>1.256992</td>\n",
       "      <td>-58.531649</td>\n",
       "    </tr>\n",
       "    <tr>\n",
       "      <th>KSM</th>\n",
       "      <td>237.500000</td>\n",
       "      <td>0</td>\n",
       "      <td>113.495750</td>\n",
       "      <td>286.750253</td>\n",
       "      <td>0.395800</td>\n",
       "      <td>0.0000</td>\n",
       "      <td>0.0</td>\n",
       "      <td>0.000</td>\n",
       "      <td>0.000000</td>\n",
       "      <td>0</td>\n",
       "      <td>0.293859</td>\n",
       "      <td>0</td>\n",
       "      <td>94.976250</td>\n",
       "      <td>0</td>\n",
       "      <td>625.000000</td>\n",
       "      <td>0.379968</td>\n",
       "      <td>1.207369</td>\n",
       "      <td>-18.225641</td>\n",
       "    </tr>\n",
       "    <tr>\n",
       "      <th>CAKE</th>\n",
       "      <td>18.455000</td>\n",
       "      <td>0</td>\n",
       "      <td>126.912600</td>\n",
       "      <td>14.267858</td>\n",
       "      <td>8.895000</td>\n",
       "      <td>53.2392</td>\n",
       "      <td>16.8</td>\n",
       "      <td>3.169</td>\n",
       "      <td>0.787633</td>\n",
       "      <td>0</td>\n",
       "      <td>0.000000</td>\n",
       "      <td>0</td>\n",
       "      <td>107.869475</td>\n",
       "      <td>0</td>\n",
       "      <td>42.980000</td>\n",
       "      <td>0.429525</td>\n",
       "      <td>0.773116</td>\n",
       "      <td>34.983708</td>\n",
       "    </tr>\n",
       "    <tr>\n",
       "      <th>VET</th>\n",
       "      <td>0.108080</td>\n",
       "      <td>0</td>\n",
       "      <td>55.757800</td>\n",
       "      <td>0.112053</td>\n",
       "      <td>497.600000</td>\n",
       "      <td>0.0000</td>\n",
       "      <td>0.0</td>\n",
       "      <td>0.000</td>\n",
       "      <td>0.000000</td>\n",
       "      <td>0</td>\n",
       "      <td>0.000000</td>\n",
       "      <td>0</td>\n",
       "      <td>53.715760</td>\n",
       "      <td>0</td>\n",
       "      <td>0.250000</td>\n",
       "      <td>0.432040</td>\n",
       "      <td>1.036764</td>\n",
       "      <td>-2.042040</td>\n",
       "    </tr>\n",
       "    <tr>\n",
       "      <th>SOL</th>\n",
       "      <td>39.815000</td>\n",
       "      <td>0</td>\n",
       "      <td>35.046424</td>\n",
       "      <td>32.938368</td>\n",
       "      <td>1.064000</td>\n",
       "      <td>0.0000</td>\n",
       "      <td>0.0</td>\n",
       "      <td>0.000</td>\n",
       "      <td>0.000000</td>\n",
       "      <td>0</td>\n",
       "      <td>22.500676</td>\n",
       "      <td>0</td>\n",
       "      <td>19.907500</td>\n",
       "      <td>0</td>\n",
       "      <td>58.380000</td>\n",
       "      <td>0.682100</td>\n",
       "      <td>0.827285</td>\n",
       "      <td>7.361752</td>\n",
       "    </tr>\n",
       "    <tr>\n",
       "      <th>BNB</th>\n",
       "      <td>350.950000</td>\n",
       "      <td>0</td>\n",
       "      <td>21.064000</td>\n",
       "      <td>263.300000</td>\n",
       "      <td>0.080000</td>\n",
       "      <td>0.0000</td>\n",
       "      <td>0.0</td>\n",
       "      <td>0.000</td>\n",
       "      <td>0.115973</td>\n",
       "      <td>0</td>\n",
       "      <td>0.000000</td>\n",
       "      <td>0</td>\n",
       "      <td>32.947186</td>\n",
       "      <td>0</td>\n",
       "      <td>691.770000</td>\n",
       "      <td>0.507683</td>\n",
       "      <td>0.750249</td>\n",
       "      <td>11.999159</td>\n",
       "    </tr>\n",
       "    <tr>\n",
       "      <th>LTC</th>\n",
       "      <td>153.230000</td>\n",
       "      <td>0</td>\n",
       "      <td>30.442000</td>\n",
       "      <td>287.188679</td>\n",
       "      <td>0.106000</td>\n",
       "      <td>0.0000</td>\n",
       "      <td>0.0</td>\n",
       "      <td>0.000</td>\n",
       "      <td>16.228450</td>\n",
       "      <td>0</td>\n",
       "      <td>0.000000</td>\n",
       "      <td>0</td>\n",
       "      <td>0.000000</td>\n",
       "      <td>0</td>\n",
       "      <td>413.490000</td>\n",
       "      <td>0.370190</td>\n",
       "      <td>1.874233</td>\n",
       "      <td>-14.213550</td>\n",
       "    </tr>\n",
       "    <tr>\n",
       "      <th>THETA</th>\n",
       "      <td>7.071000</td>\n",
       "      <td>0</td>\n",
       "      <td>21.000000</td>\n",
       "      <td>10.500000</td>\n",
       "      <td>2.000000</td>\n",
       "      <td>0.0000</td>\n",
       "      <td>0.0</td>\n",
       "      <td>0.000</td>\n",
       "      <td>14.152925</td>\n",
       "      <td>0</td>\n",
       "      <td>0.000000</td>\n",
       "      <td>0</td>\n",
       "      <td>0.000000</td>\n",
       "      <td>0</td>\n",
       "      <td>13.200000</td>\n",
       "      <td>0.535606</td>\n",
       "      <td>1.484938</td>\n",
       "      <td>-6.847075</td>\n",
       "    </tr>\n",
       "    <tr>\n",
       "      <th>AVAX</th>\n",
       "      <td>15.564000</td>\n",
       "      <td>0</td>\n",
       "      <td>10.096500</td>\n",
       "      <td>38.100000</td>\n",
       "      <td>0.265000</td>\n",
       "      <td>0.0000</td>\n",
       "      <td>0.0</td>\n",
       "      <td>0.000</td>\n",
       "      <td>0.000000</td>\n",
       "      <td>0</td>\n",
       "      <td>4.152919</td>\n",
       "      <td>0</td>\n",
       "      <td>0.000000</td>\n",
       "      <td>0</td>\n",
       "      <td>43.885000</td>\n",
       "      <td>0.355907</td>\n",
       "      <td>2.447957</td>\n",
       "      <td>-5.943581</td>\n",
       "    </tr>\n",
       "    <tr>\n",
       "      <th>DENT</th>\n",
       "      <td>0.002960</td>\n",
       "      <td>0</td>\n",
       "      <td>10.185000</td>\n",
       "      <td>0.009700</td>\n",
       "      <td>1050.000000</td>\n",
       "      <td>0.0000</td>\n",
       "      <td>0.0</td>\n",
       "      <td>0.000</td>\n",
       "      <td>0.000000</td>\n",
       "      <td>0</td>\n",
       "      <td>3.107580</td>\n",
       "      <td>0</td>\n",
       "      <td>0.000000</td>\n",
       "      <td>0</td>\n",
       "      <td>0.011699</td>\n",
       "      <td>0.252876</td>\n",
       "      <td>3.277470</td>\n",
       "      <td>-7.077420</td>\n",
       "    </tr>\n",
       "    <tr>\n",
       "      <th>EGLD</th>\n",
       "      <td>119.910000</td>\n",
       "      <td>0</td>\n",
       "      <td>10.085900</td>\n",
       "      <td>190.300000</td>\n",
       "      <td>0.053000</td>\n",
       "      <td>0.0000</td>\n",
       "      <td>0.0</td>\n",
       "      <td>0.000</td>\n",
       "      <td>6.368261</td>\n",
       "      <td>0</td>\n",
       "      <td>0.000000</td>\n",
       "      <td>0</td>\n",
       "      <td>0.000000</td>\n",
       "      <td>0</td>\n",
       "      <td>205.000000</td>\n",
       "      <td>0.584878</td>\n",
       "      <td>1.587024</td>\n",
       "      <td>-3.717639</td>\n",
       "    </tr>\n",
       "    <tr>\n",
       "      <th>HOT</th>\n",
       "      <td>0.008102</td>\n",
       "      <td>0</td>\n",
       "      <td>10.131000</td>\n",
       "      <td>0.015350</td>\n",
       "      <td>660.000000</td>\n",
       "      <td>0.0000</td>\n",
       "      <td>0.0</td>\n",
       "      <td>0.000</td>\n",
       "      <td>0.000000</td>\n",
       "      <td>0</td>\n",
       "      <td>5.347320</td>\n",
       "      <td>0</td>\n",
       "      <td>0.000000</td>\n",
       "      <td>0</td>\n",
       "      <td>0.016840</td>\n",
       "      <td>0.480938</td>\n",
       "      <td>1.894594</td>\n",
       "      <td>-4.783680</td>\n",
       "    </tr>\n",
       "    <tr>\n",
       "      <th>TRX</th>\n",
       "      <td>0.075330</td>\n",
       "      <td>0</td>\n",
       "      <td>10.117000</td>\n",
       "      <td>0.151000</td>\n",
       "      <td>67.000000</td>\n",
       "      <td>0.0000</td>\n",
       "      <td>0.0</td>\n",
       "      <td>0.000</td>\n",
       "      <td>5.075730</td>\n",
       "      <td>0</td>\n",
       "      <td>0.000000</td>\n",
       "      <td>0</td>\n",
       "      <td>0.000000</td>\n",
       "      <td>0</td>\n",
       "      <td>0.170000</td>\n",
       "      <td>0.442882</td>\n",
       "      <td>2.004513</td>\n",
       "      <td>-5.041270</td>\n",
       "    </tr>\n",
       "    <tr>\n",
       "      <th>ONE</th>\n",
       "      <td>0.083930</td>\n",
       "      <td>0</td>\n",
       "      <td>10.127800</td>\n",
       "      <td>0.128200</td>\n",
       "      <td>79.000000</td>\n",
       "      <td>0.0000</td>\n",
       "      <td>0.0</td>\n",
       "      <td>0.000</td>\n",
       "      <td>6.767196</td>\n",
       "      <td>0</td>\n",
       "      <td>0.000000</td>\n",
       "      <td>0</td>\n",
       "      <td>0.000000</td>\n",
       "      <td>0</td>\n",
       "      <td>0.188580</td>\n",
       "      <td>0.444798</td>\n",
       "      <td>1.527463</td>\n",
       "      <td>-3.360604</td>\n",
       "    </tr>\n",
       "    <tr>\n",
       "      <th>BAND</th>\n",
       "      <td>7.572000</td>\n",
       "      <td>0</td>\n",
       "      <td>19.994330</td>\n",
       "      <td>16.930000</td>\n",
       "      <td>1.181000</td>\n",
       "      <td>0.0000</td>\n",
       "      <td>0.0</td>\n",
       "      <td>0.000</td>\n",
       "      <td>0.000000</td>\n",
       "      <td>0</td>\n",
       "      <td>8.942532</td>\n",
       "      <td>0</td>\n",
       "      <td>0.000000</td>\n",
       "      <td>0</td>\n",
       "      <td>20.673000</td>\n",
       "      <td>0.366904</td>\n",
       "      <td>2.235869</td>\n",
       "      <td>-11.051798</td>\n",
       "    </tr>\n",
       "    <tr>\n",
       "      <th>SXP</th>\n",
       "      <td>2.648000</td>\n",
       "      <td>0</td>\n",
       "      <td>31.395600</td>\n",
       "      <td>4.251266</td>\n",
       "      <td>7.385000</td>\n",
       "      <td>0.0000</td>\n",
       "      <td>0.0</td>\n",
       "      <td>0.000</td>\n",
       "      <td>19.619518</td>\n",
       "      <td>0</td>\n",
       "      <td>0.000000</td>\n",
       "      <td>0</td>\n",
       "      <td>0.000000</td>\n",
       "      <td>0</td>\n",
       "      <td>5.870000</td>\n",
       "      <td>0.451448</td>\n",
       "      <td>1.605463</td>\n",
       "      <td>-11.776082</td>\n",
       "    </tr>\n",
       "    <tr>\n",
       "      <th>LINK</th>\n",
       "      <td>24.394000</td>\n",
       "      <td>0</td>\n",
       "      <td>10.019000</td>\n",
       "      <td>46.600000</td>\n",
       "      <td>0.215000</td>\n",
       "      <td>0.0000</td>\n",
       "      <td>0.0</td>\n",
       "      <td>0.000</td>\n",
       "      <td>5.252810</td>\n",
       "      <td>0</td>\n",
       "      <td>0.000000</td>\n",
       "      <td>0</td>\n",
       "      <td>0.000000</td>\n",
       "      <td>0</td>\n",
       "      <td>53.000000</td>\n",
       "      <td>0.460717</td>\n",
       "      <td>1.910306</td>\n",
       "      <td>-4.766190</td>\n",
       "    </tr>\n",
       "    <tr>\n",
       "      <th>UTK</th>\n",
       "      <td>0.321800</td>\n",
       "      <td>0</td>\n",
       "      <td>10.260000</td>\n",
       "      <td>0.540000</td>\n",
       "      <td>19.000000</td>\n",
       "      <td>0.0000</td>\n",
       "      <td>0.0</td>\n",
       "      <td>0.000</td>\n",
       "      <td>0.000000</td>\n",
       "      <td>0</td>\n",
       "      <td>6.114200</td>\n",
       "      <td>0</td>\n",
       "      <td>0.000000</td>\n",
       "      <td>0</td>\n",
       "      <td>1.065000</td>\n",
       "      <td>0.302629</td>\n",
       "      <td>1.678061</td>\n",
       "      <td>-4.145800</td>\n",
       "    </tr>\n",
       "    <tr>\n",
       "      <th>USDT</th>\n",
       "      <td>0.000000</td>\n",
       "      <td>0</td>\n",
       "      <td>0.000000</td>\n",
       "      <td>0.000000</td>\n",
       "      <td>0.000000</td>\n",
       "      <td>0.0000</td>\n",
       "      <td>0.0</td>\n",
       "      <td>0.000</td>\n",
       "      <td>305.710094</td>\n",
       "      <td>0</td>\n",
       "      <td>0.000000</td>\n",
       "      <td>0</td>\n",
       "      <td>0.000000</td>\n",
       "      <td>0</td>\n",
       "      <td>0.000000</td>\n",
       "      <td>0.000000</td>\n",
       "      <td>0.000000</td>\n",
       "      <td>305.710094</td>\n",
       "    </tr>\n",
       "    <tr>\n",
       "      <th>BUSD</th>\n",
       "      <td>0.999400</td>\n",
       "      <td>0</td>\n",
       "      <td>0.000000</td>\n",
       "      <td>0.000000</td>\n",
       "      <td>0.000000</td>\n",
       "      <td>0.0000</td>\n",
       "      <td>0.0</td>\n",
       "      <td>0.000</td>\n",
       "      <td>0.000000</td>\n",
       "      <td>0</td>\n",
       "      <td>0.000000</td>\n",
       "      <td>0</td>\n",
       "      <td>0.000000</td>\n",
       "      <td>0</td>\n",
       "      <td>1.002900</td>\n",
       "      <td>0.996510</td>\n",
       "      <td>0.000000</td>\n",
       "      <td>0.000000</td>\n",
       "    </tr>\n",
       "  </tbody>\n",
       "</table>\n",
       "</div>"
      ]
     },
     "metadata": {},
     "execution_count": 13
    }
   ],
   "metadata": {}
  },
  {
   "cell_type": "code",
   "execution_count": 14,
   "source": [
    "import matplotlib.pyplot as plt\r\n",
    "\r\n",
    "labels = [asset for asset in my_coins]\r\n",
    "sizes = [wallet[asset]['Spot_value'] + wallet[asset]['Saving_value'] + wallet[asset]['Stack_value'] for asset in  my_coins]\r\n",
    "colors = ['yellowgreen', 'gold', 'lightskyblue', 'lightcoral']\r\n",
    "\r\n",
    "plt.pie(sizes, labels=labels, colors=colors, \r\n",
    "        autopct='%1.1f%%', shadow=True, startangle=90)\r\n",
    "\r\n",
    "plt.axis('equal')\r\n",
    "plt.show()"
   ],
   "outputs": [
    {
     "output_type": "display_data",
     "data": {
      "text/plain": [
       "<Figure size 432x288 with 1 Axes>"
      ],
      "image/png": "[encoded data removed]"
     },
     "metadata": {}
    }
   ],
   "metadata": {}
  },
  {
   "cell_type": "code",
   "execution_count": 15,
   "source": [
    "## Bilan\r\n",
    "\r\n",
    "# global balance\r\n",
    "balance = 0\r\n",
    "total_usdt_invest = 0\r\n",
    "total_spot = 0\r\n",
    "total_saving = 0\r\n",
    "total_stacking = 0\r\n",
    "current_value = 0\r\n",
    "\r\n",
    "for asset in wallet:\r\n",
    "    if asset != \"USDT\" and  asset != \"BUSD\":\r\n",
    "        balance += wallet[asset]['Balance']\r\n",
    "        total_usdt_invest +=  wallet[asset]['Buy']\r\n",
    "        total_usdt_invest -=  wallet[asset]['Sell']\r\n",
    "        total_spot += wallet[asset]['Spot_value']\r\n",
    "        total_saving += wallet[asset]['Saving_value']\r\n",
    "        total_stacking += wallet[asset]['Stack_value']\r\n",
    "    else:\r\n",
    "        total_usdt_invest +=wallet[asset]['Balance']\r\n",
    "        total_spot += wallet[asset]['Spot_value']\r\n",
    "        total_saving += wallet[asset]['Saving_value']\r\n",
    "        total_stacking += wallet[asset]['Stack_value']\r\n",
    "\r\n",
    "current_value = total_spot + total_saving + total_stacking\r\n",
    "\r\n",
    "print('total_spot',total_spot,'$')\r\n",
    "print('total_saving',total_saving,'$')\r\n",
    "print('total_stacking',total_stacking,'$')\r\n",
    "print('total_usdt_invest',total_usdt_invest,'$')\r\n",
    "print('current_value',current_value,'$')\r\n",
    "print('balance',balance,'$')\r\n",
    "print('plus-value', current_value - (total_usdt_invest*current_value/current_value), '$')\r\n",
    "print('plus-value percent', (current_value - (total_usdt_invest*current_value/current_value)) / total_usdt_invest * 100, '%')"
   ],
   "outputs": [
    {
     "output_type": "stream",
     "name": "stdout",
     "text": [
      "total_spot 50.459085557449995 $\n",
      "total_saving 698.9509415499999 $\n",
      "total_stacking 1123.7058174000001 $\n",
      "total_usdt_invest 1879.8972283800003 $\n",
      "current_value 1873.11584450745 $\n",
      "balance -6.781383872550023 $\n",
      "plus-value -6.78138387255035 $\n",
      "plus-value percent -0.36073162778128043 %\n"
     ]
    }
   ],
   "metadata": {}
  },
  {
   "cell_type": "code",
   "execution_count": 16,
   "source": [
    "plt.figure(1, figsize=(10, 10))\r\n",
    "chats_labels = my_coins\r\n",
    "num_columns = 4                                \r\n",
    "num_rows  = len(chats_labels) // 4 + 1\r\n",
    "fig, ax = plt.subplots(num_rows,num_columns)\r\n",
    "label = ['spot', 'saving', \"stacking\"]\r\n",
    "for i, coin in enumerate(chats_labels):\r\n",
    "    data = [wallet[coin]['Spot_value'], wallet[coin]['Saving_value'], wallet[coin]['Stack_value']]\r\n",
    "    ax[i//4,i%4].set_title(coin)                           # Add 1 to j index\r\n",
    "    ax[i//4,i%4].pie(data, labels=label,                 # Add 1 to j index\r\n",
    "                autopct='%1.1f%%', shadow=True, startangle=90)\r\n",
    "fig.set_size_inches(15,15)\r\n",
    "plt.show()"
   ],
   "outputs": [
    {
     "output_type": "stream",
     "name": "stderr",
     "text": [
      "C:\\Users\\Thibaut - Eva\\AppData\\Roaming\\Python\\Python37\\site-packages\\ipykernel_launcher.py:11: MatplotlibDeprecationWarning: normalize=None does not normalize if the sum is less than 1 but this behavior is deprecated since 3.3 until two minor releases later. After the deprecation period the default value will be normalize=True. To prevent normalization pass normalize=False \n",
      "  # This is added back by InteractiveShellApp.init_path()\n"
     ]
    },
    {
     "output_type": "display_data",
     "data": {
      "text/plain": [
       "<Figure size 720x720 with 0 Axes>"
      ]
     },
     "metadata": {}
    },
    {
     "output_type": "display_data",
     "data": {
      "text/plain": [
       "<Figure size 1080x1080 with 28 Axes>"
      ],
      "image/png": "[encoded data removed]"
     },
     "metadata": {
      "needs_background": "light"
     }
    }
   ],
   "metadata": {}
  },
  {
   "cell_type": "code",
   "execution_count": 17,
   "source": [
    "import matplotlib as mpl\n",
    "import matplotlib.pyplot as plt\n",
    "import numpy as np\n",
    "from ipywidgets import IntProgress, widgets\n",
    "\n",
    "def colorFader(c1,c2,mix=0): #fade (linear interpolate) from color c1 (at mix=0) to c2 (mix=1)\n",
    "    c1=np.array(mpl.colors.to_rgb(c1))\n",
    "    c2=np.array(mpl.colors.to_rgb(c2))\n",
    "    return mpl.colors.to_hex((1-mix)*c1 + mix*c2)\n",
    "\n",
    "c1='#FF4600'\n",
    "c2='#3DD600' \n",
    "\n",
    "color = colorFader(c1,c2,mix=0.5)\n",
    "for asset in my_coins:\n",
    "    value=wallet[asset]['Current_market_price']\n",
    "    maxi=wallet[asset]['ATH']\n",
    "    color = colorFader(c1,c2,mix=wallet[asset]['ATH_percent'])\n",
    "    \n",
    "    display(widgets.FloatProgress(\n",
    "        value=value,\n",
    "        min=0,\n",
    "        max=maxi,\n",
    "        description=asset,\n",
    "        bar_style='success',\n",
    "        style={'bar_color': color},\n",
    "        orientation='horizontal',\n",
    "    readout=True,\n",
    "    readout_format='.1f',\n",
    "    disabled=False\n",
    "    ))\n",
    "    \n",
    "    display(widgets.HTML(\n",
    "    value = asset + \": \"+str(wallet[asset]['Current_market_price']) + ' / '+ str(wallet[asset]['ATH'])\n",
    "    ))\n"
   ],
   "outputs": [
    {
     "output_type": "display_data",
     "data": {
      "text/plain": [
       "FloatProgress(value=43577.36, bar_style='success', description='BTC', max=59500.0, style=ProgressStyle(bar_col…"
      ],
      "application/vnd.jupyter.widget-view+json": {
       "version_major": 2,
       "version_minor": 0,
       "model_id": "ea654e6a600a4741b04e3f8a671738f1"
      }
     },
     "metadata": {}
    },
    {
     "output_type": "display_data",
     "data": {
      "text/plain": [
       "HTML(value='BTC: 43577.36 / 59500.0')"
      ],
      "application/vnd.jupyter.widget-view+json": {
       "version_major": 2,
       "version_minor": 0,
       "model_id": "0897648dae1f472087a773fddd866153"
      }
     },
     "metadata": {}
    },
    {
     "output_type": "display_data",
     "data": {
      "text/plain": [
       "FloatProgress(value=3001.5, bar_style='success', description='ETH', max=4372.72, style=ProgressStyle(bar_color…"
      ],
      "application/vnd.jupyter.widget-view+json": {
       "version_major": 2,
       "version_minor": 0,
       "model_id": "4555ea20851e46f4bcc35865ca11fb34"
      }
     },
     "metadata": {}
    },
    {
     "output_type": "display_data",
     "data": {
      "text/plain": [
       "HTML(value='ETH: 3001.5 / 4372.72')"
      ],
      "application/vnd.jupyter.widget-view+json": {
       "version_major": 2,
       "version_minor": 0,
       "model_id": "90c89b4aa06d44dbb3e1475df31f717f"
      }
     },
     "metadata": {}
    },
    {
     "output_type": "display_data",
     "data": {
      "text/plain": [
       "FloatProgress(value=1.4456, bar_style='success', description='ADA', max=2.47, style=ProgressStyle(bar_color='#…"
      ],
      "application/vnd.jupyter.widget-view+json": {
       "version_major": 2,
       "version_minor": 0,
       "model_id": "23bc7067b77e4e43990e5b34fc403d54"
      }
     },
     "metadata": {}
    },
    {
     "output_type": "display_data",
     "data": {
      "text/plain": [
       "HTML(value='ADA: 1.4456 / 2.47')"
      ],
      "application/vnd.jupyter.widget-view+json": {
       "version_major": 2,
       "version_minor": 0,
       "model_id": "8783d2074cbf4be1bba115b6114d0e88"
      }
     },
     "metadata": {}
    },
    {
     "output_type": "display_data",
     "data": {
      "text/plain": [
       "FloatProgress(value=21.068, bar_style='success', description='DOT', max=49.78, style=ProgressStyle(bar_color='…"
      ],
      "application/vnd.jupyter.widget-view+json": {
       "version_major": 2,
       "version_minor": 0,
       "model_id": "41dbc94907e840138c8b85bd2476b01e"
      }
     },
     "metadata": {}
    },
    {
     "output_type": "display_data",
     "data": {
      "text/plain": [
       "HTML(value='DOT: 21.068 / 49.78')"
      ],
      "application/vnd.jupyter.widget-view+json": {
       "version_major": 2,
       "version_minor": 0,
       "model_id": "1ccaa9625caa4ba2af716ad00a4d68b5"
      }
     },
     "metadata": {}
    },
    {
     "output_type": "display_data",
     "data": {
      "text/plain": [
       "FloatProgress(value=1.1353, bar_style='success', description='MATIC', max=2.7, style=ProgressStyle(bar_color='…"
      ],
      "application/vnd.jupyter.widget-view+json": {
       "version_major": 2,
       "version_minor": 0,
       "model_id": "57c7389d7fbe4087b83f4fc61fc0c9ec"
      }
     },
     "metadata": {}
    },
    {
     "output_type": "display_data",
     "data": {
      "text/plain": [
       "HTML(value='MATIC: 1.1353 / 2.7')"
      ],
      "application/vnd.jupyter.widget-view+json": {
       "version_major": 2,
       "version_minor": 0,
       "model_id": "4274fcdd117f4e64ad71d3f55fa1e0c2"
      }
     },
     "metadata": {}
    },
    {
     "output_type": "display_data",
     "data": {
      "text/plain": [
       "FloatProgress(value=237.5, bar_style='success', description='KSM', max=625.0, style=ProgressStyle(bar_color='#…"
      ],
      "application/vnd.jupyter.widget-view+json": {
       "version_major": 2,
       "version_minor": 0,
       "model_id": "168990e9112c4388928a5a4d81b3f558"
      }
     },
     "metadata": {}
    },
    {
     "output_type": "display_data",
     "data": {
      "text/plain": [
       "HTML(value='KSM: 237.5 / 625.0')"
      ],
      "application/vnd.jupyter.widget-view+json": {
       "version_major": 2,
       "version_minor": 0,
       "model_id": "10cbb1985d2049168f61ef8d38149efb"
      }
     },
     "metadata": {}
    },
    {
     "output_type": "display_data",
     "data": {
      "text/plain": [
       "FloatProgress(value=18.455, bar_style='success', description='CAKE', max=42.98, style=ProgressStyle(bar_color=…"
      ],
      "application/vnd.jupyter.widget-view+json": {
       "version_major": 2,
       "version_minor": 0,
       "model_id": "0855f42078f040d5923a24b45f34cd3c"
      }
     },
     "metadata": {}
    },
    {
     "output_type": "display_data",
     "data": {
      "text/plain": [
       "HTML(value='CAKE: 18.455 / 42.98')"
      ],
      "application/vnd.jupyter.widget-view+json": {
       "version_major": 2,
       "version_minor": 0,
       "model_id": "73f0b929bfa84398a1c3164e416d74b0"
      }
     },
     "metadata": {}
    },
    {
     "output_type": "display_data",
     "data": {
      "text/plain": [
       "FloatProgress(value=0.10808, bar_style='success', description='VET', max=0.25, style=ProgressStyle(bar_color='…"
      ],
      "application/vnd.jupyter.widget-view+json": {
       "version_major": 2,
       "version_minor": 0,
       "model_id": "a27302c71ff64a53bdfe031ab8c82b97"
      }
     },
     "metadata": {}
    },
    {
     "output_type": "display_data",
     "data": {
      "text/plain": [
       "HTML(value='VET: 0.10808 / 0.25')"
      ],
      "application/vnd.jupyter.widget-view+json": {
       "version_major": 2,
       "version_minor": 0,
       "model_id": "a7105ef8d1f448c89a83ceb73d019109"
      }
     },
     "metadata": {}
    },
    {
     "output_type": "display_data",
     "data": {
      "text/plain": [
       "FloatProgress(value=39.815, bar_style='success', description='SOL', max=58.38, style=ProgressStyle(bar_color='…"
      ],
      "application/vnd.jupyter.widget-view+json": {
       "version_major": 2,
       "version_minor": 0,
       "model_id": "1647a2a8aacb4e3b890883fc64cc4f7c"
      }
     },
     "metadata": {}
    },
    {
     "output_type": "display_data",
     "data": {
      "text/plain": [
       "HTML(value='SOL: 39.815 / 58.38')"
      ],
      "application/vnd.jupyter.widget-view+json": {
       "version_major": 2,
       "version_minor": 0,
       "model_id": "9747c3e1b7ee4193abaa797641da84e2"
      }
     },
     "metadata": {}
    },
    {
     "output_type": "display_data",
     "data": {
      "text/plain": [
       "FloatProgress(value=350.95, bar_style='success', description='BNB', max=691.77, style=ProgressStyle(bar_color=…"
      ],
      "application/vnd.jupyter.widget-view+json": {
       "version_major": 2,
       "version_minor": 0,
       "model_id": "f71cfa47289d4ac8bf3fe08ebce4767c"
      }
     },
     "metadata": {}
    },
    {
     "output_type": "display_data",
     "data": {
      "text/plain": [
       "HTML(value='BNB: 350.95 / 691.77')"
      ],
      "application/vnd.jupyter.widget-view+json": {
       "version_major": 2,
       "version_minor": 0,
       "model_id": "ca1afdeecd1444d4af19aef7df2a2d20"
      }
     },
     "metadata": {}
    },
    {
     "output_type": "display_data",
     "data": {
      "text/plain": [
       "FloatProgress(value=153.23, bar_style='success', description='LTC', max=413.49, style=ProgressStyle(bar_color=…"
      ],
      "application/vnd.jupyter.widget-view+json": {
       "version_major": 2,
       "version_minor": 0,
       "model_id": "339b72af3dfe47aaad23136304437970"
      }
     },
     "metadata": {}
    },
    {
     "output_type": "display_data",
     "data": {
      "text/plain": [
       "HTML(value='LTC: 153.23 / 413.49')"
      ],
      "application/vnd.jupyter.widget-view+json": {
       "version_major": 2,
       "version_minor": 0,
       "model_id": "7747d258ad7b4b0faff9e736a5ccc92b"
      }
     },
     "metadata": {}
    },
    {
     "output_type": "display_data",
     "data": {
      "text/plain": [
       "FloatProgress(value=7.071, bar_style='success', description='THETA', max=13.2, style=ProgressStyle(bar_color='…"
      ],
      "application/vnd.jupyter.widget-view+json": {
       "version_major": 2,
       "version_minor": 0,
       "model_id": "0db0be21342041829ccf83370741a2b9"
      }
     },
     "metadata": {}
    },
    {
     "output_type": "display_data",
     "data": {
      "text/plain": [
       "HTML(value='THETA: 7.071 / 13.2')"
      ],
      "application/vnd.jupyter.widget-view+json": {
       "version_major": 2,
       "version_minor": 0,
       "model_id": "b467852502004f66b4775ef94a6493b6"
      }
     },
     "metadata": {}
    },
    {
     "output_type": "display_data",
     "data": {
      "text/plain": [
       "FloatProgress(value=15.564, bar_style='success', description='AVAX', max=43.885, style=ProgressStyle(bar_color…"
      ],
      "application/vnd.jupyter.widget-view+json": {
       "version_major": 2,
       "version_minor": 0,
       "model_id": "d5e39e12db504cd7a583327ba5beb3fa"
      }
     },
     "metadata": {}
    },
    {
     "output_type": "display_data",
     "data": {
      "text/plain": [
       "HTML(value='AVAX: 15.564 / 43.885')"
      ],
      "application/vnd.jupyter.widget-view+json": {
       "version_major": 2,
       "version_minor": 0,
       "model_id": "dc528f2818bd4d639677b33bb998d7a5"
      }
     },
     "metadata": {}
    },
    {
     "output_type": "display_data",
     "data": {
      "text/plain": [
       "FloatProgress(value=0.0029596, bar_style='success', description='DENT', max=0.011699, style=ProgressStyle(bar_…"
      ],
      "application/vnd.jupyter.widget-view+json": {
       "version_major": 2,
       "version_minor": 0,
       "model_id": "62c23c4112e14479be39e93ff9baf107"
      }
     },
     "metadata": {}
    },
    {
     "output_type": "display_data",
     "data": {
      "text/plain": [
       "HTML(value='DENT: 0.0029596 / 0.011699')"
      ],
      "application/vnd.jupyter.widget-view+json": {
       "version_major": 2,
       "version_minor": 0,
       "model_id": "1855dacb31b144018b0086058cd65b60"
      }
     },
     "metadata": {}
    },
    {
     "output_type": "display_data",
     "data": {
      "text/plain": [
       "FloatProgress(value=119.91, bar_style='success', description='EGLD', max=205.0, style=ProgressStyle(bar_color=…"
      ],
      "application/vnd.jupyter.widget-view+json": {
       "version_major": 2,
       "version_minor": 0,
       "model_id": "39da37edc233407aba5ad4b1ef2a57d1"
      }
     },
     "metadata": {}
    },
    {
     "output_type": "display_data",
     "data": {
      "text/plain": [
       "HTML(value='EGLD: 119.91 / 205.0')"
      ],
      "application/vnd.jupyter.widget-view+json": {
       "version_major": 2,
       "version_minor": 0,
       "model_id": "d4ebed15d0494269aa161df704079438"
      }
     },
     "metadata": {}
    },
    {
     "output_type": "display_data",
     "data": {
      "text/plain": [
       "FloatProgress(value=0.008102, bar_style='success', description='HOT', max=0.01684, style=ProgressStyle(bar_col…"
      ],
      "application/vnd.jupyter.widget-view+json": {
       "version_major": 2,
       "version_minor": 0,
       "model_id": "17ad8c1cd5cd4fe7bbc4d8994cc42cda"
      }
     },
     "metadata": {}
    },
    {
     "output_type": "display_data",
     "data": {
      "text/plain": [
       "HTML(value='HOT: 0.008102 / 0.01684')"
      ],
      "application/vnd.jupyter.widget-view+json": {
       "version_major": 2,
       "version_minor": 0,
       "model_id": "47d43d8bee274f9ab617cda67a409df0"
      }
     },
     "metadata": {}
    },
    {
     "output_type": "display_data",
     "data": {
      "text/plain": [
       "FloatProgress(value=0.07533, bar_style='success', description='TRX', max=0.17, style=ProgressStyle(bar_color='…"
      ],
      "application/vnd.jupyter.widget-view+json": {
       "version_major": 2,
       "version_minor": 0,
       "model_id": "bd085a05394a45059aa454b403184899"
      }
     },
     "metadata": {}
    },
    {
     "output_type": "display_data",
     "data": {
      "text/plain": [
       "HTML(value='TRX: 0.07533 / 0.17')"
      ],
      "application/vnd.jupyter.widget-view+json": {
       "version_major": 2,
       "version_minor": 0,
       "model_id": "313903edefc3480089dd712a4fd92284"
      }
     },
     "metadata": {}
    },
    {
     "output_type": "display_data",
     "data": {
      "text/plain": [
       "FloatProgress(value=0.08393, bar_style='success', description='ONE', max=0.18858, style=ProgressStyle(bar_colo…"
      ],
      "application/vnd.jupyter.widget-view+json": {
       "version_major": 2,
       "version_minor": 0,
       "model_id": "77f7c552bf7a43188f7fe7e5ea5ab3f3"
      }
     },
     "metadata": {}
    },
    {
     "output_type": "display_data",
     "data": {
      "text/plain": [
       "HTML(value='ONE: 0.08393 / 0.18858')"
      ],
      "application/vnd.jupyter.widget-view+json": {
       "version_major": 2,
       "version_minor": 0,
       "model_id": "fad069bae52045ceb12dfc12b8d500ed"
      }
     },
     "metadata": {}
    },
    {
     "output_type": "display_data",
     "data": {
      "text/plain": [
       "FloatProgress(value=7.572, bar_style='success', description='BAND', max=20.673, style=ProgressStyle(bar_color=…"
      ],
      "application/vnd.jupyter.widget-view+json": {
       "version_major": 2,
       "version_minor": 0,
       "model_id": "e6449020326f467aafd6e50f4cc5c249"
      }
     },
     "metadata": {}
    },
    {
     "output_type": "display_data",
     "data": {
      "text/plain": [
       "HTML(value='BAND: 7.572 / 20.673')"
      ],
      "application/vnd.jupyter.widget-view+json": {
       "version_major": 2,
       "version_minor": 0,
       "model_id": "f95dcc445d584952bc45aaed2ec3f1c6"
      }
     },
     "metadata": {}
    },
    {
     "output_type": "display_data",
     "data": {
      "text/plain": [
       "FloatProgress(value=2.648, bar_style='success', description='SXP', max=5.87, style=ProgressStyle(bar_color='#a…"
      ],
      "application/vnd.jupyter.widget-view+json": {
       "version_major": 2,
       "version_minor": 0,
       "model_id": "b69d95aa70844d3f86251bfa47f5060b"
      }
     },
     "metadata": {}
    },
    {
     "output_type": "display_data",
     "data": {
      "text/plain": [
       "HTML(value='SXP: 2.648 / 5.87')"
      ],
      "application/vnd.jupyter.widget-view+json": {
       "version_major": 2,
       "version_minor": 0,
       "model_id": "267d8bad57224ea69e7c58eb1581ca9f"
      }
     },
     "metadata": {}
    },
    {
     "output_type": "display_data",
     "data": {
      "text/plain": [
       "FloatProgress(value=24.394, bar_style='success', description='LINK', max=53.0, style=ProgressStyle(bar_color='…"
      ],
      "application/vnd.jupyter.widget-view+json": {
       "version_major": 2,
       "version_minor": 0,
       "model_id": "a96647423aae47d4ba2633e8f9806615"
      }
     },
     "metadata": {}
    },
    {
     "output_type": "display_data",
     "data": {
      "text/plain": [
       "HTML(value='LINK: 24.394 / 53.0')"
      ],
      "application/vnd.jupyter.widget-view+json": {
       "version_major": 2,
       "version_minor": 0,
       "model_id": "1e09618986c34a1794165ebf27e2d32c"
      }
     },
     "metadata": {}
    },
    {
     "output_type": "display_data",
     "data": {
      "text/plain": [
       "FloatProgress(value=0.3218, bar_style='success', description='UTK', max=1.065, style=ProgressStyle(bar_color='…"
      ],
      "application/vnd.jupyter.widget-view+json": {
       "version_major": 2,
       "version_minor": 0,
       "model_id": "9564df4aa7f244918a02aa7c793e8709"
      }
     },
     "metadata": {}
    },
    {
     "output_type": "display_data",
     "data": {
      "text/plain": [
       "HTML(value='UTK: 0.3218 / 1.065')"
      ],
      "application/vnd.jupyter.widget-view+json": {
       "version_major": 2,
       "version_minor": 0,
       "model_id": "4b134818bd4b45ba8680814d59fe079e"
      }
     },
     "metadata": {}
    },
    {
     "output_type": "display_data",
     "data": {
      "text/plain": [
       "FloatProgress(value=0.0, bar_style='success', description='USDT', max=0.0, style=ProgressStyle(bar_color='#ff4…"
      ],
      "application/vnd.jupyter.widget-view+json": {
       "version_major": 2,
       "version_minor": 0,
       "model_id": "48130f82cf4d4d668af1d5d11244ec0a"
      }
     },
     "metadata": {}
    },
    {
     "output_type": "display_data",
     "data": {
      "text/plain": [
       "HTML(value='USDT: 0 / 0')"
      ],
      "application/vnd.jupyter.widget-view+json": {
       "version_major": 2,
       "version_minor": 0,
       "model_id": "e7a99dac526e4e97b29d9599a49bb7a8"
      }
     },
     "metadata": {}
    },
    {
     "output_type": "display_data",
     "data": {
      "text/plain": [
       "FloatProgress(value=0.9994, bar_style='success', description='BUSD', max=1.0029, style=ProgressStyle(bar_color…"
      ],
      "application/vnd.jupyter.widget-view+json": {
       "version_major": 2,
       "version_minor": 0,
       "model_id": "e4c18cc7e97c42e2a28bee28cec831f6"
      }
     },
     "metadata": {}
    },
    {
     "output_type": "display_data",
     "data": {
      "text/plain": [
       "HTML(value='BUSD: 0.9994 / 1.0029')"
      ],
      "application/vnd.jupyter.widget-view+json": {
       "version_major": 2,
       "version_minor": 0,
       "model_id": "b4e968e98a40434a9b5e2a8db279c737"
      }
     },
     "metadata": {}
    }
   ],
   "metadata": {}
  }
 ]
}