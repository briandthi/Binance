{
 "metadata": {
  "language_info": {
   "codemirror_mode": {
    "name": "ipython",
    "version": 3
   },
   "file_extension": ".py",
   "mimetype": "text/x-python",
   "name": "python",
   "nbconvert_exporter": "python",
   "pygments_lexer": "ipython3",
   "version": "3.7.8"
  },
  "orig_nbformat": 2,
  "kernelspec": {
   "name": "python3",
   "display_name": "Python 3.7.8 64-bit"
  },
  "metadata": {
   "interpreter": {
    "hash": "40a72caf6fa46f53aa7f5b366fbd5b98b2736726cc2be7465f0404892e27bcbd"
   }
  },
  "interpreter": {
   "hash": "40a72caf6fa46f53aa7f5b366fbd5b98b2736726cc2be7465f0404892e27bcbd"
  }
 },
 "nbformat": 4,
 "nbformat_minor": 2,
 "cells": [
  {
   "cell_type": "markdown",
   "source": [
    "# Binance\n",
    "\n",
    "- Créér un clé API : https://www.binance.com/en/support/faq/360002502072\n",
    "- **Quand elle est créée garder en mémoire l'api key et la secret KEY**\n",
    "\n",
    "- créer un fichier config.cfg dans le même répertoire que le notebook et remplacer les valeurs par celles de l'API créée\n",
    "\n",
    "```cfg\n",
    "[BINANCE]\n",
    "API_KEY = YOUR KEY                  \n",
    "SECRET_KEY = YOUR SECRET KEY        \n",
    "```\n",
    "\n",
    "\n",
    "\n",
    "- installer le package python-binance \n",
    "\n",
    "```shell\n",
    "pip install python-binance\n",
    "ou\n",
    "py -m pip install python-binance\n",
    "ou autre\n",
    "```\n",
    "- Editer la list my_coins avec vos crypto \n",
    "```python\n",
    "#exemple\n",
    "my_coins = ['BTC','USDT', 'ETH']     # A ADAPTER\n",
    "```\n",
    "\n",
    "- Editer le dict stack car l'API ne sait pas encore récupérer les crypto stackées \n",
    "\n",
    "```python\n",
    "#exemple\n",
    "stack = {'DOT':3, 'ADA':6.1938, 'CAKE':3.125, 'TRX': 67}      # A ADAPTER\n",
    "```\n",
    "\n",
    "- et lancer tout les cellules\n",
    "! Tout est en dollars\n",
    "\n",
    "\n",
    "(Il peut y avoir des erreurs de désynchronisation d'horloge. Pour corriger cliquer sur l'heure, puis \"paramètre date et heure\", puis \"synchroniser maintenant\")\n"
   ],
   "metadata": {}
  },
  {
   "cell_type": "markdown",
   "source": [
    "#### LISTE A COMPLETER"
   ],
   "metadata": {}
  },
  {
   "cell_type": "code",
   "execution_count": 14,
   "source": [
    "import requests, json, time, hashlib,hmac, configparser\r\n",
    "from binance import Client\r\n",
    "# A ADAPTER \r\n",
    "my_coins = ['BTC', 'ETH', 'ADA', 'DOT', 'MATIC', 'KSM', 'CAKE', 'VET', 'SOL', 'BNB', 'LTC', 'THETA', 'AVAX', 'DENT', 'EGLD', 'HOT', 'TRX', 'ONE', 'BAND', 'SXP', 'LINK', 'UTK', 'USDT', 'BUSD']  \r\n",
    "my_symbols = [coin + 'USDT' for coin in my_coins]\r\n",
    "\r\n",
    "config = configparser.ConfigParser()\r\n",
    "config.read_file(open('config.cfg'))\r\n",
    "\r\n",
    "KEY = config.get('BINANCE', 'API_KEY')\r\n",
    "SECRET_KEY = config.get('BINANCE', 'SECRET_KEY')\r\n",
    "BASE_URL = 'https://api.binance.com/'\r\n",
    "\r\n",
    "client = Client(KEY, SECRET_KEY)\r\n"
   ],
   "outputs": [],
   "metadata": {}
  },
  {
   "cell_type": "code",
   "execution_count": 15,
   "source": [
    "from urllib.parse import urlencode\r\n",
    "\r\n",
    "# fonctions utilitaires\r\n",
    "\r\n",
    "def get_timestamp():\r\n",
    "    return int(time.time() * 1000)\r\n",
    "\r\n",
    "def hashing(query_string):\r\n",
    "    return hmac.new(SECRET_KEY.encode('utf-8'), query_string.encode('utf-8'), hashlib.sha256).hexdigest()\r\n",
    "\r\n",
    "def dispatch_request(http_method):\r\n",
    "    session = requests.Session()\r\n",
    "    session.headers.update({\r\n",
    "        'Content-Type': 'application/json;charset=utf-8',\r\n",
    "        'X-MBX-APIKEY': KEY\r\n",
    "    })\r\n",
    "    return {\r\n",
    "        'GET': session.get,\r\n",
    "        'DELETE': session.delete,\r\n",
    "        'PUT': session.put,\r\n",
    "        'POST': session.post,\r\n",
    "    }.get(http_method, 'GET')\r\n",
    "\r\n",
    "def send_signed_request(http_method, url_path, payload={}):\r\n",
    "    query_string = urlencode(payload, True)\r\n",
    "    if query_string:\r\n",
    "        query_string = \"{}&timestamp={}\".format(query_string, get_timestamp())\r\n",
    "    else:\r\n",
    "        query_string = 'timestamp={}'.format(get_timestamp())\r\n",
    "\r\n",
    "    url = BASE_URL + url_path + '?' + query_string + '&signature=' + hashing(query_string)\r\n",
    "    print(\"{} {}\".format(http_method, url))\r\n",
    "    params = {'url': url, 'params': {}}\r\n",
    "    response = dispatch_request(http_method)(**params)\r\n",
    "    return response.json()\r\n"
   ],
   "outputs": [],
   "metadata": {}
  },
  {
   "cell_type": "code",
   "execution_count": 16,
   "source": [
    "# Create wallet\r\n",
    "def create_wallet():\r\n",
    "    wallet = {}\r\n",
    "    for asset in my_coins:\r\n",
    "        wallet[asset] = { 'Current_market_price':0, 'Current_value':0, 'Buy':0, 'Buy_price': 0, 'Buy_Qty':0, 'Sell':0, 'Sell_price': 0, 'Sell_Qty':0, 'Saving_value':0, 'Saving_Qty':0, 'Spot_value':0, 'Spot_Qty':0, 'Stack_value':0, 'Stack_Qty':0, 'ATH': 0, 'ATH_percent':0, 'Buy_price_percent':0, 'Balance':0}\r\n",
    "    return wallet"
   ],
   "outputs": [],
   "metadata": {}
  },
  {
   "cell_type": "code",
   "execution_count": 17,
   "source": [
    "# Get order history\r\n",
    "def update_order_history(wallet):\r\n",
    "    for symbol in my_symbols:\r\n",
    "        \r\n",
    "        if symbol != 'USDTUSDT' and symbol != 'BUSDUSDT':\r\n",
    "            for i in range(3):\r\n",
    "                orders_history = []\r\n",
    "                while orders_history == [] :\r\n",
    "                    orders_history = client.get_all_orders(symbol=symbol)\r\n",
    "                sum_coin = 0.0\r\n",
    "                sum_cost = 0.0\r\n",
    "                sell_coin = 0.0\r\n",
    "                sell_cost = 0.0\r\n",
    "                for order in orders_history:\r\n",
    "                    if order['side'] == 'BUY':\r\n",
    "                        sum_cost += float(order['executedQty']) * float(order['price'])\r\n",
    "                        sum_coin += float(order['executedQty']) \r\n",
    "                    elif order['side'] == 'SELL':\r\n",
    "                        sell_cost +=  float(order['executedQty']) * float(order['price'])\r\n",
    "                        sell_coin += float(order['executedQty'])\r\n",
    "                if sum_coin > wallet[symbol.replace('USDT', '')]['Buy_Qty']:\r\n",
    "                    wallet[symbol.replace('USDT', '')]['Buy_Qty'] = sum_coin \r\n",
    "                    wallet[symbol.replace('USDT', '')]['Buy_price'] = sum_cost / sum_coin\r\n",
    "                    wallet[symbol.replace('USDT', '')]['Buy'] = sum_cost\r\n",
    "                    if sell_cost != 0:\r\n",
    "                        wallet[symbol.replace('USDT', '')]['Sell_Qty'] = sell_coin \r\n",
    "                        wallet[symbol.replace('USDT', '')]['Sell_price'] = sell_cost / sell_coin\r\n",
    "                        wallet[symbol.replace('USDT', '')]['Sell'] = sell_cost"
   ],
   "outputs": [],
   "metadata": {}
  },
  {
   "cell_type": "code",
   "execution_count": 18,
   "source": [
    "def update_market_price(wallet):\r\n",
    "    all_coins = client.get_all_tickers()\r\n",
    "    for asset in my_coins:\r\n",
    "        if asset != 'USDT':\r\n",
    "            for symbol in all_coins:\r\n",
    "                if symbol['symbol'] == asset+'USDT':\r\n",
    "                    wallet[asset]['Current_market_price'] = float(symbol['price'])"
   ],
   "outputs": [],
   "metadata": {}
  },
  {
   "cell_type": "code",
   "execution_count": 19,
   "source": [
    "# Get current Savings\r\n",
    "def update_saving(wallet):\r\n",
    "    saving = send_signed_request('GET', 'sapi/v1/lending/union/account')\r\n",
    "    savings = saving['positionAmountVos']\r\n",
    "    for asset in savings:\r\n",
    "        wallet[asset['asset']][\"Saving_value\"] = float(asset['amountInUSDT'])\r\n",
    "        wallet[asset['asset']][\"Saving_Qty\"] = float(asset['amount'])"
   ],
   "outputs": [],
   "metadata": {}
  },
  {
   "cell_type": "code",
   "execution_count": 20,
   "source": [
    "# stop value\r\n",
    "def update_spot(wallet):\r\n",
    "    spot = send_signed_request('GET', 'api/v3/account')\r\n",
    "\r\n",
    "    for asset in my_coins:\r\n",
    "        for asset_spot in spot[\"balances\"]:\r\n",
    "            if asset_spot['asset'] == asset:\r\n",
    "                if asset != \"USDT\":\r\n",
    "                    wallet[asset]['Spot_value'] = wallet[asset]['Current_market_price'] * float(asset_spot['free'])\r\n",
    "                    wallet[asset]['Spot_Qty'] = float(asset_spot['free'])\r\n",
    "                else:\r\n",
    "                    wallet[asset]['Spot_value'] = float(asset_spot['free'])"
   ],
   "outputs": [],
   "metadata": {
    "tags": []
   }
  },
  {
   "cell_type": "markdown",
   "source": [
    "#### STACK A COMPLETER"
   ],
   "metadata": {}
  },
  {
   "cell_type": "code",
   "execution_count": 21,
   "source": [
    "# get stacking value\r\n",
    "def update_stacking(wallet):    \r\n",
    "    # A ADAPTER\r\n",
    "    stack = {'ADA':33.3+17.2+6.247+18.94+7.992+14.5+8.02,  'KSM':0.1599+0.24, 'MATIC':65+139.7+18, 'VET':497 , 'CAKE':1.785+4.06, 'SOL':0.5, 'DOT':9.556 , 'ETH':0.068836, 'BNB': 0.09388}\r\n",
    "    for asset in my_coins:\r\n",
    "        try:\r\n",
    "            coin = stack[asset]\r\n",
    "            wallet[asset]['Stack_value'] = wallet[asset]['Current_market_price'] * coin\r\n",
    "            wallet[asset]['Stack_Qty'] = stack[asset]\r\n",
    "        except:\r\n",
    "            pass"
   ],
   "outputs": [],
   "metadata": {}
  },
  {
   "cell_type": "code",
   "execution_count": 22,
   "source": [
    "# balance calcul\r\n",
    "def update_balance(wallet):\r\n",
    "    for asset in my_coins:\r\n",
    "        wallet[asset][\"Balance\"] =  wallet[asset][\"Stack_value\"] + wallet[asset][\"Saving_value\"] + wallet[asset][\"Spot_value\"] -  wallet[asset][\"Buy\"] + wallet[asset][\"Sell\"]"
   ],
   "outputs": [],
   "metadata": {}
  },
  {
   "cell_type": "code",
   "execution_count": 23,
   "source": [
    "# Get ATH\r\n",
    "def update_ath(wallet):\r\n",
    "    for asset in my_coins:\r\n",
    "        if asset != 'USDT':\r\n",
    "            earliest_timestamp = client._get_earliest_valid_timestamp(asset + 'USDT', '1d')  # Here \"ETHUSDT\" is a trading pair and \"1d\" is time interval\r\n",
    "            candle = client.get_historical_klines(asset + 'USDT', Client.KLINE_INTERVAL_1WEEK, \"1 May, 2021\")\r\n",
    "            max_asset = 0\r\n",
    "            for c in candle:\r\n",
    "                if float(c[2]) > max_asset:\r\n",
    "                    max_asset = float(c[2])\r\n",
    "            wallet[asset]['ATH'] = max_asset\r\n",
    "            wallet[asset]['ATH_percent'] = wallet[asset]['Current_market_price'] / wallet[asset]['ATH'] "
   ],
   "outputs": [],
   "metadata": {}
  },
  {
   "cell_type": "code",
   "execution_count": 24,
   "source": [
    "def update_buy_price_percent(wallet):\r\n",
    "    for asset in my_coins:\r\n",
    "        if wallet[asset]['Current_market_price'] != 0:\r\n",
    "            wallet[asset]['Buy_price_percent'] = wallet[asset]['Buy_price']  / wallet[asset]['Current_market_price'] "
   ],
   "outputs": [],
   "metadata": {}
  },
  {
   "cell_type": "code",
   "execution_count": 25,
   "source": [
    "def update_current_value(wallet):\r\n",
    "    for asset in my_coins:\r\n",
    "        wallet[asset]['Current_value'] = wallet[asset]['Spot_value']  + wallet[asset]['Stack_value'] + wallet[asset]['Saving_value']"
   ],
   "outputs": [],
   "metadata": {}
  },
  {
   "cell_type": "code",
   "execution_count": 26,
   "source": [
    "def init():\r\n",
    "    wallet = create_wallet()\r\n",
    "    update_market_price(wallet)\r\n",
    "    update_order_history(wallet)\r\n",
    "    update_ath(wallet)\r\n",
    "    # with open(\"binance.json\", \"w\") as outfile: \r\n",
    "    #     json.dump(wallet, outfile)\r\n",
    "    return wallet\r\n"
   ],
   "outputs": [
    {
     "output_type": "stream",
     "name": "stdout",
     "text": [
      "GET https://api.binance.com/sapi/v1/lending/union/account?timestamp=1628328309114&signature=5170eb2b168a862844141c6585296cd043391e9ff97f33c4a53892806b26f6e2\n",
      "GET https://api.binance.com/api/v3/account?timestamp=1628328309862&signature=827a92ff70b37bc8b62bdc1e279eca7cc4e402a254ed86e46729b641a82fa882\n"
     ]
    }
   ],
   "metadata": {
    "tags": []
   }
  },
  {
   "cell_type": "code",
   "execution_count": null,
   "source": [
    "wallet = init()"
   ],
   "outputs": [],
   "metadata": {}
  },
  {
   "cell_type": "code",
   "execution_count": 32,
   "source": [
    "def quick_update(wallet):\r\n",
    "    update_market_price(wallet)\r\n",
    "    update_saving(wallet)\r\n",
    "    update_spot(wallet)\r\n",
    "    update_stacking(wallet)\r\n",
    "    update_balance(wallet)\r\n",
    "    update_buy_price_percent(wallet)\r\n",
    "    update_current_value(wallet)\r\n",
    "    return wallet"
   ],
   "outputs": [],
   "metadata": {}
  },
  {
   "cell_type": "code",
   "execution_count": 34,
   "source": [
    "wallet = quick_update(wallet)"
   ],
   "outputs": [
    {
     "output_type": "stream",
     "name": "stdout",
     "text": [
      "GET https://api.binance.com/sapi/v1/lending/union/account?timestamp=1628329941491&signature=6b10cf0cf929b91c08b7fadf1e093dc4af3eac344642c06e5d0b2c19ebcb6923\n",
      "GET https://api.binance.com/api/v3/account?timestamp=1628329941817&signature=46eebeecd1152d66fae665a27e4e9111362a13a513a3a1750d554d69946285fe\n"
     ]
    }
   ],
   "metadata": {}
  },
  {
   "cell_type": "code",
   "execution_count": 35,
   "source": [
    "import pandas as pd\r\n",
    "pd.DataFrame.from_dict(wallet,  orient='index')"
   ],
   "outputs": [
    {
     "output_type": "execute_result",
     "data": {
      "text/plain": [
       "       Current_market_price  Current_value         Buy     Buy_price  \\\n",
       "BTC            43642.020000     259.006375  226.092220  38165.465901   \n",
       "ETH             3032.500000     245.493654  191.958088   2374.837164   \n",
       "ADA                1.455600     154.671985  143.654880      1.363985   \n",
       "DOT               21.192000     225.485856  217.063720     20.674704   \n",
       "MATIC              1.148630     256.979879  312.526722      1.427063   \n",
       "KSM              237.230000      95.161802  113.495750    286.750253   \n",
       "CAKE              18.610000     109.569999  126.912600     14.267858   \n",
       "VET                0.106840      53.099480   55.757800      0.112053   \n",
       "SOL               40.058000      42.667003   35.046424     32.938368   \n",
       "BNB              353.990000      33.349506   21.064000    263.300000   \n",
       "LTC              154.380000      16.379038   30.442000    287.188679   \n",
       "THETA              7.137000      14.299038   21.000000     10.500000   \n",
       "AVAX              15.626000       4.169462   10.096500     38.100000   \n",
       "DENT               0.002959       3.106950   10.185000      0.009700   \n",
       "EGLD             119.900000       6.368792   10.085900    190.300000   \n",
       "HOT                0.008024       5.295840   10.131000      0.015350   \n",
       "TRX                0.075890       5.118876   10.117000      0.151000   \n",
       "ONE                0.083600       6.751060   10.127800      0.128200   \n",
       "BAND               7.645000       9.028745   19.994330     16.930000   \n",
       "SXP                2.640000      19.545510   31.395600      4.251266   \n",
       "LINK              24.523000       5.278841   10.019000     46.600000   \n",
       "UTK                0.316100       6.005900   10.260000      0.540000   \n",
       "USDT               0.000000     305.710094    0.000000      0.000000   \n",
       "BUSD               0.999500       0.000000    0.000000      0.000000   \n",
       "\n",
       "           Buy_Qty     Sell  Sell_price  Sell_Qty  Saving_value  Saving_Qty  \\\n",
       "BTC       0.005924   0.0000         0.0     0.000    259.006375    0.005930   \n",
       "ETH       0.080830   0.0000         0.0     0.000     36.748484    0.012105   \n",
       "ADA     105.320000   0.0000         0.0     0.000      0.088720    0.060909   \n",
       "DOT      10.499000   0.0000         0.0     0.000     22.975104    1.083629   \n",
       "MATIC   219.000000   0.0000         0.0     0.000      1.179978    1.025604   \n",
       "KSM       0.395800   0.0000         0.0     0.000      0.000000    0.000000   \n",
       "CAKE      8.895000  53.2392        16.8     3.169      0.794549    0.042692   \n",
       "VET     497.600000   0.0000         0.0     0.000      0.000000    0.000000   \n",
       "SOL       1.064000   0.0000         0.0     0.000      0.000000    0.000000   \n",
       "BNB       0.080000   0.0000         0.0     0.000      0.116924    0.000330   \n",
       "LTC       0.106000   0.0000         0.0     0.000     16.379038    0.106048   \n",
       "THETA     2.000000   0.0000         0.0     0.000     14.299038    2.001545   \n",
       "AVAX      0.265000   0.0000         0.0     0.000      0.000000    0.000000   \n",
       "DENT   1050.000000   0.0000         0.0     0.000      0.000000    0.000000   \n",
       "EGLD      0.053000   0.0000         0.0     0.000      6.368792    0.053113   \n",
       "HOT     660.000000   0.0000         0.0     0.000      0.000000    0.000000   \n",
       "TRX      67.000000   0.0000         0.0     0.000      5.118876   67.415725   \n",
       "ONE      79.000000   0.0000         0.0     0.000      6.751060   80.677109   \n",
       "BAND      1.181000   0.0000         0.0     0.000      0.000000    0.000000   \n",
       "SXP       7.385000   0.0000         0.0     0.000     19.545510    7.400799   \n",
       "LINK      0.215000   0.0000         0.0     0.000      5.278841    0.215129   \n",
       "UTK      19.000000   0.0000         0.0     0.000      0.000000    0.000000   \n",
       "USDT      0.000000   0.0000         0.0     0.000    305.710094  305.710094   \n",
       "BUSD      0.000000   0.0000         0.0     0.000      0.000000    0.000000   \n",
       "\n",
       "       Spot_value     Spot_Qty  Stack_value   Stack_Qty           ATH  \\\n",
       "BTC      0.000000     0.000000     0.000000    0.000000  59500.000000   \n",
       "ETH      0.000000     0.000000   208.745170    0.068836   4372.720000   \n",
       "ADA      0.000000     0.000000   154.583264  106.199000      2.470000   \n",
       "DOT      0.000000     0.000000   202.510752    9.556000     49.780000   \n",
       "MATIC    0.000000     0.000000   255.799901  222.700000      2.700000   \n",
       "KSM      0.293525     0.001237    94.868277    0.399900    625.000000   \n",
       "CAKE     0.000000     0.000000   108.775450    5.845000     42.980000   \n",
       "VET      0.000000     0.000000    53.099480  497.000000      0.250000   \n",
       "SOL     22.638003     0.565131    20.029000    0.500000     58.380000   \n",
       "BNB      0.000000     0.000000    33.232581    0.093880    691.770000   \n",
       "LTC      0.000000     0.000000     0.000000    0.000000    413.490000   \n",
       "THETA    0.000000     0.000000     0.000000    0.000000     13.200000   \n",
       "AVAX     4.169462     0.266829     0.000000    0.000000     43.885000   \n",
       "DENT     3.106950  1050.000000     0.000000    0.000000      0.011699   \n",
       "EGLD     0.000000     0.000000     0.000000    0.000000    205.000000   \n",
       "HOT      5.295840   660.000000     0.000000    0.000000      0.016840   \n",
       "TRX      0.000000     0.000000     0.000000    0.000000      0.170000   \n",
       "ONE      0.000000     0.000000     0.000000    0.000000      0.188580   \n",
       "BAND     9.028745     1.181000     0.000000    0.000000     20.673000   \n",
       "SXP      0.000000     0.000000     0.000000    0.000000      5.870000   \n",
       "LINK     0.000000     0.000000     0.000000    0.000000     53.000000   \n",
       "UTK      6.005900    19.000000     0.000000    0.000000      1.065000   \n",
       "USDT     0.000000     0.000000     0.000000    0.000000      0.000000   \n",
       "BUSD     0.000000     0.000000     0.000000    0.000000      1.002900   \n",
       "\n",
       "       ATH_percent  Buy_price_percent     Balance  \n",
       "BTC       0.732119           0.874512   32.914155  \n",
       "ETH       0.688068           0.783128   53.535566  \n",
       "ADA       0.585789           0.937060   11.017105  \n",
       "DOT       0.423323           0.975590    8.422136  \n",
       "MATIC     0.419659           1.242404  -55.546843  \n",
       "KSM       0.380416           1.208744  -18.333948  \n",
       "CAKE      0.429595           0.766677   35.896599  \n",
       "VET       0.432920           1.048797   -2.658320  \n",
       "SOL       0.684087           0.822267    7.620579  \n",
       "BNB       0.508493           0.743806   12.285506  \n",
       "LTC       0.371013           1.860271  -14.062962  \n",
       "THETA     0.534242           1.471206   -6.700962  \n",
       "AVAX      0.355042           2.438244   -5.927038  \n",
       "DENT      0.252731           3.278135   -7.078050  \n",
       "EGLD      0.584829           1.587156   -3.717108  \n",
       "HOT       0.479572           1.913011   -4.835160  \n",
       "TRX       0.443765           1.989722   -4.998124  \n",
       "ONE       0.442677           1.533493   -3.376740  \n",
       "BAND      0.367291           2.214519  -10.965585  \n",
       "SXP       0.451278           1.610328  -11.850090  \n",
       "LINK      0.461000           1.900257   -4.740159  \n",
       "UTK       0.300000           1.708320   -4.254100  \n",
       "USDT      0.000000           0.000000  305.710094  \n",
       "BUSD      0.996510           0.000000    0.000000  "
      ],
      "text/html": [
       "<div>\n",
       "<style scoped>\n",
       "    .dataframe tbody tr th:only-of-type {\n",
       "        vertical-align: middle;\n",
       "    }\n",
       "\n",
       "    .dataframe tbody tr th {\n",
       "        vertical-align: top;\n",
       "    }\n",
       "\n",
       "    .dataframe thead th {\n",
       "        text-align: right;\n",
       "    }\n",
       "</style>\n",
       "<table border=\"1\" class=\"dataframe\">\n",
       "  <thead>\n",
       "    <tr style=\"text-align: right;\">\n",
       "      <th></th>\n",
       "      <th>Current_market_price</th>\n",
       "      <th>Current_value</th>\n",
       "      <th>Buy</th>\n",
       "      <th>Buy_price</th>\n",
       "      <th>Buy_Qty</th>\n",
       "      <th>Sell</th>\n",
       "      <th>Sell_price</th>\n",
       "      <th>Sell_Qty</th>\n",
       "      <th>Saving_value</th>\n",
       "      <th>Saving_Qty</th>\n",
       "      <th>Spot_value</th>\n",
       "      <th>Spot_Qty</th>\n",
       "      <th>Stack_value</th>\n",
       "      <th>Stack_Qty</th>\n",
       "      <th>ATH</th>\n",
       "      <th>ATH_percent</th>\n",
       "      <th>Buy_price_percent</th>\n",
       "      <th>Balance</th>\n",
       "    </tr>\n",
       "  </thead>\n",
       "  <tbody>\n",
       "    <tr>\n",
       "      <th>BTC</th>\n",
       "      <td>43642.020000</td>\n",
       "      <td>259.006375</td>\n",
       "      <td>226.092220</td>\n",
       "      <td>38165.465901</td>\n",
       "      <td>0.005924</td>\n",
       "      <td>0.0000</td>\n",
       "      <td>0.0</td>\n",
       "      <td>0.000</td>\n",
       "      <td>259.006375</td>\n",
       "      <td>0.005930</td>\n",
       "      <td>0.000000</td>\n",
       "      <td>0.000000</td>\n",
       "      <td>0.000000</td>\n",
       "      <td>0.000000</td>\n",
       "      <td>59500.000000</td>\n",
       "      <td>0.732119</td>\n",
       "      <td>0.874512</td>\n",
       "      <td>32.914155</td>\n",
       "    </tr>\n",
       "    <tr>\n",
       "      <th>ETH</th>\n",
       "      <td>3032.500000</td>\n",
       "      <td>245.493654</td>\n",
       "      <td>191.958088</td>\n",
       "      <td>2374.837164</td>\n",
       "      <td>0.080830</td>\n",
       "      <td>0.0000</td>\n",
       "      <td>0.0</td>\n",
       "      <td>0.000</td>\n",
       "      <td>36.748484</td>\n",
       "      <td>0.012105</td>\n",
       "      <td>0.000000</td>\n",
       "      <td>0.000000</td>\n",
       "      <td>208.745170</td>\n",
       "      <td>0.068836</td>\n",
       "      <td>4372.720000</td>\n",
       "      <td>0.688068</td>\n",
       "      <td>0.783128</td>\n",
       "      <td>53.535566</td>\n",
       "    </tr>\n",
       "    <tr>\n",
       "      <th>ADA</th>\n",
       "      <td>1.455600</td>\n",
       "      <td>154.671985</td>\n",
       "      <td>143.654880</td>\n",
       "      <td>1.363985</td>\n",
       "      <td>105.320000</td>\n",
       "      <td>0.0000</td>\n",
       "      <td>0.0</td>\n",
       "      <td>0.000</td>\n",
       "      <td>0.088720</td>\n",
       "      <td>0.060909</td>\n",
       "      <td>0.000000</td>\n",
       "      <td>0.000000</td>\n",
       "      <td>154.583264</td>\n",
       "      <td>106.199000</td>\n",
       "      <td>2.470000</td>\n",
       "      <td>0.585789</td>\n",
       "      <td>0.937060</td>\n",
       "      <td>11.017105</td>\n",
       "    </tr>\n",
       "    <tr>\n",
       "      <th>DOT</th>\n",
       "      <td>21.192000</td>\n",
       "      <td>225.485856</td>\n",
       "      <td>217.063720</td>\n",
       "      <td>20.674704</td>\n",
       "      <td>10.499000</td>\n",
       "      <td>0.0000</td>\n",
       "      <td>0.0</td>\n",
       "      <td>0.000</td>\n",
       "      <td>22.975104</td>\n",
       "      <td>1.083629</td>\n",
       "      <td>0.000000</td>\n",
       "      <td>0.000000</td>\n",
       "      <td>202.510752</td>\n",
       "      <td>9.556000</td>\n",
       "      <td>49.780000</td>\n",
       "      <td>0.423323</td>\n",
       "      <td>0.975590</td>\n",
       "      <td>8.422136</td>\n",
       "    </tr>\n",
       "    <tr>\n",
       "      <th>MATIC</th>\n",
       "      <td>1.148630</td>\n",
       "      <td>256.979879</td>\n",
       "      <td>312.526722</td>\n",
       "      <td>1.427063</td>\n",
       "      <td>219.000000</td>\n",
       "      <td>0.0000</td>\n",
       "      <td>0.0</td>\n",
       "      <td>0.000</td>\n",
       "      <td>1.179978</td>\n",
       "      <td>1.025604</td>\n",
       "      <td>0.000000</td>\n",
       "      <td>0.000000</td>\n",
       "      <td>255.799901</td>\n",
       "      <td>222.700000</td>\n",
       "      <td>2.700000</td>\n",
       "      <td>0.419659</td>\n",
       "      <td>1.242404</td>\n",
       "      <td>-55.546843</td>\n",
       "    </tr>\n",
       "    <tr>\n",
       "      <th>KSM</th>\n",
       "      <td>237.230000</td>\n",
       "      <td>95.161802</td>\n",
       "      <td>113.495750</td>\n",
       "      <td>286.750253</td>\n",
       "      <td>0.395800</td>\n",
       "      <td>0.0000</td>\n",
       "      <td>0.0</td>\n",
       "      <td>0.000</td>\n",
       "      <td>0.000000</td>\n",
       "      <td>0.000000</td>\n",
       "      <td>0.293525</td>\n",
       "      <td>0.001237</td>\n",
       "      <td>94.868277</td>\n",
       "      <td>0.399900</td>\n",
       "      <td>625.000000</td>\n",
       "      <td>0.380416</td>\n",
       "      <td>1.208744</td>\n",
       "      <td>-18.333948</td>\n",
       "    </tr>\n",
       "    <tr>\n",
       "      <th>CAKE</th>\n",
       "      <td>18.610000</td>\n",
       "      <td>109.569999</td>\n",
       "      <td>126.912600</td>\n",
       "      <td>14.267858</td>\n",
       "      <td>8.895000</td>\n",
       "      <td>53.2392</td>\n",
       "      <td>16.8</td>\n",
       "      <td>3.169</td>\n",
       "      <td>0.794549</td>\n",
       "      <td>0.042692</td>\n",
       "      <td>0.000000</td>\n",
       "      <td>0.000000</td>\n",
       "      <td>108.775450</td>\n",
       "      <td>5.845000</td>\n",
       "      <td>42.980000</td>\n",
       "      <td>0.429595</td>\n",
       "      <td>0.766677</td>\n",
       "      <td>35.896599</td>\n",
       "    </tr>\n",
       "    <tr>\n",
       "      <th>VET</th>\n",
       "      <td>0.106840</td>\n",
       "      <td>53.099480</td>\n",
       "      <td>55.757800</td>\n",
       "      <td>0.112053</td>\n",
       "      <td>497.600000</td>\n",
       "      <td>0.0000</td>\n",
       "      <td>0.0</td>\n",
       "      <td>0.000</td>\n",
       "      <td>0.000000</td>\n",
       "      <td>0.000000</td>\n",
       "      <td>0.000000</td>\n",
       "      <td>0.000000</td>\n",
       "      <td>53.099480</td>\n",
       "      <td>497.000000</td>\n",
       "      <td>0.250000</td>\n",
       "      <td>0.432920</td>\n",
       "      <td>1.048797</td>\n",
       "      <td>-2.658320</td>\n",
       "    </tr>\n",
       "    <tr>\n",
       "      <th>SOL</th>\n",
       "      <td>40.058000</td>\n",
       "      <td>42.667003</td>\n",
       "      <td>35.046424</td>\n",
       "      <td>32.938368</td>\n",
       "      <td>1.064000</td>\n",
       "      <td>0.0000</td>\n",
       "      <td>0.0</td>\n",
       "      <td>0.000</td>\n",
       "      <td>0.000000</td>\n",
       "      <td>0.000000</td>\n",
       "      <td>22.638003</td>\n",
       "      <td>0.565131</td>\n",
       "      <td>20.029000</td>\n",
       "      <td>0.500000</td>\n",
       "      <td>58.380000</td>\n",
       "      <td>0.684087</td>\n",
       "      <td>0.822267</td>\n",
       "      <td>7.620579</td>\n",
       "    </tr>\n",
       "    <tr>\n",
       "      <th>BNB</th>\n",
       "      <td>353.990000</td>\n",
       "      <td>33.349506</td>\n",
       "      <td>21.064000</td>\n",
       "      <td>263.300000</td>\n",
       "      <td>0.080000</td>\n",
       "      <td>0.0000</td>\n",
       "      <td>0.0</td>\n",
       "      <td>0.000</td>\n",
       "      <td>0.116924</td>\n",
       "      <td>0.000330</td>\n",
       "      <td>0.000000</td>\n",
       "      <td>0.000000</td>\n",
       "      <td>33.232581</td>\n",
       "      <td>0.093880</td>\n",
       "      <td>691.770000</td>\n",
       "      <td>0.508493</td>\n",
       "      <td>0.743806</td>\n",
       "      <td>12.285506</td>\n",
       "    </tr>\n",
       "    <tr>\n",
       "      <th>LTC</th>\n",
       "      <td>154.380000</td>\n",
       "      <td>16.379038</td>\n",
       "      <td>30.442000</td>\n",
       "      <td>287.188679</td>\n",
       "      <td>0.106000</td>\n",
       "      <td>0.0000</td>\n",
       "      <td>0.0</td>\n",
       "      <td>0.000</td>\n",
       "      <td>16.379038</td>\n",
       "      <td>0.106048</td>\n",
       "      <td>0.000000</td>\n",
       "      <td>0.000000</td>\n",
       "      <td>0.000000</td>\n",
       "      <td>0.000000</td>\n",
       "      <td>413.490000</td>\n",
       "      <td>0.371013</td>\n",
       "      <td>1.860271</td>\n",
       "      <td>-14.062962</td>\n",
       "    </tr>\n",
       "    <tr>\n",
       "      <th>THETA</th>\n",
       "      <td>7.137000</td>\n",
       "      <td>14.299038</td>\n",
       "      <td>21.000000</td>\n",
       "      <td>10.500000</td>\n",
       "      <td>2.000000</td>\n",
       "      <td>0.0000</td>\n",
       "      <td>0.0</td>\n",
       "      <td>0.000</td>\n",
       "      <td>14.299038</td>\n",
       "      <td>2.001545</td>\n",
       "      <td>0.000000</td>\n",
       "      <td>0.000000</td>\n",
       "      <td>0.000000</td>\n",
       "      <td>0.000000</td>\n",
       "      <td>13.200000</td>\n",
       "      <td>0.534242</td>\n",
       "      <td>1.471206</td>\n",
       "      <td>-6.700962</td>\n",
       "    </tr>\n",
       "    <tr>\n",
       "      <th>AVAX</th>\n",
       "      <td>15.626000</td>\n",
       "      <td>4.169462</td>\n",
       "      <td>10.096500</td>\n",
       "      <td>38.100000</td>\n",
       "      <td>0.265000</td>\n",
       "      <td>0.0000</td>\n",
       "      <td>0.0</td>\n",
       "      <td>0.000</td>\n",
       "      <td>0.000000</td>\n",
       "      <td>0.000000</td>\n",
       "      <td>4.169462</td>\n",
       "      <td>0.266829</td>\n",
       "      <td>0.000000</td>\n",
       "      <td>0.000000</td>\n",
       "      <td>43.885000</td>\n",
       "      <td>0.355042</td>\n",
       "      <td>2.438244</td>\n",
       "      <td>-5.927038</td>\n",
       "    </tr>\n",
       "    <tr>\n",
       "      <th>DENT</th>\n",
       "      <td>0.002959</td>\n",
       "      <td>3.106950</td>\n",
       "      <td>10.185000</td>\n",
       "      <td>0.009700</td>\n",
       "      <td>1050.000000</td>\n",
       "      <td>0.0000</td>\n",
       "      <td>0.0</td>\n",
       "      <td>0.000</td>\n",
       "      <td>0.000000</td>\n",
       "      <td>0.000000</td>\n",
       "      <td>3.106950</td>\n",
       "      <td>1050.000000</td>\n",
       "      <td>0.000000</td>\n",
       "      <td>0.000000</td>\n",
       "      <td>0.011699</td>\n",
       "      <td>0.252731</td>\n",
       "      <td>3.278135</td>\n",
       "      <td>-7.078050</td>\n",
       "    </tr>\n",
       "    <tr>\n",
       "      <th>EGLD</th>\n",
       "      <td>119.900000</td>\n",
       "      <td>6.368792</td>\n",
       "      <td>10.085900</td>\n",
       "      <td>190.300000</td>\n",
       "      <td>0.053000</td>\n",
       "      <td>0.0000</td>\n",
       "      <td>0.0</td>\n",
       "      <td>0.000</td>\n",
       "      <td>6.368792</td>\n",
       "      <td>0.053113</td>\n",
       "      <td>0.000000</td>\n",
       "      <td>0.000000</td>\n",
       "      <td>0.000000</td>\n",
       "      <td>0.000000</td>\n",
       "      <td>205.000000</td>\n",
       "      <td>0.584829</td>\n",
       "      <td>1.587156</td>\n",
       "      <td>-3.717108</td>\n",
       "    </tr>\n",
       "    <tr>\n",
       "      <th>HOT</th>\n",
       "      <td>0.008024</td>\n",
       "      <td>5.295840</td>\n",
       "      <td>10.131000</td>\n",
       "      <td>0.015350</td>\n",
       "      <td>660.000000</td>\n",
       "      <td>0.0000</td>\n",
       "      <td>0.0</td>\n",
       "      <td>0.000</td>\n",
       "      <td>0.000000</td>\n",
       "      <td>0.000000</td>\n",
       "      <td>5.295840</td>\n",
       "      <td>660.000000</td>\n",
       "      <td>0.000000</td>\n",
       "      <td>0.000000</td>\n",
       "      <td>0.016840</td>\n",
       "      <td>0.479572</td>\n",
       "      <td>1.913011</td>\n",
       "      <td>-4.835160</td>\n",
       "    </tr>\n",
       "    <tr>\n",
       "      <th>TRX</th>\n",
       "      <td>0.075890</td>\n",
       "      <td>5.118876</td>\n",
       "      <td>10.117000</td>\n",
       "      <td>0.151000</td>\n",
       "      <td>67.000000</td>\n",
       "      <td>0.0000</td>\n",
       "      <td>0.0</td>\n",
       "      <td>0.000</td>\n",
       "      <td>5.118876</td>\n",
       "      <td>67.415725</td>\n",
       "      <td>0.000000</td>\n",
       "      <td>0.000000</td>\n",
       "      <td>0.000000</td>\n",
       "      <td>0.000000</td>\n",
       "      <td>0.170000</td>\n",
       "      <td>0.443765</td>\n",
       "      <td>1.989722</td>\n",
       "      <td>-4.998124</td>\n",
       "    </tr>\n",
       "    <tr>\n",
       "      <th>ONE</th>\n",
       "      <td>0.083600</td>\n",
       "      <td>6.751060</td>\n",
       "      <td>10.127800</td>\n",
       "      <td>0.128200</td>\n",
       "      <td>79.000000</td>\n",
       "      <td>0.0000</td>\n",
       "      <td>0.0</td>\n",
       "      <td>0.000</td>\n",
       "      <td>6.751060</td>\n",
       "      <td>80.677109</td>\n",
       "      <td>0.000000</td>\n",
       "      <td>0.000000</td>\n",
       "      <td>0.000000</td>\n",
       "      <td>0.000000</td>\n",
       "      <td>0.188580</td>\n",
       "      <td>0.442677</td>\n",
       "      <td>1.533493</td>\n",
       "      <td>-3.376740</td>\n",
       "    </tr>\n",
       "    <tr>\n",
       "      <th>BAND</th>\n",
       "      <td>7.645000</td>\n",
       "      <td>9.028745</td>\n",
       "      <td>19.994330</td>\n",
       "      <td>16.930000</td>\n",
       "      <td>1.181000</td>\n",
       "      <td>0.0000</td>\n",
       "      <td>0.0</td>\n",
       "      <td>0.000</td>\n",
       "      <td>0.000000</td>\n",
       "      <td>0.000000</td>\n",
       "      <td>9.028745</td>\n",
       "      <td>1.181000</td>\n",
       "      <td>0.000000</td>\n",
       "      <td>0.000000</td>\n",
       "      <td>20.673000</td>\n",
       "      <td>0.367291</td>\n",
       "      <td>2.214519</td>\n",
       "      <td>-10.965585</td>\n",
       "    </tr>\n",
       "    <tr>\n",
       "      <th>SXP</th>\n",
       "      <td>2.640000</td>\n",
       "      <td>19.545510</td>\n",
       "      <td>31.395600</td>\n",
       "      <td>4.251266</td>\n",
       "      <td>7.385000</td>\n",
       "      <td>0.0000</td>\n",
       "      <td>0.0</td>\n",
       "      <td>0.000</td>\n",
       "      <td>19.545510</td>\n",
       "      <td>7.400799</td>\n",
       "      <td>0.000000</td>\n",
       "      <td>0.000000</td>\n",
       "      <td>0.000000</td>\n",
       "      <td>0.000000</td>\n",
       "      <td>5.870000</td>\n",
       "      <td>0.451278</td>\n",
       "      <td>1.610328</td>\n",
       "      <td>-11.850090</td>\n",
       "    </tr>\n",
       "    <tr>\n",
       "      <th>LINK</th>\n",
       "      <td>24.523000</td>\n",
       "      <td>5.278841</td>\n",
       "      <td>10.019000</td>\n",
       "      <td>46.600000</td>\n",
       "      <td>0.215000</td>\n",
       "      <td>0.0000</td>\n",
       "      <td>0.0</td>\n",
       "      <td>0.000</td>\n",
       "      <td>5.278841</td>\n",
       "      <td>0.215129</td>\n",
       "      <td>0.000000</td>\n",
       "      <td>0.000000</td>\n",
       "      <td>0.000000</td>\n",
       "      <td>0.000000</td>\n",
       "      <td>53.000000</td>\n",
       "      <td>0.461000</td>\n",
       "      <td>1.900257</td>\n",
       "      <td>-4.740159</td>\n",
       "    </tr>\n",
       "    <tr>\n",
       "      <th>UTK</th>\n",
       "      <td>0.316100</td>\n",
       "      <td>6.005900</td>\n",
       "      <td>10.260000</td>\n",
       "      <td>0.540000</td>\n",
       "      <td>19.000000</td>\n",
       "      <td>0.0000</td>\n",
       "      <td>0.0</td>\n",
       "      <td>0.000</td>\n",
       "      <td>0.000000</td>\n",
       "      <td>0.000000</td>\n",
       "      <td>6.005900</td>\n",
       "      <td>19.000000</td>\n",
       "      <td>0.000000</td>\n",
       "      <td>0.000000</td>\n",
       "      <td>1.065000</td>\n",
       "      <td>0.300000</td>\n",
       "      <td>1.708320</td>\n",
       "      <td>-4.254100</td>\n",
       "    </tr>\n",
       "    <tr>\n",
       "      <th>USDT</th>\n",
       "      <td>0.000000</td>\n",
       "      <td>305.710094</td>\n",
       "      <td>0.000000</td>\n",
       "      <td>0.000000</td>\n",
       "      <td>0.000000</td>\n",
       "      <td>0.0000</td>\n",
       "      <td>0.0</td>\n",
       "      <td>0.000</td>\n",
       "      <td>305.710094</td>\n",
       "      <td>305.710094</td>\n",
       "      <td>0.000000</td>\n",
       "      <td>0.000000</td>\n",
       "      <td>0.000000</td>\n",
       "      <td>0.000000</td>\n",
       "      <td>0.000000</td>\n",
       "      <td>0.000000</td>\n",
       "      <td>0.000000</td>\n",
       "      <td>305.710094</td>\n",
       "    </tr>\n",
       "    <tr>\n",
       "      <th>BUSD</th>\n",
       "      <td>0.999500</td>\n",
       "      <td>0.000000</td>\n",
       "      <td>0.000000</td>\n",
       "      <td>0.000000</td>\n",
       "      <td>0.000000</td>\n",
       "      <td>0.0000</td>\n",
       "      <td>0.0</td>\n",
       "      <td>0.000</td>\n",
       "      <td>0.000000</td>\n",
       "      <td>0.000000</td>\n",
       "      <td>0.000000</td>\n",
       "      <td>0.000000</td>\n",
       "      <td>0.000000</td>\n",
       "      <td>0.000000</td>\n",
       "      <td>1.002900</td>\n",
       "      <td>0.996510</td>\n",
       "      <td>0.000000</td>\n",
       "      <td>0.000000</td>\n",
       "    </tr>\n",
       "  </tbody>\n",
       "</table>\n",
       "</div>"
      ]
     },
     "metadata": {},
     "execution_count": 35
    }
   ],
   "metadata": {}
  },
  {
   "cell_type": "code",
   "execution_count": 28,
   "source": [
    "import matplotlib.pyplot as plt\r\n",
    "\r\n",
    "labels = [asset for asset in my_coins]\r\n",
    "sizes = [wallet[asset]['Spot_value'] + wallet[asset]['Saving_value'] + wallet[asset]['Stack_value'] for asset in  my_coins]\r\n",
    "colors = ['yellowgreen', 'gold', 'lightskyblue', 'lightcoral']\r\n",
    "\r\n",
    "plt.pie(sizes, labels=labels, colors=colors, \r\n",
    "        autopct='%1.1f%%', shadow=True, startangle=90)\r\n",
    "\r\n",
    "plt.axis('equal')\r\n",
    "plt.show()"
   ],
   "outputs": [
    {
     "output_type": "display_data",
     "data": {
      "text/plain": [
       "<Figure size 432x288 with 1 Axes>"
      ],
      "image/png": "[encoded data removed]"
     },
     "metadata": {}
    }
   ],
   "metadata": {}
  },
  {
   "cell_type": "code",
   "execution_count": 36,
   "source": [
    "## Bilan\r\n",
    "\r\n",
    "# global balance\r\n",
    "balance = 0\r\n",
    "total_usdt_invest = 0\r\n",
    "total_spot = 0\r\n",
    "total_saving = 0\r\n",
    "total_stacking = 0\r\n",
    "current_value = 0\r\n",
    "\r\n",
    "for asset in wallet:\r\n",
    "    if asset != \"USDT\" and  asset != \"BUSD\":\r\n",
    "        balance += wallet[asset]['Balance']\r\n",
    "        total_usdt_invest +=  wallet[asset]['Buy']\r\n",
    "        total_usdt_invest -=  wallet[asset]['Sell']\r\n",
    "        total_spot += wallet[asset]['Spot_value']\r\n",
    "        total_saving += wallet[asset]['Saving_value']\r\n",
    "        total_stacking += wallet[asset]['Stack_value']\r\n",
    "    else:\r\n",
    "        total_usdt_invest +=wallet[asset]['Balance']\r\n",
    "        total_spot += wallet[asset]['Spot_value']\r\n",
    "        total_saving += wallet[asset]['Saving_value']\r\n",
    "        total_stacking += wallet[asset]['Stack_value']\r\n",
    "\r\n",
    "current_value = total_spot + total_saving + total_stacking\r\n",
    "\r\n",
    "print('total_spot',total_spot,'$')\r\n",
    "print('total_saving',total_saving,'$')\r\n",
    "print('total_stacking',total_stacking,'$')\r\n",
    "print('total_usdt_invest',total_usdt_invest,'$')\r\n",
    "print('current_value',current_value,'$')\r\n",
    "print('balance',balance,'$')\r\n",
    "print('plus-value', current_value - (total_usdt_invest*current_value/current_value), '$')\r\n",
    "print('plus-value percent', (current_value - (total_usdt_invest*current_value/current_value)) / total_usdt_invest * 100, '%')"
   ],
   "outputs": [
    {
     "output_type": "stream",
     "name": "stdout",
     "text": [
      "total_spot 50.53842459654 $\n",
      "total_saving 700.36138342 $\n",
      "total_stacking 1131.6438756 $\n",
      "total_usdt_invest 1879.8972283800003 $\n",
      "current_value 1882.54368361654 $\n",
      "balance 2.6464552365400094 $\n",
      "plus-value 2.646455236539623 $\n",
      "plus-value percent 0.14077659121930847 %\n"
     ]
    }
   ],
   "metadata": {}
  },
  {
   "cell_type": "code",
   "execution_count": 30,
   "source": [
    "plt.figure(1, figsize=(10, 10))\r\n",
    "chats_labels = my_coins\r\n",
    "num_columns = 4                                \r\n",
    "num_rows  = len(chats_labels) // 4 + 1\r\n",
    "fig, ax = plt.subplots(num_rows,num_columns)\r\n",
    "label = ['spot', 'saving', \"stacking\"]\r\n",
    "for i, coin in enumerate(chats_labels):\r\n",
    "    data = [wallet[coin]['Spot_value'], wallet[coin]['Saving_value'], wallet[coin]['Stack_value']]\r\n",
    "    ax[i//4,i%4].set_title(coin)                           # Add 1 to j index\r\n",
    "    ax[i//4,i%4].pie(data, labels=label,                 # Add 1 to j index\r\n",
    "                autopct='%1.1f%%', shadow=True, startangle=90)\r\n",
    "fig.set_size_inches(15,15)\r\n",
    "plt.show()"
   ],
   "outputs": [
    {
     "output_type": "stream",
     "name": "stderr",
     "text": [
      "C:\\Users\\Thibaut - Eva\\AppData\\Roaming\\Python\\Python37\\site-packages\\ipykernel_launcher.py:11: MatplotlibDeprecationWarning: normalize=None does not normalize if the sum is less than 1 but this behavior is deprecated since 3.3 until two minor releases later. After the deprecation period the default value will be normalize=True. To prevent normalization pass normalize=False \n",
      "  # This is added back by InteractiveShellApp.init_path()\n"
     ]
    },
    {
     "output_type": "display_data",
     "data": {
      "text/plain": [
       "<Figure size 720x720 with 0 Axes>"
      ]
     },
     "metadata": {}
    },
    {
     "output_type": "display_data",
     "data": {
      "text/plain": [
       "<Figure size 1080x1080 with 28 Axes>"
      ],
      "image/png": "[encoded data removed]"
     },
     "metadata": {
      "needs_background": "light"
     }
    }
   ],
   "metadata": {}
  },
  {
   "cell_type": "code",
   "execution_count": 31,
   "source": [
    "import matplotlib as mpl\r\n",
    "import matplotlib.pyplot as plt\r\n",
    "import numpy as np\r\n",
    "from ipywidgets import IntProgress, widgets\r\n",
    "\r\n",
    "def colorFader(c1,c2,mix=0): #fade (linear interpolate) from color c1 (at mix=0) to c2 (mix=1)\r\n",
    "    c1=np.array(mpl.colors.to_rgb(c1))\r\n",
    "    c2=np.array(mpl.colors.to_rgb(c2))\r\n",
    "    return mpl.colors.to_hex((1-mix)*c1 + mix*c2)\r\n",
    "\r\n",
    "c1='#FF4600'\r\n",
    "c2='#3DD600' \r\n",
    "\r\n",
    "color = colorFader(c1,c2,mix=0.5)\r\n",
    "for asset in my_coins:\r\n",
    "    value=wallet[asset]['Current_market_price']\r\n",
    "    maxi=wallet[asset]['ATH']\r\n",
    "    color = colorFader(c1,c2,mix=wallet[asset]['ATH_percent'])\r\n",
    "    \r\n",
    "    display(widgets.FloatProgress(\r\n",
    "        value=value,\r\n",
    "        min=0,\r\n",
    "        max=maxi,\r\n",
    "        description=asset,\r\n",
    "        bar_style='success',\r\n",
    "        style={'bar_color': color},\r\n",
    "        orientation='horizontal',\r\n",
    "    readout=True,\r\n",
    "    readout_format='.1f',\r\n",
    "    disabled=False\r\n",
    "    ))\r\n",
    "    \r\n",
    "    display(widgets.HTML(\r\n",
    "    value = asset + \": \"+str(wallet[asset]['Current_market_price']) + ' / '+ str(wallet[asset]['ATH'])\r\n",
    "    ))\r\n"
   ],
   "outputs": [
    {
     "output_type": "display_data",
     "data": {
      "text/plain": [
       "FloatProgress(value=43567.48, bar_style='success', description='BTC', max=59500.0, style=ProgressStyle(bar_col…"
      ],
      "application/vnd.jupyter.widget-view+json": {
       "version_major": 2,
       "version_minor": 0,
       "model_id": "1b9225caaa6c4afd8e738713b4bb09de"
      }
     },
     "metadata": {}
    },
    {
     "output_type": "display_data",
     "data": {
      "text/plain": [
       "HTML(value='BTC: 43567.48 / 59500.0')"
      ],
      "application/vnd.jupyter.widget-view+json": {
       "version_major": 2,
       "version_minor": 0,
       "model_id": "f21550d9de2949d6b366d090949a930d"
      }
     },
     "metadata": {}
    },
    {
     "output_type": "display_data",
     "data": {
      "text/plain": [
       "FloatProgress(value=3008.09, bar_style='success', description='ETH', max=4372.72, style=ProgressStyle(bar_colo…"
      ],
      "application/vnd.jupyter.widget-view+json": {
       "version_major": 2,
       "version_minor": 0,
       "model_id": "52078fe215d44b228325ca612f86564f"
      }
     },
     "metadata": {}
    },
    {
     "output_type": "display_data",
     "data": {
      "text/plain": [
       "HTML(value='ETH: 3008.09 / 4372.72')"
      ],
      "application/vnd.jupyter.widget-view+json": {
       "version_major": 2,
       "version_minor": 0,
       "model_id": "ce2ea69d7c2945eeb9ed96eefab99b6b"
      }
     },
     "metadata": {}
    },
    {
     "output_type": "display_data",
     "data": {
      "text/plain": [
       "FloatProgress(value=1.4472, bar_style='success', description='ADA', max=2.47, style=ProgressStyle(bar_color='#…"
      ],
      "application/vnd.jupyter.widget-view+json": {
       "version_major": 2,
       "version_minor": 0,
       "model_id": "c3f72c9bb81c47558bdcf3e5c2020f29"
      }
     },
     "metadata": {}
    },
    {
     "output_type": "display_data",
     "data": {
      "text/plain": [
       "HTML(value='ADA: 1.4472 / 2.47')"
      ],
      "application/vnd.jupyter.widget-view+json": {
       "version_major": 2,
       "version_minor": 0,
       "model_id": "9233f8b972c94f41973d016bc94c012c"
      }
     },
     "metadata": {}
    },
    {
     "output_type": "display_data",
     "data": {
      "text/plain": [
       "FloatProgress(value=21.096, bar_style='success', description='DOT', max=49.78, style=ProgressStyle(bar_color='…"
      ],
      "application/vnd.jupyter.widget-view+json": {
       "version_major": 2,
       "version_minor": 0,
       "model_id": "c808402ab3fc4f5f91a7dca057bb1c9b"
      }
     },
     "metadata": {}
    },
    {
     "output_type": "display_data",
     "data": {
      "text/plain": [
       "HTML(value='DOT: 21.096 / 49.78')"
      ],
      "application/vnd.jupyter.widget-view+json": {
       "version_major": 2,
       "version_minor": 0,
       "model_id": "40c4f2006b0949f7b7b62b19997ef313"
      }
     },
     "metadata": {}
    },
    {
     "output_type": "display_data",
     "data": {
      "text/plain": [
       "FloatProgress(value=1.13205, bar_style='success', description='MATIC', max=2.7, style=ProgressStyle(bar_color=…"
      ],
      "application/vnd.jupyter.widget-view+json": {
       "version_major": 2,
       "version_minor": 0,
       "model_id": "d78d1c5358244d3790ddb77fa54ed1d1"
      }
     },
     "metadata": {}
    },
    {
     "output_type": "display_data",
     "data": {
      "text/plain": [
       "HTML(value='MATIC: 1.13205 / 2.7')"
      ],
      "application/vnd.jupyter.widget-view+json": {
       "version_major": 2,
       "version_minor": 0,
       "model_id": "93bce93e841240168e25769ff4cfee8a"
      }
     },
     "metadata": {}
    },
    {
     "output_type": "display_data",
     "data": {
      "text/plain": [
       "FloatProgress(value=237.79, bar_style='success', description='KSM', max=625.0, style=ProgressStyle(bar_color='…"
      ],
      "application/vnd.jupyter.widget-view+json": {
       "version_major": 2,
       "version_minor": 0,
       "model_id": "0123d3d09e7148b8a9a51f66e68ff03c"
      }
     },
     "metadata": {}
    },
    {
     "output_type": "display_data",
     "data": {
      "text/plain": [
       "HTML(value='KSM: 237.79 / 625.0')"
      ],
      "application/vnd.jupyter.widget-view+json": {
       "version_major": 2,
       "version_minor": 0,
       "model_id": "6dfba890b49845cfba789da1fd22f0a7"
      }
     },
     "metadata": {}
    },
    {
     "output_type": "display_data",
     "data": {
      "text/plain": [
       "FloatProgress(value=18.471, bar_style='success', description='CAKE', max=42.98, style=ProgressStyle(bar_color=…"
      ],
      "application/vnd.jupyter.widget-view+json": {
       "version_major": 2,
       "version_minor": 0,
       "model_id": "28a433245dec4932b1d9a3a6037b8083"
      }
     },
     "metadata": {}
    },
    {
     "output_type": "display_data",
     "data": {
      "text/plain": [
       "HTML(value='CAKE: 18.471 / 42.98')"
      ],
      "application/vnd.jupyter.widget-view+json": {
       "version_major": 2,
       "version_minor": 0,
       "model_id": "494a93cb87a74ddd803a2418d1528da4"
      }
     },
     "metadata": {}
    },
    {
     "output_type": "display_data",
     "data": {
      "text/plain": [
       "FloatProgress(value=0.1081, bar_style='success', description='VET', max=0.25, style=ProgressStyle(bar_color='#…"
      ],
      "application/vnd.jupyter.widget-view+json": {
       "version_major": 2,
       "version_minor": 0,
       "model_id": "2c38c5955e9e4d0ba501cb2142277a61"
      }
     },
     "metadata": {}
    },
    {
     "output_type": "display_data",
     "data": {
      "text/plain": [
       "HTML(value='VET: 0.1081 / 0.25')"
      ],
      "application/vnd.jupyter.widget-view+json": {
       "version_major": 2,
       "version_minor": 0,
       "model_id": "b87f31d6e5684e69bec4affdab3f1d3e"
      }
     },
     "metadata": {}
    },
    {
     "output_type": "display_data",
     "data": {
      "text/plain": [
       "FloatProgress(value=39.946, bar_style='success', description='SOL', max=58.38, style=ProgressStyle(bar_color='…"
      ],
      "application/vnd.jupyter.widget-view+json": {
       "version_major": 2,
       "version_minor": 0,
       "model_id": "b0b8b8bf665d4888951ef9f49dc1ef66"
      }
     },
     "metadata": {}
    },
    {
     "output_type": "display_data",
     "data": {
      "text/plain": [
       "HTML(value='SOL: 39.946 / 58.38')"
      ],
      "application/vnd.jupyter.widget-view+json": {
       "version_major": 2,
       "version_minor": 0,
       "model_id": "7105e7806feb4fec8a1f9fc334cac991"
      }
     },
     "metadata": {}
    },
    {
     "output_type": "display_data",
     "data": {
      "text/plain": [
       "FloatProgress(value=351.88, bar_style='success', description='BNB', max=691.77, style=ProgressStyle(bar_color=…"
      ],
      "application/vnd.jupyter.widget-view+json": {
       "version_major": 2,
       "version_minor": 0,
       "model_id": "d8b983e6e1ba4e4fb9f2019d43696eca"
      }
     },
     "metadata": {}
    },
    {
     "output_type": "display_data",
     "data": {
      "text/plain": [
       "HTML(value='BNB: 351.88 / 691.77')"
      ],
      "application/vnd.jupyter.widget-view+json": {
       "version_major": 2,
       "version_minor": 0,
       "model_id": "c4db876d5e604a7fae19806d44cd9c5f"
      }
     },
     "metadata": {}
    },
    {
     "output_type": "display_data",
     "data": {
      "text/plain": [
       "FloatProgress(value=153.47, bar_style='success', description='LTC', max=413.49, style=ProgressStyle(bar_color=…"
      ],
      "application/vnd.jupyter.widget-view+json": {
       "version_major": 2,
       "version_minor": 0,
       "model_id": "60b0553e78714d43bf7758725f050577"
      }
     },
     "metadata": {}
    },
    {
     "output_type": "display_data",
     "data": {
      "text/plain": [
       "HTML(value='LTC: 153.47 / 413.49')"
      ],
      "application/vnd.jupyter.widget-view+json": {
       "version_major": 2,
       "version_minor": 0,
       "model_id": "2b883d4f4e684ab595b6aaae09e613fc"
      }
     },
     "metadata": {}
    },
    {
     "output_type": "display_data",
     "data": {
      "text/plain": [
       "FloatProgress(value=7.05, bar_style='success', description='THETA', max=13.2, style=ProgressStyle(bar_color='#…"
      ],
      "application/vnd.jupyter.widget-view+json": {
       "version_major": 2,
       "version_minor": 0,
       "model_id": "26d3bc912a95477cb339e645ce08ebda"
      }
     },
     "metadata": {}
    },
    {
     "output_type": "display_data",
     "data": {
      "text/plain": [
       "HTML(value='THETA: 7.05 / 13.2')"
      ],
      "application/vnd.jupyter.widget-view+json": {
       "version_major": 2,
       "version_minor": 0,
       "model_id": "9677df965b0242469f36ad03ed4faae6"
      }
     },
     "metadata": {}
    },
    {
     "output_type": "display_data",
     "data": {
      "text/plain": [
       "FloatProgress(value=15.586, bar_style='success', description='AVAX', max=43.885, style=ProgressStyle(bar_color…"
      ],
      "application/vnd.jupyter.widget-view+json": {
       "version_major": 2,
       "version_minor": 0,
       "model_id": "990841f02bea47b18e3a268bcd916b53"
      }
     },
     "metadata": {}
    },
    {
     "output_type": "display_data",
     "data": {
      "text/plain": [
       "HTML(value='AVAX: 15.586 / 43.885')"
      ],
      "application/vnd.jupyter.widget-view+json": {
       "version_major": 2,
       "version_minor": 0,
       "model_id": "5e58dda1909a44e1a7176a677a72f1b5"
      }
     },
     "metadata": {}
    },
    {
     "output_type": "display_data",
     "data": {
      "text/plain": [
       "FloatProgress(value=0.0029555, bar_style='success', description='DENT', max=0.011699, style=ProgressStyle(bar_…"
      ],
      "application/vnd.jupyter.widget-view+json": {
       "version_major": 2,
       "version_minor": 0,
       "model_id": "fe6c4affc0da43d19768871c58018bed"
      }
     },
     "metadata": {}
    },
    {
     "output_type": "display_data",
     "data": {
      "text/plain": [
       "HTML(value='DENT: 0.0029555 / 0.011699')"
      ],
      "application/vnd.jupyter.widget-view+json": {
       "version_major": 2,
       "version_minor": 0,
       "model_id": "5ca839ee2d1d4c36bf40c466f05f8add"
      }
     },
     "metadata": {}
    },
    {
     "output_type": "display_data",
     "data": {
      "text/plain": [
       "FloatProgress(value=119.9, bar_style='success', description='EGLD', max=205.0, style=ProgressStyle(bar_color='…"
      ],
      "application/vnd.jupyter.widget-view+json": {
       "version_major": 2,
       "version_minor": 0,
       "model_id": "494834e8a4114d6487db0e88f59c9290"
      }
     },
     "metadata": {}
    },
    {
     "output_type": "display_data",
     "data": {
      "text/plain": [
       "HTML(value='EGLD: 119.9 / 205.0')"
      ],
      "application/vnd.jupyter.widget-view+json": {
       "version_major": 2,
       "version_minor": 0,
       "model_id": "85399b849d0946d9aefc3bc9b9e66668"
      }
     },
     "metadata": {}
    },
    {
     "output_type": "display_data",
     "data": {
      "text/plain": [
       "FloatProgress(value=0.008079, bar_style='success', description='HOT', max=0.01684, style=ProgressStyle(bar_col…"
      ],
      "application/vnd.jupyter.widget-view+json": {
       "version_major": 2,
       "version_minor": 0,
       "model_id": "0575f4604e99415ab655f9dd908fb266"
      }
     },
     "metadata": {}
    },
    {
     "output_type": "display_data",
     "data": {
      "text/plain": [
       "HTML(value='HOT: 0.008079 / 0.01684')"
      ],
      "application/vnd.jupyter.widget-view+json": {
       "version_major": 2,
       "version_minor": 0,
       "model_id": "a331f15aa3084e6ba4df8ba5dde888e4"
      }
     },
     "metadata": {}
    },
    {
     "output_type": "display_data",
     "data": {
      "text/plain": [
       "FloatProgress(value=0.07547, bar_style='success', description='TRX', max=0.17, style=ProgressStyle(bar_color='…"
      ],
      "application/vnd.jupyter.widget-view+json": {
       "version_major": 2,
       "version_minor": 0,
       "model_id": "82a3d185378b471c915728ea44c54677"
      }
     },
     "metadata": {}
    },
    {
     "output_type": "display_data",
     "data": {
      "text/plain": [
       "HTML(value='TRX: 0.07547 / 0.17')"
      ],
      "application/vnd.jupyter.widget-view+json": {
       "version_major": 2,
       "version_minor": 0,
       "model_id": "38a74102ee204bc9b5a0f47ce1cf1e12"
      }
     },
     "metadata": {}
    },
    {
     "output_type": "display_data",
     "data": {
      "text/plain": [
       "FloatProgress(value=0.08345, bar_style='success', description='ONE', max=0.18858, style=ProgressStyle(bar_colo…"
      ],
      "application/vnd.jupyter.widget-view+json": {
       "version_major": 2,
       "version_minor": 0,
       "model_id": "ba9ae86403d141b1bb2ba6a62663f938"
      }
     },
     "metadata": {}
    },
    {
     "output_type": "display_data",
     "data": {
      "text/plain": [
       "HTML(value='ONE: 0.08345 / 0.18858')"
      ],
      "application/vnd.jupyter.widget-view+json": {
       "version_major": 2,
       "version_minor": 0,
       "model_id": "d8a318937e074fd79a1ac4bd2ed753ef"
      }
     },
     "metadata": {}
    },
    {
     "output_type": "display_data",
     "data": {
      "text/plain": [
       "FloatProgress(value=7.583, bar_style='success', description='BAND', max=20.673, style=ProgressStyle(bar_color=…"
      ],
      "application/vnd.jupyter.widget-view+json": {
       "version_major": 2,
       "version_minor": 0,
       "model_id": "8340d00ba4d2455ab69b982e4fff6c65"
      }
     },
     "metadata": {}
    },
    {
     "output_type": "display_data",
     "data": {
      "text/plain": [
       "HTML(value='BAND: 7.583 / 20.673')"
      ],
      "application/vnd.jupyter.widget-view+json": {
       "version_major": 2,
       "version_minor": 0,
       "model_id": "e017c91c090f430fb8cb251d0e286258"
      }
     },
     "metadata": {}
    },
    {
     "output_type": "display_data",
     "data": {
      "text/plain": [
       "FloatProgress(value=2.649, bar_style='success', description='SXP', max=5.87, style=ProgressStyle(bar_color='#a…"
      ],
      "application/vnd.jupyter.widget-view+json": {
       "version_major": 2,
       "version_minor": 0,
       "model_id": "4b46d242aa044a698068d8e0736f5c99"
      }
     },
     "metadata": {}
    },
    {
     "output_type": "display_data",
     "data": {
      "text/plain": [
       "HTML(value='SXP: 2.649 / 5.87')"
      ],
      "application/vnd.jupyter.widget-view+json": {
       "version_major": 2,
       "version_minor": 0,
       "model_id": "19b8670deaeb4a7fb9d714118fcb81d1"
      }
     },
     "metadata": {}
    },
    {
     "output_type": "display_data",
     "data": {
      "text/plain": [
       "FloatProgress(value=24.457, bar_style='success', description='LINK', max=53.0, style=ProgressStyle(bar_color='…"
      ],
      "application/vnd.jupyter.widget-view+json": {
       "version_major": 2,
       "version_minor": 0,
       "model_id": "43f905898d8b48c787e2bf7d65aa9f82"
      }
     },
     "metadata": {}
    },
    {
     "output_type": "display_data",
     "data": {
      "text/plain": [
       "HTML(value='LINK: 24.457 / 53.0')"
      ],
      "application/vnd.jupyter.widget-view+json": {
       "version_major": 2,
       "version_minor": 0,
       "model_id": "00a0c8c250574f2bacd4da7c6d7c2216"
      }
     },
     "metadata": {}
    },
    {
     "output_type": "display_data",
     "data": {
      "text/plain": [
       "FloatProgress(value=0.3187, bar_style='success', description='UTK', max=1.065, style=ProgressStyle(bar_color='…"
      ],
      "application/vnd.jupyter.widget-view+json": {
       "version_major": 2,
       "version_minor": 0,
       "model_id": "67ab8b18e11d4f93b9b2f2c3583a9b91"
      }
     },
     "metadata": {}
    },
    {
     "output_type": "display_data",
     "data": {
      "text/plain": [
       "HTML(value='UTK: 0.3187 / 1.065')"
      ],
      "application/vnd.jupyter.widget-view+json": {
       "version_major": 2,
       "version_minor": 0,
       "model_id": "9ff20a5b6c4643d6b50df543d31a924c"
      }
     },
     "metadata": {}
    },
    {
     "output_type": "display_data",
     "data": {
      "text/plain": [
       "FloatProgress(value=0.0, bar_style='success', description='USDT', max=0.0, style=ProgressStyle(bar_color='#ff4…"
      ],
      "application/vnd.jupyter.widget-view+json": {
       "version_major": 2,
       "version_minor": 0,
       "model_id": "e806d1531d55450bb2d68de5f5d1d83d"
      }
     },
     "metadata": {}
    },
    {
     "output_type": "display_data",
     "data": {
      "text/plain": [
       "HTML(value='USDT: 0 / 0')"
      ],
      "application/vnd.jupyter.widget-view+json": {
       "version_major": 2,
       "version_minor": 0,
       "model_id": "9bd60e4767084d9e985d6b67af04be54"
      }
     },
     "metadata": {}
    },
    {
     "output_type": "display_data",
     "data": {
      "text/plain": [
       "FloatProgress(value=0.9994, bar_style='success', description='BUSD', max=1.0029, style=ProgressStyle(bar_color…"
      ],
      "application/vnd.jupyter.widget-view+json": {
       "version_major": 2,
       "version_minor": 0,
       "model_id": "70289c10621f499c92a6ad516ce08ffa"
      }
     },
     "metadata": {}
    },
    {
     "output_type": "display_data",
     "data": {
      "text/plain": [
       "HTML(value='BUSD: 0.9994 / 1.0029')"
      ],
      "application/vnd.jupyter.widget-view+json": {
       "version_major": 2,
       "version_minor": 0,
       "model_id": "8c6ea8ccb5e743978ba8ad276e112950"
      }
     },
     "metadata": {}
    }
   ],
   "metadata": {}
  }
 ]
}