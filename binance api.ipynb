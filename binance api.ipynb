{
 "metadata": {
  "language_info": {
   "codemirror_mode": {
    "name": "ipython",
    "version": 3
   },
   "file_extension": ".py",
   "mimetype": "text/x-python",
   "name": "python",
   "nbconvert_exporter": "python",
   "pygments_lexer": "ipython3",
   "version": "3.7.8"
  },
  "orig_nbformat": 2,
  "kernelspec": {
   "name": "python3",
   "display_name": "Python 3.7.8 64-bit"
  },
  "metadata": {
   "interpreter": {
    "hash": "40a72caf6fa46f53aa7f5b366fbd5b98b2736726cc2be7465f0404892e27bcbd"
   }
  },
  "interpreter": {
   "hash": "40a72caf6fa46f53aa7f5b366fbd5b98b2736726cc2be7465f0404892e27bcbd"
  }
 },
 "nbformat": 4,
 "nbformat_minor": 2,
 "cells": [
  {
   "cell_type": "markdown",
   "source": [
    "# Binance\n",
    "\n",
    "- Créér un clé API : https://www.binance.com/en/support/faq/360002502072\n",
    "- **Quand elle est créée garder en mémoire l'api key et la secret KEY**\n",
    "\n",
    "- créer un fichier config.cfg dans le même répertoire que le notebook et remplacer les valeurs par celles de l'API créée\n",
    "\n",
    "```cfg\n",
    "[BINANCE]\n",
    "API_KEY = YOUR KEY                  \n",
    "SECRET_KEY = YOUR SECRET KEY        \n",
    "```\n",
    "\n",
    "\n",
    "\n",
    "- installer le package python-binance \n",
    "\n",
    "```shell\n",
    "pip install python-binance\n",
    "ou\n",
    "py -m pip install python-binance\n",
    "ou autre\n",
    "```\n",
    "- Editer la list my_coins avec vos crypto \n",
    "```python\n",
    "#exemple\n",
    "my_coins = ['BTC','USDT', 'ETH']     # A ADAPTER\n",
    "```\n",
    "\n",
    "- Editer le dict stack car l'API ne sait pas encore récupérer les crypto stackées \n",
    "\n",
    "```python\n",
    "#exemple\n",
    "stack = {'DOT':3, 'ADA':6.1938, 'CAKE':3.125, 'TRX': 67}      # A ADAPTER\n",
    "```\n",
    "\n",
    "- et lancer tout les cellules\n",
    "! Tout est en dollars\n",
    "\n",
    "\n",
    "(Il peut y avoir des erreurs de désynchronisation d'horloge. Pour corriger cliquer sur l'heure, puis \"paramètre date et heure\", puis \"synchroniser maintenant\")\n"
   ],
   "metadata": {}
  },
  {
   "cell_type": "markdown",
   "source": [
    "#### LISTE A COMPLETER"
   ],
   "metadata": {}
  },
  {
   "cell_type": "code",
   "execution_count": 37,
   "source": [
    "import requests, json, time, hashlib,hmac, configparser\r\n",
    "from binance import Client\r\n",
    "# A ADAPTER \r\n",
    "my_coins = ['BTC', 'ETH', 'ADA', 'DOT', 'MATIC', 'KSM', 'CAKE', 'VET', 'SOL', 'BNB', 'LTC', 'THETA', 'AVAX', 'DENT', 'EGLD', 'HOT', 'TRX', 'ONE', 'BAND', 'SXP', 'LINK', 'UTK', 'USDT', 'BUSD']  \r\n",
    "my_symbols = [coin + 'USDT' for coin in my_coins]\r\n",
    "\r\n",
    "config = configparser.ConfigParser()\r\n",
    "config.read_file(open('config.cfg'))\r\n",
    "\r\n",
    "KEY = config.get('BINANCE', 'API_KEY')\r\n",
    "SECRET_KEY = config.get('BINANCE', 'SECRET_KEY')\r\n",
    "BASE_URL = 'https://api.binance.com/'\r\n",
    "\r\n",
    "client = Client(KEY, SECRET_KEY)\r\n"
   ],
   "outputs": [],
   "metadata": {}
  },
  {
   "cell_type": "code",
   "execution_count": 38,
   "source": [
    "from urllib.parse import urlencode\r\n",
    "\r\n",
    "# fonctions utilitaires\r\n",
    "\r\n",
    "def get_timestamp():\r\n",
    "    return int(time.time() * 1000)\r\n",
    "\r\n",
    "def hashing(query_string):\r\n",
    "    return hmac.new(SECRET_KEY.encode('utf-8'), query_string.encode('utf-8'), hashlib.sha256).hexdigest()\r\n",
    "\r\n",
    "def dispatch_request(http_method):\r\n",
    "    session = requests.Session()\r\n",
    "    session.headers.update({\r\n",
    "        'Content-Type': 'application/json;charset=utf-8',\r\n",
    "        'X-MBX-APIKEY': KEY\r\n",
    "    })\r\n",
    "    return {\r\n",
    "        'GET': session.get,\r\n",
    "        'DELETE': session.delete,\r\n",
    "        'PUT': session.put,\r\n",
    "        'POST': session.post,\r\n",
    "    }.get(http_method, 'GET')\r\n",
    "\r\n",
    "def send_signed_request(http_method, url_path, payload={}):\r\n",
    "    query_string = urlencode(payload, True)\r\n",
    "    if query_string:\r\n",
    "        query_string = \"{}&timestamp={}\".format(query_string, get_timestamp())\r\n",
    "    else:\r\n",
    "        query_string = 'timestamp={}'.format(get_timestamp())\r\n",
    "\r\n",
    "    url = BASE_URL + url_path + '?' + query_string + '&signature=' + hashing(query_string)\r\n",
    "    print(\"{} {}\".format(http_method, url))\r\n",
    "    params = {'url': url, 'params': {}}\r\n",
    "    response = dispatch_request(http_method)(**params)\r\n",
    "    return response.json()\r\n"
   ],
   "outputs": [],
   "metadata": {}
  },
  {
   "cell_type": "code",
   "execution_count": 39,
   "source": [
    "# Create wallet\r\n",
    "def create_wallet():\r\n",
    "    wallet = {}\r\n",
    "    for asset in my_coins:\r\n",
    "        wallet[asset] = { 'Current_market_price':0, 'Current_value':0, 'Buy':0, 'Buy_price': 0, 'Buy_Qty':0, 'Sell':0, 'Sell_price': 0, 'Sell_Qty':0, 'Saving_value':0, 'Saving_Qty':0, 'Spot_value':0, 'Spot_Qty':0, 'Stack_value':0, 'Stack_Qty':0, 'ATH': 0, 'ATH_percent':0, 'Buy_price_percent':0, 'Balance':0}\r\n",
    "    return wallet"
   ],
   "outputs": [],
   "metadata": {}
  },
  {
   "cell_type": "code",
   "execution_count": 40,
   "source": [
    "# Get order history\r\n",
    "def update_order_history(wallet):\r\n",
    "    for symbol in my_symbols:\r\n",
    "        \r\n",
    "        if symbol != 'USDTUSDT' and symbol != 'BUSDUSDT':\r\n",
    "            for i in range(3):\r\n",
    "                orders_history = []\r\n",
    "                while orders_history == [] :\r\n",
    "                    orders_history = client.get_all_orders(symbol=symbol)\r\n",
    "                sum_coin = 0.0\r\n",
    "                sum_cost = 0.0\r\n",
    "                sell_coin = 0.0\r\n",
    "                sell_cost = 0.0\r\n",
    "                for order in orders_history:\r\n",
    "                    if order['side'] == 'BUY':\r\n",
    "                        sum_cost += float(order['executedQty']) * float(order['price'])\r\n",
    "                        sum_coin += float(order['executedQty']) \r\n",
    "                    elif order['side'] == 'SELL':\r\n",
    "                        sell_cost +=  float(order['executedQty']) * float(order['price'])\r\n",
    "                        sell_coin += float(order['executedQty'])\r\n",
    "                if sum_coin > wallet[symbol.replace('USDT', '')]['Buy_Qty']:\r\n",
    "                    wallet[symbol.replace('USDT', '')]['Buy_Qty'] = sum_coin \r\n",
    "                    wallet[symbol.replace('USDT', '')]['Buy_price'] = sum_cost / sum_coin\r\n",
    "                    wallet[symbol.replace('USDT', '')]['Buy'] = sum_cost\r\n",
    "                    if sell_cost != 0:\r\n",
    "                        wallet[symbol.replace('USDT', '')]['Sell_Qty'] = sell_coin \r\n",
    "                        wallet[symbol.replace('USDT', '')]['Sell_price'] = sell_cost / sell_coin\r\n",
    "                        wallet[symbol.replace('USDT', '')]['Sell'] = sell_cost"
   ],
   "outputs": [],
   "metadata": {}
  },
  {
   "cell_type": "code",
   "execution_count": 41,
   "source": [
    "def update_market_price(wallet):\r\n",
    "    all_coins = client.get_all_tickers()\r\n",
    "    for asset in my_coins:\r\n",
    "        if asset != 'USDT':\r\n",
    "            for symbol in all_coins:\r\n",
    "                if symbol['symbol'] == asset+'USDT':\r\n",
    "                    wallet[asset]['Current_market_price'] = float(symbol['price'])"
   ],
   "outputs": [],
   "metadata": {}
  },
  {
   "cell_type": "code",
   "execution_count": 42,
   "source": [
    "# Get current Savings\r\n",
    "def update_saving(wallet):\r\n",
    "    saving = send_signed_request('GET', 'sapi/v1/lending/union/account')\r\n",
    "    savings = saving['positionAmountVos']\r\n",
    "    for asset in savings:\r\n",
    "        wallet[asset['asset']][\"Saving_value\"] = float(asset['amountInUSDT'])\r\n",
    "        wallet[asset['asset']][\"Saving_Qty\"] = float(asset['amount'])"
   ],
   "outputs": [],
   "metadata": {}
  },
  {
   "cell_type": "code",
   "execution_count": 43,
   "source": [
    "# stop value\r\n",
    "def update_spot(wallet):\r\n",
    "    spot = send_signed_request('GET', 'api/v3/account')\r\n",
    "\r\n",
    "    for asset in my_coins:\r\n",
    "        for asset_spot in spot[\"balances\"]:\r\n",
    "            if asset_spot['asset'] == asset:\r\n",
    "                if asset != \"USDT\":\r\n",
    "                    wallet[asset]['Spot_value'] = wallet[asset]['Current_market_price'] * float(asset_spot['free'])\r\n",
    "                    wallet[asset]['Spot_Qty'] = float(asset_spot['free'])\r\n",
    "                else:\r\n",
    "                    wallet[asset]['Spot_value'] = float(asset_spot['free'])"
   ],
   "outputs": [],
   "metadata": {
    "tags": []
   }
  },
  {
   "cell_type": "markdown",
   "source": [
    "#### STACK A COMPLETER"
   ],
   "metadata": {}
  },
  {
   "cell_type": "code",
   "execution_count": 44,
   "source": [
    "# get stacking value\r\n",
    "def update_stacking(wallet):    \r\n",
    "    # A ADAPTER\r\n",
    "    stack = {'ADA':33.3+17.2+6.247+18.94+7.992+14.5+8.02,  'KSM':0.1599+0.24, 'MATIC':65+139.7+18, 'VET':497 , 'CAKE':1.785+4.06, 'SOL':0.5, 'DOT':9.556 , 'ETH':0.068836, 'BNB': 0.09388}\r\n",
    "    for asset in my_coins:\r\n",
    "        try:\r\n",
    "            coin = stack[asset]\r\n",
    "            wallet[asset]['Stack_value'] = wallet[asset]['Current_market_price'] * coin\r\n",
    "            wallet[asset]['Stack_Qty'] = stack[asset]\r\n",
    "        except:\r\n",
    "            pass"
   ],
   "outputs": [],
   "metadata": {}
  },
  {
   "cell_type": "code",
   "execution_count": 45,
   "source": [
    "# balance calcul\r\n",
    "def update_balance(wallet):\r\n",
    "    for asset in my_coins:\r\n",
    "        wallet[asset][\"Balance\"] =  wallet[asset][\"Stack_value\"] + wallet[asset][\"Saving_value\"] + wallet[asset][\"Spot_value\"] -  wallet[asset][\"Buy\"] + wallet[asset][\"Sell\"]"
   ],
   "outputs": [],
   "metadata": {}
  },
  {
   "cell_type": "code",
   "execution_count": 46,
   "source": [
    "# Get ATH\r\n",
    "def update_ath(wallet):\r\n",
    "    for asset in my_coins:\r\n",
    "        if asset != 'USDT':\r\n",
    "            earliest_timestamp = client._get_earliest_valid_timestamp(asset + 'USDT', '1d')  # Here \"ETHUSDT\" is a trading pair and \"1d\" is time interval\r\n",
    "            candle = client.get_historical_klines(asset + 'USDT', Client.KLINE_INTERVAL_1WEEK, \"1 May, 2021\")\r\n",
    "            max_asset = 0\r\n",
    "            for c in candle:\r\n",
    "                if float(c[2]) > max_asset:\r\n",
    "                    max_asset = float(c[2])\r\n",
    "            wallet[asset]['ATH'] = max_asset\r\n",
    "            wallet[asset]['ATH_percent'] = wallet[asset]['Current_market_price'] / wallet[asset]['ATH'] * 100"
   ],
   "outputs": [],
   "metadata": {}
  },
  {
   "cell_type": "code",
   "execution_count": 47,
   "source": [
    "def update_buy_price_percent(wallet):\r\n",
    "    for asset in my_coins:\r\n",
    "        if wallet[asset]['Current_market_price'] != 0:\r\n",
    "            wallet[asset]['Buy_price_percent'] = wallet[asset]['Buy_price']  / wallet[asset]['Current_market_price'] * 100"
   ],
   "outputs": [],
   "metadata": {}
  },
  {
   "cell_type": "code",
   "execution_count": 48,
   "source": [
    "def update_current_value(wallet):\r\n",
    "    for asset in my_coins:\r\n",
    "        wallet[asset]['Current_value'] = wallet[asset]['Spot_value']  + wallet[asset]['Stack_value'] + wallet[asset]['Saving_value']"
   ],
   "outputs": [],
   "metadata": {}
  },
  {
   "cell_type": "code",
   "execution_count": 49,
   "source": [
    "def init():\r\n",
    "    wallet = create_wallet()\r\n",
    "    update_market_price(wallet)\r\n",
    "    update_order_history(wallet)\r\n",
    "    update_ath(wallet)\r\n",
    "    # with open(\"binance.json\", \"w\") as outfile: \r\n",
    "    #     json.dump(wallet, outfile)\r\n",
    "    return wallet\r\n"
   ],
   "outputs": [],
   "metadata": {
    "tags": []
   }
  },
  {
   "cell_type": "code",
   "execution_count": 50,
   "source": [
    "wallet = init()"
   ],
   "outputs": [],
   "metadata": {}
  },
  {
   "cell_type": "code",
   "execution_count": 51,
   "source": [
    "def quick_update(wallet):\r\n",
    "    update_market_price(wallet)\r\n",
    "    update_saving(wallet)\r\n",
    "    update_spot(wallet)\r\n",
    "    update_stacking(wallet)\r\n",
    "    update_balance(wallet)\r\n",
    "    update_buy_price_percent(wallet)\r\n",
    "    update_current_value(wallet)\r\n",
    "    return wallet"
   ],
   "outputs": [],
   "metadata": {}
  },
  {
   "cell_type": "code",
   "execution_count": 58,
   "source": [
    "wallet = quick_update(wallet)"
   ],
   "outputs": [
    {
     "output_type": "stream",
     "name": "stdout",
     "text": [
      "GET https://api.binance.com/sapi/v1/lending/union/account?timestamp=1628330329233&signature=44587efa9e4a0af24ee78cc96e536301ec25a394a6922d78d95b3e77ea894b3c\n",
      "GET https://api.binance.com/api/v3/account?timestamp=1628330330012&signature=e7365488752898beef396bcaed6bd23b85c81a8f5bb908abccbf8748f45c5e12\n"
     ]
    }
   ],
   "metadata": {}
  },
  {
   "cell_type": "markdown",
   "source": [
    "* *Current_market_price*: **prix actuel du marché**\r\n",
    "* *Current_value*: **Valeur actuelle du portefeuille par asset**\r\n",
    "* *Buy*: **Montant investit dans l'asset**\r\n",
    "* *Buy_price*: **Valeur moyenne d'achat de l'asset**\r\n",
    "* *Buy_Qty*: **Nombre total d'asset acheté**\r\n",
    "* *Sell*: **Montant total de vente**\r\n",
    "* *Sell_price*: **prix de vente**\r\n",
    "* *Sell_Qty*: **Montant total d'asset vendu**\r\n",
    "* *Saving_value*: **Valeur de l'asset en saving**\r\n",
    "* *Saving_Qty*: **Quantité de l'asset en saving**\r\n",
    "* *Spot_value*: **Valeur de l'asset en spot**\r\n",
    "* *Spot_Qty*: **Quantité de l'asset en spot**\r\n",
    "* *Stack_value*: **Valeur de l'asset en sacking**\r\n",
    "* *Stack_Qty*: **Quantité de l'asset en sacking**\r\n",
    "* *ATH*: **Valeur maximale atteinte par l'asset**\r\n",
    "* *ATH_percent*: **Distance en pourcentage de l'ATH**\r\n",
    "* *Buy_price_percent*: **Distance en pourcentage du prix d'achat moyen**\r\n",
    "* *Balance*: **Plus ou moins value sur l'asset**"
   ],
   "metadata": {}
  },
  {
   "cell_type": "code",
   "execution_count": 59,
   "source": [
    "import pandas as pd\r\n",
    "pd.DataFrame.from_dict(wallet,  orient='index')"
   ],
   "outputs": [
    {
     "output_type": "execute_result",
     "data": {
      "text/plain": [
       "       Current_market_price  Current_value         Buy     Buy_price  \\\n",
       "BTC            43600.010000     258.626306  226.092220  38165.465901   \n",
       "ETH             3038.230000     245.919558  191.958088   2374.837164   \n",
       "ADA                1.457800     154.905744  143.654880      1.363985   \n",
       "DOT               21.213000     225.701702  217.063720     20.674704   \n",
       "MATIC              1.155290     258.468476  312.526722      1.427063   \n",
       "KSM              236.480000      94.860949  113.495750    286.750253   \n",
       "CAKE              18.660000     109.864982  126.912600     14.267858   \n",
       "VET                0.106870      53.114390   55.757800      0.112053   \n",
       "SOL               40.060000      42.669133   35.046424     32.938368   \n",
       "BNB              353.930000      33.343856   31.221760    325.226667   \n",
       "LTC              154.270000      16.363131   30.442000    287.188679   \n",
       "THETA              7.114000      14.236990   21.000000     10.500000   \n",
       "AVAX              15.625000       4.169195   10.096500     38.100000   \n",
       "DENT               0.002952       3.099285   10.185000      0.009700   \n",
       "EGLD             119.950000       6.369854   10.085900    190.300000   \n",
       "HOT                0.008040       5.306400   10.131000      0.015350   \n",
       "TRX                0.075790       5.110112   10.117000      0.151000   \n",
       "ONE                0.083920       6.770423   10.127800      0.128200   \n",
       "BAND               7.641000       9.024021   19.994330     16.930000   \n",
       "SXP                2.624000      19.464101   31.395600      4.251266   \n",
       "LINK              24.562000       5.284434   10.019000     46.600000   \n",
       "UTK                0.314600       5.977400   10.260000      0.540000   \n",
       "USDT               0.000000     305.710094    0.000000      0.000000   \n",
       "BUSD               0.999500       0.000000    0.000000      0.000000   \n",
       "\n",
       "           Buy_Qty     Sell  Sell_price  Sell_Qty  Saving_value  Saving_Qty  \\\n",
       "BTC       0.005924   0.0000         0.0     0.000    258.626306    0.005930   \n",
       "ETH       0.080830   0.0000         0.0     0.000     36.779958    0.012105   \n",
       "ADA     105.320000   0.0000         0.0     0.000      0.088842    0.060909   \n",
       "DOT      10.499000   0.0000         0.0     0.000     22.990274    1.083629   \n",
       "MATIC   219.000000   0.0000         0.0     0.000      1.185393    1.025604   \n",
       "KSM       0.395800   0.0000         0.0     0.000      0.000000    0.000000   \n",
       "CAKE      8.895000  53.2392        16.8     3.169      0.797282    0.042692   \n",
       "VET     497.600000   0.0000         0.0     0.000      0.000000    0.000000   \n",
       "SOL       1.064000   0.0000         0.0     0.000      0.000000    0.000000   \n",
       "BNB       0.096000   0.0000         0.0     0.000      0.116908    0.000330   \n",
       "LTC       0.106000   0.0000         0.0     0.000     16.363131    0.106048   \n",
       "THETA     2.000000   0.0000         0.0     0.000     14.236990    2.001545   \n",
       "AVAX      0.265000   0.0000         0.0     0.000      0.000000    0.000000   \n",
       "DENT   1050.000000   0.0000         0.0     0.000      0.000000    0.000000   \n",
       "EGLD      0.053000   0.0000         0.0     0.000      6.369854    0.053113   \n",
       "HOT     660.000000   0.0000         0.0     0.000      0.000000    0.000000   \n",
       "TRX      67.000000   0.0000         0.0     0.000      5.110112   67.415725   \n",
       "ONE      79.000000   0.0000         0.0     0.000      6.770423   80.677109   \n",
       "BAND      1.181000   0.0000         0.0     0.000      0.000000    0.000000   \n",
       "SXP       7.385000   0.0000         0.0     0.000     19.464101    7.400799   \n",
       "LINK      0.215000   0.0000         0.0     0.000      5.284434    0.215129   \n",
       "UTK      19.000000   0.0000         0.0     0.000      0.000000    0.000000   \n",
       "USDT      0.000000   0.0000         0.0     0.000    305.710094  305.710094   \n",
       "BUSD      0.000000   0.0000         0.0     0.000      0.000000    0.000000   \n",
       "\n",
       "       Spot_value     Spot_Qty  Stack_value   Stack_Qty           ATH  \\\n",
       "BTC      0.000000     0.000000     0.000000    0.000000  59500.000000   \n",
       "ETH      0.000000     0.000000   209.139600    0.068836   4372.720000   \n",
       "ADA      0.000000     0.000000   154.816902  106.199000      2.470000   \n",
       "DOT      0.000000     0.000000   202.711428    9.556000     49.780000   \n",
       "MATIC    0.000000     0.000000   257.283083  222.700000      2.700000   \n",
       "KSM      0.292597     0.001237    94.568352    0.399900    625.000000   \n",
       "CAKE     0.000000     0.000000   109.067700    5.845000     42.980000   \n",
       "VET      0.000000     0.000000    53.114390  497.000000      0.250000   \n",
       "SOL     22.639133     0.565131    20.030000    0.500000     58.380000   \n",
       "BNB      0.000000     0.000000    33.226948    0.093880    691.770000   \n",
       "LTC      0.000000     0.000000     0.000000    0.000000    413.490000   \n",
       "THETA    0.000000     0.000000     0.000000    0.000000     13.200000   \n",
       "AVAX     4.169195     0.266829     0.000000    0.000000     43.885000   \n",
       "DENT     3.099285  1050.000000     0.000000    0.000000      0.011699   \n",
       "EGLD     0.000000     0.000000     0.000000    0.000000    205.000000   \n",
       "HOT      5.306400   660.000000     0.000000    0.000000      0.016840   \n",
       "TRX      0.000000     0.000000     0.000000    0.000000      0.170000   \n",
       "ONE      0.000000     0.000000     0.000000    0.000000      0.188580   \n",
       "BAND     9.024021     1.181000     0.000000    0.000000     20.673000   \n",
       "SXP      0.000000     0.000000     0.000000    0.000000      5.870000   \n",
       "LINK     0.000000     0.000000     0.000000    0.000000     53.000000   \n",
       "UTK      5.977400    19.000000     0.000000    0.000000      1.065000   \n",
       "USDT     0.000000     0.000000     0.000000    0.000000      0.000000   \n",
       "BUSD     0.000000     0.000000     0.000000    0.000000      1.002900   \n",
       "\n",
       "       ATH_percent  Buy_price_percent     Balance  \n",
       "BTC       0.733825           0.875355   32.534086  \n",
       "ETH       0.694723           0.781652   53.961470  \n",
       "ADA       0.590891           0.935646   11.250864  \n",
       "DOT       0.426155           0.974624    8.637982  \n",
       "MATIC     0.427289           1.235242  -54.058246  \n",
       "KSM       0.379648           1.212577  -18.634801  \n",
       "CAKE      0.433620           0.764623   36.191582  \n",
       "VET       0.429080           1.048502   -2.643410  \n",
       "SOL       0.688592           0.822226    7.622709  \n",
       "BNB       0.512381           0.918901    2.122096  \n",
       "LTC       0.373673           1.861598  -14.078869  \n",
       "THETA     0.542500           1.475963   -6.763010  \n",
       "AVAX      0.356204           2.438400   -5.927305  \n",
       "DENT      0.253184           3.286242   -7.085715  \n",
       "EGLD      0.586195           1.586494   -3.716046  \n",
       "HOT       0.476128           1.909204   -4.824600  \n",
       "TRX       0.446353           1.992347   -5.006888  \n",
       "ONE       0.445275           1.527645   -3.357377  \n",
       "BAND      0.370870           2.215679  -10.970309  \n",
       "SXP       0.449915           1.620147  -11.931499  \n",
       "LINK      0.463396           1.897240   -4.734566  \n",
       "UTK       0.296150           1.716465   -4.282600  \n",
       "USDT      0.000000           0.000000  305.710094  \n",
       "BUSD      0.996610           0.000000    0.000000  "
      ],
      "text/html": [
       "<div>\n",
       "<style scoped>\n",
       "    .dataframe tbody tr th:only-of-type {\n",
       "        vertical-align: middle;\n",
       "    }\n",
       "\n",
       "    .dataframe tbody tr th {\n",
       "        vertical-align: top;\n",
       "    }\n",
       "\n",
       "    .dataframe thead th {\n",
       "        text-align: right;\n",
       "    }\n",
       "</style>\n",
       "<table border=\"1\" class=\"dataframe\">\n",
       "  <thead>\n",
       "    <tr style=\"text-align: right;\">\n",
       "      <th></th>\n",
       "      <th>Current_market_price</th>\n",
       "      <th>Current_value</th>\n",
       "      <th>Buy</th>\n",
       "      <th>Buy_price</th>\n",
       "      <th>Buy_Qty</th>\n",
       "      <th>Sell</th>\n",
       "      <th>Sell_price</th>\n",
       "      <th>Sell_Qty</th>\n",
       "      <th>Saving_value</th>\n",
       "      <th>Saving_Qty</th>\n",
       "      <th>Spot_value</th>\n",
       "      <th>Spot_Qty</th>\n",
       "      <th>Stack_value</th>\n",
       "      <th>Stack_Qty</th>\n",
       "      <th>ATH</th>\n",
       "      <th>ATH_percent</th>\n",
       "      <th>Buy_price_percent</th>\n",
       "      <th>Balance</th>\n",
       "    </tr>\n",
       "  </thead>\n",
       "  <tbody>\n",
       "    <tr>\n",
       "      <th>BTC</th>\n",
       "      <td>43600.010000</td>\n",
       "      <td>258.626306</td>\n",
       "      <td>226.092220</td>\n",
       "      <td>38165.465901</td>\n",
       "      <td>0.005924</td>\n",
       "      <td>0.0000</td>\n",
       "      <td>0.0</td>\n",
       "      <td>0.000</td>\n",
       "      <td>258.626306</td>\n",
       "      <td>0.005930</td>\n",
       "      <td>0.000000</td>\n",
       "      <td>0.000000</td>\n",
       "      <td>0.000000</td>\n",
       "      <td>0.000000</td>\n",
       "      <td>59500.000000</td>\n",
       "      <td>0.733825</td>\n",
       "      <td>0.875355</td>\n",
       "      <td>32.534086</td>\n",
       "    </tr>\n",
       "    <tr>\n",
       "      <th>ETH</th>\n",
       "      <td>3038.230000</td>\n",
       "      <td>245.919558</td>\n",
       "      <td>191.958088</td>\n",
       "      <td>2374.837164</td>\n",
       "      <td>0.080830</td>\n",
       "      <td>0.0000</td>\n",
       "      <td>0.0</td>\n",
       "      <td>0.000</td>\n",
       "      <td>36.779958</td>\n",
       "      <td>0.012105</td>\n",
       "      <td>0.000000</td>\n",
       "      <td>0.000000</td>\n",
       "      <td>209.139600</td>\n",
       "      <td>0.068836</td>\n",
       "      <td>4372.720000</td>\n",
       "      <td>0.694723</td>\n",
       "      <td>0.781652</td>\n",
       "      <td>53.961470</td>\n",
       "    </tr>\n",
       "    <tr>\n",
       "      <th>ADA</th>\n",
       "      <td>1.457800</td>\n",
       "      <td>154.905744</td>\n",
       "      <td>143.654880</td>\n",
       "      <td>1.363985</td>\n",
       "      <td>105.320000</td>\n",
       "      <td>0.0000</td>\n",
       "      <td>0.0</td>\n",
       "      <td>0.000</td>\n",
       "      <td>0.088842</td>\n",
       "      <td>0.060909</td>\n",
       "      <td>0.000000</td>\n",
       "      <td>0.000000</td>\n",
       "      <td>154.816902</td>\n",
       "      <td>106.199000</td>\n",
       "      <td>2.470000</td>\n",
       "      <td>0.590891</td>\n",
       "      <td>0.935646</td>\n",
       "      <td>11.250864</td>\n",
       "    </tr>\n",
       "    <tr>\n",
       "      <th>DOT</th>\n",
       "      <td>21.213000</td>\n",
       "      <td>225.701702</td>\n",
       "      <td>217.063720</td>\n",
       "      <td>20.674704</td>\n",
       "      <td>10.499000</td>\n",
       "      <td>0.0000</td>\n",
       "      <td>0.0</td>\n",
       "      <td>0.000</td>\n",
       "      <td>22.990274</td>\n",
       "      <td>1.083629</td>\n",
       "      <td>0.000000</td>\n",
       "      <td>0.000000</td>\n",
       "      <td>202.711428</td>\n",
       "      <td>9.556000</td>\n",
       "      <td>49.780000</td>\n",
       "      <td>0.426155</td>\n",
       "      <td>0.974624</td>\n",
       "      <td>8.637982</td>\n",
       "    </tr>\n",
       "    <tr>\n",
       "      <th>MATIC</th>\n",
       "      <td>1.155290</td>\n",
       "      <td>258.468476</td>\n",
       "      <td>312.526722</td>\n",
       "      <td>1.427063</td>\n",
       "      <td>219.000000</td>\n",
       "      <td>0.0000</td>\n",
       "      <td>0.0</td>\n",
       "      <td>0.000</td>\n",
       "      <td>1.185393</td>\n",
       "      <td>1.025604</td>\n",
       "      <td>0.000000</td>\n",
       "      <td>0.000000</td>\n",
       "      <td>257.283083</td>\n",
       "      <td>222.700000</td>\n",
       "      <td>2.700000</td>\n",
       "      <td>0.427289</td>\n",
       "      <td>1.235242</td>\n",
       "      <td>-54.058246</td>\n",
       "    </tr>\n",
       "    <tr>\n",
       "      <th>KSM</th>\n",
       "      <td>236.480000</td>\n",
       "      <td>94.860949</td>\n",
       "      <td>113.495750</td>\n",
       "      <td>286.750253</td>\n",
       "      <td>0.395800</td>\n",
       "      <td>0.0000</td>\n",
       "      <td>0.0</td>\n",
       "      <td>0.000</td>\n",
       "      <td>0.000000</td>\n",
       "      <td>0.000000</td>\n",
       "      <td>0.292597</td>\n",
       "      <td>0.001237</td>\n",
       "      <td>94.568352</td>\n",
       "      <td>0.399900</td>\n",
       "      <td>625.000000</td>\n",
       "      <td>0.379648</td>\n",
       "      <td>1.212577</td>\n",
       "      <td>-18.634801</td>\n",
       "    </tr>\n",
       "    <tr>\n",
       "      <th>CAKE</th>\n",
       "      <td>18.660000</td>\n",
       "      <td>109.864982</td>\n",
       "      <td>126.912600</td>\n",
       "      <td>14.267858</td>\n",
       "      <td>8.895000</td>\n",
       "      <td>53.2392</td>\n",
       "      <td>16.8</td>\n",
       "      <td>3.169</td>\n",
       "      <td>0.797282</td>\n",
       "      <td>0.042692</td>\n",
       "      <td>0.000000</td>\n",
       "      <td>0.000000</td>\n",
       "      <td>109.067700</td>\n",
       "      <td>5.845000</td>\n",
       "      <td>42.980000</td>\n",
       "      <td>0.433620</td>\n",
       "      <td>0.764623</td>\n",
       "      <td>36.191582</td>\n",
       "    </tr>\n",
       "    <tr>\n",
       "      <th>VET</th>\n",
       "      <td>0.106870</td>\n",
       "      <td>53.114390</td>\n",
       "      <td>55.757800</td>\n",
       "      <td>0.112053</td>\n",
       "      <td>497.600000</td>\n",
       "      <td>0.0000</td>\n",
       "      <td>0.0</td>\n",
       "      <td>0.000</td>\n",
       "      <td>0.000000</td>\n",
       "      <td>0.000000</td>\n",
       "      <td>0.000000</td>\n",
       "      <td>0.000000</td>\n",
       "      <td>53.114390</td>\n",
       "      <td>497.000000</td>\n",
       "      <td>0.250000</td>\n",
       "      <td>0.429080</td>\n",
       "      <td>1.048502</td>\n",
       "      <td>-2.643410</td>\n",
       "    </tr>\n",
       "    <tr>\n",
       "      <th>SOL</th>\n",
       "      <td>40.060000</td>\n",
       "      <td>42.669133</td>\n",
       "      <td>35.046424</td>\n",
       "      <td>32.938368</td>\n",
       "      <td>1.064000</td>\n",
       "      <td>0.0000</td>\n",
       "      <td>0.0</td>\n",
       "      <td>0.000</td>\n",
       "      <td>0.000000</td>\n",
       "      <td>0.000000</td>\n",
       "      <td>22.639133</td>\n",
       "      <td>0.565131</td>\n",
       "      <td>20.030000</td>\n",
       "      <td>0.500000</td>\n",
       "      <td>58.380000</td>\n",
       "      <td>0.688592</td>\n",
       "      <td>0.822226</td>\n",
       "      <td>7.622709</td>\n",
       "    </tr>\n",
       "    <tr>\n",
       "      <th>BNB</th>\n",
       "      <td>353.930000</td>\n",
       "      <td>33.343856</td>\n",
       "      <td>31.221760</td>\n",
       "      <td>325.226667</td>\n",
       "      <td>0.096000</td>\n",
       "      <td>0.0000</td>\n",
       "      <td>0.0</td>\n",
       "      <td>0.000</td>\n",
       "      <td>0.116908</td>\n",
       "      <td>0.000330</td>\n",
       "      <td>0.000000</td>\n",
       "      <td>0.000000</td>\n",
       "      <td>33.226948</td>\n",
       "      <td>0.093880</td>\n",
       "      <td>691.770000</td>\n",
       "      <td>0.512381</td>\n",
       "      <td>0.918901</td>\n",
       "      <td>2.122096</td>\n",
       "    </tr>\n",
       "    <tr>\n",
       "      <th>LTC</th>\n",
       "      <td>154.270000</td>\n",
       "      <td>16.363131</td>\n",
       "      <td>30.442000</td>\n",
       "      <td>287.188679</td>\n",
       "      <td>0.106000</td>\n",
       "      <td>0.0000</td>\n",
       "      <td>0.0</td>\n",
       "      <td>0.000</td>\n",
       "      <td>16.363131</td>\n",
       "      <td>0.106048</td>\n",
       "      <td>0.000000</td>\n",
       "      <td>0.000000</td>\n",
       "      <td>0.000000</td>\n",
       "      <td>0.000000</td>\n",
       "      <td>413.490000</td>\n",
       "      <td>0.373673</td>\n",
       "      <td>1.861598</td>\n",
       "      <td>-14.078869</td>\n",
       "    </tr>\n",
       "    <tr>\n",
       "      <th>THETA</th>\n",
       "      <td>7.114000</td>\n",
       "      <td>14.236990</td>\n",
       "      <td>21.000000</td>\n",
       "      <td>10.500000</td>\n",
       "      <td>2.000000</td>\n",
       "      <td>0.0000</td>\n",
       "      <td>0.0</td>\n",
       "      <td>0.000</td>\n",
       "      <td>14.236990</td>\n",
       "      <td>2.001545</td>\n",
       "      <td>0.000000</td>\n",
       "      <td>0.000000</td>\n",
       "      <td>0.000000</td>\n",
       "      <td>0.000000</td>\n",
       "      <td>13.200000</td>\n",
       "      <td>0.542500</td>\n",
       "      <td>1.475963</td>\n",
       "      <td>-6.763010</td>\n",
       "    </tr>\n",
       "    <tr>\n",
       "      <th>AVAX</th>\n",
       "      <td>15.625000</td>\n",
       "      <td>4.169195</td>\n",
       "      <td>10.096500</td>\n",
       "      <td>38.100000</td>\n",
       "      <td>0.265000</td>\n",
       "      <td>0.0000</td>\n",
       "      <td>0.0</td>\n",
       "      <td>0.000</td>\n",
       "      <td>0.000000</td>\n",
       "      <td>0.000000</td>\n",
       "      <td>4.169195</td>\n",
       "      <td>0.266829</td>\n",
       "      <td>0.000000</td>\n",
       "      <td>0.000000</td>\n",
       "      <td>43.885000</td>\n",
       "      <td>0.356204</td>\n",
       "      <td>2.438400</td>\n",
       "      <td>-5.927305</td>\n",
       "    </tr>\n",
       "    <tr>\n",
       "      <th>DENT</th>\n",
       "      <td>0.002952</td>\n",
       "      <td>3.099285</td>\n",
       "      <td>10.185000</td>\n",
       "      <td>0.009700</td>\n",
       "      <td>1050.000000</td>\n",
       "      <td>0.0000</td>\n",
       "      <td>0.0</td>\n",
       "      <td>0.000</td>\n",
       "      <td>0.000000</td>\n",
       "      <td>0.000000</td>\n",
       "      <td>3.099285</td>\n",
       "      <td>1050.000000</td>\n",
       "      <td>0.000000</td>\n",
       "      <td>0.000000</td>\n",
       "      <td>0.011699</td>\n",
       "      <td>0.253184</td>\n",
       "      <td>3.286242</td>\n",
       "      <td>-7.085715</td>\n",
       "    </tr>\n",
       "    <tr>\n",
       "      <th>EGLD</th>\n",
       "      <td>119.950000</td>\n",
       "      <td>6.369854</td>\n",
       "      <td>10.085900</td>\n",
       "      <td>190.300000</td>\n",
       "      <td>0.053000</td>\n",
       "      <td>0.0000</td>\n",
       "      <td>0.0</td>\n",
       "      <td>0.000</td>\n",
       "      <td>6.369854</td>\n",
       "      <td>0.053113</td>\n",
       "      <td>0.000000</td>\n",
       "      <td>0.000000</td>\n",
       "      <td>0.000000</td>\n",
       "      <td>0.000000</td>\n",
       "      <td>205.000000</td>\n",
       "      <td>0.586195</td>\n",
       "      <td>1.586494</td>\n",
       "      <td>-3.716046</td>\n",
       "    </tr>\n",
       "    <tr>\n",
       "      <th>HOT</th>\n",
       "      <td>0.008040</td>\n",
       "      <td>5.306400</td>\n",
       "      <td>10.131000</td>\n",
       "      <td>0.015350</td>\n",
       "      <td>660.000000</td>\n",
       "      <td>0.0000</td>\n",
       "      <td>0.0</td>\n",
       "      <td>0.000</td>\n",
       "      <td>0.000000</td>\n",
       "      <td>0.000000</td>\n",
       "      <td>5.306400</td>\n",
       "      <td>660.000000</td>\n",
       "      <td>0.000000</td>\n",
       "      <td>0.000000</td>\n",
       "      <td>0.016840</td>\n",
       "      <td>0.476128</td>\n",
       "      <td>1.909204</td>\n",
       "      <td>-4.824600</td>\n",
       "    </tr>\n",
       "    <tr>\n",
       "      <th>TRX</th>\n",
       "      <td>0.075790</td>\n",
       "      <td>5.110112</td>\n",
       "      <td>10.117000</td>\n",
       "      <td>0.151000</td>\n",
       "      <td>67.000000</td>\n",
       "      <td>0.0000</td>\n",
       "      <td>0.0</td>\n",
       "      <td>0.000</td>\n",
       "      <td>5.110112</td>\n",
       "      <td>67.415725</td>\n",
       "      <td>0.000000</td>\n",
       "      <td>0.000000</td>\n",
       "      <td>0.000000</td>\n",
       "      <td>0.000000</td>\n",
       "      <td>0.170000</td>\n",
       "      <td>0.446353</td>\n",
       "      <td>1.992347</td>\n",
       "      <td>-5.006888</td>\n",
       "    </tr>\n",
       "    <tr>\n",
       "      <th>ONE</th>\n",
       "      <td>0.083920</td>\n",
       "      <td>6.770423</td>\n",
       "      <td>10.127800</td>\n",
       "      <td>0.128200</td>\n",
       "      <td>79.000000</td>\n",
       "      <td>0.0000</td>\n",
       "      <td>0.0</td>\n",
       "      <td>0.000</td>\n",
       "      <td>6.770423</td>\n",
       "      <td>80.677109</td>\n",
       "      <td>0.000000</td>\n",
       "      <td>0.000000</td>\n",
       "      <td>0.000000</td>\n",
       "      <td>0.000000</td>\n",
       "      <td>0.188580</td>\n",
       "      <td>0.445275</td>\n",
       "      <td>1.527645</td>\n",
       "      <td>-3.357377</td>\n",
       "    </tr>\n",
       "    <tr>\n",
       "      <th>BAND</th>\n",
       "      <td>7.641000</td>\n",
       "      <td>9.024021</td>\n",
       "      <td>19.994330</td>\n",
       "      <td>16.930000</td>\n",
       "      <td>1.181000</td>\n",
       "      <td>0.0000</td>\n",
       "      <td>0.0</td>\n",
       "      <td>0.000</td>\n",
       "      <td>0.000000</td>\n",
       "      <td>0.000000</td>\n",
       "      <td>9.024021</td>\n",
       "      <td>1.181000</td>\n",
       "      <td>0.000000</td>\n",
       "      <td>0.000000</td>\n",
       "      <td>20.673000</td>\n",
       "      <td>0.370870</td>\n",
       "      <td>2.215679</td>\n",
       "      <td>-10.970309</td>\n",
       "    </tr>\n",
       "    <tr>\n",
       "      <th>SXP</th>\n",
       "      <td>2.624000</td>\n",
       "      <td>19.464101</td>\n",
       "      <td>31.395600</td>\n",
       "      <td>4.251266</td>\n",
       "      <td>7.385000</td>\n",
       "      <td>0.0000</td>\n",
       "      <td>0.0</td>\n",
       "      <td>0.000</td>\n",
       "      <td>19.464101</td>\n",
       "      <td>7.400799</td>\n",
       "      <td>0.000000</td>\n",
       "      <td>0.000000</td>\n",
       "      <td>0.000000</td>\n",
       "      <td>0.000000</td>\n",
       "      <td>5.870000</td>\n",
       "      <td>0.449915</td>\n",
       "      <td>1.620147</td>\n",
       "      <td>-11.931499</td>\n",
       "    </tr>\n",
       "    <tr>\n",
       "      <th>LINK</th>\n",
       "      <td>24.562000</td>\n",
       "      <td>5.284434</td>\n",
       "      <td>10.019000</td>\n",
       "      <td>46.600000</td>\n",
       "      <td>0.215000</td>\n",
       "      <td>0.0000</td>\n",
       "      <td>0.0</td>\n",
       "      <td>0.000</td>\n",
       "      <td>5.284434</td>\n",
       "      <td>0.215129</td>\n",
       "      <td>0.000000</td>\n",
       "      <td>0.000000</td>\n",
       "      <td>0.000000</td>\n",
       "      <td>0.000000</td>\n",
       "      <td>53.000000</td>\n",
       "      <td>0.463396</td>\n",
       "      <td>1.897240</td>\n",
       "      <td>-4.734566</td>\n",
       "    </tr>\n",
       "    <tr>\n",
       "      <th>UTK</th>\n",
       "      <td>0.314600</td>\n",
       "      <td>5.977400</td>\n",
       "      <td>10.260000</td>\n",
       "      <td>0.540000</td>\n",
       "      <td>19.000000</td>\n",
       "      <td>0.0000</td>\n",
       "      <td>0.0</td>\n",
       "      <td>0.000</td>\n",
       "      <td>0.000000</td>\n",
       "      <td>0.000000</td>\n",
       "      <td>5.977400</td>\n",
       "      <td>19.000000</td>\n",
       "      <td>0.000000</td>\n",
       "      <td>0.000000</td>\n",
       "      <td>1.065000</td>\n",
       "      <td>0.296150</td>\n",
       "      <td>1.716465</td>\n",
       "      <td>-4.282600</td>\n",
       "    </tr>\n",
       "    <tr>\n",
       "      <th>USDT</th>\n",
       "      <td>0.000000</td>\n",
       "      <td>305.710094</td>\n",
       "      <td>0.000000</td>\n",
       "      <td>0.000000</td>\n",
       "      <td>0.000000</td>\n",
       "      <td>0.0000</td>\n",
       "      <td>0.0</td>\n",
       "      <td>0.000</td>\n",
       "      <td>305.710094</td>\n",
       "      <td>305.710094</td>\n",
       "      <td>0.000000</td>\n",
       "      <td>0.000000</td>\n",
       "      <td>0.000000</td>\n",
       "      <td>0.000000</td>\n",
       "      <td>0.000000</td>\n",
       "      <td>0.000000</td>\n",
       "      <td>0.000000</td>\n",
       "      <td>305.710094</td>\n",
       "    </tr>\n",
       "    <tr>\n",
       "      <th>BUSD</th>\n",
       "      <td>0.999500</td>\n",
       "      <td>0.000000</td>\n",
       "      <td>0.000000</td>\n",
       "      <td>0.000000</td>\n",
       "      <td>0.000000</td>\n",
       "      <td>0.0000</td>\n",
       "      <td>0.0</td>\n",
       "      <td>0.000</td>\n",
       "      <td>0.000000</td>\n",
       "      <td>0.000000</td>\n",
       "      <td>0.000000</td>\n",
       "      <td>0.000000</td>\n",
       "      <td>0.000000</td>\n",
       "      <td>0.000000</td>\n",
       "      <td>1.002900</td>\n",
       "      <td>0.996610</td>\n",
       "      <td>0.000000</td>\n",
       "      <td>0.000000</td>\n",
       "    </tr>\n",
       "  </tbody>\n",
       "</table>\n",
       "</div>"
      ]
     },
     "metadata": {},
     "execution_count": 59
    }
   ],
   "metadata": {}
  },
  {
   "cell_type": "code",
   "execution_count": 54,
   "source": [
    "import matplotlib.pyplot as plt\r\n",
    "\r\n",
    "labels = [asset for asset in my_coins]\r\n",
    "sizes = [wallet[asset]['Spot_value'] + wallet[asset]['Saving_value'] + wallet[asset]['Stack_value'] for asset in  my_coins]\r\n",
    "colors = ['yellowgreen', 'gold', 'lightskyblue', 'lightcoral']\r\n",
    "\r\n",
    "plt.pie(sizes, labels=labels, colors=colors, \r\n",
    "        autopct='%1.1f%%', shadow=True, startangle=90)\r\n",
    "\r\n",
    "plt.axis('equal')\r\n",
    "plt.show()"
   ],
   "outputs": [
    {
     "output_type": "display_data",
     "data": {
      "text/plain": [
       "<Figure size 432x288 with 1 Axes>"
      ],
      "image/png": "[encoded data removed]"
     },
     "metadata": {}
    }
   ],
   "metadata": {}
  },
  {
   "cell_type": "code",
   "execution_count": 55,
   "source": [
    "## Bilan\r\n",
    "\r\n",
    "# global balance\r\n",
    "balance = 0\r\n",
    "total_usdt_invest = 0\r\n",
    "total_spot = 0\r\n",
    "total_saving = 0\r\n",
    "total_stacking = 0\r\n",
    "current_value = 0\r\n",
    "\r\n",
    "for asset in wallet:\r\n",
    "    if asset != \"USDT\" and  asset != \"BUSD\":\r\n",
    "        balance += wallet[asset]['Balance']\r\n",
    "        total_usdt_invest +=  wallet[asset]['Buy']\r\n",
    "        total_usdt_invest -=  wallet[asset]['Sell']\r\n",
    "        total_spot += wallet[asset]['Spot_value']\r\n",
    "        total_saving += wallet[asset]['Saving_value']\r\n",
    "        total_stacking += wallet[asset]['Stack_value']\r\n",
    "    else:\r\n",
    "        total_usdt_invest +=wallet[asset]['Balance']\r\n",
    "        total_spot += wallet[asset]['Spot_value']\r\n",
    "        total_saving += wallet[asset]['Saving_value']\r\n",
    "        total_stacking += wallet[asset]['Stack_value']\r\n",
    "\r\n",
    "current_value = total_spot + total_saving + total_stacking\r\n",
    "\r\n",
    "print('total_spot',total_spot,'$')\r\n",
    "print('total_saving',total_saving,'$')\r\n",
    "print('total_stacking',total_stacking,'$')\r\n",
    "print('total_usdt_invest',total_usdt_invest,'$')\r\n",
    "print('current_value',current_value,'$')\r\n",
    "print('balance',balance,'$')\r\n",
    "print('plus-value', current_value - (total_usdt_invest*current_value/current_value), '$')\r\n",
    "print('plus-value percent', (current_value - (total_usdt_invest*current_value/current_value)) / total_usdt_invest * 100, '%')"
   ],
   "outputs": [
    {
     "output_type": "stream",
     "name": "stdout",
     "text": [
      "total_spot 50.604631761410005 $\n",
      "total_saving 700.61497192 $\n",
      "total_stacking 1135.0607434000003 $\n",
      "total_usdt_invest 1890.0549883800004 $\n",
      "current_value 1886.2803470814104 $\n",
      "balance -3.7746412985899367 $\n",
      "plus-value -3.7746412985900406 $\n",
      "plus-value percent -0.19971066036683685 %\n"
     ]
    }
   ],
   "metadata": {}
  },
  {
   "cell_type": "code",
   "execution_count": 56,
   "source": [
    "plt.figure(1, figsize=(10, 10))\r\n",
    "chats_labels = my_coins\r\n",
    "num_columns = 4                                \r\n",
    "num_rows  = len(chats_labels) // 4 + 1\r\n",
    "fig, ax = plt.subplots(num_rows,num_columns)\r\n",
    "label = ['spot', 'saving', \"stacking\"]\r\n",
    "for i, coin in enumerate(chats_labels):\r\n",
    "    data = [wallet[coin]['Spot_value'], wallet[coin]['Saving_value'], wallet[coin]['Stack_value']]\r\n",
    "    ax[i//4,i%4].set_title(coin)                           # Add 1 to j index\r\n",
    "    ax[i//4,i%4].pie(data, labels=label,                 # Add 1 to j index\r\n",
    "                autopct='%1.1f%%', shadow=True, startangle=90)\r\n",
    "fig.set_size_inches(15,15)\r\n",
    "plt.show()"
   ],
   "outputs": [
    {
     "output_type": "stream",
     "name": "stderr",
     "text": [
      "C:\\Users\\Thibaut - Eva\\AppData\\Roaming\\Python\\Python37\\site-packages\\ipykernel_launcher.py:11: MatplotlibDeprecationWarning: normalize=None does not normalize if the sum is less than 1 but this behavior is deprecated since 3.3 until two minor releases later. After the deprecation period the default value will be normalize=True. To prevent normalization pass normalize=False \n",
      "  # This is added back by InteractiveShellApp.init_path()\n"
     ]
    },
    {
     "output_type": "display_data",
     "data": {
      "text/plain": [
       "<Figure size 720x720 with 0 Axes>"
      ]
     },
     "metadata": {}
    },
    {
     "output_type": "display_data",
     "data": {
      "text/plain": [
       "<Figure size 1080x1080 with 28 Axes>"
      ],
      "image/png": "[encoded data removed]"
     },
     "metadata": {
      "needs_background": "light"
     }
    }
   ],
   "metadata": {}
  },
  {
   "cell_type": "code",
   "execution_count": 57,
   "source": [
    "import matplotlib as mpl\r\n",
    "import matplotlib.pyplot as plt\r\n",
    "import numpy as np\r\n",
    "from ipywidgets import IntProgress, widgets\r\n",
    "\r\n",
    "def colorFader(c1,c2,mix=0): #fade (linear interpolate) from color c1 (at mix=0) to c2 (mix=1)\r\n",
    "    c1=np.array(mpl.colors.to_rgb(c1))\r\n",
    "    c2=np.array(mpl.colors.to_rgb(c2))\r\n",
    "    return mpl.colors.to_hex((1-mix)*c1 + mix*c2)\r\n",
    "\r\n",
    "c1='#FF4600'\r\n",
    "c2='#3DD600' \r\n",
    "\r\n",
    "color = colorFader(c1,c2,mix=0.5)\r\n",
    "for asset in my_coins:\r\n",
    "    value=wallet[asset]['Current_market_price']\r\n",
    "    maxi=wallet[asset]['ATH']\r\n",
    "    color = colorFader(c1,c2,mix=wallet[asset]['ATH_percent'])\r\n",
    "    \r\n",
    "    display(widgets.FloatProgress(\r\n",
    "        value=value,\r\n",
    "        min=0,\r\n",
    "        max=maxi,\r\n",
    "        description=asset,\r\n",
    "        bar_style='success',\r\n",
    "        style={'bar_color': color},\r\n",
    "        orientation='horizontal',\r\n",
    "    readout=True,\r\n",
    "    readout_format='.1f',\r\n",
    "    disabled=False\r\n",
    "    ))\r\n",
    "    \r\n",
    "    display(widgets.HTML(\r\n",
    "    value = asset + \": \"+str(wallet[asset]['Current_market_price']) + ' / '+ str(wallet[asset]['ATH'])\r\n",
    "    ))\r\n"
   ],
   "outputs": [
    {
     "output_type": "display_data",
     "data": {
      "text/plain": [
       "FloatProgress(value=43667.81, bar_style='success', description='BTC', max=59500.0, style=ProgressStyle(bar_col…"
      ],
      "application/vnd.jupyter.widget-view+json": {
       "version_major": 2,
       "version_minor": 0,
       "model_id": "2bbfcedc69f64f739776cf9a6be28941"
      }
     },
     "metadata": {}
    },
    {
     "output_type": "display_data",
     "data": {
      "text/plain": [
       "HTML(value='BTC: 43667.81 / 59500.0')"
      ],
      "application/vnd.jupyter.widget-view+json": {
       "version_major": 2,
       "version_minor": 0,
       "model_id": "945eaa2c5d1a408281661363308f3e3d"
      }
     },
     "metadata": {}
    },
    {
     "output_type": "display_data",
     "data": {
      "text/plain": [
       "FloatProgress(value=3038.65, bar_style='success', description='ETH', max=4372.72, style=ProgressStyle(bar_colo…"
      ],
      "application/vnd.jupyter.widget-view+json": {
       "version_major": 2,
       "version_minor": 0,
       "model_id": "831cad10101f4f91b344677719edf0de"
      }
     },
     "metadata": {}
    },
    {
     "output_type": "display_data",
     "data": {
      "text/plain": [
       "HTML(value='ETH: 3038.65 / 4372.72')"
      ],
      "application/vnd.jupyter.widget-view+json": {
       "version_major": 2,
       "version_minor": 0,
       "model_id": "ce8c6cc442e94abab6d624063748973d"
      }
     },
     "metadata": {}
    },
    {
     "output_type": "display_data",
     "data": {
      "text/plain": [
       "FloatProgress(value=1.4598, bar_style='success', description='ADA', max=2.47, style=ProgressStyle(bar_color='#…"
      ],
      "application/vnd.jupyter.widget-view+json": {
       "version_major": 2,
       "version_minor": 0,
       "model_id": "ab4d3bd235ac4dcea359639a2dffcd7f"
      }
     },
     "metadata": {}
    },
    {
     "output_type": "display_data",
     "data": {
      "text/plain": [
       "HTML(value='ADA: 1.4598 / 2.47')"
      ],
      "application/vnd.jupyter.widget-view+json": {
       "version_major": 2,
       "version_minor": 0,
       "model_id": "3f1775d7858a474d9ad64710aabe9f61"
      }
     },
     "metadata": {}
    },
    {
     "output_type": "display_data",
     "data": {
      "text/plain": [
       "FloatProgress(value=21.225, bar_style='success', description='DOT', max=49.78, style=ProgressStyle(bar_color='…"
      ],
      "application/vnd.jupyter.widget-view+json": {
       "version_major": 2,
       "version_minor": 0,
       "model_id": "4f6add8330174d068faf70ba8162988b"
      }
     },
     "metadata": {}
    },
    {
     "output_type": "display_data",
     "data": {
      "text/plain": [
       "HTML(value='DOT: 21.225 / 49.78')"
      ],
      "application/vnd.jupyter.widget-view+json": {
       "version_major": 2,
       "version_minor": 0,
       "model_id": "0a0e77359cb74ecebe7e137b8a894137"
      }
     },
     "metadata": {}
    },
    {
     "output_type": "display_data",
     "data": {
      "text/plain": [
       "FloatProgress(value=1.15642, bar_style='success', description='MATIC', max=2.7, style=ProgressStyle(bar_color=…"
      ],
      "application/vnd.jupyter.widget-view+json": {
       "version_major": 2,
       "version_minor": 0,
       "model_id": "735c41ba41394d0b9646981332746494"
      }
     },
     "metadata": {}
    },
    {
     "output_type": "display_data",
     "data": {
      "text/plain": [
       "HTML(value='MATIC: 1.15642 / 2.7')"
      ],
      "application/vnd.jupyter.widget-view+json": {
       "version_major": 2,
       "version_minor": 0,
       "model_id": "e3f12ff364f7490792ab29e6acd3adfb"
      }
     },
     "metadata": {}
    },
    {
     "output_type": "display_data",
     "data": {
      "text/plain": [
       "FloatProgress(value=237.26, bar_style='success', description='KSM', max=625.0, style=ProgressStyle(bar_color='…"
      ],
      "application/vnd.jupyter.widget-view+json": {
       "version_major": 2,
       "version_minor": 0,
       "model_id": "a1d560b2702140e8bd51bb8800838424"
      }
     },
     "metadata": {}
    },
    {
     "output_type": "display_data",
     "data": {
      "text/plain": [
       "HTML(value='KSM: 237.26 / 625.0')"
      ],
      "application/vnd.jupyter.widget-view+json": {
       "version_major": 2,
       "version_minor": 0,
       "model_id": "e70aab260a354194b95a01dcbbd2c14a"
      }
     },
     "metadata": {}
    },
    {
     "output_type": "display_data",
     "data": {
      "text/plain": [
       "FloatProgress(value=18.649, bar_style='success', description='CAKE', max=42.98, style=ProgressStyle(bar_color=…"
      ],
      "application/vnd.jupyter.widget-view+json": {
       "version_major": 2,
       "version_minor": 0,
       "model_id": "be6661b508c949268a4c79c62c00a6b2"
      }
     },
     "metadata": {}
    },
    {
     "output_type": "display_data",
     "data": {
      "text/plain": [
       "HTML(value='CAKE: 18.649 / 42.98')"
      ],
      "application/vnd.jupyter.widget-view+json": {
       "version_major": 2,
       "version_minor": 0,
       "model_id": "29368d5fd3694dbbb23a5866be48d0cf"
      }
     },
     "metadata": {}
    },
    {
     "output_type": "display_data",
     "data": {
      "text/plain": [
       "FloatProgress(value=0.10716, bar_style='success', description='VET', max=0.25, style=ProgressStyle(bar_color='…"
      ],
      "application/vnd.jupyter.widget-view+json": {
       "version_major": 2,
       "version_minor": 0,
       "model_id": "3e9c85a297dd448b827b66bef7ebc357"
      }
     },
     "metadata": {}
    },
    {
     "output_type": "display_data",
     "data": {
      "text/plain": [
       "HTML(value='VET: 0.10716 / 0.25')"
      ],
      "application/vnd.jupyter.widget-view+json": {
       "version_major": 2,
       "version_minor": 0,
       "model_id": "ad5458dcd5ba42f9b99477e8101800c0"
      }
     },
     "metadata": {}
    },
    {
     "output_type": "display_data",
     "data": {
      "text/plain": [
       "FloatProgress(value=40.157, bar_style='success', description='SOL', max=58.38, style=ProgressStyle(bar_color='…"
      ],
      "application/vnd.jupyter.widget-view+json": {
       "version_major": 2,
       "version_minor": 0,
       "model_id": "87cca359734c4dd78a1a35e4f70fc66b"
      }
     },
     "metadata": {}
    },
    {
     "output_type": "display_data",
     "data": {
      "text/plain": [
       "HTML(value='SOL: 40.157 / 58.38')"
      ],
      "application/vnd.jupyter.widget-view+json": {
       "version_major": 2,
       "version_minor": 0,
       "model_id": "4fbec9630d7a43bd84b71338815a2f48"
      }
     },
     "metadata": {}
    },
    {
     "output_type": "display_data",
     "data": {
      "text/plain": [
       "FloatProgress(value=354.51, bar_style='success', description='BNB', max=691.77, style=ProgressStyle(bar_color=…"
      ],
      "application/vnd.jupyter.widget-view+json": {
       "version_major": 2,
       "version_minor": 0,
       "model_id": "b2434e2aa17d4cb0a8c09f08bc908448"
      }
     },
     "metadata": {}
    },
    {
     "output_type": "display_data",
     "data": {
      "text/plain": [
       "HTML(value='BNB: 354.51 / 691.77')"
      ],
      "application/vnd.jupyter.widget-view+json": {
       "version_major": 2,
       "version_minor": 0,
       "model_id": "327e8e9f81f448a08069531fb020b797"
      }
     },
     "metadata": {}
    },
    {
     "output_type": "display_data",
     "data": {
      "text/plain": [
       "FloatProgress(value=154.55, bar_style='success', description='LTC', max=413.49, style=ProgressStyle(bar_color=…"
      ],
      "application/vnd.jupyter.widget-view+json": {
       "version_major": 2,
       "version_minor": 0,
       "model_id": "8be140e5027b40b3a620561bbee33220"
      }
     },
     "metadata": {}
    },
    {
     "output_type": "display_data",
     "data": {
      "text/plain": [
       "HTML(value='LTC: 154.55 / 413.49')"
      ],
      "application/vnd.jupyter.widget-view+json": {
       "version_major": 2,
       "version_minor": 0,
       "model_id": "1e71162161c24f3cbdae542867aa1974"
      }
     },
     "metadata": {}
    },
    {
     "output_type": "display_data",
     "data": {
      "text/plain": [
       "FloatProgress(value=7.142, bar_style='success', description='THETA', max=13.2, style=ProgressStyle(bar_color='…"
      ],
      "application/vnd.jupyter.widget-view+json": {
       "version_major": 2,
       "version_minor": 0,
       "model_id": "d142f72ab4004dcc9a80f95d0cb0e5e2"
      }
     },
     "metadata": {}
    },
    {
     "output_type": "display_data",
     "data": {
      "text/plain": [
       "HTML(value='THETA: 7.142 / 13.2')"
      ],
      "application/vnd.jupyter.widget-view+json": {
       "version_major": 2,
       "version_minor": 0,
       "model_id": "c46db312041e4b969ea6fff913a732fc"
      }
     },
     "metadata": {}
    },
    {
     "output_type": "display_data",
     "data": {
      "text/plain": [
       "FloatProgress(value=15.637, bar_style='success', description='AVAX', max=43.885, style=ProgressStyle(bar_color…"
      ],
      "application/vnd.jupyter.widget-view+json": {
       "version_major": 2,
       "version_minor": 0,
       "model_id": "4c65357eba9b469280546fd40ea55682"
      }
     },
     "metadata": {}
    },
    {
     "output_type": "display_data",
     "data": {
      "text/plain": [
       "HTML(value='AVAX: 15.637 / 43.885')"
      ],
      "application/vnd.jupyter.widget-view+json": {
       "version_major": 2,
       "version_minor": 0,
       "model_id": "4c048957e76943b9bce63934f3ea3d0d"
      }
     },
     "metadata": {}
    },
    {
     "output_type": "display_data",
     "data": {
      "text/plain": [
       "FloatProgress(value=0.002962, bar_style='success', description='DENT', max=0.011699, style=ProgressStyle(bar_c…"
      ],
      "application/vnd.jupyter.widget-view+json": {
       "version_major": 2,
       "version_minor": 0,
       "model_id": "f9f2fe8009cf404385856f9a4ccce07a"
      }
     },
     "metadata": {}
    },
    {
     "output_type": "display_data",
     "data": {
      "text/plain": [
       "HTML(value='DENT: 0.002962 / 0.011699')"
      ],
      "application/vnd.jupyter.widget-view+json": {
       "version_major": 2,
       "version_minor": 0,
       "model_id": "318687625f574fa288cb79f1949a0431"
      }
     },
     "metadata": {}
    },
    {
     "output_type": "display_data",
     "data": {
      "text/plain": [
       "FloatProgress(value=120.12, bar_style='success', description='EGLD', max=205.0, style=ProgressStyle(bar_color=…"
      ],
      "application/vnd.jupyter.widget-view+json": {
       "version_major": 2,
       "version_minor": 0,
       "model_id": "c843975b2a4a4927b5074058e3ea3cdf"
      }
     },
     "metadata": {}
    },
    {
     "output_type": "display_data",
     "data": {
      "text/plain": [
       "HTML(value='EGLD: 120.12 / 205.0')"
      ],
      "application/vnd.jupyter.widget-view+json": {
       "version_major": 2,
       "version_minor": 0,
       "model_id": "0d4586b0fcbb413386b1fd7a66827f6c"
      }
     },
     "metadata": {}
    },
    {
     "output_type": "display_data",
     "data": {
      "text/plain": [
       "FloatProgress(value=0.00802, bar_style='success', description='HOT', max=0.01684, style=ProgressStyle(bar_colo…"
      ],
      "application/vnd.jupyter.widget-view+json": {
       "version_major": 2,
       "version_minor": 0,
       "model_id": "ea577198cf7147d69f8cf89668a6e92c"
      }
     },
     "metadata": {}
    },
    {
     "output_type": "display_data",
     "data": {
      "text/plain": [
       "HTML(value='HOT: 0.00802 / 0.01684')"
      ],
      "application/vnd.jupyter.widget-view+json": {
       "version_major": 2,
       "version_minor": 0,
       "model_id": "04af2369a43547c3951ff90982baffd8"
      }
     },
     "metadata": {}
    },
    {
     "output_type": "display_data",
     "data": {
      "text/plain": [
       "FloatProgress(value=0.07591, bar_style='success', description='TRX', max=0.17, style=ProgressStyle(bar_color='…"
      ],
      "application/vnd.jupyter.widget-view+json": {
       "version_major": 2,
       "version_minor": 0,
       "model_id": "914f0fffb4e4442e8e123c3b8a5183d3"
      }
     },
     "metadata": {}
    },
    {
     "output_type": "display_data",
     "data": {
      "text/plain": [
       "HTML(value='TRX: 0.07591 / 0.17')"
      ],
      "application/vnd.jupyter.widget-view+json": {
       "version_major": 2,
       "version_minor": 0,
       "model_id": "206e0934646242d68df61348ee1a95fd"
      }
     },
     "metadata": {}
    },
    {
     "output_type": "display_data",
     "data": {
      "text/plain": [
       "FloatProgress(value=0.08397, bar_style='success', description='ONE', max=0.18858, style=ProgressStyle(bar_colo…"
      ],
      "application/vnd.jupyter.widget-view+json": {
       "version_major": 2,
       "version_minor": 0,
       "model_id": "abe11d80befb4e20aa55b9453757b880"
      }
     },
     "metadata": {}
    },
    {
     "output_type": "display_data",
     "data": {
      "text/plain": [
       "HTML(value='ONE: 0.08397 / 0.18858')"
      ],
      "application/vnd.jupyter.widget-view+json": {
       "version_major": 2,
       "version_minor": 0,
       "model_id": "d0ced749a70a4e51838f9fee7ca960a3"
      }
     },
     "metadata": {}
    },
    {
     "output_type": "display_data",
     "data": {
      "text/plain": [
       "FloatProgress(value=7.662, bar_style='success', description='BAND', max=20.673, style=ProgressStyle(bar_color=…"
      ],
      "application/vnd.jupyter.widget-view+json": {
       "version_major": 2,
       "version_minor": 0,
       "model_id": "1322e8858def43bb9154b83106d57a54"
      }
     },
     "metadata": {}
    },
    {
     "output_type": "display_data",
     "data": {
      "text/plain": [
       "HTML(value='BAND: 7.662 / 20.673')"
      ],
      "application/vnd.jupyter.widget-view+json": {
       "version_major": 2,
       "version_minor": 0,
       "model_id": "30f1cf47945141698c8532418b642092"
      }
     },
     "metadata": {}
    },
    {
     "output_type": "display_data",
     "data": {
      "text/plain": [
       "FloatProgress(value=2.64, bar_style='success', description='SXP', max=5.87, style=ProgressStyle(bar_color='#a8…"
      ],
      "application/vnd.jupyter.widget-view+json": {
       "version_major": 2,
       "version_minor": 0,
       "model_id": "e039e3f899724f00a095ebf7590c504c"
      }
     },
     "metadata": {}
    },
    {
     "output_type": "display_data",
     "data": {
      "text/plain": [
       "HTML(value='SXP: 2.64 / 5.87')"
      ],
      "application/vnd.jupyter.widget-view+json": {
       "version_major": 2,
       "version_minor": 0,
       "model_id": "6ffd7c5eb5374fc6b715b80fb4ed94fb"
      }
     },
     "metadata": {}
    },
    {
     "output_type": "display_data",
     "data": {
      "text/plain": [
       "FloatProgress(value=24.573, bar_style='success', description='LINK', max=53.0, style=ProgressStyle(bar_color='…"
      ],
      "application/vnd.jupyter.widget-view+json": {
       "version_major": 2,
       "version_minor": 0,
       "model_id": "560b794d24af48c89a16721602e31c49"
      }
     },
     "metadata": {}
    },
    {
     "output_type": "display_data",
     "data": {
      "text/plain": [
       "HTML(value='LINK: 24.573 / 53.0')"
      ],
      "application/vnd.jupyter.widget-view+json": {
       "version_major": 2,
       "version_minor": 0,
       "model_id": "5058105510354a779819391451b2e145"
      }
     },
     "metadata": {}
    },
    {
     "output_type": "display_data",
     "data": {
      "text/plain": [
       "FloatProgress(value=0.3154, bar_style='success', description='UTK', max=1.065, style=ProgressStyle(bar_color='…"
      ],
      "application/vnd.jupyter.widget-view+json": {
       "version_major": 2,
       "version_minor": 0,
       "model_id": "4ea3d1f4316747509ac5d3109efe933a"
      }
     },
     "metadata": {}
    },
    {
     "output_type": "display_data",
     "data": {
      "text/plain": [
       "HTML(value='UTK: 0.3154 / 1.065')"
      ],
      "application/vnd.jupyter.widget-view+json": {
       "version_major": 2,
       "version_minor": 0,
       "model_id": "d03c546d0090459983cacb9e325be8ee"
      }
     },
     "metadata": {}
    },
    {
     "output_type": "display_data",
     "data": {
      "text/plain": [
       "FloatProgress(value=0.0, bar_style='success', description='USDT', max=0.0, style=ProgressStyle(bar_color='#ff4…"
      ],
      "application/vnd.jupyter.widget-view+json": {
       "version_major": 2,
       "version_minor": 0,
       "model_id": "7eb4bfdba9c2434992729e6bd92ef903"
      }
     },
     "metadata": {}
    },
    {
     "output_type": "display_data",
     "data": {
      "text/plain": [
       "HTML(value='USDT: 0 / 0')"
      ],
      "application/vnd.jupyter.widget-view+json": {
       "version_major": 2,
       "version_minor": 0,
       "model_id": "948be9ebac734ceb8d57f604e723b72a"
      }
     },
     "metadata": {}
    },
    {
     "output_type": "display_data",
     "data": {
      "text/plain": [
       "FloatProgress(value=0.9994, bar_style='success', description='BUSD', max=1.0029, style=ProgressStyle(bar_color…"
      ],
      "application/vnd.jupyter.widget-view+json": {
       "version_major": 2,
       "version_minor": 0,
       "model_id": "ed3fbbacc0d648a8942a0d4a7f2a6c04"
      }
     },
     "metadata": {}
    },
    {
     "output_type": "display_data",
     "data": {
      "text/plain": [
       "HTML(value='BUSD: 0.9994 / 1.0029')"
      ],
      "application/vnd.jupyter.widget-view+json": {
       "version_major": 2,
       "version_minor": 0,
       "model_id": "d6b01fb1e1dc4312bfe2f0db945e9854"
      }
     },
     "metadata": {}
    }
   ],
   "metadata": {}
  }
 ]
}