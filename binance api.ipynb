{
 "metadata": {
  "language_info": {
   "codemirror_mode": {
    "name": "ipython",
    "version": 3
   },
   "file_extension": ".py",
   "mimetype": "text/x-python",
   "name": "python",
   "nbconvert_exporter": "python",
   "pygments_lexer": "ipython3",
   "version": "3.7.8"
  },
  "orig_nbformat": 2,
  "kernelspec": {
   "name": "python378jvsc74a57bd040a72caf6fa46f53aa7f5b366fbd5b98b2736726cc2be7465f0404892e27bcbd",
   "display_name": "Python 3.7.8 64-bit"
  },
  "metadata": {
   "interpreter": {
    "hash": "40a72caf6fa46f53aa7f5b366fbd5b98b2736726cc2be7465f0404892e27bcbd"
   }
  }
 },
 "nbformat": 4,
 "nbformat_minor": 2,
 "cells": [
  {
   "source": [
    "# Binance\n",
    "\n",
    "- Créér un clé API : https://www.binance.com/en/support/faq/360002502072\n",
    "- **Quand elle est créée garder en mémoire l'api key et la secret KEY**\n",
    "\n",
    "- créer un fichier config.cfg dans le même répertoire que le notebook et remplacer les valeurs par celles de l'API créée\n",
    "\n",
    "```cfg\n",
    "[BINANCE]\n",
    "API_KEY = YOUR KEY                  # A MODIFIER\n",
    "SECRET_KEY = YOUR SECRET KEY        # A MODIFIER\n",
    "```\n",
    "\n",
    "- installer le package python-binance \n",
    "\n",
    "```shell\n",
    "pip install python-binance\n",
    "ou\n",
    "py -m pip install python-binance\n",
    "ou autre\n",
    "```\n",
    "- Editer la list my_coins avec vos crypto\n",
    "\n",
    "```python\n",
    "#exemple\n",
    "my_coins = ['BTC','USDT', 'ETH']     # A ADAPTER\n",
    "```\n",
    "\n",
    "- Editer le dict stack car l'API ne sait pas encore récupérer les crypto stackées \n",
    "\n",
    "```python\n",
    "#exemple\n",
    "stack = {'DOT':3, 'ADA':6.1938, 'CAKE':3.125, 'TRX': 67}      # A ADAPTER\n",
    "```\n",
    "\n",
    "- et lancer tout les cellules\n",
    "! Tout est en dollars\n"
   ],
   "cell_type": "markdown",
   "metadata": {}
  },
  {
   "cell_type": "code",
   "execution_count": 257,
   "metadata": {},
   "outputs": [],
   "source": [
    "from binance import Client, ThreadedWebsocketManager, ThreadedDepthCacheManager\n",
    "import requests, json, time, hashlib,hmac, configparser\n",
    "\n",
    "# A ADAPTER\n",
    "my_coins = ['BTC','USDT', 'ETH', 'ADA', 'DOT', 'CAKE', 'MATIC', 'VET', 'BNB', 'LTC', 'KSM', 'THETA', 'AVAX', 'DENT', 'EGLD', 'HOT', 'TRX', 'ONE', 'BAND', 'SXP', 'LINK']  \n",
    "my_symbols = [coin + 'USDT' for coin in my_coins]\n",
    "\n",
    "config = configparser.ConfigParser()\n",
    "config.read_file(open('config.cfg'))\n",
    "\n",
    "KEY = config.get('BINANCE', 'API_KEY')\n",
    "SECRET_KEY = config.get('BINANCE', 'SECRET_KEY')\n",
    "BASE_URL = 'https://api.binance.com/'\n",
    "\n",
    "client = Client(KEY, SECRET_KEY)\n"
   ]
  },
  {
   "cell_type": "code",
   "execution_count": 258,
   "metadata": {},
   "outputs": [],
   "source": [
    "from urllib.parse import urlencode\n",
    "\n",
    "# fonctions utilitaires\n",
    "\n",
    "def get_timestamp():\n",
    "    return int(time.time() * 1000)\n",
    "\n",
    "def hashing(query_string):\n",
    "    return hmac.new(SECRET_KEY.encode('utf-8'), query_string.encode('utf-8'), hashlib.sha256).hexdigest()\n",
    "\n",
    "def dispatch_request(http_method):\n",
    "    session = requests.Session()\n",
    "    session.headers.update({\n",
    "        'Content-Type': 'application/json;charset=utf-8',\n",
    "        'X-MBX-APIKEY': KEY\n",
    "    })\n",
    "    return {\n",
    "        'GET': session.get,\n",
    "        'DELETE': session.delete,\n",
    "        'PUT': session.put,\n",
    "        'POST': session.post,\n",
    "    }.get(http_method, 'GET')\n",
    "\n",
    "def send_signed_request(http_method, url_path, payload={}):\n",
    "    query_string = urlencode(payload, True)\n",
    "    if query_string:\n",
    "        query_string = \"{}&timestamp={}\".format(query_string, get_timestamp())\n",
    "    else:\n",
    "        query_string = 'timestamp={}'.format(get_timestamp())\n",
    "\n",
    "    url = BASE_URL + url_path + '?' + query_string + '&signature=' + hashing(query_string)\n",
    "    print(\"{} {}\".format(http_method, url))\n",
    "    params = {'url': url, 'params': {}}\n",
    "    response = dispatch_request(http_method)(**params)\n",
    "    return response.json()\n"
   ]
  },
  {
   "cell_type": "code",
   "execution_count": 259,
   "metadata": {},
   "outputs": [],
   "source": [
    "# Create wallet\n",
    "def create_wallet():\n",
    "    wallet = {}\n",
    "    for asset in my_coins:\n",
    "        wallet[asset] = {'Qty':0, 'Price':0, 'Current_market_price':0, 'Saving_value':0, 'Spot_value':0, 'Stack_value':0, 'Balance':0, 'ATH': 0, 'ATH_percent':0}\n",
    "    return wallet"
   ]
  },
  {
   "cell_type": "code",
   "execution_count": 260,
   "metadata": {},
   "outputs": [],
   "source": [
    "# Get order history\n",
    "def update_order_history():\n",
    "    for symbol in my_symbols:\n",
    "        if symbol != 'USDTUSDT':\n",
    "            orders_history = client.get_all_orders(symbol=symbol)\n",
    "            sum_coin = 0.0\n",
    "            sum_cost = 0.0\n",
    "            for order in orders_history:\n",
    "                sum_cost += float(order['executedQty']) * float(order['price'])\n",
    "                sum_coin += float(order['executedQty']) \n",
    "            wallet[symbol.replace('USDT', '')]['Qty'] = sum_coin\n",
    "            wallet[symbol.replace('USDT', '')]['Price'] =sum_cost"
   ]
  },
  {
   "cell_type": "code",
   "execution_count": 261,
   "metadata": {},
   "outputs": [],
   "source": [
    "def update_market_price():\n",
    "    all_coins = client.get_all_tickers()\n",
    "    for asset in my_coins:\n",
    "        if asset != 'USDT':\n",
    "            for symbol in all_coins:\n",
    "                if symbol['symbol'] == asset+'USDT':\n",
    "                    wallet[asset]['Current_market_price'] = float(symbol['price'])"
   ]
  },
  {
   "cell_type": "code",
   "execution_count": 262,
   "metadata": {},
   "outputs": [],
   "source": [
    "# Get current Savings\n",
    "def update_saving():\n",
    "    saving = send_signed_request('GET', 'sapi/v1/lending/union/account')\n",
    "    savings = saving['positionAmountVos']\n",
    "    for asset in savings:\n",
    "        wallet[asset['asset']][\"Saving_value\"] = float(asset['amountInUSDT'])"
   ]
  },
  {
   "cell_type": "code",
   "execution_count": 263,
   "metadata": {
    "tags": []
   },
   "outputs": [],
   "source": [
    "# stop value\n",
    "def update_spot():\n",
    "    spot = send_signed_request('GET', 'api/v3/account')\n",
    "\n",
    "    for asset in my_coins:\n",
    "        for asset_spot in spot[\"balances\"]:\n",
    "            if asset_spot['asset'] == asset:\n",
    "                    wallet[asset]['Spot_value'] = wallet[asset]['Current_market_price'] * float(asset_spot['free'])"
   ]
  },
  {
   "cell_type": "code",
   "execution_count": 264,
   "metadata": {},
   "outputs": [],
   "source": [
    "# get stacking value\n",
    "def update_stacking():    \n",
    "    # A ADAPTER\n",
    "    stack = {'DOT':2.50085407+1.12174, 'ADA':6.1938, 'CAKE':3.125, 'TRX': 67}\n",
    "    for asset in my_coins:\n",
    "        try:\n",
    "            coin = stack[asset]\n",
    "            wallet[asset]['Stack_value'] = wallet[asset]['Current_market_price'] * coin\n",
    "        except:\n",
    "            pass"
   ]
  },
  {
   "cell_type": "code",
   "execution_count": 265,
   "metadata": {},
   "outputs": [],
   "source": [
    "# balance calcul\n",
    "def update_balance():\n",
    "    for asset in my_coins:\n",
    "        wallet[asset][\"Balance\"] =  wallet[asset][\"Stack_value\"] + wallet[asset][\"Saving_value\"] + wallet[asset][\"Spot_value\"] -  wallet[asset][\"Price\"]"
   ]
  },
  {
   "cell_type": "code",
   "execution_count": 266,
   "metadata": {},
   "outputs": [],
   "source": [
    "# Get ATH\n",
    "def update_ath():\n",
    "    for asset in my_coins:\n",
    "        if asset != 'USDT':\n",
    "            earliest_timestamp = client._get_earliest_valid_timestamp(asset + 'USDT', '1d')  # Here \"ETHUSDT\" is a trading pair and \"1d\" is time interval\n",
    "            candle = client.get_historical_klines(asset + 'USDT', Client.KLINE_INTERVAL_1WEEK, \"1 May, 2021\")\n",
    "            max_asset = 0\n",
    "            for c in candle:\n",
    "                if float(c[2]) > max_asset:\n",
    "                    max_asset = float(c[2])\n",
    "            wallet[asset]['ATH'] = max_asset\n",
    "            wallet[asset]['ATH_percent'] = wallet[asset]['Current_market_price'] / wallet[asset]['ATH'] "
   ]
  },
  {
   "cell_type": "code",
   "execution_count": 267,
   "metadata": {},
   "outputs": [],
   "source": [
    "# Long update\n",
    "wallet = create_wallet()\n",
    "update_market_price()\n",
    "update_order_history()\n",
    "update_ath()\n"
   ]
  },
  {
   "cell_type": "code",
   "execution_count": 268,
   "metadata": {},
   "outputs": [
    {
     "output_type": "stream",
     "name": "stdout",
     "text": [
      "GET https://api.binance.com/sapi/v1/lending/union/account?timestamp=1622134071259&signature=1cf61cb2e6ef7ea5e4fb491ca784c0dcac0c45682800842334feba8d6ed00122\n",
      "GET https://api.binance.com/api/v3/account?timestamp=1622134071595&signature=6a2a0ceebd1705d972412dc9ec714132589d524d61560c594135ac3093641d17\n"
     ]
    },
    {
     "output_type": "execute_result",
     "data": {
      "text/plain": [
       "{'BTC': {'Qty': 0.004071,\n",
       "  'Price': 160.29399999999998,\n",
       "  'Current_market_price': 38993.46,\n",
       "  'Saving_value': 158.60786694,\n",
       "  'Spot_value': 0.0050691498,\n",
       "  'Stack_value': 0,\n",
       "  'Balance': -1.6810639101999811,\n",
       "  'ATH': 59500.0,\n",
       "  'ATH_percent': 0.6554618487394959},\n",
       " 'USDT': {'Qty': 0,\n",
       "  'Price': 0,\n",
       "  'Current_market_price': 0,\n",
       "  'Saving_value': 107.10418394,\n",
       "  'Spot_value': 0.0,\n",
       "  'Stack_value': 0,\n",
       "  'Balance': 107.10418394,\n",
       "  'ATH': 0,\n",
       "  'ATH_percent': 0},\n",
       " 'ETH': {'Qty': 0.01458,\n",
       "  'Price': 44.96249999999999,\n",
       "  'Current_market_price': 2778.39,\n",
       "  'Saving_value': 40.43025413,\n",
       "  'Spot_value': 0.00016670339999999998,\n",
       "  'Stack_value': 0,\n",
       "  'Balance': -4.532079166599992,\n",
       "  'ATH': 4372.72,\n",
       "  'ATH_percent': 0.6356066704476847},\n",
       " 'ADA': {'Qty': 6.2,\n",
       "  'Price': 10.0626,\n",
       "  'Current_market_price': 1.6962,\n",
       "  'Saving_value': 0.0,\n",
       "  'Spot_value': 0.007325277168,\n",
       "  'Stack_value': 10.505923560000001,\n",
       "  'Balance': 0.45064883716800175,\n",
       "  'ATH': 2.47,\n",
       "  'ATH_percent': 0.6872064777327935},\n",
       " 'DOT': {'Qty': 3.622,\n",
       "  'Price': 90.6357,\n",
       "  'Current_market_price': 23.302,\n",
       "  'Saving_value': 0.0596352,\n",
       "  'Spot_value': 0.06427017828,\n",
       "  'Stack_value': 84.41368701914,\n",
       "  'Balance': -6.098107602580001,\n",
       "  'ATH': 49.78,\n",
       "  'ATH_percent': 0.46886299718762553},\n",
       " 'CAKE': {'Qty': 3.125,\n",
       "  'Price': 50.0,\n",
       "  'Current_market_price': 18.219,\n",
       "  'Saving_value': 0,\n",
       "  'Spot_value': 0.05847843525,\n",
       "  'Stack_value': 56.934375,\n",
       "  'Balance': 6.992853435250005,\n",
       "  'ATH': 42.98,\n",
       "  'ATH_percent': 0.4240111679851094},\n",
       " 'MATIC': {'Qty': 11.3,\n",
       "  'Price': 24.860000000000003,\n",
       "  'Current_market_price': 2.04987,\n",
       "  'Saving_value': 0,\n",
       "  'Spot_value': 23.163531,\n",
       "  'Stack_value': 0,\n",
       "  'Balance': -1.696469000000004,\n",
       "  'ATH': 2.7,\n",
       "  'ATH_percent': 0.7579592592592592},\n",
       " 'VET': {'Qty': 44.0,\n",
       "  'Price': 10.0716,\n",
       "  'Current_market_price': 0.12562,\n",
       "  'Saving_value': 5.51602712,\n",
       "  'Spot_value': 0.00012570165300000003,\n",
       "  'Stack_value': 0,\n",
       "  'Balance': -4.555447178346999,\n",
       "  'ATH': 0.25,\n",
       "  'ATH_percent': 0.50276},\n",
       " 'BNB': {'Qty': 0.016,\n",
       "  'Price': 10.15776,\n",
       "  'Current_market_price': 371.31,\n",
       "  'Saving_value': 0,\n",
       "  'Spot_value': 5.5578200633999995,\n",
       "  'Stack_value': 0,\n",
       "  'Balance': -4.5999399366,\n",
       "  'ATH': 691.77,\n",
       "  'ATH_percent': 0.537432961822571},\n",
       " 'LTC': {'Qty': 0.106,\n",
       "  'Price': 30.442,\n",
       "  'Current_market_price': 198.04,\n",
       "  'Saving_value': 20.95506949,\n",
       "  'Spot_value': 0.0003247856,\n",
       "  'Stack_value': 0,\n",
       "  'Balance': -9.4866057244,\n",
       "  'ATH': 413.49,\n",
       "  'ATH_percent': 0.47945536772352415},\n",
       " 'KSM': {'Qty': 0.0408,\n",
       "  'Price': 19.992,\n",
       "  'Current_market_price': 312.38,\n",
       "  'Saving_value': 0,\n",
       "  'Spot_value': 12.745104000000001,\n",
       "  'Stack_value': 0,\n",
       "  'Balance': -7.246896,\n",
       "  'ATH': 625.0,\n",
       "  'ATH_percent': 0.500016},\n",
       " 'THETA': {'Qty': 2.0,\n",
       "  'Price': 21.0,\n",
       "  'Current_market_price': 7.994,\n",
       "  'Saving_value': 15.90234587,\n",
       "  'Spot_value': 6.954779999999999e-05,\n",
       "  'Stack_value': 0,\n",
       "  'Balance': -5.0975845822,\n",
       "  'ATH': 13.2,\n",
       "  'ATH_percent': 0.604469696969697},\n",
       " 'AVAX': {'Qty': 0.265,\n",
       "  'Price': 10.0965,\n",
       "  'Current_market_price': 19.559,\n",
       "  'Saving_value': 0,\n",
       "  'Spot_value': 5.183135000000001,\n",
       "  'Stack_value': 0,\n",
       "  'Balance': -4.913365,\n",
       "  'ATH': 43.885,\n",
       "  'ATH_percent': 0.44573316622991915},\n",
       " 'DENT': {'Qty': 1050.0,\n",
       "  'Price': 10.185,\n",
       "  'Current_market_price': 0.0043694,\n",
       "  'Saving_value': 0,\n",
       "  'Spot_value': 4.58787,\n",
       "  'Stack_value': 0,\n",
       "  'Balance': -5.597130000000001,\n",
       "  'ATH': 0.011699,\n",
       "  'ATH_percent': 0.37405761176168906},\n",
       " 'EGLD': {'Qty': 0.053,\n",
       "  'Price': 10.0859,\n",
       "  'Current_market_price': 111.77,\n",
       "  'Saving_value': 5.90659787,\n",
       "  'Spot_value': 0.0001620665,\n",
       "  'Stack_value': 0,\n",
       "  'Balance': -4.179140063500001,\n",
       "  'ATH': 205.0,\n",
       "  'ATH_percent': 0.5454146341463415},\n",
       " 'HOT': {'Qty': 660.0,\n",
       "  'Price': 10.131,\n",
       "  'Current_market_price': 0.00965,\n",
       "  'Saving_value': 0,\n",
       "  'Spot_value': 6.369000000000001,\n",
       "  'Stack_value': 0,\n",
       "  'Balance': -3.7619999999999996,\n",
       "  'ATH': 0.01684,\n",
       "  'ATH_percent': 0.5732185273159145},\n",
       " 'TRX': {'Qty': 67.0,\n",
       "  'Price': 10.116999999999999,\n",
       "  'Current_market_price': 0.08022,\n",
       "  'Saving_value': 0.0,\n",
       "  'Spot_value': 0.009195911403,\n",
       "  'Stack_value': 5.37474,\n",
       "  'Balance': -4.733064088596999,\n",
       "  'ATH': 0.17,\n",
       "  'ATH_percent': 0.47170588235294114},\n",
       " 'ONE': {'Qty': 79.0,\n",
       "  'Price': 10.1278,\n",
       "  'Current_market_price': 0.10673,\n",
       "  'Saving_value': 8.40384704,\n",
       "  'Spot_value': 0.00028241398380000004,\n",
       "  'Stack_value': 0,\n",
       "  'Balance': -1.7236705460161996,\n",
       "  'ATH': 0.18858,\n",
       "  'ATH_percent': 0.5662848658394315},\n",
       " 'BAND': {'Qty': 1.181,\n",
       "  'Price': 19.99433,\n",
       "  'Current_market_price': 9.111,\n",
       "  'Saving_value': 0,\n",
       "  'Spot_value': 10.760091000000001,\n",
       "  'Stack_value': 0,\n",
       "  'Balance': -9.234239,\n",
       "  'ATH': 20.673,\n",
       "  'ATH_percent': 0.4412035021525662},\n",
       " 'SXP': {'Qty': 7.385,\n",
       "  'Price': 31.395599999999995,\n",
       "  'Current_market_price': 2.344,\n",
       "  'Saving_value': 17.29065351,\n",
       "  'Spot_value': 0.00047435528,\n",
       "  'Stack_value': 0,\n",
       "  'Balance': -14.104472134719995,\n",
       "  'ATH': 5.87,\n",
       "  'ATH_percent': 0.399488926746167},\n",
       " 'LINK': {'Qty': 0.215,\n",
       "  'Price': 10.019,\n",
       "  'Current_market_price': 32.89,\n",
       "  'Saving_value': 7.04571512,\n",
       "  'Spot_value': 7.63048e-05,\n",
       "  'Stack_value': 0,\n",
       "  'Balance': -2.9732085752,\n",
       "  'ATH': 53.0,\n",
       "  'ATH_percent': 0.6205283018867924}}"
      ]
     },
     "metadata": {},
     "execution_count": 268
    }
   ],
   "source": [
    "# Quick update\n",
    "update_market_price()\n",
    "update_saving()\n",
    "update_spot()\n",
    "update_stacking()\n",
    "update_balance()\n",
    "\n",
    "wallet"
   ]
  },
  {
   "cell_type": "code",
   "execution_count": 269,
   "metadata": {},
   "outputs": [
    {
     "output_type": "stream",
     "name": "stdout",
     "text": [
      "total_usdt_invest 701.7344739399997 $\ncurrent_value 612.9634937034577 $\nbalance -88.77098023654217 $\ntotal_spot 68.51257189431782 $\ntotal_saving 387.22219622999995 $\ntotal_stacking 157.22872557914 $\n"
     ]
    }
   ],
   "source": [
    "## Bilan\n",
    "\n",
    "# global balance\n",
    "balance = 0\n",
    "total_usdt_invest = 0\n",
    "total_spot = 0\n",
    "total_saving = 0\n",
    "total_stacking = 0\n",
    "current_value = 0\n",
    "\n",
    "for asset in wallet:\n",
    "    if asset != \"USDT\":\n",
    "        balance += wallet[asset]['Balance']\n",
    "        total_usdt_invest +=  wallet[asset]['Price']\n",
    "        total_spot += wallet[asset]['Spot_value']\n",
    "        total_saving += wallet[asset]['Saving_value']\n",
    "        total_stacking += wallet[asset]['Stack_value']\n",
    "    else:\n",
    "        total_usdt_invest +=wallet[asset]['Balance']\n",
    "        total_spot += wallet[asset]['Spot_value']\n",
    "        total_saving += wallet[asset]['Saving_value']\n",
    "        total_stacking += wallet[asset]['Stack_value']\n",
    "\n",
    "current_value = total_spot + total_saving + total_stacking\n",
    "\n",
    "print('total_usdt_invest',total_usdt_invest,'$')\n",
    "print('current_value',current_value,'$')\n",
    "print('balance',balance,'$')\n",
    "print('total_spot',total_spot,'$')\n",
    "print('total_saving',total_saving,'$')\n",
    "print('total_stacking',total_stacking,'$')"
   ]
  },
  {
   "cell_type": "code",
   "execution_count": 270,
   "metadata": {},
   "outputs": [
    {
     "output_type": "stream",
     "name": "stdout",
     "text": [
      "59500.0\n"
     ]
    }
   ],
   "source": [
    "\n",
    "earliest_timestamp = client._get_earliest_valid_timestamp('ETHUSDT', '1d')  # Here \"ETHUSDT\" is a trading pair and \"1d\" is time interval\n",
    "\n",
    "candle = client.get_historical_klines(\"BTCUSDT\", Client.KLINE_INTERVAL_1WEEK, \"1 May, 2021\")\n",
    "max_asset = 0\n",
    "for c in candle:\n",
    "    if float(c[2]) > max_asset:\n",
    "        max_asset = float(c[2])\n",
    "print(max_asset)"
   ]
  },
  {
   "cell_type": "code",
   "execution_count": 271,
   "metadata": {},
   "outputs": [
    {
     "output_type": "display_data",
     "data": {
      "text/plain": "FloatProgress(value=38993.46, bar_style='success', description='BTC', max=59500.0, style=ProgressStyle(bar_col…",
      "application/vnd.jupyter.widget-view+json": {
       "version_major": 2,
       "version_minor": 0,
       "model_id": "7c531bb25c1c4eddac8ac36db998ef28"
      }
     },
     "metadata": {}
    },
    {
     "output_type": "display_data",
     "data": {
      "text/plain": "HTML(value='BTC: 38993.46 / 59500.0')",
      "application/vnd.jupyter.widget-view+json": {
       "version_major": 2,
       "version_minor": 0,
       "model_id": "b17374643cca42c4ab813015d8b9e703"
      }
     },
     "metadata": {}
    },
    {
     "output_type": "display_data",
     "data": {
      "text/plain": "FloatProgress(value=0.0, bar_style='success', description='USDT', max=0.0, style=ProgressStyle(bar_color='#ff4…",
      "application/vnd.jupyter.widget-view+json": {
       "version_major": 2,
       "version_minor": 0,
       "model_id": "b438e520b3a44e89aea59d7c44749aab"
      }
     },
     "metadata": {}
    },
    {
     "output_type": "display_data",
     "data": {
      "text/plain": "HTML(value='USDT: 0 / 0')",
      "application/vnd.jupyter.widget-view+json": {
       "version_major": 2,
       "version_minor": 0,
       "model_id": "0126eb23769b4b98843ac1b9c1486e62"
      }
     },
     "metadata": {}
    },
    {
     "output_type": "display_data",
     "data": {
      "text/plain": "FloatProgress(value=2778.39, bar_style='success', description='ETH', max=4372.72, style=ProgressStyle(bar_colo…",
      "application/vnd.jupyter.widget-view+json": {
       "version_major": 2,
       "version_minor": 0,
       "model_id": "10f0b26c3d4947a0b307d26054a7a540"
      }
     },
     "metadata": {}
    },
    {
     "output_type": "display_data",
     "data": {
      "text/plain": "HTML(value='ETH: 2778.39 / 4372.72')",
      "application/vnd.jupyter.widget-view+json": {
       "version_major": 2,
       "version_minor": 0,
       "model_id": "d091793908ce4f6495fca5f332edfb73"
      }
     },
     "metadata": {}
    },
    {
     "output_type": "display_data",
     "data": {
      "text/plain": "FloatProgress(value=1.6962, bar_style='success', description='ADA', max=2.47, style=ProgressStyle(bar_color='#…",
      "application/vnd.jupyter.widget-view+json": {
       "version_major": 2,
       "version_minor": 0,
       "model_id": "0a0729c03fb7432192b3cd8115b985cb"
      }
     },
     "metadata": {}
    },
    {
     "output_type": "display_data",
     "data": {
      "text/plain": "HTML(value='ADA: 1.6962 / 2.47')",
      "application/vnd.jupyter.widget-view+json": {
       "version_major": 2,
       "version_minor": 0,
       "model_id": "a4807fb5e9ac47c8898f34d8871b3153"
      }
     },
     "metadata": {}
    },
    {
     "output_type": "display_data",
     "data": {
      "text/plain": "FloatProgress(value=23.302, bar_style='success', description='DOT', max=49.78, style=ProgressStyle(bar_color='…",
      "application/vnd.jupyter.widget-view+json": {
       "version_major": 2,
       "version_minor": 0,
       "model_id": "c4d4f37b04c04354924b685a8715b285"
      }
     },
     "metadata": {}
    },
    {
     "output_type": "display_data",
     "data": {
      "text/plain": "HTML(value='DOT: 23.302 / 49.78')",
      "application/vnd.jupyter.widget-view+json": {
       "version_major": 2,
       "version_minor": 0,
       "model_id": "635e467a97cc4a9d95db40c6bed0359a"
      }
     },
     "metadata": {}
    },
    {
     "output_type": "display_data",
     "data": {
      "text/plain": "FloatProgress(value=18.219, bar_style='success', description='CAKE', max=42.98, style=ProgressStyle(bar_color=…",
      "application/vnd.jupyter.widget-view+json": {
       "version_major": 2,
       "version_minor": 0,
       "model_id": "f3759d45424e4f3f997f30309d9eed56"
      }
     },
     "metadata": {}
    },
    {
     "output_type": "display_data",
     "data": {
      "text/plain": "HTML(value='CAKE: 18.219 / 42.98')",
      "application/vnd.jupyter.widget-view+json": {
       "version_major": 2,
       "version_minor": 0,
       "model_id": "e9a5d9eefd574aaa9b5347764874ab58"
      }
     },
     "metadata": {}
    },
    {
     "output_type": "display_data",
     "data": {
      "text/plain": "FloatProgress(value=2.04987, bar_style='success', description='MATIC', max=2.7, style=ProgressStyle(bar_color=…",
      "application/vnd.jupyter.widget-view+json": {
       "version_major": 2,
       "version_minor": 0,
       "model_id": "9f3d594787c54a7a87e652c3dc874c01"
      }
     },
     "metadata": {}
    },
    {
     "output_type": "display_data",
     "data": {
      "text/plain": "HTML(value='MATIC: 2.04987 / 2.7')",
      "application/vnd.jupyter.widget-view+json": {
       "version_major": 2,
       "version_minor": 0,
       "model_id": "d82477815ad14773a057ea08b5008a22"
      }
     },
     "metadata": {}
    },
    {
     "output_type": "display_data",
     "data": {
      "text/plain": "FloatProgress(value=0.12562, bar_style='success', description='VET', max=0.25, style=ProgressStyle(bar_color='…",
      "application/vnd.jupyter.widget-view+json": {
       "version_major": 2,
       "version_minor": 0,
       "model_id": "e16966171bba4ad3a19ee21d5b9add60"
      }
     },
     "metadata": {}
    },
    {
     "output_type": "display_data",
     "data": {
      "text/plain": "HTML(value='VET: 0.12562 / 0.25')",
      "application/vnd.jupyter.widget-view+json": {
       "version_major": 2,
       "version_minor": 0,
       "model_id": "dfdacd2d56fd4265a2eb29d552a65e22"
      }
     },
     "metadata": {}
    },
    {
     "output_type": "display_data",
     "data": {
      "text/plain": "FloatProgress(value=371.31, bar_style='success', description='BNB', max=691.77, style=ProgressStyle(bar_color=…",
      "application/vnd.jupyter.widget-view+json": {
       "version_major": 2,
       "version_minor": 0,
       "model_id": "625f7eb004c14f77aaba74202a9e3593"
      }
     },
     "metadata": {}
    },
    {
     "output_type": "display_data",
     "data": {
      "text/plain": "HTML(value='BNB: 371.31 / 691.77')",
      "application/vnd.jupyter.widget-view+json": {
       "version_major": 2,
       "version_minor": 0,
       "model_id": "9d1865d5c4f84aa1a89e42f0245be9e3"
      }
     },
     "metadata": {}
    },
    {
     "output_type": "display_data",
     "data": {
      "text/plain": "FloatProgress(value=198.04, bar_style='success', description='LTC', max=413.49, style=ProgressStyle(bar_color=…",
      "application/vnd.jupyter.widget-view+json": {
       "version_major": 2,
       "version_minor": 0,
       "model_id": "1a18cc73318d4f7c98f31de15ba3b66c"
      }
     },
     "metadata": {}
    },
    {
     "output_type": "display_data",
     "data": {
      "text/plain": "HTML(value='LTC: 198.04 / 413.49')",
      "application/vnd.jupyter.widget-view+json": {
       "version_major": 2,
       "version_minor": 0,
       "model_id": "2cdeb17ea3fc4124a9adeb3a967bf4ab"
      }
     },
     "metadata": {}
    },
    {
     "output_type": "display_data",
     "data": {
      "text/plain": "FloatProgress(value=312.38, bar_style='success', description='KSM', max=625.0, style=ProgressStyle(bar_color='…",
      "application/vnd.jupyter.widget-view+json": {
       "version_major": 2,
       "version_minor": 0,
       "model_id": "bf5e1c704cd14a668f34d94903b33b21"
      }
     },
     "metadata": {}
    },
    {
     "output_type": "display_data",
     "data": {
      "text/plain": "HTML(value='KSM: 312.38 / 625.0')",
      "application/vnd.jupyter.widget-view+json": {
       "version_major": 2,
       "version_minor": 0,
       "model_id": "2cdfc6b5153a4f928ef57854187f7cd5"
      }
     },
     "metadata": {}
    },
    {
     "output_type": "display_data",
     "data": {
      "text/plain": "FloatProgress(value=7.994, bar_style='success', description='THETA', max=13.2, style=ProgressStyle(bar_color='…",
      "application/vnd.jupyter.widget-view+json": {
       "version_major": 2,
       "version_minor": 0,
       "model_id": "d79ea1efd00644c2b7fd5df79fe49505"
      }
     },
     "metadata": {}
    },
    {
     "output_type": "display_data",
     "data": {
      "text/plain": "HTML(value='THETA: 7.994 / 13.2')",
      "application/vnd.jupyter.widget-view+json": {
       "version_major": 2,
       "version_minor": 0,
       "model_id": "22d462294a1a4061956650f06d42708c"
      }
     },
     "metadata": {}
    },
    {
     "output_type": "display_data",
     "data": {
      "text/plain": "FloatProgress(value=19.559, bar_style='success', description='AVAX', max=43.885, style=ProgressStyle(bar_color…",
      "application/vnd.jupyter.widget-view+json": {
       "version_major": 2,
       "version_minor": 0,
       "model_id": "ddeff8eea5d94538bbb99505ad27448e"
      }
     },
     "metadata": {}
    },
    {
     "output_type": "display_data",
     "data": {
      "text/plain": "HTML(value='AVAX: 19.559 / 43.885')",
      "application/vnd.jupyter.widget-view+json": {
       "version_major": 2,
       "version_minor": 0,
       "model_id": "d00e506013d74fe0b586df74ced921ea"
      }
     },
     "metadata": {}
    },
    {
     "output_type": "display_data",
     "data": {
      "text/plain": "FloatProgress(value=0.0043694, bar_style='success', description='DENT', max=0.011699, style=ProgressStyle(bar_…",
      "application/vnd.jupyter.widget-view+json": {
       "version_major": 2,
       "version_minor": 0,
       "model_id": "058fb28df88447f481a1e54b56131b88"
      }
     },
     "metadata": {}
    },
    {
     "output_type": "display_data",
     "data": {
      "text/plain": "HTML(value='DENT: 0.0043694 / 0.011699')",
      "application/vnd.jupyter.widget-view+json": {
       "version_major": 2,
       "version_minor": 0,
       "model_id": "79b4471d9f234fe7a7a7139f73afcbe9"
      }
     },
     "metadata": {}
    },
    {
     "output_type": "display_data",
     "data": {
      "text/plain": "FloatProgress(value=111.77, bar_style='success', description='EGLD', max=205.0, style=ProgressStyle(bar_color=…",
      "application/vnd.jupyter.widget-view+json": {
       "version_major": 2,
       "version_minor": 0,
       "model_id": "021c67f9f20b4f11bb20cafd60c5bba5"
      }
     },
     "metadata": {}
    },
    {
     "output_type": "display_data",
     "data": {
      "text/plain": "HTML(value='EGLD: 111.77 / 205.0')",
      "application/vnd.jupyter.widget-view+json": {
       "version_major": 2,
       "version_minor": 0,
       "model_id": "50a0ab09cae640f293d3b6fac4258c1d"
      }
     },
     "metadata": {}
    },
    {
     "output_type": "display_data",
     "data": {
      "text/plain": "FloatProgress(value=0.00965, bar_style='success', description='HOT', max=0.01684, style=ProgressStyle(bar_colo…",
      "application/vnd.jupyter.widget-view+json": {
       "version_major": 2,
       "version_minor": 0,
       "model_id": "da6f44998d3743f5971516d312211fa0"
      }
     },
     "metadata": {}
    },
    {
     "output_type": "display_data",
     "data": {
      "text/plain": "HTML(value='HOT: 0.00965 / 0.01684')",
      "application/vnd.jupyter.widget-view+json": {
       "version_major": 2,
       "version_minor": 0,
       "model_id": "e7249719922e46d68f831ed03d6986e5"
      }
     },
     "metadata": {}
    },
    {
     "output_type": "display_data",
     "data": {
      "text/plain": "FloatProgress(value=0.08022, bar_style='success', description='TRX', max=0.17, style=ProgressStyle(bar_color='…",
      "application/vnd.jupyter.widget-view+json": {
       "version_major": 2,
       "version_minor": 0,
       "model_id": "d804b4ad861948d89eee62a43e20b86c"
      }
     },
     "metadata": {}
    },
    {
     "output_type": "display_data",
     "data": {
      "text/plain": "HTML(value='TRX: 0.08022 / 0.17')",
      "application/vnd.jupyter.widget-view+json": {
       "version_major": 2,
       "version_minor": 0,
       "model_id": "48ef94dbc57d45908512b49c2a7629f8"
      }
     },
     "metadata": {}
    },
    {
     "output_type": "display_data",
     "data": {
      "text/plain": "FloatProgress(value=0.10673, bar_style='success', description='ONE', max=0.18858, style=ProgressStyle(bar_colo…",
      "application/vnd.jupyter.widget-view+json": {
       "version_major": 2,
       "version_minor": 0,
       "model_id": "b84ea6145a6e46fcb6255e4539b13cf3"
      }
     },
     "metadata": {}
    },
    {
     "output_type": "display_data",
     "data": {
      "text/plain": "HTML(value='ONE: 0.10673 / 0.18858')",
      "application/vnd.jupyter.widget-view+json": {
       "version_major": 2,
       "version_minor": 0,
       "model_id": "f8ba7e0773744c54aa0dafc05bedeb02"
      }
     },
     "metadata": {}
    },
    {
     "output_type": "display_data",
     "data": {
      "text/plain": "FloatProgress(value=9.111, bar_style='success', description='BAND', max=20.673, style=ProgressStyle(bar_color=…",
      "application/vnd.jupyter.widget-view+json": {
       "version_major": 2,
       "version_minor": 0,
       "model_id": "2ad5ce0fe7aa4bfdacdff203c57f3197"
      }
     },
     "metadata": {}
    },
    {
     "output_type": "display_data",
     "data": {
      "text/plain": "HTML(value='BAND: 9.111 / 20.673')",
      "application/vnd.jupyter.widget-view+json": {
       "version_major": 2,
       "version_minor": 0,
       "model_id": "ea3c90fee6f04bc58268acb928f91eb9"
      }
     },
     "metadata": {}
    },
    {
     "output_type": "display_data",
     "data": {
      "text/plain": "FloatProgress(value=2.344, bar_style='success', description='SXP', max=5.87, style=ProgressStyle(bar_color='#b…",
      "application/vnd.jupyter.widget-view+json": {
       "version_major": 2,
       "version_minor": 0,
       "model_id": "84114df6fd934b408e9ff9cc1655fb1e"
      }
     },
     "metadata": {}
    },
    {
     "output_type": "display_data",
     "data": {
      "text/plain": "HTML(value='SXP: 2.344 / 5.87')",
      "application/vnd.jupyter.widget-view+json": {
       "version_major": 2,
       "version_minor": 0,
       "model_id": "25628f64e69944138bad47f258a5614f"
      }
     },
     "metadata": {}
    },
    {
     "output_type": "display_data",
     "data": {
      "text/plain": "FloatProgress(value=32.89, bar_style='success', description='LINK', max=53.0, style=ProgressStyle(bar_color='#…",
      "application/vnd.jupyter.widget-view+json": {
       "version_major": 2,
       "version_minor": 0,
       "model_id": "4870d0d4fe2d43f8b9a79f734ed09455"
      }
     },
     "metadata": {}
    },
    {
     "output_type": "display_data",
     "data": {
      "text/plain": "HTML(value='LINK: 32.89 / 53.0')",
      "application/vnd.jupyter.widget-view+json": {
       "version_major": 2,
       "version_minor": 0,
       "model_id": "5f5d89706ea04cf9a76603022c41146f"
      }
     },
     "metadata": {}
    }
   ],
   "source": [
    "import matplotlib as mpl\n",
    "import matplotlib.pyplot as plt\n",
    "import numpy as np\n",
    "from ipywidgets import IntProgress, widgets\n",
    "\n",
    "def colorFader(c1,c2,mix=0): #fade (linear interpolate) from color c1 (at mix=0) to c2 (mix=1)\n",
    "    c1=np.array(mpl.colors.to_rgb(c1))\n",
    "    c2=np.array(mpl.colors.to_rgb(c2))\n",
    "    return mpl.colors.to_hex((1-mix)*c1 + mix*c2)\n",
    "\n",
    "c1='#FF4600'\n",
    "c2='#3DD600' \n",
    "\n",
    "color = colorFader(c1,c2,mix=0.5)\n",
    "for asset in my_coins:\n",
    "    value=wallet[asset]['Current_market_price']\n",
    "    maxi=wallet[asset]['ATH']\n",
    "    color = colorFader(c1,c2,mix=wallet[asset]['ATH_percent'])\n",
    "    \n",
    "    display(widgets.FloatProgress(\n",
    "        value=value,\n",
    "        min=0,\n",
    "        max=maxi,\n",
    "        description=asset,\n",
    "        bar_style='success',\n",
    "        style={'bar_color': color},\n",
    "        orientation='horizontal',\n",
    "    readout=True,\n",
    "    readout_format='.1f',\n",
    "    disabled=False\n",
    "    ))\n",
    "    \n",
    "    display(widgets.HTML(\n",
    "    value = asset + \": \"+str(wallet[asset]['Current_market_price']) + ' / '+ str(wallet[asset]['ATH'])\n",
    "    ))\n"
   ]
  }
 ]
}