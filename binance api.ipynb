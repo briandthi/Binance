{
 "metadata": {
  "language_info": {
   "codemirror_mode": {
    "name": "ipython",
    "version": 3
   },
   "file_extension": ".py",
   "mimetype": "text/x-python",
   "name": "python",
   "nbconvert_exporter": "python",
   "pygments_lexer": "ipython3",
   "version": "3.7.8"
  },
  "orig_nbformat": 2,
  "kernelspec": {
   "name": "python3",
   "display_name": "Python 3.7.8 64-bit"
  },
  "metadata": {
   "interpreter": {
    "hash": "40a72caf6fa46f53aa7f5b366fbd5b98b2736726cc2be7465f0404892e27bcbd"
   }
  },
  "interpreter": {
   "hash": "40a72caf6fa46f53aa7f5b366fbd5b98b2736726cc2be7465f0404892e27bcbd"
  }
 },
 "nbformat": 4,
 "nbformat_minor": 2,
 "cells": [
  {
   "cell_type": "markdown",
   "source": [
    "# Binance\r\n",
    "\r\n",
    "- Créér un clé API : https://www.binance.com/en/support/faq/360002502072\r\n",
    "- **Quand elle est créée garder en mémoire l'api key et la secret KEY**\r\n",
    "\r\n",
    "- créer un fichier config.cfg dans le même répertoire que le notebook et remplacer les valeurs par celles de l'API créée\r\n",
    "\r\n",
    "```cfg\r\n",
    "[BINANCE]\r\n",
    "API_KEY = YOUR KEY                  \r\n",
    "SECRET_KEY = YOUR SECRET KEY        \r\n",
    "```\r\n",
    "\r\n",
    "\r\n",
    "\r\n",
    "- installer le package python-binance \r\n",
    "\r\n",
    "```shell\r\n",
    "pip install python-binance\r\n",
    "ou\r\n",
    "py -m pip install python-binance\r\n",
    "ou autre\r\n",
    "```\r\n",
    "- Editer la list my_coins avec vos crypto \r\n",
    "```python\r\n",
    "#exemple\r\n",
    "my_coins = ['BTC','USDT', 'ETH']     # A ADAPTER\r\n",
    "```\r\n",
    "\r\n",
    "- Editer la monnaie de référence utilisée : USDT ou EUR\r\n",
    "```python\r\n",
    "#exemple\r\n",
    "reference_asset = 'EUR'     # A ADAPTER\r\n",
    "```\r\n",
    "\r\n",
    "- et lancer tout les cellules\r\n",
    "\r\n",
    "\r\n",
    "(Il peut y avoir des erreurs de désynchronisation d'horloge. Pour corriger cliquer sur l'heure, puis \"paramètre date et heure\", puis \"synchroniser maintenant\")\r\n"
   ],
   "metadata": {}
  },
  {
   "cell_type": "markdown",
   "source": [
    "#### LISTE A COMPLETER"
   ],
   "metadata": {}
  },
  {
   "cell_type": "code",
   "execution_count": null,
   "source": [
    "import requests, json, time, hashlib,hmac, configparser\r\n",
    "import pandas as pd\r\n",
    "import matplotlib.pyplot as plt\r\n",
    "from binance import Client\r\n",
    "# A ADAPTER \r\n",
    "# my_coins = ['BTC', 'ETH', 'ADA', 'DOT', 'MATIC', 'KSM', 'VET', 'SOL', 'BNB', 'CAKE', 'THETA', 'LTC', 'AVAX', 'DENT', 'EGLD', 'HOT', 'TRX', 'ONE', 'BAND', 'SXP','UTK', 'LINK', 'ATA', 'DOGE', 'MBOX', 'USDT' ]\r\n",
    "my_coins = ['BTC', 'ETH', 'ADA', 'EUR']\r\n",
    "reference_asset = 'EUR' # A ADAPTER USDT ou EUR\r\n",
    "\r\n",
    "config = configparser.ConfigParser()\r\n",
    "config.read_file(open('config_nils.cfg'))\r\n",
    "\r\n",
    "KEY = config.get('BINANCE', 'API_KEY')\r\n",
    "SECRET_KEY = config.get('BINANCE', 'SECRET_KEY')\r\n",
    "BASE_URL = 'https://api.binance.com/'\r\n",
    "\r\n",
    "client = Client(KEY, SECRET_KEY)\r\n"
   ],
   "outputs": [],
   "metadata": {}
  },
  {
   "cell_type": "code",
   "execution_count": null,
   "source": [
    "from urllib.parse import urlencode\r\n",
    "\r\n",
    "# fonctions utilitaires\r\n",
    "\r\n",
    "def get_timestamp():\r\n",
    "    return int(time.time() * 1000)\r\n",
    "\r\n",
    "def hashing(query_string):\r\n",
    "    return hmac.new(SECRET_KEY.encode('utf-8'), query_string.encode('utf-8'), hashlib.sha256).hexdigest()\r\n",
    "\r\n",
    "def dispatch_request(http_method):\r\n",
    "    session = requests.Session()\r\n",
    "    session.headers.update({\r\n",
    "        'Content-Type': 'application/json;charset=utf-8',\r\n",
    "        'X-MBX-APIKEY': KEY\r\n",
    "    })\r\n",
    "    return {\r\n",
    "        'GET': session.get,\r\n",
    "        'DELETE': session.delete,\r\n",
    "        'PUT': session.put,\r\n",
    "        'POST': session.post,\r\n",
    "    }.get(http_method, 'GET')\r\n",
    "\r\n",
    "def send_signed_request(http_method, url_path, payload={}):\r\n",
    "    query_string = urlencode(payload, True)\r\n",
    "    if query_string:\r\n",
    "        query_string = \"{}&timestamp={}\".format(query_string, get_timestamp())\r\n",
    "    else:\r\n",
    "        query_string = 'timestamp={}'.format(get_timestamp())\r\n",
    "\r\n",
    "    url = BASE_URL + url_path + '?' + query_string + '&signature=' + hashing(query_string)\r\n",
    "    print(\"{} {}\".format(http_method, url))\r\n",
    "    params = {'url': url, 'params': {}}\r\n",
    "    response = dispatch_request(http_method)(**params)\r\n",
    "    return response.json()\r\n"
   ],
   "outputs": [],
   "metadata": {}
  },
  {
   "cell_type": "code",
   "execution_count": null,
   "source": [
    "# Create wallet\r\n",
    "def create_wallet():\r\n",
    "    wallet = {}\r\n",
    "    for asset in my_coins:\r\n",
    "        wallet[asset] = { 'Current_market_price':0, 'Current_value':0, 'Buy':0, 'Buy_price': 0, 'Buy_Qty':0, 'Sell':0, 'Sell_price': 0, 'Sell_Qty':0, 'Saving_value':0, 'Saving_Qty':0, 'Spot_value':0, 'Spot_Qty':0, 'Stack_value':0, 'Stack_Qty':0, 'ATH': 0, 'ATH_percent':0, 'Buy_price_percent':0, 'Balance':0}\r\n",
    "    return wallet"
   ],
   "outputs": [],
   "metadata": {}
  },
  {
   "cell_type": "code",
   "execution_count": null,
   "source": [
    "# Les ordres disparus mystérieusement\r\n",
    "## A compléter\r\n",
    "mystere = {\r\n",
    "    'BTC': {\r\n",
    "        'mysterious_Qty': 0.001 + 0.002,    # Somme des quantités des ordres disparus\r\n",
    "        'mysterious_Cost': 50 + 100       # Somme des coûts des ordres disparus\r\n",
    "    },\r\n",
    "    'ETH': {\r\n",
    "        'mysterious_Qty': 0.1,    # Somme des quantités des ordres disparus\r\n",
    "        'mysterious_Cost': 300       # Somme des coûts des ordres disparus\r\n",
    "    }\r\n",
    "}"
   ],
   "outputs": [],
   "metadata": {}
  },
  {
   "cell_type": "code",
   "execution_count": null,
   "source": [
    "# Get order history\r\n",
    "def update_order_history(wallet, reference_asset, missing_orders = False):\r\n",
    "    for asset in my_coins:\r\n",
    "        symbol = asset + reference_asset\r\n",
    "        if symbol != reference_asset + reference_asset :\r\n",
    "            orders_history = client.get_all_orders(symbol=symbol)\r\n",
    "            sum_coin = 0.0\r\n",
    "            sum_cost = 0.0\r\n",
    "            sell_coin = 0.0\r\n",
    "            sell_cost = 0.0\r\n",
    "            # add missing orders\r\n",
    "            if missing_orders:\r\n",
    "                try:\r\n",
    "                    sum_coin += mystere[asset]['mysterious_Qty']\r\n",
    "                    sum_cost += mystere[asset]['mysterious_Cost']\r\n",
    "                except:\r\n",
    "                    pass\r\n",
    "            for order in orders_history:\r\n",
    "                #print(asset, order['executedQty'], float(order['executedQty']) * float(order['price']))\r\n",
    "                if order['side'] == 'BUY':\r\n",
    "                    sum_cost += float(order['executedQty']) * float(order['price'])\r\n",
    "                    sum_coin += float(order['executedQty']) \r\n",
    "                elif order['side'] == 'SELL':\r\n",
    "                    sell_cost +=  float(order['executedQty']) * float(order['price'])\r\n",
    "                    sell_coin += float(order['executedQty'])\r\n",
    "            if sum_coin > wallet[asset]['Buy_Qty']:\r\n",
    "                wallet[asset]['Buy_Qty'] = sum_coin \r\n",
    "                wallet[asset]['Buy_price'] = sum_cost / sum_coin\r\n",
    "                wallet[asset]['Buy'] = sum_cost\r\n",
    "                if sell_cost != 0:\r\n",
    "                    wallet[asset]['Sell_Qty'] = sell_coin \r\n",
    "                    wallet[asset]['Sell_price'] = sell_cost / sell_coin\r\n",
    "                    wallet[asset]['Sell'] = sell_cost"
   ],
   "outputs": [],
   "metadata": {}
  },
  {
   "cell_type": "code",
   "execution_count": null,
   "source": [
    "def update_market_price(wallet, reference_asset):\r\n",
    "    all_coins = client.get_all_tickers()\r\n",
    "    for asset in my_coins:\r\n",
    "        if asset != reference_asset:\r\n",
    "            for symbol in all_coins:\r\n",
    "                if symbol['symbol'] == asset + reference_asset:\r\n",
    "                    wallet[asset]['Current_market_price'] = float(symbol['price'])\r\n",
    "        else:\r\n",
    "            wallet[asset]['Current_market_price'] = 1"
   ],
   "outputs": [],
   "metadata": {}
  },
  {
   "cell_type": "code",
   "execution_count": null,
   "source": [
    "# Get current Savings\r\n",
    "def update_saving(wallet):\r\n",
    "    saving = send_signed_request('GET', 'sapi/v1/lending/union/account')\r\n",
    "    savings = saving['positionAmountVos']\r\n",
    "    for asset in savings:\r\n",
    "        try :\r\n",
    "            wallet[asset['asset']][\"Saving_Qty\"] = float(asset['amount'])\r\n",
    "            wallet[asset['asset']][\"Saving_value\"] = float(asset['amount']) * wallet[asset['asset']]['Current_market_price']\r\n",
    "            wallet[asset['asset']][\"Saving_Qty\"] = float(asset['amount'])\r\n",
    "        except:\r\n",
    "            pass"
   ],
   "outputs": [],
   "metadata": {}
  },
  {
   "cell_type": "code",
   "execution_count": null,
   "source": [
    "# stop value\r\n",
    "def update_spot(wallet, reference_asset):\r\n",
    "    spot = send_signed_request('GET', 'api/v3/account')\r\n",
    "\r\n",
    "    for asset in my_coins:\r\n",
    "        for asset_spot in spot[\"balances\"]:\r\n",
    "            if asset_spot['asset'] == asset:\r\n",
    "                if asset != reference_asset:\r\n",
    "                    wallet[asset]['Spot_value'] = wallet[asset]['Current_market_price'] * float(asset_spot['free'])\r\n",
    "                    wallet[asset]['Spot_Qty'] = float(asset_spot['free'])\r\n",
    "                else:\r\n",
    "                    wallet[asset]['Spot_value'] = float(asset_spot['free'])"
   ],
   "outputs": [],
   "metadata": {
    "tags": []
   }
  },
  {
   "cell_type": "code",
   "execution_count": null,
   "source": [
    "# get stacking value\r\n",
    "def update_stacking(wallet):    \r\n",
    "    ## Methode brut\r\n",
    "    # A ADAPTER\r\n",
    "    # stack = {'ADA':33.3+17.2+6.247+18.94+7.992+14.5+8.02,  'KSM':0.1599+0.24, 'MATIC':65+139.7+18, 'VET':497 , 'CAKE':1.785+4.06, 'SOL':0.5, 'DOT':9.556 , 'ETH':0.068836, 'BNB': 0.09388}\r\n",
    "    # for asset in my_coins:\r\n",
    "    #     try:\r\n",
    "    #         coin = stack[asset]\r\n",
    "    #         wallet[asset]['Stack_value'] = wallet[asset]['Current_market_price'] * coin\r\n",
    "    #         wallet[asset]['Stack_Qty'] = stack[asset]\r\n",
    "    #     except:\r\n",
    "    #         pass\r\n",
    "\r\n",
    "    ## Methode par déduction\r\n",
    "    for asset in my_coins:\r\n",
    "        if ( wallet[asset]['Saving_Qty'] + wallet[asset]['Spot_Qty'] ) < ( wallet[asset]['Buy_Qty'] - wallet[asset]['Sell_Qty']):\r\n",
    "            wallet[asset]['Stack_Qty'] =  wallet[asset]['Buy_Qty'] - wallet[asset]['Saving_Qty'] - wallet[asset]['Spot_Qty'] - wallet[asset]['Sell_Qty']\r\n",
    "            wallet[asset]['Stack_value'] = wallet[asset]['Current_market_price'] * wallet[asset]['Stack_Qty']"
   ],
   "outputs": [],
   "metadata": {}
  },
  {
   "cell_type": "code",
   "execution_count": null,
   "source": [
    "# balance calcul\r\n",
    "def update_balance(wallet):\r\n",
    "    for asset in my_coins:\r\n",
    "        wallet[asset][\"Balance\"] =  int(wallet[asset][\"Stack_value\"] + wallet[asset][\"Saving_value\"] + wallet[asset][\"Spot_value\"] -  wallet[asset][\"Buy\"] + wallet[asset][\"Sell\"])"
   ],
   "outputs": [],
   "metadata": {}
  },
  {
   "cell_type": "code",
   "execution_count": null,
   "source": [
    "# Get ATH\r\n",
    "def update_ath(wallet, reference_asset):\r\n",
    "    for asset in my_coins:\r\n",
    "        if asset != reference_asset:\r\n",
    "            earliest_timestamp = client._get_earliest_valid_timestamp(asset + reference_asset, '1d')  # Here \"ETHUSDT\" is a trading pair and \"1d\" is time interval\r\n",
    "            candle = client.get_historical_klines(asset + reference_asset, Client.KLINE_INTERVAL_1WEEK, \"2 year ago UTC\")\r\n",
    "            max_asset = 0\r\n",
    "            for c in candle:\r\n",
    "                if float(c[2]) > max_asset:\r\n",
    "                    max_asset = float(c[2])\r\n",
    "            wallet[asset]['ATH'] = max_asset\r\n",
    "            wallet[asset]['ATH_percent'] = str(int(wallet[asset]['Current_market_price'] * 100 // wallet[asset]['ATH'] ))+ \" %\""
   ],
   "outputs": [],
   "metadata": {}
  },
  {
   "cell_type": "code",
   "execution_count": null,
   "source": [
    "def update_buy_price_percent(wallet):\r\n",
    "    for asset in my_coins:\r\n",
    "        if wallet[asset]['Current_market_price'] != 0:\r\n",
    "            wallet[asset]['Buy_price_percent'] = str(100 - int(wallet[asset]['Buy_price'] * 100 // wallet[asset]['Current_market_price'])) + \" %\""
   ],
   "outputs": [],
   "metadata": {}
  },
  {
   "cell_type": "code",
   "execution_count": null,
   "source": [
    "def update_current_value(wallet):\r\n",
    "    for asset in my_coins:\r\n",
    "        wallet[asset]['Current_value'] = wallet[asset]['Spot_value']  + wallet[asset]['Stack_value'] + wallet[asset]['Saving_value']\r\n",
    "    if asset == reference_asset:\r\n",
    "        wallet[asset]['Buy'] = wallet[asset]['Current_value']"
   ],
   "outputs": [],
   "metadata": {}
  },
  {
   "cell_type": "code",
   "execution_count": null,
   "source": [
    "def init(reference_asset):\r\n",
    "    wallet = create_wallet()\r\n",
    "    update_market_price(wallet, reference_asset)\r\n",
    "    update_order_history(wallet, reference_asset, True)\r\n",
    "    update_ath(wallet, reference_asset)\r\n",
    "    return wallet\r\n"
   ],
   "outputs": [],
   "metadata": {
    "tags": []
   }
  },
  {
   "cell_type": "code",
   "execution_count": null,
   "source": [
    "wallet = init(reference_asset)"
   ],
   "outputs": [],
   "metadata": {}
  },
  {
   "cell_type": "code",
   "execution_count": null,
   "source": [
    "def quick_update(wallet, reference_asset):\r\n",
    "    update_market_price(wallet, reference_asset)\r\n",
    "    update_saving(wallet)\r\n",
    "    update_spot(wallet, reference_asset)\r\n",
    "    update_stacking(wallet)\r\n",
    "    update_balance(wallet)\r\n",
    "    update_buy_price_percent(wallet)\r\n",
    "    update_current_value(wallet)\r\n",
    "    ## Si besoin de faire un export\r\n",
    "    # with open(\"binance.json\", \"w\") as outfile: \r\n",
    "    #     json.dump(wallet, outfile)\r\n",
    "    return wallet"
   ],
   "outputs": [],
   "metadata": {}
  },
  {
   "cell_type": "markdown",
   "source": [
    "* *Current_market_price*: **prix actuel du marché**\r\n",
    "* *Current_value*: **Valeur actuelle du portefeuille par asset**\r\n",
    "* *Buy*: **Montant investit dans l'asset**\r\n",
    "* *Buy_price*: **Valeur moyenne d'achat de l'asset**\r\n",
    "* *Buy_Qty*: **Nombre total d'asset acheté**\r\n",
    "* *Sell*: **Montant total de vente**\r\n",
    "* *Sell_price*: **prix de vente**\r\n",
    "* *Sell_Qty*: **Montant total d'asset vendu**\r\n",
    "* *Saving_value*: **Valeur de l'asset en saving**\r\n",
    "* *Saving_Qty*: **Quantité de l'asset en saving**\r\n",
    "* *Spot_value*: **Valeur de l'asset en spot**\r\n",
    "* *Spot_Qty*: **Quantité de l'asset en spot**\r\n",
    "* *Stack_value*: **Valeur de l'asset en sacking**\r\n",
    "* *Stack_Qty*: **Quantité de l'asset en sacking**\r\n",
    "* *ATH*: **Valeur maximale atteinte par l'asset**\r\n",
    "* *ATH_percent*: **Distance en pourcentage de l'ATH**\r\n",
    "* *Buy_price_percent*: **Distance en pourcentage du prix d'achat moyen**\r\n",
    "* *Balance*: **Plus ou moins value sur l'asset**"
   ],
   "metadata": {}
  },
  {
   "cell_type": "code",
   "execution_count": null,
   "source": [
    "wallet = quick_update(wallet, reference_asset)\r\n",
    "pd.DataFrame.from_dict(wallet,  orient='index')"
   ],
   "outputs": [],
   "metadata": {}
  },
  {
   "cell_type": "code",
   "execution_count": null,
   "source": [
    "# Current repartition\r\n",
    "sizes = [wallet[asset]['Spot_value'] + wallet[asset]['Saving_value'] + wallet[asset]['Stack_value'] for asset in  my_coins]\r\n",
    "colors = ['yellowgreen', 'gold', 'lightskyblue', 'lightcoral', 'red', 'yellow', 'violet', 'black', 'pink', 'grey', 'blue', 'brown']\r\n",
    "plt.figure()\r\n",
    "plt.pie(sizes, labels = my_coins, colors=colors, \r\n",
    "        autopct='%1.1f%%', shadow=True, startangle=90, textprops={'color':\"w\"})\r\n",
    "plt.axis('equal')\r\n",
    "plt.show()"
   ],
   "outputs": [],
   "metadata": {}
  },
  {
   "cell_type": "code",
   "execution_count": null,
   "source": [
    "# Initial repartition\r\n",
    "sizes = [wallet[asset]['Buy'] - wallet[asset]['Sell'] for asset in  my_coins]\r\n",
    "colors = ['yellowgreen', 'gold', 'lightskyblue', 'lightcoral', 'red', 'yellow', 'violet', 'black', 'pink', 'grey', 'blue', 'brown']\r\n",
    "plt.figure()\r\n",
    "plt.pie(sizes, labels = my_coins, colors=colors, \r\n",
    "        autopct='%1.1f%%', shadow=True, startangle=90, textprops={'color':\"w\"})\r\n",
    "plt.axis('equal')\r\n",
    "plt.show()"
   ],
   "outputs": [],
   "metadata": {}
  },
  {
   "cell_type": "code",
   "execution_count": null,
   "source": [
    "## Bilan\r\n",
    "\r\n",
    "# global balance\r\n",
    "les_chiffres = {}\r\n",
    "les_chiffres['current_value'] = 0\r\n",
    "les_chiffres['total ' + reference_asset + ' invest'] = 0\r\n",
    "les_chiffres['total_spot'] = 0\r\n",
    "les_chiffres['total_saving'] = 0\r\n",
    "les_chiffres['total_stacking'] = 0\r\n",
    "les_chiffres['balance'] = 0\r\n",
    "les_chiffres['plus-value'] = 0\r\n",
    "les_chiffres['plus-value percent'] = 0\r\n",
    "\r\n",
    "for asset in wallet:\r\n",
    "    if asset != reference_asset:\r\n",
    "        les_chiffres['balance'] += wallet[asset]['Balance']\r\n",
    "        les_chiffres['total ' + reference_asset + ' invest'] +=  wallet[asset]['Buy']\r\n",
    "        les_chiffres['total ' + reference_asset + ' invest'] -=  wallet[asset]['Sell']\r\n",
    "        les_chiffres['total_spot'] += wallet[asset]['Spot_value']\r\n",
    "        les_chiffres['total_saving'] += wallet[asset]['Saving_value']\r\n",
    "        les_chiffres['total_stacking'] += wallet[asset]['Stack_value']\r\n",
    "    else:\r\n",
    "        les_chiffres['total ' + reference_asset + ' invest'] +=wallet[asset]['Balance']\r\n",
    "        les_chiffres['total_spot'] += wallet[asset]['Spot_value']\r\n",
    "        les_chiffres['total_saving'] += wallet[asset]['Saving_value']\r\n",
    "        les_chiffres['total_stacking'] += wallet[asset]['Stack_value']\r\n",
    "\r\n",
    "les_chiffres['current_value'] = les_chiffres['total_spot'] + les_chiffres['total_saving'] + les_chiffres['total_stacking']\r\n",
    "\r\n",
    "\r\n",
    "les_chiffres['plus-value'] = les_chiffres['current_value'] - les_chiffres['total ' + reference_asset + ' invest']\r\n",
    "les_chiffres['plus-value percent'] = (les_chiffres['current_value'] - les_chiffres['total ' + reference_asset + ' invest']) / les_chiffres['total ' + reference_asset + ' invest'] * 100\r\n",
    "\r\n",
    "pd.DataFrame.from_dict(les_chiffres,  orient='index')"
   ],
   "outputs": [],
   "metadata": {}
  },
  {
   "cell_type": "code",
   "execution_count": null,
   "source": [
    "plt.figure(1, figsize=(10, 10))\r\n",
    "chats_labels = my_coins\r\n",
    "num_columns = 4                                \r\n",
    "num_rows  = len(chats_labels) // 4 + 1\r\n",
    "fig, ax = plt.subplots(num_rows,num_columns)\r\n",
    "label = ['spot', 'saving', \"stacking\"]\r\n",
    "for i, coin in enumerate(chats_labels):\r\n",
    "    data = [wallet[coin]['Spot_value'], wallet[coin]['Saving_value'], wallet[coin]['Stack_value']]\r\n",
    "    ax[i//4,i%4].set_title(coin)                           # Add 1 to j index\r\n",
    "    ax[i//4,i%4].pie(data, labels=label,                 # Add 1 to j index\r\n",
    "                autopct='%1.1f%%', shadow=True, startangle=90)\r\n",
    "fig.set_size_inches(15,15)\r\n",
    "plt.show()"
   ],
   "outputs": [],
   "metadata": {}
  },
  {
   "cell_type": "code",
   "execution_count": null,
   "source": [
    "import matplotlib as mpl\r\n",
    "import matplotlib.pyplot as plt\r\n",
    "import numpy as np\r\n",
    "from ipywidgets import IntProgress, widgets\r\n",
    "\r\n",
    "def colorFader(c1,c2,mix=0): #fade (linear interpolate) from color c1 (at mix=0) to c2 (mix=1)\r\n",
    "    c1=np.array(mpl.colors.to_rgba(c1))\r\n",
    "    c2=np.array(mpl.colors.to_rgba(c2))\r\n",
    "    return mpl.colors.to_hex((1-mix)*c1 + mix*c2)\r\n",
    "\r\n",
    "c1='#FF4600'\r\n",
    "c2='#3DD600' \r\n",
    "\r\n",
    "for asset in my_coins:\r\n",
    "    value=wallet[asset]['Current_market_price']\r\n",
    "    maxi=wallet[asset]['ATH']\r\n",
    "    color = colorFader(c1,c2,mix=int(wallet[asset]['ATH_percent'][:2])/100)\r\n",
    "    \r\n",
    "    display(widgets.FloatProgress(\r\n",
    "        value=value,\r\n",
    "        min=0,\r\n",
    "        max=maxi,\r\n",
    "        description=asset,\r\n",
    "        bar_style='success',\r\n",
    "        style={'bar_color': color},\r\n",
    "        orientation='horizontal',\r\n",
    "    readout=True,\r\n",
    "    readout_format='.1f',\r\n",
    "    disabled=False\r\n",
    "    ))\r\n",
    "    \r\n",
    "    display(widgets.HTML(\r\n",
    "    value = asset + \": \"+str(wallet[asset]['Current_market_price']) + ' / '+ str(wallet[asset]['ATH'])\r\n",
    "    ))"
   ],
   "outputs": [],
   "metadata": {}
  },
  {
   "cell_type": "code",
   "execution_count": null,
   "source": [],
   "outputs": [],
   "metadata": {}
  }
 ]
}