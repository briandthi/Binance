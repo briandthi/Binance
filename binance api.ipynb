{
 "metadata": {
  "language_info": {
   "codemirror_mode": {
    "name": "ipython",
    "version": 3
   },
   "file_extension": ".py",
   "mimetype": "text/x-python",
   "name": "python",
   "nbconvert_exporter": "python",
   "pygments_lexer": "ipython3",
   "version": "3.7.8"
  },
  "orig_nbformat": 2,
  "kernelspec": {
   "name": "python3",
   "display_name": "Python 3.7.8 64-bit"
  },
  "metadata": {
   "interpreter": {
    "hash": "40a72caf6fa46f53aa7f5b366fbd5b98b2736726cc2be7465f0404892e27bcbd"
   }
  },
  "interpreter": {
   "hash": "40a72caf6fa46f53aa7f5b366fbd5b98b2736726cc2be7465f0404892e27bcbd"
  }
 },
 "nbformat": 4,
 "nbformat_minor": 2,
 "cells": [
  {
   "cell_type": "markdown",
   "source": [
    "# Binance\n",
    "\n",
    "- Créér un clé API : https://www.binance.com/en/support/faq/360002502072\n",
    "- **Quand elle est créée garder en mémoire l'api key et la secret KEY**\n",
    "\n",
    "- créer un fichier config.cfg dans le même répertoire que le notebook et remplacer les valeurs par celles de l'API créée\n",
    "\n",
    "```cfg\n",
    "[BINANCE]\n",
    "API_KEY = YOUR KEY                  \n",
    "SECRET_KEY = YOUR SECRET KEY        \n",
    "```\n",
    "\n",
    "\n",
    "\n",
    "- installer le package python-binance \n",
    "\n",
    "```shell\n",
    "pip install python-binance\n",
    "ou\n",
    "py -m pip install python-binance\n",
    "ou autre\n",
    "```\n",
    "- Editer la list my_coins avec vos crypto \n",
    "```python\n",
    "#exemple\n",
    "my_coins = ['BTC','USDT', 'ETH']     # A ADAPTER\n",
    "```\n",
    "\n",
    "- Editer le dict stack car l'API ne sait pas encore récupérer les crypto stackées \n",
    "\n",
    "```python\n",
    "#exemple\n",
    "stack = {'DOT':3, 'ADA':6.1938, 'CAKE':3.125, 'TRX': 67}      # A ADAPTER\n",
    "```\n",
    "\n",
    "- et lancer tout les cellules\n",
    "! Tout est en dollars\n",
    "\n",
    "\n",
    "(Il peut y avoir des erreurs de désynchronisation d'horloge. Pour corriger cliquer sur l'heure, puis \"paramètre date et heure\", puis \"synchroniser maintenant\")\n"
   ],
   "metadata": {}
  },
  {
   "cell_type": "markdown",
   "source": [
    "#### LISTE A COMPLETER"
   ],
   "metadata": {}
  },
  {
   "cell_type": "code",
   "execution_count": 1,
   "source": [
    "import requests, json, time, hashlib,hmac, configparser\r\n",
    "from binance import Client\r\n",
    "# A ADAPTER \r\n",
    "my_coins = ['BTC', 'ETH', 'ADA', 'DOT', 'MATIC', 'KSM', 'CAKE', 'VET', 'SOL', 'BNB', 'LTC', 'THETA', 'AVAX', 'DENT', 'EGLD', 'HOT', 'TRX', 'ONE', 'BAND', 'SXP', 'LINK', 'UTK', 'USDT', 'BUSD']  \r\n",
    "my_symbols = [coin + 'USDT' for coin in my_coins]\r\n",
    "\r\n",
    "config = configparser.ConfigParser()\r\n",
    "config.read_file(open('config.cfg'))\r\n",
    "\r\n",
    "KEY = config.get('BINANCE', 'API_KEY')\r\n",
    "SECRET_KEY = config.get('BINANCE', 'SECRET_KEY')\r\n",
    "BASE_URL = 'https://api.binance.com/'\r\n",
    "\r\n",
    "client = Client(KEY, SECRET_KEY)\r\n"
   ],
   "outputs": [],
   "metadata": {}
  },
  {
   "cell_type": "code",
   "execution_count": 2,
   "source": [
    "from urllib.parse import urlencode\r\n",
    "\r\n",
    "# fonctions utilitaires\r\n",
    "\r\n",
    "def get_timestamp():\r\n",
    "    return int(time.time() * 1000)\r\n",
    "\r\n",
    "def hashing(query_string):\r\n",
    "    return hmac.new(SECRET_KEY.encode('utf-8'), query_string.encode('utf-8'), hashlib.sha256).hexdigest()\r\n",
    "\r\n",
    "def dispatch_request(http_method):\r\n",
    "    session = requests.Session()\r\n",
    "    session.headers.update({\r\n",
    "        'Content-Type': 'application/json;charset=utf-8',\r\n",
    "        'X-MBX-APIKEY': KEY\r\n",
    "    })\r\n",
    "    return {\r\n",
    "        'GET': session.get,\r\n",
    "        'DELETE': session.delete,\r\n",
    "        'PUT': session.put,\r\n",
    "        'POST': session.post,\r\n",
    "    }.get(http_method, 'GET')\r\n",
    "\r\n",
    "def send_signed_request(http_method, url_path, payload={}):\r\n",
    "    query_string = urlencode(payload, True)\r\n",
    "    if query_string:\r\n",
    "        query_string = \"{}&timestamp={}\".format(query_string, get_timestamp())\r\n",
    "    else:\r\n",
    "        query_string = 'timestamp={}'.format(get_timestamp())\r\n",
    "\r\n",
    "    url = BASE_URL + url_path + '?' + query_string + '&signature=' + hashing(query_string)\r\n",
    "    print(\"{} {}\".format(http_method, url))\r\n",
    "    params = {'url': url, 'params': {}}\r\n",
    "    response = dispatch_request(http_method)(**params)\r\n",
    "    return response.json()\r\n"
   ],
   "outputs": [],
   "metadata": {}
  },
  {
   "cell_type": "code",
   "execution_count": 3,
   "source": [
    "# Create wallet\r\n",
    "def create_wallet():\r\n",
    "    wallet = {}\r\n",
    "    for asset in my_coins:\r\n",
    "        wallet[asset] = { 'Current_market_price':0, 'Current_value':0, 'Buy':0, 'Buy_price': 0, 'Buy_Qty':0, 'Sell':0, 'Sell_price': 0, 'Sell_Qty':0, 'Saving_value':0, 'Saving_Qty':0, 'Spot_value':0, 'Spot_Qty':0, 'Stack_value':0, 'Stack_Qty':0, 'ATH': 0, 'ATH_percent':0, 'Buy_price_percent':0, 'Balance':0}\r\n",
    "    return wallet"
   ],
   "outputs": [],
   "metadata": {}
  },
  {
   "cell_type": "code",
   "execution_count": 4,
   "source": [
    "# Get order history\r\n",
    "def update_order_history(wallet):\r\n",
    "    for symbol in my_symbols:\r\n",
    "        \r\n",
    "        if symbol != 'USDTUSDT' and symbol != 'BUSDUSDT':\r\n",
    "            for i in range(3):\r\n",
    "                orders_history = []\r\n",
    "                while orders_history == [] :\r\n",
    "                    orders_history = client.get_all_orders(symbol=symbol)\r\n",
    "                sum_coin = 0.0\r\n",
    "                sum_cost = 0.0\r\n",
    "                sell_coin = 0.0\r\n",
    "                sell_cost = 0.0\r\n",
    "                for order in orders_history:\r\n",
    "                    if order['side'] == 'BUY':\r\n",
    "                        sum_cost += float(order['executedQty']) * float(order['price'])\r\n",
    "                        sum_coin += float(order['executedQty']) \r\n",
    "                    elif order['side'] == 'SELL':\r\n",
    "                        sell_cost +=  float(order['executedQty']) * float(order['price'])\r\n",
    "                        sell_coin += float(order['executedQty'])\r\n",
    "                if sum_coin > wallet[symbol.replace('USDT', '')]['Buy_Qty']:\r\n",
    "                    wallet[symbol.replace('USDT', '')]['Buy_Qty'] = sum_coin \r\n",
    "                    wallet[symbol.replace('USDT', '')]['Buy_price'] = sum_cost / sum_coin\r\n",
    "                    wallet[symbol.replace('USDT', '')]['Buy'] = sum_cost\r\n",
    "                    if sell_cost != 0:\r\n",
    "                        wallet[symbol.replace('USDT', '')]['Sell_Qty'] = sell_coin \r\n",
    "                        wallet[symbol.replace('USDT', '')]['Sell_price'] = sell_cost / sell_coin\r\n",
    "                        wallet[symbol.replace('USDT', '')]['Sell'] = sell_cost"
   ],
   "outputs": [],
   "metadata": {}
  },
  {
   "cell_type": "code",
   "execution_count": 5,
   "source": [
    "def update_market_price(wallet):\r\n",
    "    all_coins = client.get_all_tickers()\r\n",
    "    for asset in my_coins:\r\n",
    "        if asset != 'USDT':\r\n",
    "            for symbol in all_coins:\r\n",
    "                if symbol['symbol'] == asset+'USDT':\r\n",
    "                    wallet[asset]['Current_market_price'] = float(symbol['price'])"
   ],
   "outputs": [],
   "metadata": {}
  },
  {
   "cell_type": "code",
   "execution_count": 6,
   "source": [
    "# Get current Savings\r\n",
    "def update_saving(wallet):\r\n",
    "    saving = send_signed_request('GET', 'sapi/v1/lending/union/account')\r\n",
    "    savings = saving['positionAmountVos']\r\n",
    "    for asset in savings:\r\n",
    "        wallet[asset['asset']][\"Saving_value\"] = float(asset['amountInUSDT'])\r\n",
    "        wallet[asset['asset']][\"Saving_Qty\"] = float(asset['amount'])"
   ],
   "outputs": [],
   "metadata": {}
  },
  {
   "cell_type": "code",
   "execution_count": 7,
   "source": [
    "# stop value\r\n",
    "def update_spot(wallet):\r\n",
    "    spot = send_signed_request('GET', 'api/v3/account')\r\n",
    "\r\n",
    "    for asset in my_coins:\r\n",
    "        for asset_spot in spot[\"balances\"]:\r\n",
    "            if asset_spot['asset'] == asset:\r\n",
    "                if asset != \"USDT\":\r\n",
    "                    wallet[asset]['Spot_value'] = wallet[asset]['Current_market_price'] * float(asset_spot['free'])\r\n",
    "                    wallet[asset]['Spot_Qty'] = float(asset_spot['free'])\r\n",
    "                else:\r\n",
    "                    wallet[asset]['Spot_value'] = float(asset_spot['free'])"
   ],
   "outputs": [],
   "metadata": {
    "tags": []
   }
  },
  {
   "cell_type": "markdown",
   "source": [
    "#### STACK A COMPLETER"
   ],
   "metadata": {}
  },
  {
   "cell_type": "code",
   "execution_count": 8,
   "source": [
    "# get stacking value\r\n",
    "def update_stacking(wallet):    \r\n",
    "    # A ADAPTER\r\n",
    "    stack = {'ADA':33.3+17.2+6.247+18.94+7.992+14.5+8.02,  'KSM':0.1599+0.24, 'MATIC':65+139.7+18, 'VET':497 , 'CAKE':1.785+4.06, 'SOL':0.5, 'DOT':9.556 , 'ETH':0.068836, 'BNB': 0.09388}\r\n",
    "    for asset in my_coins:\r\n",
    "        try:\r\n",
    "            coin = stack[asset]\r\n",
    "            wallet[asset]['Stack_value'] = wallet[asset]['Current_market_price'] * coin\r\n",
    "            wallet[asset]['Stack_Qty'] = stack[asset]\r\n",
    "        except:\r\n",
    "            pass"
   ],
   "outputs": [],
   "metadata": {}
  },
  {
   "cell_type": "code",
   "execution_count": 9,
   "source": [
    "# balance calcul\r\n",
    "def update_balance(wallet):\r\n",
    "    for asset in my_coins:\r\n",
    "        wallet[asset][\"Balance\"] =  wallet[asset][\"Stack_value\"] + wallet[asset][\"Saving_value\"] + wallet[asset][\"Spot_value\"] -  wallet[asset][\"Buy\"] + wallet[asset][\"Sell\"]"
   ],
   "outputs": [],
   "metadata": {}
  },
  {
   "cell_type": "code",
   "execution_count": 10,
   "source": [
    "# Get ATH\r\n",
    "def update_ath(wallet):\r\n",
    "    for asset in my_coins:\r\n",
    "        if asset != 'USDT':\r\n",
    "            earliest_timestamp = client._get_earliest_valid_timestamp(asset + 'USDT', '1d')  # Here \"ETHUSDT\" is a trading pair and \"1d\" is time interval\r\n",
    "            candle = client.get_historical_klines(asset + 'USDT', Client.KLINE_INTERVAL_1WEEK, \"1 May, 2021\")\r\n",
    "            max_asset = 0\r\n",
    "            for c in candle:\r\n",
    "                if float(c[2]) > max_asset:\r\n",
    "                    max_asset = float(c[2])\r\n",
    "            wallet[asset]['ATH'] = max_asset\r\n",
    "            wallet[asset]['ATH_percent'] = wallet[asset]['Current_market_price'] / wallet[asset]['ATH'] * 100"
   ],
   "outputs": [],
   "metadata": {}
  },
  {
   "cell_type": "code",
   "execution_count": 11,
   "source": [
    "def update_buy_price_percent(wallet):\r\n",
    "    for asset in my_coins:\r\n",
    "        if wallet[asset]['Current_market_price'] != 0:\r\n",
    "            wallet[asset]['Buy_price_percent'] = wallet[asset]['Buy_price']  / wallet[asset]['Current_market_price'] * 100"
   ],
   "outputs": [],
   "metadata": {}
  },
  {
   "cell_type": "code",
   "execution_count": 12,
   "source": [
    "def update_current_value(wallet):\r\n",
    "    for asset in my_coins:\r\n",
    "        wallet[asset]['Current_value'] = wallet[asset]['Spot_value']  + wallet[asset]['Stack_value'] + wallet[asset]['Saving_value']"
   ],
   "outputs": [],
   "metadata": {}
  },
  {
   "cell_type": "code",
   "execution_count": 13,
   "source": [
    "def init():\r\n",
    "    wallet = create_wallet()\r\n",
    "    update_market_price(wallet)\r\n",
    "    update_order_history(wallet)\r\n",
    "    update_ath(wallet)\r\n",
    "    # with open(\"binance.json\", \"w\") as outfile: \r\n",
    "    #     json.dump(wallet, outfile)\r\n",
    "    return wallet\r\n"
   ],
   "outputs": [],
   "metadata": {
    "tags": []
   }
  },
  {
   "cell_type": "code",
   "execution_count": 14,
   "source": [
    "wallet = init()"
   ],
   "outputs": [],
   "metadata": {}
  },
  {
   "cell_type": "code",
   "execution_count": 15,
   "source": [
    "def quick_update(wallet):\r\n",
    "    update_market_price(wallet)\r\n",
    "    update_saving(wallet)\r\n",
    "    update_spot(wallet)\r\n",
    "    update_stacking(wallet)\r\n",
    "    update_balance(wallet)\r\n",
    "    update_buy_price_percent(wallet)\r\n",
    "    update_current_value(wallet)\r\n",
    "    return wallet"
   ],
   "outputs": [],
   "metadata": {}
  },
  {
   "cell_type": "code",
   "execution_count": 16,
   "source": [
    "wallet = quick_update(wallet)"
   ],
   "outputs": [
    {
     "output_type": "stream",
     "name": "stdout",
     "text": [
      "GET https://api.binance.com/sapi/v1/lending/union/account?timestamp=1628336071862&signature=79e10580bf97a4545d2b814d6a93815af6ace538a61e4e3d7c49d8bf1d11ad19\n",
      "GET https://api.binance.com/api/v3/account?timestamp=1628336072206&signature=77cbc02ed6fd7446fc949253337fc544204e5227d3b781244cbc540d92e6cf56\n"
     ]
    }
   ],
   "metadata": {}
  },
  {
   "cell_type": "markdown",
   "source": [
    "* *Current_market_price*: **prix actuel du marché**\r\n",
    "* *Current_value*: **Valeur actuelle du portefeuille par asset**\r\n",
    "* *Buy*: **Montant investit dans l'asset**\r\n",
    "* *Buy_price*: **Valeur moyenne d'achat de l'asset**\r\n",
    "* *Buy_Qty*: **Nombre total d'asset acheté**\r\n",
    "* *Sell*: **Montant total de vente**\r\n",
    "* *Sell_price*: **prix de vente**\r\n",
    "* *Sell_Qty*: **Montant total d'asset vendu**\r\n",
    "* *Saving_value*: **Valeur de l'asset en saving**\r\n",
    "* *Saving_Qty*: **Quantité de l'asset en saving**\r\n",
    "* *Spot_value*: **Valeur de l'asset en spot**\r\n",
    "* *Spot_Qty*: **Quantité de l'asset en spot**\r\n",
    "* *Stack_value*: **Valeur de l'asset en sacking**\r\n",
    "* *Stack_Qty*: **Quantité de l'asset en sacking**\r\n",
    "* *ATH*: **Valeur maximale atteinte par l'asset**\r\n",
    "* *ATH_percent*: **Distance en pourcentage de l'ATH**\r\n",
    "* *Buy_price_percent*: **Distance en pourcentage du prix d'achat moyen**\r\n",
    "* *Balance*: **Plus ou moins value sur l'asset**"
   ],
   "metadata": {}
  },
  {
   "cell_type": "code",
   "execution_count": 17,
   "source": [
    "import pandas as pd\r\n",
    "pd.DataFrame.from_dict(wallet,  orient='index')"
   ],
   "outputs": [
    {
     "output_type": "execute_result",
     "data": {
      "text/plain": [
       "       Current_market_price  Current_value         Buy     Buy_price  \\\n",
       "BTC            43696.990000     259.077419  226.092220  38165.465901   \n",
       "ETH             3080.070000     249.310262  191.958088   2374.837164   \n",
       "ADA                1.470800     156.287062  143.654880      1.363985   \n",
       "DOT               21.355000     227.200610  217.063720     20.674704   \n",
       "MATIC              1.167870     261.282226  312.526722      1.427063   \n",
       "KSM              237.950000      95.450621   93.503750    263.390845   \n",
       "CAKE              18.567000     109.316914  126.912600     14.267858   \n",
       "VET                0.105690      52.527930   55.757800      0.112053   \n",
       "SOL               40.266000      42.888550   35.046424     32.938368   \n",
       "BNB              354.980000      33.442717   31.221760    325.226667   \n",
       "LTC              154.300000      16.350405   30.442000    287.188679   \n",
       "THETA              7.060000      14.114896   21.000000     10.500000   \n",
       "AVAX              15.687000       4.185739   10.096500     38.100000   \n",
       "DENT               0.002922       3.068100   10.185000      0.009700   \n",
       "EGLD             119.010000       6.322052   10.085900    190.300000   \n",
       "HOT                0.007947       5.245020   10.131000      0.015350   \n",
       "TRX                0.075510       5.089213   10.117000      0.151000   \n",
       "ONE                0.084270       6.791399   10.127800      0.128200   \n",
       "BAND               7.558000       8.925998   19.994330     16.930000   \n",
       "SXP                2.616000      19.360490   31.395600      4.251266   \n",
       "LINK              24.651000       5.299278   10.019000     46.600000   \n",
       "UTK                0.315300       5.990700   10.260000      0.540000   \n",
       "USDT               0.000000     305.710094    0.000000      0.000000   \n",
       "BUSD               0.999500       0.000000    0.000000      0.000000   \n",
       "\n",
       "           Buy_Qty     Sell  Sell_price  Sell_Qty  Saving_value  Saving_Qty  \\\n",
       "BTC       0.005924   0.0000         0.0     0.000    259.077419    0.005930   \n",
       "ETH       0.080830   0.0000         0.0     0.000     37.290564    0.012105   \n",
       "ADA     105.320000   0.0000         0.0     0.000      0.089573    0.060909   \n",
       "DOT      10.499000   0.0000         0.0     0.000     23.132230    1.083629   \n",
       "MATIC   219.000000   0.0000         0.0     0.000      1.197577    1.025604   \n",
       "KSM       0.355000   0.0000         0.0     0.000      0.000000    0.000000   \n",
       "CAKE      8.895000  53.2392        16.8     3.169      0.792799    0.042692   \n",
       "VET     497.600000   0.0000         0.0     0.000      0.000000    0.000000   \n",
       "SOL       1.064000   0.0000         0.0     0.000      0.000000    0.000000   \n",
       "BNB       0.096000   0.0000         0.0     0.000      0.117195    0.000330   \n",
       "LTC       0.106000   0.0000         0.0     0.000     16.350405    0.106048   \n",
       "THETA     2.000000   0.0000         0.0     0.000     14.114896    2.001545   \n",
       "AVAX      0.265000   0.0000         0.0     0.000      0.000000    0.000000   \n",
       "DENT   1050.000000   0.0000         0.0     0.000      0.000000    0.000000   \n",
       "EGLD      0.053000   0.0000         0.0     0.000      6.322052    0.053113   \n",
       "HOT     660.000000   0.0000         0.0     0.000      0.000000    0.000000   \n",
       "TRX      67.000000   0.0000         0.0     0.000      5.089213   67.415725   \n",
       "ONE      79.000000   0.0000         0.0     0.000      6.791399   80.677109   \n",
       "BAND      1.181000   0.0000         0.0     0.000      0.000000    0.000000   \n",
       "SXP       7.385000   0.0000         0.0     0.000     19.360490    7.400799   \n",
       "LINK      0.215000   0.0000         0.0     0.000      5.299278    0.215129   \n",
       "UTK      19.000000   0.0000         0.0     0.000      0.000000    0.000000   \n",
       "USDT      0.000000   0.0000         0.0     0.000    305.710094  305.710094   \n",
       "BUSD      0.000000   0.0000         0.0     0.000      0.000000    0.000000   \n",
       "\n",
       "       Spot_value     Spot_Qty  Stack_value   Stack_Qty           ATH  \\\n",
       "BTC      0.000000     0.000000     0.000000    0.000000  59500.000000   \n",
       "ETH      0.000000     0.000000   212.019699    0.068836   4372.720000   \n",
       "ADA      0.000000     0.000000   156.197489  106.199000      2.470000   \n",
       "DOT      0.000000     0.000000   204.068380    9.556000     49.780000   \n",
       "MATIC    0.000000     0.000000   260.084649  222.700000      2.700000   \n",
       "KSM      0.294416     0.001237    95.156205    0.399900    625.000000   \n",
       "CAKE     0.000000     0.000000   108.524115    5.845000     42.980000   \n",
       "VET      0.000000     0.000000    52.527930  497.000000      0.250000   \n",
       "SOL     22.755550     0.565131    20.133000    0.500000     58.380000   \n",
       "BNB      0.000000     0.000000    33.325522    0.093880    691.770000   \n",
       "LTC      0.000000     0.000000     0.000000    0.000000    413.490000   \n",
       "THETA    0.000000     0.000000     0.000000    0.000000     13.200000   \n",
       "AVAX     4.185739     0.266829     0.000000    0.000000     43.885000   \n",
       "DENT     3.068100  1050.000000     0.000000    0.000000      0.011699   \n",
       "EGLD     0.000000     0.000000     0.000000    0.000000    205.000000   \n",
       "HOT      5.245020   660.000000     0.000000    0.000000      0.016840   \n",
       "TRX      0.000000     0.000000     0.000000    0.000000      0.170000   \n",
       "ONE      0.000000     0.000000     0.000000    0.000000      0.188580   \n",
       "BAND     8.925998     1.181000     0.000000    0.000000     20.673000   \n",
       "SXP      0.000000     0.000000     0.000000    0.000000      5.870000   \n",
       "LINK     0.000000     0.000000     0.000000    0.000000     53.000000   \n",
       "UTK      5.990700    19.000000     0.000000    0.000000      1.065000   \n",
       "USDT     0.000000     0.000000     0.000000    0.000000      0.000000   \n",
       "BUSD     0.000000     0.000000     0.000000    0.000000      1.002900   \n",
       "\n",
       "       ATH_percent  Buy_price_percent     Balance  \n",
       "BTC      73.419765          87.341178   32.985199  \n",
       "ETH      70.448142          77.103350   57.352174  \n",
       "ADA      59.538462          92.737613   12.632182  \n",
       "DOT      42.882684          96.814349   10.136890  \n",
       "MATIC    43.245926         122.193622  -51.244496  \n",
       "KSM      38.099200         110.691677    1.946871  \n",
       "CAKE     43.203816          76.845254   35.643514  \n",
       "VET      42.280000         106.020869   -3.229870  \n",
       "SOL      68.956835          81.801938    7.842126  \n",
       "BNB      51.301733          91.618307    2.220957  \n",
       "LTC      37.282643         186.123577  -14.091595  \n",
       "THETA    53.416667         148.725212   -6.885104  \n",
       "AVAX     35.716076         242.876267   -5.910761  \n",
       "DENT     24.938029         331.964408   -7.116900  \n",
       "EGLD     58.063415         159.902529   -3.763848  \n",
       "HOT      47.149644         193.154650   -4.885980  \n",
       "TRX      44.400000         199.973513   -5.027787  \n",
       "ONE      44.638880         152.130058   -3.336401  \n",
       "BAND     36.540415         224.001058  -11.068332  \n",
       "SXP      44.565588         162.510171  -12.035110  \n",
       "LINK     46.471698         189.038984   -4.719722  \n",
       "UTK      29.643192         171.265461   -4.269300  \n",
       "USDT      0.000000           0.000000  305.710094  \n",
       "BUSD     99.660983           0.000000    0.000000  "
      ],
      "text/html": [
       "<div>\n",
       "<style scoped>\n",
       "    .dataframe tbody tr th:only-of-type {\n",
       "        vertical-align: middle;\n",
       "    }\n",
       "\n",
       "    .dataframe tbody tr th {\n",
       "        vertical-align: top;\n",
       "    }\n",
       "\n",
       "    .dataframe thead th {\n",
       "        text-align: right;\n",
       "    }\n",
       "</style>\n",
       "<table border=\"1\" class=\"dataframe\">\n",
       "  <thead>\n",
       "    <tr style=\"text-align: right;\">\n",
       "      <th></th>\n",
       "      <th>Current_market_price</th>\n",
       "      <th>Current_value</th>\n",
       "      <th>Buy</th>\n",
       "      <th>Buy_price</th>\n",
       "      <th>Buy_Qty</th>\n",
       "      <th>Sell</th>\n",
       "      <th>Sell_price</th>\n",
       "      <th>Sell_Qty</th>\n",
       "      <th>Saving_value</th>\n",
       "      <th>Saving_Qty</th>\n",
       "      <th>Spot_value</th>\n",
       "      <th>Spot_Qty</th>\n",
       "      <th>Stack_value</th>\n",
       "      <th>Stack_Qty</th>\n",
       "      <th>ATH</th>\n",
       "      <th>ATH_percent</th>\n",
       "      <th>Buy_price_percent</th>\n",
       "      <th>Balance</th>\n",
       "    </tr>\n",
       "  </thead>\n",
       "  <tbody>\n",
       "    <tr>\n",
       "      <th>BTC</th>\n",
       "      <td>43696.990000</td>\n",
       "      <td>259.077419</td>\n",
       "      <td>226.092220</td>\n",
       "      <td>38165.465901</td>\n",
       "      <td>0.005924</td>\n",
       "      <td>0.0000</td>\n",
       "      <td>0.0</td>\n",
       "      <td>0.000</td>\n",
       "      <td>259.077419</td>\n",
       "      <td>0.005930</td>\n",
       "      <td>0.000000</td>\n",
       "      <td>0.000000</td>\n",
       "      <td>0.000000</td>\n",
       "      <td>0.000000</td>\n",
       "      <td>59500.000000</td>\n",
       "      <td>73.419765</td>\n",
       "      <td>87.341178</td>\n",
       "      <td>32.985199</td>\n",
       "    </tr>\n",
       "    <tr>\n",
       "      <th>ETH</th>\n",
       "      <td>3080.070000</td>\n",
       "      <td>249.310262</td>\n",
       "      <td>191.958088</td>\n",
       "      <td>2374.837164</td>\n",
       "      <td>0.080830</td>\n",
       "      <td>0.0000</td>\n",
       "      <td>0.0</td>\n",
       "      <td>0.000</td>\n",
       "      <td>37.290564</td>\n",
       "      <td>0.012105</td>\n",
       "      <td>0.000000</td>\n",
       "      <td>0.000000</td>\n",
       "      <td>212.019699</td>\n",
       "      <td>0.068836</td>\n",
       "      <td>4372.720000</td>\n",
       "      <td>70.448142</td>\n",
       "      <td>77.103350</td>\n",
       "      <td>57.352174</td>\n",
       "    </tr>\n",
       "    <tr>\n",
       "      <th>ADA</th>\n",
       "      <td>1.470800</td>\n",
       "      <td>156.287062</td>\n",
       "      <td>143.654880</td>\n",
       "      <td>1.363985</td>\n",
       "      <td>105.320000</td>\n",
       "      <td>0.0000</td>\n",
       "      <td>0.0</td>\n",
       "      <td>0.000</td>\n",
       "      <td>0.089573</td>\n",
       "      <td>0.060909</td>\n",
       "      <td>0.000000</td>\n",
       "      <td>0.000000</td>\n",
       "      <td>156.197489</td>\n",
       "      <td>106.199000</td>\n",
       "      <td>2.470000</td>\n",
       "      <td>59.538462</td>\n",
       "      <td>92.737613</td>\n",
       "      <td>12.632182</td>\n",
       "    </tr>\n",
       "    <tr>\n",
       "      <th>DOT</th>\n",
       "      <td>21.355000</td>\n",
       "      <td>227.200610</td>\n",
       "      <td>217.063720</td>\n",
       "      <td>20.674704</td>\n",
       "      <td>10.499000</td>\n",
       "      <td>0.0000</td>\n",
       "      <td>0.0</td>\n",
       "      <td>0.000</td>\n",
       "      <td>23.132230</td>\n",
       "      <td>1.083629</td>\n",
       "      <td>0.000000</td>\n",
       "      <td>0.000000</td>\n",
       "      <td>204.068380</td>\n",
       "      <td>9.556000</td>\n",
       "      <td>49.780000</td>\n",
       "      <td>42.882684</td>\n",
       "      <td>96.814349</td>\n",
       "      <td>10.136890</td>\n",
       "    </tr>\n",
       "    <tr>\n",
       "      <th>MATIC</th>\n",
       "      <td>1.167870</td>\n",
       "      <td>261.282226</td>\n",
       "      <td>312.526722</td>\n",
       "      <td>1.427063</td>\n",
       "      <td>219.000000</td>\n",
       "      <td>0.0000</td>\n",
       "      <td>0.0</td>\n",
       "      <td>0.000</td>\n",
       "      <td>1.197577</td>\n",
       "      <td>1.025604</td>\n",
       "      <td>0.000000</td>\n",
       "      <td>0.000000</td>\n",
       "      <td>260.084649</td>\n",
       "      <td>222.700000</td>\n",
       "      <td>2.700000</td>\n",
       "      <td>43.245926</td>\n",
       "      <td>122.193622</td>\n",
       "      <td>-51.244496</td>\n",
       "    </tr>\n",
       "    <tr>\n",
       "      <th>KSM</th>\n",
       "      <td>237.950000</td>\n",
       "      <td>95.450621</td>\n",
       "      <td>93.503750</td>\n",
       "      <td>263.390845</td>\n",
       "      <td>0.355000</td>\n",
       "      <td>0.0000</td>\n",
       "      <td>0.0</td>\n",
       "      <td>0.000</td>\n",
       "      <td>0.000000</td>\n",
       "      <td>0.000000</td>\n",
       "      <td>0.294416</td>\n",
       "      <td>0.001237</td>\n",
       "      <td>95.156205</td>\n",
       "      <td>0.399900</td>\n",
       "      <td>625.000000</td>\n",
       "      <td>38.099200</td>\n",
       "      <td>110.691677</td>\n",
       "      <td>1.946871</td>\n",
       "    </tr>\n",
       "    <tr>\n",
       "      <th>CAKE</th>\n",
       "      <td>18.567000</td>\n",
       "      <td>109.316914</td>\n",
       "      <td>126.912600</td>\n",
       "      <td>14.267858</td>\n",
       "      <td>8.895000</td>\n",
       "      <td>53.2392</td>\n",
       "      <td>16.8</td>\n",
       "      <td>3.169</td>\n",
       "      <td>0.792799</td>\n",
       "      <td>0.042692</td>\n",
       "      <td>0.000000</td>\n",
       "      <td>0.000000</td>\n",
       "      <td>108.524115</td>\n",
       "      <td>5.845000</td>\n",
       "      <td>42.980000</td>\n",
       "      <td>43.203816</td>\n",
       "      <td>76.845254</td>\n",
       "      <td>35.643514</td>\n",
       "    </tr>\n",
       "    <tr>\n",
       "      <th>VET</th>\n",
       "      <td>0.105690</td>\n",
       "      <td>52.527930</td>\n",
       "      <td>55.757800</td>\n",
       "      <td>0.112053</td>\n",
       "      <td>497.600000</td>\n",
       "      <td>0.0000</td>\n",
       "      <td>0.0</td>\n",
       "      <td>0.000</td>\n",
       "      <td>0.000000</td>\n",
       "      <td>0.000000</td>\n",
       "      <td>0.000000</td>\n",
       "      <td>0.000000</td>\n",
       "      <td>52.527930</td>\n",
       "      <td>497.000000</td>\n",
       "      <td>0.250000</td>\n",
       "      <td>42.280000</td>\n",
       "      <td>106.020869</td>\n",
       "      <td>-3.229870</td>\n",
       "    </tr>\n",
       "    <tr>\n",
       "      <th>SOL</th>\n",
       "      <td>40.266000</td>\n",
       "      <td>42.888550</td>\n",
       "      <td>35.046424</td>\n",
       "      <td>32.938368</td>\n",
       "      <td>1.064000</td>\n",
       "      <td>0.0000</td>\n",
       "      <td>0.0</td>\n",
       "      <td>0.000</td>\n",
       "      <td>0.000000</td>\n",
       "      <td>0.000000</td>\n",
       "      <td>22.755550</td>\n",
       "      <td>0.565131</td>\n",
       "      <td>20.133000</td>\n",
       "      <td>0.500000</td>\n",
       "      <td>58.380000</td>\n",
       "      <td>68.956835</td>\n",
       "      <td>81.801938</td>\n",
       "      <td>7.842126</td>\n",
       "    </tr>\n",
       "    <tr>\n",
       "      <th>BNB</th>\n",
       "      <td>354.980000</td>\n",
       "      <td>33.442717</td>\n",
       "      <td>31.221760</td>\n",
       "      <td>325.226667</td>\n",
       "      <td>0.096000</td>\n",
       "      <td>0.0000</td>\n",
       "      <td>0.0</td>\n",
       "      <td>0.000</td>\n",
       "      <td>0.117195</td>\n",
       "      <td>0.000330</td>\n",
       "      <td>0.000000</td>\n",
       "      <td>0.000000</td>\n",
       "      <td>33.325522</td>\n",
       "      <td>0.093880</td>\n",
       "      <td>691.770000</td>\n",
       "      <td>51.301733</td>\n",
       "      <td>91.618307</td>\n",
       "      <td>2.220957</td>\n",
       "    </tr>\n",
       "    <tr>\n",
       "      <th>LTC</th>\n",
       "      <td>154.300000</td>\n",
       "      <td>16.350405</td>\n",
       "      <td>30.442000</td>\n",
       "      <td>287.188679</td>\n",
       "      <td>0.106000</td>\n",
       "      <td>0.0000</td>\n",
       "      <td>0.0</td>\n",
       "      <td>0.000</td>\n",
       "      <td>16.350405</td>\n",
       "      <td>0.106048</td>\n",
       "      <td>0.000000</td>\n",
       "      <td>0.000000</td>\n",
       "      <td>0.000000</td>\n",
       "      <td>0.000000</td>\n",
       "      <td>413.490000</td>\n",
       "      <td>37.282643</td>\n",
       "      <td>186.123577</td>\n",
       "      <td>-14.091595</td>\n",
       "    </tr>\n",
       "    <tr>\n",
       "      <th>THETA</th>\n",
       "      <td>7.060000</td>\n",
       "      <td>14.114896</td>\n",
       "      <td>21.000000</td>\n",
       "      <td>10.500000</td>\n",
       "      <td>2.000000</td>\n",
       "      <td>0.0000</td>\n",
       "      <td>0.0</td>\n",
       "      <td>0.000</td>\n",
       "      <td>14.114896</td>\n",
       "      <td>2.001545</td>\n",
       "      <td>0.000000</td>\n",
       "      <td>0.000000</td>\n",
       "      <td>0.000000</td>\n",
       "      <td>0.000000</td>\n",
       "      <td>13.200000</td>\n",
       "      <td>53.416667</td>\n",
       "      <td>148.725212</td>\n",
       "      <td>-6.885104</td>\n",
       "    </tr>\n",
       "    <tr>\n",
       "      <th>AVAX</th>\n",
       "      <td>15.687000</td>\n",
       "      <td>4.185739</td>\n",
       "      <td>10.096500</td>\n",
       "      <td>38.100000</td>\n",
       "      <td>0.265000</td>\n",
       "      <td>0.0000</td>\n",
       "      <td>0.0</td>\n",
       "      <td>0.000</td>\n",
       "      <td>0.000000</td>\n",
       "      <td>0.000000</td>\n",
       "      <td>4.185739</td>\n",
       "      <td>0.266829</td>\n",
       "      <td>0.000000</td>\n",
       "      <td>0.000000</td>\n",
       "      <td>43.885000</td>\n",
       "      <td>35.716076</td>\n",
       "      <td>242.876267</td>\n",
       "      <td>-5.910761</td>\n",
       "    </tr>\n",
       "    <tr>\n",
       "      <th>DENT</th>\n",
       "      <td>0.002922</td>\n",
       "      <td>3.068100</td>\n",
       "      <td>10.185000</td>\n",
       "      <td>0.009700</td>\n",
       "      <td>1050.000000</td>\n",
       "      <td>0.0000</td>\n",
       "      <td>0.0</td>\n",
       "      <td>0.000</td>\n",
       "      <td>0.000000</td>\n",
       "      <td>0.000000</td>\n",
       "      <td>3.068100</td>\n",
       "      <td>1050.000000</td>\n",
       "      <td>0.000000</td>\n",
       "      <td>0.000000</td>\n",
       "      <td>0.011699</td>\n",
       "      <td>24.938029</td>\n",
       "      <td>331.964408</td>\n",
       "      <td>-7.116900</td>\n",
       "    </tr>\n",
       "    <tr>\n",
       "      <th>EGLD</th>\n",
       "      <td>119.010000</td>\n",
       "      <td>6.322052</td>\n",
       "      <td>10.085900</td>\n",
       "      <td>190.300000</td>\n",
       "      <td>0.053000</td>\n",
       "      <td>0.0000</td>\n",
       "      <td>0.0</td>\n",
       "      <td>0.000</td>\n",
       "      <td>6.322052</td>\n",
       "      <td>0.053113</td>\n",
       "      <td>0.000000</td>\n",
       "      <td>0.000000</td>\n",
       "      <td>0.000000</td>\n",
       "      <td>0.000000</td>\n",
       "      <td>205.000000</td>\n",
       "      <td>58.063415</td>\n",
       "      <td>159.902529</td>\n",
       "      <td>-3.763848</td>\n",
       "    </tr>\n",
       "    <tr>\n",
       "      <th>HOT</th>\n",
       "      <td>0.007947</td>\n",
       "      <td>5.245020</td>\n",
       "      <td>10.131000</td>\n",
       "      <td>0.015350</td>\n",
       "      <td>660.000000</td>\n",
       "      <td>0.0000</td>\n",
       "      <td>0.0</td>\n",
       "      <td>0.000</td>\n",
       "      <td>0.000000</td>\n",
       "      <td>0.000000</td>\n",
       "      <td>5.245020</td>\n",
       "      <td>660.000000</td>\n",
       "      <td>0.000000</td>\n",
       "      <td>0.000000</td>\n",
       "      <td>0.016840</td>\n",
       "      <td>47.149644</td>\n",
       "      <td>193.154650</td>\n",
       "      <td>-4.885980</td>\n",
       "    </tr>\n",
       "    <tr>\n",
       "      <th>TRX</th>\n",
       "      <td>0.075510</td>\n",
       "      <td>5.089213</td>\n",
       "      <td>10.117000</td>\n",
       "      <td>0.151000</td>\n",
       "      <td>67.000000</td>\n",
       "      <td>0.0000</td>\n",
       "      <td>0.0</td>\n",
       "      <td>0.000</td>\n",
       "      <td>5.089213</td>\n",
       "      <td>67.415725</td>\n",
       "      <td>0.000000</td>\n",
       "      <td>0.000000</td>\n",
       "      <td>0.000000</td>\n",
       "      <td>0.000000</td>\n",
       "      <td>0.170000</td>\n",
       "      <td>44.400000</td>\n",
       "      <td>199.973513</td>\n",
       "      <td>-5.027787</td>\n",
       "    </tr>\n",
       "    <tr>\n",
       "      <th>ONE</th>\n",
       "      <td>0.084270</td>\n",
       "      <td>6.791399</td>\n",
       "      <td>10.127800</td>\n",
       "      <td>0.128200</td>\n",
       "      <td>79.000000</td>\n",
       "      <td>0.0000</td>\n",
       "      <td>0.0</td>\n",
       "      <td>0.000</td>\n",
       "      <td>6.791399</td>\n",
       "      <td>80.677109</td>\n",
       "      <td>0.000000</td>\n",
       "      <td>0.000000</td>\n",
       "      <td>0.000000</td>\n",
       "      <td>0.000000</td>\n",
       "      <td>0.188580</td>\n",
       "      <td>44.638880</td>\n",
       "      <td>152.130058</td>\n",
       "      <td>-3.336401</td>\n",
       "    </tr>\n",
       "    <tr>\n",
       "      <th>BAND</th>\n",
       "      <td>7.558000</td>\n",
       "      <td>8.925998</td>\n",
       "      <td>19.994330</td>\n",
       "      <td>16.930000</td>\n",
       "      <td>1.181000</td>\n",
       "      <td>0.0000</td>\n",
       "      <td>0.0</td>\n",
       "      <td>0.000</td>\n",
       "      <td>0.000000</td>\n",
       "      <td>0.000000</td>\n",
       "      <td>8.925998</td>\n",
       "      <td>1.181000</td>\n",
       "      <td>0.000000</td>\n",
       "      <td>0.000000</td>\n",
       "      <td>20.673000</td>\n",
       "      <td>36.540415</td>\n",
       "      <td>224.001058</td>\n",
       "      <td>-11.068332</td>\n",
       "    </tr>\n",
       "    <tr>\n",
       "      <th>SXP</th>\n",
       "      <td>2.616000</td>\n",
       "      <td>19.360490</td>\n",
       "      <td>31.395600</td>\n",
       "      <td>4.251266</td>\n",
       "      <td>7.385000</td>\n",
       "      <td>0.0000</td>\n",
       "      <td>0.0</td>\n",
       "      <td>0.000</td>\n",
       "      <td>19.360490</td>\n",
       "      <td>7.400799</td>\n",
       "      <td>0.000000</td>\n",
       "      <td>0.000000</td>\n",
       "      <td>0.000000</td>\n",
       "      <td>0.000000</td>\n",
       "      <td>5.870000</td>\n",
       "      <td>44.565588</td>\n",
       "      <td>162.510171</td>\n",
       "      <td>-12.035110</td>\n",
       "    </tr>\n",
       "    <tr>\n",
       "      <th>LINK</th>\n",
       "      <td>24.651000</td>\n",
       "      <td>5.299278</td>\n",
       "      <td>10.019000</td>\n",
       "      <td>46.600000</td>\n",
       "      <td>0.215000</td>\n",
       "      <td>0.0000</td>\n",
       "      <td>0.0</td>\n",
       "      <td>0.000</td>\n",
       "      <td>5.299278</td>\n",
       "      <td>0.215129</td>\n",
       "      <td>0.000000</td>\n",
       "      <td>0.000000</td>\n",
       "      <td>0.000000</td>\n",
       "      <td>0.000000</td>\n",
       "      <td>53.000000</td>\n",
       "      <td>46.471698</td>\n",
       "      <td>189.038984</td>\n",
       "      <td>-4.719722</td>\n",
       "    </tr>\n",
       "    <tr>\n",
       "      <th>UTK</th>\n",
       "      <td>0.315300</td>\n",
       "      <td>5.990700</td>\n",
       "      <td>10.260000</td>\n",
       "      <td>0.540000</td>\n",
       "      <td>19.000000</td>\n",
       "      <td>0.0000</td>\n",
       "      <td>0.0</td>\n",
       "      <td>0.000</td>\n",
       "      <td>0.000000</td>\n",
       "      <td>0.000000</td>\n",
       "      <td>5.990700</td>\n",
       "      <td>19.000000</td>\n",
       "      <td>0.000000</td>\n",
       "      <td>0.000000</td>\n",
       "      <td>1.065000</td>\n",
       "      <td>29.643192</td>\n",
       "      <td>171.265461</td>\n",
       "      <td>-4.269300</td>\n",
       "    </tr>\n",
       "    <tr>\n",
       "      <th>USDT</th>\n",
       "      <td>0.000000</td>\n",
       "      <td>305.710094</td>\n",
       "      <td>0.000000</td>\n",
       "      <td>0.000000</td>\n",
       "      <td>0.000000</td>\n",
       "      <td>0.0000</td>\n",
       "      <td>0.0</td>\n",
       "      <td>0.000</td>\n",
       "      <td>305.710094</td>\n",
       "      <td>305.710094</td>\n",
       "      <td>0.000000</td>\n",
       "      <td>0.000000</td>\n",
       "      <td>0.000000</td>\n",
       "      <td>0.000000</td>\n",
       "      <td>0.000000</td>\n",
       "      <td>0.000000</td>\n",
       "      <td>0.000000</td>\n",
       "      <td>305.710094</td>\n",
       "    </tr>\n",
       "    <tr>\n",
       "      <th>BUSD</th>\n",
       "      <td>0.999500</td>\n",
       "      <td>0.000000</td>\n",
       "      <td>0.000000</td>\n",
       "      <td>0.000000</td>\n",
       "      <td>0.000000</td>\n",
       "      <td>0.0000</td>\n",
       "      <td>0.0</td>\n",
       "      <td>0.000</td>\n",
       "      <td>0.000000</td>\n",
       "      <td>0.000000</td>\n",
       "      <td>0.000000</td>\n",
       "      <td>0.000000</td>\n",
       "      <td>0.000000</td>\n",
       "      <td>0.000000</td>\n",
       "      <td>1.002900</td>\n",
       "      <td>99.660983</td>\n",
       "      <td>0.000000</td>\n",
       "      <td>0.000000</td>\n",
       "    </tr>\n",
       "  </tbody>\n",
       "</table>\n",
       "</div>"
      ]
     },
     "metadata": {},
     "execution_count": 17
    }
   ],
   "metadata": {}
  },
  {
   "cell_type": "code",
   "execution_count": 18,
   "source": [
    "import matplotlib.pyplot as plt\r\n",
    "\r\n",
    "labels = [asset for asset in my_coins]\r\n",
    "sizes = [wallet[asset]['Spot_value'] + wallet[asset]['Saving_value'] + wallet[asset]['Stack_value'] for asset in  my_coins]\r\n",
    "colors = ['yellowgreen', 'gold', 'lightskyblue', 'lightcoral']\r\n",
    "\r\n",
    "plt.pie(sizes, labels=labels, colors=colors, \r\n",
    "        autopct='%1.1f%%', shadow=True, startangle=90)\r\n",
    "\r\n",
    "plt.axis('equal')\r\n",
    "plt.show()"
   ],
   "outputs": [
    {
     "output_type": "display_data",
     "data": {
      "text/plain": [
       "<Figure size 432x288 with 1 Axes>"
      ],
      "image/svg+xml": "<?xml version=\"1.0\" encoding=\"utf-8\" standalone=\"no\"?>\r\n<!DOCTYPE svg PUBLIC \"-//W3C//DTD SVG 1.1//EN\"\r\n  \"http://www.w3.org/Graphics/SVG/1.1/DTD/svg11.dtd\">\r\n<!-- Created with matplotlib (https://matplotlib.org/) -->\r\n<svg height=\"237.048532pt\" version=\"1.1\" viewBox=\"0 0 349.2 237.048532\" width=\"349.2pt\" xmlns=\"http://www.w3.org/2000/svg\" xmlns:xlink=\"http://www.w3.org/1999/xlink\">\r\n <metadata>\r\n  <rdf:RDF xmlns:cc=\"http://creativecommons.org/ns#\" xmlns:dc=\"http://purl.org/dc/elements/1.1/\" xmlns:rdf=\"http://www.w3.org/1999/02/22-rdf-syntax-ns#\">\r\n   <cc:Work>\r\n    <dc:type rdf:resource=\"http://purl.org/dc/dcmitype/StillImage\"/>\r\n    <dc:date>2021-08-07T13:34:33.707992</dc:date>\r\n    <dc:format>image/svg+xml</dc:format>\r\n    <dc:creator>\r\n     <cc:Agent>\r\n      <dc:title>Matplotlib v3.3.2, https://matplotlib.org/</dc:title>\r\n     </cc:Agent>\r\n    </dc:creator>\r\n   </cc:Work>\r\n  </rdf:RDF>\r\n </metadata>\r\n <defs>\r\n  <style type=\"text/css\">*{stroke-linecap:butt;stroke-linejoin:round;}</style>\r\n </defs>\r\n <g id=\"figure_1\">\r\n  <g id=\"patch_1\">\r\n   <path d=\"M 0 237.048532 \r\nL 349.2 237.048532 \r\nL 349.2 0 \r\nL 0 0 \r\nz\r\n\" style=\"fill:none;\"/>\r\n  </g>\r\n  <g id=\"axes_1\">\r\n   <g id=\"patch_2\">\r\n    <path d=\"M 173.078136 23.841853 \r\nC 158.929369 23.841853 144.945776 26.89484 132.084481 32.791849 \r\nC 119.223187 38.688858 107.784479 47.292204 98.551294 58.013021 \r\nL 173.078136 122.198439 \r\nL 173.078136 23.841853 \r\nz\r\n\" style=\"fill:#2e3e0f;opacity:0.5;stroke:#2e3e0f;stroke-linejoin:miter;\"/>\r\n   </g>\r\n   <g id=\"patch_3\">\r\n    <path d=\"M 98.551294 58.013021 \r\nC 89.6687 68.326761 83.023026 80.37298 79.035885 93.387449 \r\nC 75.048744 106.401919 73.806272 120.103475 75.387295 133.622871 \r\nL 173.078136 122.198439 \r\nL 98.551294 58.013021 \r\nz\r\n\" style=\"fill:#4c4000;opacity:0.5;stroke:#4c4000;stroke-linejoin:miter;\"/>\r\n   </g>\r\n   <g id=\"patch_4\">\r\n    <path d=\"M 75.387295 133.622871 \r\nC 76.376277 142.0797 78.459212 150.372423 81.583805 158.292837 \r\nC 84.708399 166.213251 88.84828 173.694512 93.89951 180.548789 \r\nL 173.078136 122.198439 \r\nL 75.387295 133.622871 \r\nz\r\n\" style=\"fill:#283e4b;opacity:0.5;stroke:#283e4b;stroke-linejoin:miter;\"/>\r\n   </g>\r\n   <g id=\"patch_5\">\r\n    <path d=\"M 93.89951 180.548789 \r\nC 101.254066 190.528569 110.429551 199.028501 120.941578 205.599863 \r\nC 131.453605 212.171224 143.113879 216.696307 155.306839 218.936225 \r\nL 173.078136 122.198439 \r\nL 93.89951 180.548789 \r\nz\r\n\" style=\"fill:#482626;opacity:0.5;stroke:#482626;stroke-linejoin:miter;\"/>\r\n   </g>\r\n   <g id=\"patch_6\">\r\n    <path d=\"M 155.306839 218.936225 \r\nC 169.342079 221.51458 183.771762 221.007853 197.591562 217.451313 \r\nC 211.411363 213.894773 224.29304 207.372893 235.34001 198.339605 \r\nL 173.078136 122.198439 \r\nL 155.306839 218.936225 \r\nz\r\n\" style=\"fill:#2e3e0f;opacity:0.5;stroke:#2e3e0f;stroke-linejoin:miter;\"/>\r\n   </g>\r\n   <g id=\"patch_7\">\r\n    <path d=\"M 235.34001 198.339605 \r\nC 239.36207 195.050701 243.117216 191.448271 246.570182 187.566147 \r\nC 250.023148 183.684024 253.163089 179.534398 255.960517 175.156242 \r\nL 173.078136 122.198439 \r\nL 235.34001 198.339605 \r\nz\r\n\" style=\"fill:#4c4000;opacity:0.5;stroke:#4c4000;stroke-linejoin:miter;\"/>\r\n   </g>\r\n   <g id=\"patch_8\">\r\n    <path d=\"M 255.960517 175.156242 \r\nC 259.164855 170.141248 261.907423 164.845758 264.154457 159.33497 \r\nC 266.40149 153.824182 268.143729 148.120805 269.359722 142.29506 \r\nL 173.078136 122.198439 \r\nL 255.960517 175.156242 \r\nz\r\n\" style=\"fill:#283e4b;opacity:0.5;stroke:#283e4b;stroke-linejoin:miter;\"/>\r\n   </g>\r\n   <g id=\"patch_9\">\r\n    <path d=\"M 269.359722 142.29506 \r\nC 269.943713 139.497202 270.40547 136.675218 270.743681 133.837143 \r\nC 271.081891 130.999068 271.296233 128.147599 271.386096 125.290856 \r\nL 173.078136 122.198439 \r\nL 269.359722 142.29506 \r\nz\r\n\" style=\"fill:#482626;opacity:0.5;stroke:#482626;stroke-linejoin:miter;\"/>\r\n   </g>\r\n   <g id=\"patch_10\">\r\n    <path d=\"M 271.386096 125.290856 \r\nC 271.459464 122.958476 271.449805 120.624224 271.357137 118.292531 \r\nC 271.264468 115.960838 271.088849 113.633181 270.830612 111.31398 \r\nL 173.078136 122.198439 \r\nL 271.386096 125.290856 \r\nz\r\n\" style=\"fill:#2e3e0f;opacity:0.5;stroke:#2e3e0f;stroke-linejoin:miter;\"/>\r\n   </g>\r\n   <g id=\"patch_11\">\r\n    <path d=\"M 270.830612 111.31398 \r\nC 270.629258 109.505638 270.377764 107.703231 270.07642 105.90884 \r\nC 269.775075 104.11445 269.423997 102.328767 269.023589 100.553853 \r\nL 173.078136 122.198439 \r\nL 270.830612 111.31398 \r\nz\r\n\" style=\"fill:#4c4000;opacity:0.5;stroke:#4c4000;stroke-linejoin:miter;\"/>\r\n   </g>\r\n   <g id=\"patch_12\">\r\n    <path d=\"M 269.023589 100.553853 \r\nC 268.827836 99.686127 268.620321 98.821095 268.4011 97.958998 \r\nC 268.18188 97.096901 267.950974 96.237818 267.708447 95.381985 \r\nL 173.078136 122.198439 \r\nL 269.023589 100.553853 \r\nz\r\n\" style=\"fill:#283e4b;opacity:0.5;stroke:#283e4b;stroke-linejoin:miter;\"/>\r\n   </g>\r\n   <g id=\"patch_13\">\r\n    <path d=\"M 267.708447 95.381985 \r\nC 267.499081 94.643169 267.281069 93.90683 267.054457 93.17312 \r\nC 266.827845 92.43941 266.592648 91.708379 266.348915 90.980177 \r\nL 173.078136 122.198439 \r\nL 267.708447 95.381985 \r\nz\r\n\" style=\"fill:#482626;opacity:0.5;stroke:#482626;stroke-linejoin:miter;\"/>\r\n   </g>\r\n   <g id=\"patch_14\">\r\n    <path d=\"M 266.348915 90.980177 \r\nC 266.276637 90.764233 266.203609 90.54854 266.129834 90.333103 \r\nC 266.056058 90.117666 265.981534 89.902486 265.906263 89.687567 \r\nL 173.078136 122.198439 \r\nL 266.348915 90.980177 \r\nz\r\n\" style=\"fill:#2e3e0f;opacity:0.5;stroke:#2e3e0f;stroke-linejoin:miter;\"/>\r\n   </g>\r\n   <g id=\"patch_15\">\r\n    <path d=\"M 265.906263 89.687567 \r\nC 265.851091 89.530033 265.795518 89.37264 265.739544 89.21539 \r\nC 265.68357 89.058139 265.627196 88.901031 265.570423 88.744068 \r\nL 173.078136 122.198439 \r\nL 265.906263 89.687567 \r\nz\r\n\" style=\"fill:#4c4000;opacity:0.5;stroke:#4c4000;stroke-linejoin:miter;\"/>\r\n   </g>\r\n   <g id=\"patch_16\">\r\n    <path d=\"M 265.570423 88.744068 \r\nC 265.453436 88.420632 265.334754 88.097812 265.214381 87.775621 \r\nC 265.094008 87.453431 264.971946 87.131874 264.8482 86.810963 \r\nL 173.078136 122.198439 \r\nL 265.570423 88.744068 \r\nz\r\n\" style=\"fill:#283e4b;opacity:0.5;stroke:#283e4b;stroke-linejoin:miter;\"/>\r\n   </g>\r\n   <g id=\"patch_17\">\r\n    <path d=\"M 264.8482 86.810963 \r\nC 264.745535 86.544724 264.641712 86.278933 264.536734 86.013597 \r\nC 264.431757 85.748261 264.325624 85.483383 264.218341 85.218971 \r\nL 173.078136 122.198439 \r\nL 264.8482 86.810963 \r\nz\r\n\" style=\"fill:#482626;opacity:0.5;stroke:#482626;stroke-linejoin:miter;\"/>\r\n   </g>\r\n   <g id=\"patch_18\">\r\n    <path d=\"M 264.218341 85.218971 \r\nC 264.114245 84.962414 264.009066 84.706297 263.902807 84.450628 \r\nC 263.796547 84.194958 263.689209 83.939739 263.580795 83.684976 \r\nL 173.078136 122.198439 \r\nL 264.218341 85.218971 \r\nz\r\n\" style=\"fill:#2e3e0f;opacity:0.5;stroke:#2e3e0f;stroke-linejoin:miter;\"/>\r\n   </g>\r\n   <g id=\"patch_19\">\r\n    <path d=\"M 263.580795 83.684976 \r\nC 263.436119 83.345003 263.289528 83.005847 263.14103 82.667525 \r\nC 262.992532 82.329204 262.842129 81.991721 262.689828 81.655095 \r\nL 173.078136 122.198439 \r\nL 263.580795 83.684976 \r\nz\r\n\" style=\"fill:#4c4000;opacity:0.5;stroke:#4c4000;stroke-linejoin:miter;\"/>\r\n   </g>\r\n   <g id=\"patch_20\">\r\n    <path d=\"M 262.689828 81.655095 \r\nC 262.489656 81.212662 262.286211 80.771719 262.079509 80.332299 \r\nC 261.872807 79.89288 261.662853 79.454998 261.449665 79.018689 \r\nL 173.078136 122.198439 \r\nL 262.689828 81.655095 \r\nz\r\n\" style=\"fill:#283e4b;opacity:0.5;stroke:#283e4b;stroke-linejoin:miter;\"/>\r\n   </g>\r\n   <g id=\"patch_21\">\r\n    <path d=\"M 261.449665 79.018689 \r\nC 260.987253 78.072317 260.509669 77.133435 260.017097 76.202405 \r\nC 259.524525 75.271375 259.017029 74.348318 258.494806 73.43359 \r\nL 173.078136 122.198439 \r\nL 261.449665 79.018689 \r\nz\r\n\" style=\"fill:#482626;opacity:0.5;stroke:#482626;stroke-linejoin:miter;\"/>\r\n   </g>\r\n   <g id=\"patch_22\">\r\n    <path d=\"M 258.494806 73.43359 \r\nC 258.351868 73.18322 258.20783 72.933479 258.062696 72.684375 \r\nC 257.917562 72.435271 257.771333 72.186806 257.624015 71.938988 \r\nL 173.078136 122.198439 \r\nL 258.494806 73.43359 \r\nz\r\n\" style=\"fill:#2e3e0f;opacity:0.5;stroke:#2e3e0f;stroke-linejoin:miter;\"/>\r\n   </g>\r\n   <g id=\"patch_23\">\r\n    <path d=\"M 257.624015 71.938988 \r\nC 257.457474 71.658835 257.289542 71.379512 257.120225 71.101029 \r\nC 256.950908 70.822546 256.780208 70.544906 256.608131 70.26812 \r\nL 173.078136 122.198439 \r\nL 257.624015 71.938988 \r\nz\r\n\" style=\"fill:#4c4000;opacity:0.5;stroke:#4c4000;stroke-linejoin:miter;\"/>\r\n   </g>\r\n   <g id=\"patch_24\">\r\n    <path d=\"M 256.608131 70.26812 \r\nC 247.78012 56.068251 235.475294 44.351264 220.86062 36.228373 \r\nC 206.245946 28.105482 189.798513 23.841858 173.078165 23.841853 \r\nL 173.078136 122.198439 \r\nL 256.608131 70.26812 \r\nz\r\n\" style=\"fill:#283e4b;opacity:0.5;stroke:#283e4b;stroke-linejoin:miter;\"/>\r\n   </g>\r\n   <g id=\"patch_25\">\r\n    <path d=\"M 173.078165 23.841853 \r\nC 173.078165 23.841853 173.078165 23.841853 173.078165 23.841853 \r\nL 173.078136 122.198439 \r\nL 173.078165 23.841853 \r\nz\r\n\" style=\"fill:#482626;opacity:0.5;stroke:#482626;stroke-linejoin:miter;\"/>\r\n   </g>\r\n   <g id=\"patch_26\">\r\n    <path d=\"M 175.045268 21.874721 \r\nC 160.896501 21.874721 146.912907 24.927708 134.051613 30.824717 \r\nC 121.190319 36.721726 109.751611 45.325072 100.518426 56.045889 \r\nL 175.045268 120.231308 \r\nL 175.045268 21.874721 \r\nz\r\n\" style=\"fill:#9acd32;\"/>\r\n   </g>\r\n   <g id=\"patch_27\">\r\n    <path d=\"M 100.518426 56.045889 \r\nC 91.635831 66.359629 84.990158 78.405848 81.003017 91.420318 \r\nC 77.015875 104.434787 75.773404 118.136343 77.354426 131.65574 \r\nL 175.045268 120.231308 \r\nL 100.518426 56.045889 \r\nz\r\n\" style=\"fill:#ffd700;\"/>\r\n   </g>\r\n   <g id=\"patch_28\">\r\n    <path d=\"M 77.354426 131.65574 \r\nC 78.343408 140.112569 80.426344 148.405292 83.550937 156.325706 \r\nC 86.67553 164.24612 90.815411 171.72738 95.866642 178.581657 \r\nL 175.045268 120.231308 \r\nL 77.354426 131.65574 \r\nz\r\n\" style=\"fill:#87cefa;\"/>\r\n   </g>\r\n   <g id=\"patch_29\">\r\n    <path d=\"M 95.866642 178.581657 \r\nC 103.221198 188.561437 112.396683 197.061369 122.90871 203.632731 \r\nC 133.420737 210.204093 145.081011 214.729175 157.273971 216.969093 \r\nL 175.045268 120.231308 \r\nL 95.866642 178.581657 \r\nz\r\n\" style=\"fill:#f08080;\"/>\r\n   </g>\r\n   <g id=\"patch_30\">\r\n    <path d=\"M 157.273971 216.969093 \r\nC 171.309211 219.547448 185.738893 219.040722 199.558694 215.484182 \r\nC 213.378494 211.927642 226.260171 205.405761 237.307142 196.372473 \r\nL 175.045268 120.231308 \r\nL 157.273971 216.969093 \r\nz\r\n\" style=\"fill:#9acd32;\"/>\r\n   </g>\r\n   <g id=\"patch_31\">\r\n    <path d=\"M 237.307142 196.372473 \r\nC 241.329202 193.083569 245.084348 189.481139 248.537314 185.599016 \r\nC 251.990279 181.716892 255.130221 177.567267 257.927649 173.189111 \r\nL 175.045268 120.231308 \r\nL 237.307142 196.372473 \r\nz\r\n\" style=\"fill:#ffd700;\"/>\r\n   </g>\r\n   <g id=\"patch_32\">\r\n    <path d=\"M 257.927649 173.189111 \r\nC 261.131986 168.174116 263.874555 162.878626 266.121588 157.367838 \r\nC 268.368622 151.85705 270.110861 146.153674 271.326854 140.327929 \r\nL 175.045268 120.231308 \r\nL 257.927649 173.189111 \r\nz\r\n\" style=\"fill:#87cefa;\"/>\r\n   </g>\r\n   <g id=\"patch_33\">\r\n    <path d=\"M 271.326854 140.327929 \r\nC 271.910844 137.53007 272.372602 134.708086 272.710813 131.870011 \r\nC 273.049023 129.031936 273.263365 126.180467 273.353228 123.323725 \r\nL 175.045268 120.231308 \r\nL 271.326854 140.327929 \r\nz\r\n\" style=\"fill:#f08080;\"/>\r\n   </g>\r\n   <g id=\"patch_34\">\r\n    <path d=\"M 273.353228 123.323725 \r\nC 273.426596 120.991345 273.416937 118.657092 273.324268 116.325399 \r\nC 273.2316 113.993706 273.05598 111.666049 272.797744 109.346848 \r\nL 175.045268 120.231308 \r\nL 273.353228 123.323725 \r\nz\r\n\" style=\"fill:#9acd32;\"/>\r\n   </g>\r\n   <g id=\"patch_35\">\r\n    <path d=\"M 272.797744 109.346848 \r\nC 272.59639 107.538506 272.344896 105.736099 272.043551 103.941709 \r\nC 271.742207 102.147318 271.391128 100.361635 270.990721 98.586722 \r\nL 175.045268 120.231308 \r\nL 272.797744 109.346848 \r\nz\r\n\" style=\"fill:#ffd700;\"/>\r\n   </g>\r\n   <g id=\"patch_36\">\r\n    <path d=\"M 270.990721 98.586722 \r\nC 270.794968 97.718995 270.587453 96.853963 270.368232 95.991866 \r\nC 270.149012 95.129769 269.918106 94.270686 269.675579 93.414853 \r\nL 175.045268 120.231308 \r\nL 270.990721 98.586722 \r\nz\r\n\" style=\"fill:#87cefa;\"/>\r\n   </g>\r\n   <g id=\"patch_37\">\r\n    <path d=\"M 269.675579 93.414853 \r\nC 269.466213 92.676037 269.248201 91.939698 269.021589 91.205988 \r\nC 268.794977 90.472278 268.55978 89.741247 268.316046 89.013045 \r\nL 175.045268 120.231308 \r\nL 269.675579 93.414853 \r\nz\r\n\" style=\"fill:#f08080;\"/>\r\n   </g>\r\n   <g id=\"patch_38\">\r\n    <path d=\"M 268.316046 89.013045 \r\nC 268.243769 88.797101 268.170741 88.581408 268.096965 88.365971 \r\nC 268.023189 88.150534 267.948665 87.935354 267.873395 87.720435 \r\nL 175.045268 120.231308 \r\nL 268.316046 89.013045 \r\nz\r\n\" style=\"fill:#9acd32;\"/>\r\n   </g>\r\n   <g id=\"patch_39\">\r\n    <path d=\"M 267.873395 87.720435 \r\nC 267.818223 87.562901 267.762649 87.405509 267.706676 87.248258 \r\nC 267.650702 87.091008 267.594328 86.9339 267.537554 86.776936 \r\nL 175.045268 120.231308 \r\nL 267.873395 87.720435 \r\nz\r\n\" style=\"fill:#ffd700;\"/>\r\n   </g>\r\n   <g id=\"patch_40\">\r\n    <path d=\"M 267.537554 86.776936 \r\nC 267.420568 86.4535 267.301886 86.130681 267.181513 85.80849 \r\nC 267.06114 85.486299 266.939078 85.164742 266.815332 84.843832 \r\nL 175.045268 120.231308 \r\nL 267.537554 86.776936 \r\nz\r\n\" style=\"fill:#87cefa;\"/>\r\n   </g>\r\n   <g id=\"patch_41\">\r\n    <path d=\"M 266.815332 84.843832 \r\nC 266.712667 84.577592 266.608844 84.311801 266.503866 84.046465 \r\nC 266.398888 83.781129 266.292756 83.516252 266.185473 83.251839 \r\nL 175.045268 120.231308 \r\nL 266.815332 84.843832 \r\nz\r\n\" style=\"fill:#f08080;\"/>\r\n   </g>\r\n   <g id=\"patch_42\">\r\n    <path d=\"M 266.185473 83.251839 \r\nC 266.081377 82.995282 265.976197 82.739165 265.869938 82.483496 \r\nC 265.763679 82.227827 265.656341 81.972607 265.547926 81.717844 \r\nL 175.045268 120.231308 \r\nL 266.185473 83.251839 \r\nz\r\n\" style=\"fill:#9acd32;\"/>\r\n   </g>\r\n   <g id=\"patch_43\">\r\n    <path d=\"M 265.547926 81.717844 \r\nC 265.40325 81.377871 265.25666 81.038715 265.108162 80.700393 \r\nC 264.959664 80.362072 264.809261 80.02459 264.656959 79.687963 \r\nL 175.045268 120.231308 \r\nL 265.547926 81.717844 \r\nz\r\n\" style=\"fill:#ffd700;\"/>\r\n   </g>\r\n   <g id=\"patch_44\">\r\n    <path d=\"M 264.656959 79.687963 \r\nC 264.456788 79.245531 264.253343 78.804587 264.046641 78.365168 \r\nC 263.839939 77.925749 263.629985 77.487866 263.416797 77.051557 \r\nL 175.045268 120.231308 \r\nL 264.656959 79.687963 \r\nz\r\n\" style=\"fill:#87cefa;\"/>\r\n   </g>\r\n   <g id=\"patch_45\">\r\n    <path d=\"M 263.416797 77.051557 \r\nC 262.954385 76.105186 262.4768 75.166303 261.984229 74.235274 \r\nC 261.491657 73.304244 260.984161 72.381186 260.461938 71.466459 \r\nL 175.045268 120.231308 \r\nL 263.416797 77.051557 \r\nz\r\n\" style=\"fill:#f08080;\"/>\r\n   </g>\r\n   <g id=\"patch_46\">\r\n    <path d=\"M 260.461938 71.466459 \r\nC 260.319 71.216088 260.174962 70.966347 260.029828 70.717243 \r\nC 259.884694 70.468139 259.738465 70.219674 259.591146 69.971856 \r\nL 175.045268 120.231308 \r\nL 260.461938 71.466459 \r\nz\r\n\" style=\"fill:#9acd32;\"/>\r\n   </g>\r\n   <g id=\"patch_47\">\r\n    <path d=\"M 259.591146 69.971856 \r\nC 259.424606 69.691703 259.256674 69.412381 259.087357 69.133897 \r\nC 258.91804 68.855414 258.74734 68.577775 258.575263 68.300989 \r\nL 175.045268 120.231308 \r\nL 259.591146 69.971856 \r\nz\r\n\" style=\"fill:#ffd700;\"/>\r\n   </g>\r\n   <g id=\"patch_48\">\r\n    <path d=\"M 258.575263 68.300989 \r\nC 249.747251 54.10112 237.442426 42.384132 222.827752 34.261241 \r\nC 208.213077 26.138351 191.765645 21.874726 175.045297 21.874721 \r\nL 175.045268 120.231308 \r\nL 258.575263 68.300989 \r\nz\r\n\" style=\"fill:#87cefa;\"/>\r\n   </g>\r\n   <g id=\"patch_49\">\r\n    <path d=\"M 175.045297 21.874721 \r\nC 175.045297 21.874721 175.045297 21.874721 175.045297 21.874721 \r\nL 175.045268 120.231308 \r\nL 175.045297 21.874721 \r\nz\r\n\" style=\"fill:#f08080;\"/>\r\n   </g>\r\n   <g id=\"matplotlib.axis_1\"/>\r\n   <g id=\"matplotlib.axis_2\"/>\r\n   <g id=\"text_1\">\r\n    <!-- BTC -->\r\n    <g transform=\"translate(110.588185 24.643433)scale(0.1 -0.1)\">\r\n     <defs>\r\n      <path d=\"M 19.671875 34.8125 \r\nL 19.671875 8.109375 \r\nL 35.5 8.109375 \r\nQ 43.453125 8.109375 47.28125 11.40625 \r\nQ 51.125 14.703125 51.125 21.484375 \r\nQ 51.125 28.328125 47.28125 31.5625 \r\nQ 43.453125 34.8125 35.5 34.8125 \r\nz\r\nM 19.671875 64.796875 \r\nL 19.671875 42.828125 \r\nL 34.28125 42.828125 \r\nQ 41.5 42.828125 45.03125 45.53125 \r\nQ 48.578125 48.25 48.578125 53.8125 \r\nQ 48.578125 59.328125 45.03125 62.0625 \r\nQ 41.5 64.796875 34.28125 64.796875 \r\nz\r\nM 9.8125 72.90625 \r\nL 35.015625 72.90625 \r\nQ 46.296875 72.90625 52.390625 68.21875 \r\nQ 58.5 63.53125 58.5 54.890625 \r\nQ 58.5 48.1875 55.375 44.234375 \r\nQ 52.25 40.28125 46.1875 39.3125 \r\nQ 53.46875 37.75 57.5 32.78125 \r\nQ 61.53125 27.828125 61.53125 20.40625 \r\nQ 61.53125 10.640625 54.890625 5.3125 \r\nQ 48.25 0 35.984375 0 \r\nL 9.8125 0 \r\nz\r\n\" id=\"DejaVuSans-66\"/>\r\n      <path d=\"M -0.296875 72.90625 \r\nL 61.375 72.90625 \r\nL 61.375 64.59375 \r\nL 35.5 64.59375 \r\nL 35.5 0 \r\nL 25.59375 0 \r\nL 25.59375 64.59375 \r\nL -0.296875 64.59375 \r\nz\r\n\" id=\"DejaVuSans-84\"/>\r\n      <path d=\"M 64.40625 67.28125 \r\nL 64.40625 56.890625 \r\nQ 59.421875 61.53125 53.78125 63.8125 \r\nQ 48.140625 66.109375 41.796875 66.109375 \r\nQ 29.296875 66.109375 22.65625 58.46875 \r\nQ 16.015625 50.828125 16.015625 36.375 \r\nQ 16.015625 21.96875 22.65625 14.328125 \r\nQ 29.296875 6.6875 41.796875 6.6875 \r\nQ 48.140625 6.6875 53.78125 8.984375 \r\nQ 59.421875 11.28125 64.40625 15.921875 \r\nL 64.40625 5.609375 \r\nQ 59.234375 2.09375 53.4375 0.328125 \r\nQ 47.65625 -1.421875 41.21875 -1.421875 \r\nQ 24.65625 -1.421875 15.125 8.703125 \r\nQ 5.609375 18.84375 5.609375 36.375 \r\nQ 5.609375 53.953125 15.125 64.078125 \r\nQ 24.65625 74.21875 41.21875 74.21875 \r\nQ 47.75 74.21875 53.53125 72.484375 \r\nQ 59.328125 70.75 64.40625 67.28125 \r\nz\r\n\" id=\"DejaVuSans-67\"/>\r\n     </defs>\r\n     <use xlink:href=\"#DejaVuSans-66\"/>\r\n     <use x=\"68.603516\" xlink:href=\"#DejaVuSans-84\"/>\r\n     <use x=\"123.8125\" xlink:href=\"#DejaVuSans-67\"/>\r\n    </g>\r\n   </g>\r\n   <g id=\"text_2\">\r\n    <!-- 13.7% -->\r\n    <g transform=\"translate(134.565481 69.346728)scale(0.1 -0.1)\">\r\n     <defs>\r\n      <path d=\"M 12.40625 8.296875 \r\nL 28.515625 8.296875 \r\nL 28.515625 63.921875 \r\nL 10.984375 60.40625 \r\nL 10.984375 69.390625 \r\nL 28.421875 72.90625 \r\nL 38.28125 72.90625 \r\nL 38.28125 8.296875 \r\nL 54.390625 8.296875 \r\nL 54.390625 0 \r\nL 12.40625 0 \r\nz\r\n\" id=\"DejaVuSans-49\"/>\r\n      <path d=\"M 40.578125 39.3125 \r\nQ 47.65625 37.796875 51.625 33 \r\nQ 55.609375 28.21875 55.609375 21.1875 \r\nQ 55.609375 10.40625 48.1875 4.484375 \r\nQ 40.765625 -1.421875 27.09375 -1.421875 \r\nQ 22.515625 -1.421875 17.65625 -0.515625 \r\nQ 12.796875 0.390625 7.625 2.203125 \r\nL 7.625 11.71875 \r\nQ 11.71875 9.328125 16.59375 8.109375 \r\nQ 21.484375 6.890625 26.8125 6.890625 \r\nQ 36.078125 6.890625 40.9375 10.546875 \r\nQ 45.796875 14.203125 45.796875 21.1875 \r\nQ 45.796875 27.640625 41.28125 31.265625 \r\nQ 36.765625 34.90625 28.71875 34.90625 \r\nL 20.21875 34.90625 \r\nL 20.21875 43.015625 \r\nL 29.109375 43.015625 \r\nQ 36.375 43.015625 40.234375 45.921875 \r\nQ 44.09375 48.828125 44.09375 54.296875 \r\nQ 44.09375 59.90625 40.109375 62.90625 \r\nQ 36.140625 65.921875 28.71875 65.921875 \r\nQ 24.65625 65.921875 20.015625 65.03125 \r\nQ 15.375 64.15625 9.8125 62.3125 \r\nL 9.8125 71.09375 \r\nQ 15.4375 72.65625 20.34375 73.4375 \r\nQ 25.25 74.21875 29.59375 74.21875 \r\nQ 40.828125 74.21875 47.359375 69.109375 \r\nQ 53.90625 64.015625 53.90625 55.328125 \r\nQ 53.90625 49.265625 50.4375 45.09375 \r\nQ 46.96875 40.921875 40.578125 39.3125 \r\nz\r\n\" id=\"DejaVuSans-51\"/>\r\n      <path d=\"M 10.6875 12.40625 \r\nL 21 12.40625 \r\nL 21 0 \r\nL 10.6875 0 \r\nz\r\n\" id=\"DejaVuSans-46\"/>\r\n      <path d=\"M 8.203125 72.90625 \r\nL 55.078125 72.90625 \r\nL 55.078125 68.703125 \r\nL 28.609375 0 \r\nL 18.3125 0 \r\nL 43.21875 64.59375 \r\nL 8.203125 64.59375 \r\nz\r\n\" id=\"DejaVuSans-55\"/>\r\n      <path d=\"M 72.703125 32.078125 \r\nQ 68.453125 32.078125 66.03125 28.46875 \r\nQ 63.625 24.859375 63.625 18.40625 \r\nQ 63.625 12.0625 66.03125 8.421875 \r\nQ 68.453125 4.78125 72.703125 4.78125 \r\nQ 76.859375 4.78125 79.265625 8.421875 \r\nQ 81.6875 12.0625 81.6875 18.40625 \r\nQ 81.6875 24.8125 79.265625 28.4375 \r\nQ 76.859375 32.078125 72.703125 32.078125 \r\nz\r\nM 72.703125 38.28125 \r\nQ 80.421875 38.28125 84.953125 32.90625 \r\nQ 89.5 27.546875 89.5 18.40625 \r\nQ 89.5 9.28125 84.9375 3.921875 \r\nQ 80.375 -1.421875 72.703125 -1.421875 \r\nQ 64.890625 -1.421875 60.34375 3.921875 \r\nQ 55.8125 9.28125 55.8125 18.40625 \r\nQ 55.8125 27.59375 60.375 32.9375 \r\nQ 64.9375 38.28125 72.703125 38.28125 \r\nz\r\nM 22.3125 68.015625 \r\nQ 18.109375 68.015625 15.6875 64.375 \r\nQ 13.28125 60.75 13.28125 54.390625 \r\nQ 13.28125 47.953125 15.671875 44.328125 \r\nQ 18.0625 40.71875 22.3125 40.71875 \r\nQ 26.5625 40.71875 28.96875 44.328125 \r\nQ 31.390625 47.953125 31.390625 54.390625 \r\nQ 31.390625 60.6875 28.953125 64.34375 \r\nQ 26.515625 68.015625 22.3125 68.015625 \r\nz\r\nM 66.40625 74.21875 \r\nL 74.21875 74.21875 \r\nL 28.609375 -1.421875 \r\nL 20.796875 -1.421875 \r\nz\r\nM 22.3125 74.21875 \r\nQ 30.03125 74.21875 34.609375 68.875 \r\nQ 39.203125 63.53125 39.203125 54.390625 \r\nQ 39.203125 45.171875 34.640625 39.84375 \r\nQ 30.078125 34.515625 22.3125 34.515625 \r\nQ 14.546875 34.515625 10.03125 39.859375 \r\nQ 5.515625 45.21875 5.515625 54.390625 \r\nQ 5.515625 63.484375 10.046875 68.84375 \r\nQ 14.59375 74.21875 22.3125 74.21875 \r\nz\r\n\" id=\"DejaVuSans-37\"/>\r\n     </defs>\r\n     <use xlink:href=\"#DejaVuSans-49\"/>\r\n     <use x=\"63.623047\" xlink:href=\"#DejaVuSans-51\"/>\r\n     <use x=\"127.246094\" xlink:href=\"#DejaVuSans-46\"/>\r\n     <use x=\"159.033203\" xlink:href=\"#DejaVuSans-55\"/>\r\n     <use x=\"222.65625\" xlink:href=\"#DejaVuSans-37\"/>\r\n    </g>\r\n   </g>\r\n   <g id=\"text_3\">\r\n    <!-- ETH -->\r\n    <g transform=\"translate(51.651917 91.298594)scale(0.1 -0.1)\">\r\n     <defs>\r\n      <path d=\"M 9.8125 72.90625 \r\nL 55.90625 72.90625 \r\nL 55.90625 64.59375 \r\nL 19.671875 64.59375 \r\nL 19.671875 43.015625 \r\nL 54.390625 43.015625 \r\nL 54.390625 34.71875 \r\nL 19.671875 34.71875 \r\nL 19.671875 8.296875 \r\nL 56.78125 8.296875 \r\nL 56.78125 0 \r\nL 9.8125 0 \r\nz\r\n\" id=\"DejaVuSans-69\"/>\r\n      <path d=\"M 9.8125 72.90625 \r\nL 19.671875 72.90625 \r\nL 19.671875 43.015625 \r\nL 55.515625 43.015625 \r\nL 55.515625 72.90625 \r\nL 65.375 72.90625 \r\nL 65.375 0 \r\nL 55.515625 0 \r\nL 55.515625 34.71875 \r\nL 19.671875 34.71875 \r\nL 19.671875 0 \r\nL 9.8125 0 \r\nz\r\n\" id=\"DejaVuSans-72\"/>\r\n     </defs>\r\n     <use xlink:href=\"#DejaVuSans-69\"/>\r\n     <use x=\"63.183594\" xlink:href=\"#DejaVuSans-84\"/>\r\n     <use x=\"124.267578\" xlink:href=\"#DejaVuSans-72\"/>\r\n    </g>\r\n   </g>\r\n   <g id=\"text_4\">\r\n    <!-- 13.2% -->\r\n    <g transform=\"translate(102.736323 105.704089)scale(0.1 -0.1)\">\r\n     <defs>\r\n      <path d=\"M 19.1875 8.296875 \r\nL 53.609375 8.296875 \r\nL 53.609375 0 \r\nL 7.328125 0 \r\nL 7.328125 8.296875 \r\nQ 12.9375 14.109375 22.625 23.890625 \r\nQ 32.328125 33.6875 34.8125 36.53125 \r\nQ 39.546875 41.84375 41.421875 45.53125 \r\nQ 43.3125 49.21875 43.3125 52.78125 \r\nQ 43.3125 58.59375 39.234375 62.25 \r\nQ 35.15625 65.921875 28.609375 65.921875 \r\nQ 23.96875 65.921875 18.8125 64.3125 \r\nQ 13.671875 62.703125 7.8125 59.421875 \r\nL 7.8125 69.390625 \r\nQ 13.765625 71.78125 18.9375 73 \r\nQ 24.125 74.21875 28.421875 74.21875 \r\nQ 39.75 74.21875 46.484375 68.546875 \r\nQ 53.21875 62.890625 53.21875 53.421875 \r\nQ 53.21875 48.921875 51.53125 44.890625 \r\nQ 49.859375 40.875 45.40625 35.40625 \r\nQ 44.1875 33.984375 37.640625 27.21875 \r\nQ 31.109375 20.453125 19.1875 8.296875 \r\nz\r\n\" id=\"DejaVuSans-50\"/>\r\n     </defs>\r\n     <use xlink:href=\"#DejaVuSans-49\"/>\r\n     <use x=\"63.623047\" xlink:href=\"#DejaVuSans-51\"/>\r\n     <use x=\"127.246094\" xlink:href=\"#DejaVuSans-46\"/>\r\n     <use x=\"159.033203\" xlink:href=\"#DejaVuSans-50\"/>\r\n     <use x=\"222.65625\" xlink:href=\"#DejaVuSans-37\"/>\r\n    </g>\r\n   </g>\r\n   <g id=\"text_5\">\r\n    <!-- ADA -->\r\n    <g transform=\"translate(53.195254 162.69452)scale(0.1 -0.1)\">\r\n     <defs>\r\n      <path d=\"M 34.1875 63.1875 \r\nL 20.796875 26.90625 \r\nL 47.609375 26.90625 \r\nz\r\nM 28.609375 72.90625 \r\nL 39.796875 72.90625 \r\nL 67.578125 0 \r\nL 57.328125 0 \r\nL 50.6875 18.703125 \r\nL 17.828125 18.703125 \r\nL 11.1875 0 \r\nL 0.78125 0 \r\nz\r\n\" id=\"DejaVuSans-65\"/>\r\n      <path d=\"M 19.671875 64.796875 \r\nL 19.671875 8.109375 \r\nL 31.59375 8.109375 \r\nQ 46.6875 8.109375 53.6875 14.9375 \r\nQ 60.6875 21.78125 60.6875 36.53125 \r\nQ 60.6875 51.171875 53.6875 57.984375 \r\nQ 46.6875 64.796875 31.59375 64.796875 \r\nz\r\nM 9.8125 72.90625 \r\nL 30.078125 72.90625 \r\nQ 51.265625 72.90625 61.171875 64.09375 \r\nQ 71.09375 55.28125 71.09375 36.53125 \r\nQ 71.09375 17.671875 61.125 8.828125 \r\nQ 51.171875 0 30.078125 0 \r\nL 9.8125 0 \r\nz\r\n\" id=\"DejaVuSans-68\"/>\r\n     </defs>\r\n     <use xlink:href=\"#DejaVuSans-65\"/>\r\n     <use x=\"68.408203\" xlink:href=\"#DejaVuSans-68\"/>\r\n     <use x=\"143.660156\" xlink:href=\"#DejaVuSans-65\"/>\r\n    </g>\r\n   </g>\r\n   <g id=\"text_6\">\r\n    <!-- 8.3% -->\r\n    <g transform=\"translate(107.446325 144.647321)scale(0.1 -0.1)\">\r\n     <defs>\r\n      <path d=\"M 31.78125 34.625 \r\nQ 24.75 34.625 20.71875 30.859375 \r\nQ 16.703125 27.09375 16.703125 20.515625 \r\nQ 16.703125 13.921875 20.71875 10.15625 \r\nQ 24.75 6.390625 31.78125 6.390625 \r\nQ 38.8125 6.390625 42.859375 10.171875 \r\nQ 46.921875 13.96875 46.921875 20.515625 \r\nQ 46.921875 27.09375 42.890625 30.859375 \r\nQ 38.875 34.625 31.78125 34.625 \r\nz\r\nM 21.921875 38.8125 \r\nQ 15.578125 40.375 12.03125 44.71875 \r\nQ 8.5 49.078125 8.5 55.328125 \r\nQ 8.5 64.0625 14.71875 69.140625 \r\nQ 20.953125 74.21875 31.78125 74.21875 \r\nQ 42.671875 74.21875 48.875 69.140625 \r\nQ 55.078125 64.0625 55.078125 55.328125 \r\nQ 55.078125 49.078125 51.53125 44.71875 \r\nQ 48 40.375 41.703125 38.8125 \r\nQ 48.828125 37.15625 52.796875 32.3125 \r\nQ 56.78125 27.484375 56.78125 20.515625 \r\nQ 56.78125 9.90625 50.3125 4.234375 \r\nQ 43.84375 -1.421875 31.78125 -1.421875 \r\nQ 19.734375 -1.421875 13.25 4.234375 \r\nQ 6.78125 9.90625 6.78125 20.515625 \r\nQ 6.78125 27.484375 10.78125 32.3125 \r\nQ 14.796875 37.15625 21.921875 38.8125 \r\nz\r\nM 18.3125 54.390625 \r\nQ 18.3125 48.734375 21.84375 45.5625 \r\nQ 25.390625 42.390625 31.78125 42.390625 \r\nQ 38.140625 42.390625 41.71875 45.5625 \r\nQ 45.3125 48.734375 45.3125 54.390625 \r\nQ 45.3125 60.0625 41.71875 63.234375 \r\nQ 38.140625 66.40625 31.78125 66.40625 \r\nQ 25.390625 66.40625 21.84375 63.234375 \r\nQ 18.3125 60.0625 18.3125 54.390625 \r\nz\r\n\" id=\"DejaVuSans-56\"/>\r\n     </defs>\r\n     <use xlink:href=\"#DejaVuSans-56\"/>\r\n     <use x=\"63.623047\" xlink:href=\"#DejaVuSans-46\"/>\r\n     <use x=\"95.410156\" xlink:href=\"#DejaVuSans-51\"/>\r\n     <use x=\"159.033203\" xlink:href=\"#DejaVuSans-37\"/>\r\n    </g>\r\n   </g>\r\n   <g id=\"text_7\">\r\n    <!-- DOT -->\r\n    <g transform=\"translate(96.015366 214.732248)scale(0.1 -0.1)\">\r\n     <defs>\r\n      <path d=\"M 39.40625 66.21875 \r\nQ 28.65625 66.21875 22.328125 58.203125 \r\nQ 16.015625 50.203125 16.015625 36.375 \r\nQ 16.015625 22.609375 22.328125 14.59375 \r\nQ 28.65625 6.59375 39.40625 6.59375 \r\nQ 50.140625 6.59375 56.421875 14.59375 \r\nQ 62.703125 22.609375 62.703125 36.375 \r\nQ 62.703125 50.203125 56.421875 58.203125 \r\nQ 50.140625 66.21875 39.40625 66.21875 \r\nz\r\nM 39.40625 74.21875 \r\nQ 54.734375 74.21875 63.90625 63.9375 \r\nQ 73.09375 53.65625 73.09375 36.375 \r\nQ 73.09375 19.140625 63.90625 8.859375 \r\nQ 54.734375 -1.421875 39.40625 -1.421875 \r\nQ 24.03125 -1.421875 14.8125 8.828125 \r\nQ 5.609375 19.09375 5.609375 36.375 \r\nQ 5.609375 53.65625 14.8125 63.9375 \r\nQ 24.03125 74.21875 39.40625 74.21875 \r\nz\r\n\" id=\"DejaVuSans-79\"/>\r\n     </defs>\r\n     <use xlink:href=\"#DejaVuSans-68\"/>\r\n     <use x=\"77.001953\" xlink:href=\"#DejaVuSans-79\"/>\r\n     <use x=\"155.712891\" xlink:href=\"#DejaVuSans-84\"/>\r\n    </g>\r\n   </g>\r\n   <g id=\"text_8\">\r\n    <!-- 12.0% -->\r\n    <g transform=\"translate(127.879739 173.031537)scale(0.1 -0.1)\">\r\n     <defs>\r\n      <path d=\"M 31.78125 66.40625 \r\nQ 24.171875 66.40625 20.328125 58.90625 \r\nQ 16.5 51.421875 16.5 36.375 \r\nQ 16.5 21.390625 20.328125 13.890625 \r\nQ 24.171875 6.390625 31.78125 6.390625 \r\nQ 39.453125 6.390625 43.28125 13.890625 \r\nQ 47.125 21.390625 47.125 36.375 \r\nQ 47.125 51.421875 43.28125 58.90625 \r\nQ 39.453125 66.40625 31.78125 66.40625 \r\nz\r\nM 31.78125 74.21875 \r\nQ 44.046875 74.21875 50.515625 64.515625 \r\nQ 56.984375 54.828125 56.984375 36.375 \r\nQ 56.984375 17.96875 50.515625 8.265625 \r\nQ 44.046875 -1.421875 31.78125 -1.421875 \r\nQ 19.53125 -1.421875 13.0625 8.265625 \r\nQ 6.59375 17.96875 6.59375 36.375 \r\nQ 6.59375 54.828125 13.0625 64.515625 \r\nQ 19.53125 74.21875 31.78125 74.21875 \r\nz\r\n\" id=\"DejaVuSans-48\"/>\r\n     </defs>\r\n     <use xlink:href=\"#DejaVuSans-49\"/>\r\n     <use x=\"63.623047\" xlink:href=\"#DejaVuSans-50\"/>\r\n     <use x=\"127.246094\" xlink:href=\"#DejaVuSans-46\"/>\r\n     <use x=\"159.033203\" xlink:href=\"#DejaVuSans-48\"/>\r\n     <use x=\"222.65625\" xlink:href=\"#DejaVuSans-37\"/>\r\n    </g>\r\n   </g>\r\n   <g id=\"text_9\">\r\n    <!-- MATIC -->\r\n    <g transform=\"translate(202.010037 227.768844)scale(0.1 -0.1)\">\r\n     <defs>\r\n      <path d=\"M 9.8125 72.90625 \r\nL 24.515625 72.90625 \r\nL 43.109375 23.296875 \r\nL 61.8125 72.90625 \r\nL 76.515625 72.90625 \r\nL 76.515625 0 \r\nL 66.890625 0 \r\nL 66.890625 64.015625 \r\nL 48.09375 14.015625 \r\nL 38.1875 14.015625 \r\nL 19.390625 64.015625 \r\nL 19.390625 0 \r\nL 9.8125 0 \r\nz\r\n\" id=\"DejaVuSans-77\"/>\r\n      <path d=\"M 9.8125 72.90625 \r\nL 19.671875 72.90625 \r\nL 19.671875 0 \r\nL 9.8125 0 \r\nz\r\n\" id=\"DejaVuSans-73\"/>\r\n     </defs>\r\n     <use xlink:href=\"#DejaVuSans-77\"/>\r\n     <use x=\"86.279297\" xlink:href=\"#DejaVuSans-65\"/>\r\n     <use x=\"146.9375\" xlink:href=\"#DejaVuSans-84\"/>\r\n     <use x=\"208.021484\" xlink:href=\"#DejaVuSans-73\"/>\r\n     <use x=\"237.513672\" xlink:href=\"#DejaVuSans-67\"/>\r\n    </g>\r\n   </g>\r\n   <g id=\"text_10\">\r\n    <!-- 13.8% -->\r\n    <g transform=\"translate(173.86973 180.142407)scale(0.1 -0.1)\">\r\n     <use xlink:href=\"#DejaVuSans-49\"/>\r\n     <use x=\"63.623047\" xlink:href=\"#DejaVuSans-51\"/>\r\n     <use x=\"127.246094\" xlink:href=\"#DejaVuSans-46\"/>\r\n     <use x=\"159.033203\" xlink:href=\"#DejaVuSans-56\"/>\r\n     <use x=\"222.65625\" xlink:href=\"#DejaVuSans-37\"/>\r\n    </g>\r\n   </g>\r\n   <g id=\"text_11\">\r\n    <!-- KSM -->\r\n    <g transform=\"translate(255.886518 194.895161)scale(0.1 -0.1)\">\r\n     <defs>\r\n      <path d=\"M 9.8125 72.90625 \r\nL 19.671875 72.90625 \r\nL 19.671875 42.09375 \r\nL 52.390625 72.90625 \r\nL 65.09375 72.90625 \r\nL 28.90625 38.921875 \r\nL 67.671875 0 \r\nL 54.6875 0 \r\nL 19.671875 35.109375 \r\nL 19.671875 0 \r\nL 9.8125 0 \r\nz\r\n\" id=\"DejaVuSans-75\"/>\r\n      <path d=\"M 53.515625 70.515625 \r\nL 53.515625 60.890625 \r\nQ 47.90625 63.578125 42.921875 64.890625 \r\nQ 37.9375 66.21875 33.296875 66.21875 \r\nQ 25.25 66.21875 20.875 63.09375 \r\nQ 16.5 59.96875 16.5 54.203125 \r\nQ 16.5 49.359375 19.40625 46.890625 \r\nQ 22.3125 44.4375 30.421875 42.921875 \r\nL 36.375 41.703125 \r\nQ 47.40625 39.59375 52.65625 34.296875 \r\nQ 57.90625 29 57.90625 20.125 \r\nQ 57.90625 9.515625 50.796875 4.046875 \r\nQ 43.703125 -1.421875 29.984375 -1.421875 \r\nQ 24.8125 -1.421875 18.96875 -0.25 \r\nQ 13.140625 0.921875 6.890625 3.21875 \r\nL 6.890625 13.375 \r\nQ 12.890625 10.015625 18.65625 8.296875 \r\nQ 24.421875 6.59375 29.984375 6.59375 \r\nQ 38.421875 6.59375 43.015625 9.90625 \r\nQ 47.609375 13.234375 47.609375 19.390625 \r\nQ 47.609375 24.75 44.3125 27.78125 \r\nQ 41.015625 30.8125 33.5 32.328125 \r\nL 27.484375 33.5 \r\nQ 16.453125 35.6875 11.515625 40.375 \r\nQ 6.59375 45.0625 6.59375 53.421875 \r\nQ 6.59375 63.09375 13.40625 68.65625 \r\nQ 20.21875 74.21875 32.171875 74.21875 \r\nQ 37.3125 74.21875 42.625 73.28125 \r\nQ 47.953125 72.359375 53.515625 70.515625 \r\nz\r\n\" id=\"DejaVuSans-83\"/>\r\n     </defs>\r\n     <use xlink:href=\"#DejaVuSans-75\"/>\r\n     <use x=\"65.576172\" xlink:href=\"#DejaVuSans-83\"/>\r\n     <use x=\"129.052734\" xlink:href=\"#DejaVuSans-77\"/>\r\n    </g>\r\n   </g>\r\n   <g id=\"text_12\">\r\n    <!-- 5.0% -->\r\n    <g transform=\"translate(206.438152 162.211307)scale(0.1 -0.1)\">\r\n     <defs>\r\n      <path d=\"M 10.796875 72.90625 \r\nL 49.515625 72.90625 \r\nL 49.515625 64.59375 \r\nL 19.828125 64.59375 \r\nL 19.828125 46.734375 \r\nQ 21.96875 47.46875 24.109375 47.828125 \r\nQ 26.265625 48.1875 28.421875 48.1875 \r\nQ 40.625 48.1875 47.75 41.5 \r\nQ 54.890625 34.8125 54.890625 23.390625 \r\nQ 54.890625 11.625 47.5625 5.09375 \r\nQ 40.234375 -1.421875 26.90625 -1.421875 \r\nQ 22.3125 -1.421875 17.546875 -0.640625 \r\nQ 12.796875 0.140625 7.71875 1.703125 \r\nL 7.71875 11.625 \r\nQ 12.109375 9.234375 16.796875 8.0625 \r\nQ 21.484375 6.890625 26.703125 6.890625 \r\nQ 35.15625 6.890625 40.078125 11.328125 \r\nQ 45.015625 15.765625 45.015625 23.390625 \r\nQ 45.015625 31 40.078125 35.4375 \r\nQ 35.15625 39.890625 26.703125 39.890625 \r\nQ 22.75 39.890625 18.8125 39.015625 \r\nQ 14.890625 38.140625 10.796875 36.28125 \r\nz\r\n\" id=\"DejaVuSans-53\"/>\r\n     </defs>\r\n     <use xlink:href=\"#DejaVuSans-53\"/>\r\n     <use x=\"63.623047\" xlink:href=\"#DejaVuSans-46\"/>\r\n     <use x=\"95.410156\" xlink:href=\"#DejaVuSans-48\"/>\r\n     <use x=\"159.033203\" xlink:href=\"#DejaVuSans-37\"/>\r\n    </g>\r\n   </g>\r\n   <g id=\"text_13\">\r\n    <!-- CAKE -->\r\n    <g transform=\"translate(275.22922 163.840866)scale(0.1 -0.1)\">\r\n     <use xlink:href=\"#DejaVuSans-67\"/>\r\n     <use x=\"69.824219\" xlink:href=\"#DejaVuSans-65\"/>\r\n     <use x=\"138.232422\" xlink:href=\"#DejaVuSans-75\"/>\r\n     <use x=\"203.808594\" xlink:href=\"#DejaVuSans-69\"/>\r\n    </g>\r\n   </g>\r\n   <g id=\"text_14\">\r\n    <!-- 5.8% -->\r\n    <g transform=\"translate(216.988716 145.272601)scale(0.1 -0.1)\">\r\n     <use xlink:href=\"#DejaVuSans-53\"/>\r\n     <use x=\"63.623047\" xlink:href=\"#DejaVuSans-46\"/>\r\n     <use x=\"95.410156\" xlink:href=\"#DejaVuSans-56\"/>\r\n     <use x=\"159.033203\" xlink:href=\"#DejaVuSans-37\"/>\r\n    </g>\r\n   </g>\r\n   <g id=\"text_15\">\r\n    <!-- VET -->\r\n    <g transform=\"translate(282.477367 135.793256)scale(0.1 -0.1)\">\r\n     <defs>\r\n      <path d=\"M 28.609375 0 \r\nL 0.78125 72.90625 \r\nL 11.078125 72.90625 \r\nL 34.1875 11.53125 \r\nL 57.328125 72.90625 \r\nL 67.578125 72.90625 \r\nL 39.796875 0 \r\nz\r\n\" id=\"DejaVuSans-86\"/>\r\n     </defs>\r\n     <use xlink:href=\"#DejaVuSans-86\"/>\r\n     <use x=\"68.408203\" xlink:href=\"#DejaVuSans-69\"/>\r\n     <use x=\"131.591797\" xlink:href=\"#DejaVuSans-84\"/>\r\n    </g>\r\n   </g>\r\n   <g id=\"text_16\">\r\n    <!-- 2.8% -->\r\n    <g transform=\"translate(220.942251 129.973905)scale(0.1 -0.1)\">\r\n     <use xlink:href=\"#DejaVuSans-50\"/>\r\n     <use x=\"63.623047\" xlink:href=\"#DejaVuSans-46\"/>\r\n     <use x=\"95.410156\" xlink:href=\"#DejaVuSans-56\"/>\r\n     <use x=\"159.033203\" xlink:href=\"#DejaVuSans-37\"/>\r\n    </g>\r\n   </g>\r\n   <g id=\"text_17\">\r\n    <!-- SOL -->\r\n    <g transform=\"translate(283.152168 118.694183)scale(0.1 -0.1)\">\r\n     <defs>\r\n      <path d=\"M 9.8125 72.90625 \r\nL 19.671875 72.90625 \r\nL 19.671875 8.296875 \r\nL 55.171875 8.296875 \r\nL 55.171875 0 \r\nL 9.8125 0 \r\nz\r\n\" id=\"DejaVuSans-76\"/>\r\n     </defs>\r\n     <use xlink:href=\"#DejaVuSans-83\"/>\r\n     <use x=\"63.476562\" xlink:href=\"#DejaVuSans-79\"/>\r\n     <use x=\"142.1875\" xlink:href=\"#DejaVuSans-76\"/>\r\n    </g>\r\n   </g>\r\n   <g id=\"text_18\">\r\n    <!-- 2.3% -->\r\n    <g transform=\"translate(221.310324 120.647137)scale(0.1 -0.1)\">\r\n     <use xlink:href=\"#DejaVuSans-50\"/>\r\n     <use x=\"63.623047\" xlink:href=\"#DejaVuSans-46\"/>\r\n     <use x=\"95.410156\" xlink:href=\"#DejaVuSans-51\"/>\r\n     <use x=\"159.033203\" xlink:href=\"#DejaVuSans-37\"/>\r\n    </g>\r\n   </g>\r\n   <g id=\"text_19\">\r\n    <!-- BNB -->\r\n    <g transform=\"translate(281.74338 105.072124)scale(0.1 -0.1)\">\r\n     <defs>\r\n      <path d=\"M 9.8125 72.90625 \r\nL 23.09375 72.90625 \r\nL 55.421875 11.921875 \r\nL 55.421875 72.90625 \r\nL 64.984375 72.90625 \r\nL 64.984375 0 \r\nL 51.703125 0 \r\nL 19.390625 60.984375 \r\nL 19.390625 0 \r\nL 9.8125 0 \r\nz\r\n\" id=\"DejaVuSans-78\"/>\r\n     </defs>\r\n     <use xlink:href=\"#DejaVuSans-66\"/>\r\n     <use x=\"68.603516\" xlink:href=\"#DejaVuSans-78\"/>\r\n     <use x=\"143.408203\" xlink:href=\"#DejaVuSans-66\"/>\r\n    </g>\r\n   </g>\r\n   <g id=\"text_20\">\r\n    <!-- 1.8% -->\r\n    <g transform=\"translate(220.541894 113.216923)scale(0.1 -0.1)\">\r\n     <use xlink:href=\"#DejaVuSans-49\"/>\r\n     <use x=\"63.623047\" xlink:href=\"#DejaVuSans-46\"/>\r\n     <use x=\"95.410156\" xlink:href=\"#DejaVuSans-56\"/>\r\n     <use x=\"159.033203\" xlink:href=\"#DejaVuSans-37\"/>\r\n    </g>\r\n   </g>\r\n   <g id=\"text_21\">\r\n    <!-- LTC -->\r\n    <g transform=\"translate(279.900529 96.327297)scale(0.1 -0.1)\">\r\n     <use xlink:href=\"#DejaVuSans-76\"/>\r\n     <use x=\"41.962891\" xlink:href=\"#DejaVuSans-84\"/>\r\n     <use x=\"97.171875\" xlink:href=\"#DejaVuSans-67\"/>\r\n    </g>\r\n   </g>\r\n   <g id=\"text_22\">\r\n    <!-- 0.9% -->\r\n    <g transform=\"translate(219.536703 108.447018)scale(0.1 -0.1)\">\r\n     <defs>\r\n      <path d=\"M 10.984375 1.515625 \r\nL 10.984375 10.5 \r\nQ 14.703125 8.734375 18.5 7.8125 \r\nQ 22.3125 6.890625 25.984375 6.890625 \r\nQ 35.75 6.890625 40.890625 13.453125 \r\nQ 46.046875 20.015625 46.78125 33.40625 \r\nQ 43.953125 29.203125 39.59375 26.953125 \r\nQ 35.25 24.703125 29.984375 24.703125 \r\nQ 19.046875 24.703125 12.671875 31.3125 \r\nQ 6.296875 37.9375 6.296875 49.421875 \r\nQ 6.296875 60.640625 12.9375 67.421875 \r\nQ 19.578125 74.21875 30.609375 74.21875 \r\nQ 43.265625 74.21875 49.921875 64.515625 \r\nQ 56.59375 54.828125 56.59375 36.375 \r\nQ 56.59375 19.140625 48.40625 8.859375 \r\nQ 40.234375 -1.421875 26.421875 -1.421875 \r\nQ 22.703125 -1.421875 18.890625 -0.6875 \r\nQ 15.09375 0.046875 10.984375 1.515625 \r\nz\r\nM 30.609375 32.421875 \r\nQ 37.25 32.421875 41.125 36.953125 \r\nQ 45.015625 41.5 45.015625 49.421875 \r\nQ 45.015625 57.28125 41.125 61.84375 \r\nQ 37.25 66.40625 30.609375 66.40625 \r\nQ 23.96875 66.40625 20.09375 61.84375 \r\nQ 16.21875 57.28125 16.21875 49.421875 \r\nQ 16.21875 41.5 20.09375 36.953125 \r\nQ 23.96875 32.421875 30.609375 32.421875 \r\nz\r\n\" id=\"DejaVuSans-57\"/>\r\n     </defs>\r\n     <use xlink:href=\"#DejaVuSans-48\"/>\r\n     <use x=\"63.623047\" xlink:href=\"#DejaVuSans-46\"/>\r\n     <use x=\"95.410156\" xlink:href=\"#DejaVuSans-57\"/>\r\n     <use x=\"159.033203\" xlink:href=\"#DejaVuSans-37\"/>\r\n    </g>\r\n   </g>\r\n   <g id=\"text_23\">\r\n    <!-- THETA -->\r\n    <g transform=\"translate(278.419221 91.062831)scale(0.1 -0.1)\">\r\n     <use xlink:href=\"#DejaVuSans-84\"/>\r\n     <use x=\"61.083984\" xlink:href=\"#DejaVuSans-72\"/>\r\n     <use x=\"136.279297\" xlink:href=\"#DejaVuSans-69\"/>\r\n     <use x=\"199.462891\" xlink:href=\"#DejaVuSans-84\"/>\r\n     <use x=\"252.796875\" xlink:href=\"#DejaVuSans-65\"/>\r\n    </g>\r\n   </g>\r\n   <g id=\"text_24\">\r\n    <!-- 0.7% -->\r\n    <g transform=\"translate(218.728716 105.575491)scale(0.1 -0.1)\">\r\n     <use xlink:href=\"#DejaVuSans-48\"/>\r\n     <use x=\"63.623047\" xlink:href=\"#DejaVuSans-46\"/>\r\n     <use x=\"95.410156\" xlink:href=\"#DejaVuSans-55\"/>\r\n     <use x=\"159.033203\" xlink:href=\"#DejaVuSans-37\"/>\r\n    </g>\r\n   </g>\r\n   <g id=\"text_25\">\r\n    <!-- AVAX -->\r\n    <g transform=\"translate(277.402135 87.938813)scale(0.1 -0.1)\">\r\n     <defs>\r\n      <path d=\"M 6.296875 72.90625 \r\nL 16.890625 72.90625 \r\nL 35.015625 45.796875 \r\nL 53.21875 72.90625 \r\nL 63.8125 72.90625 \r\nL 40.375 37.890625 \r\nL 65.375 0 \r\nL 54.78125 0 \r\nL 34.28125 31 \r\nL 13.625 0 \r\nL 2.984375 0 \r\nL 29 38.921875 \r\nz\r\n\" id=\"DejaVuSans-88\"/>\r\n     </defs>\r\n     <use xlink:href=\"#DejaVuSans-65\"/>\r\n     <use x=\"62.033203\" xlink:href=\"#DejaVuSans-86\"/>\r\n     <use x=\"124.066406\" xlink:href=\"#DejaVuSans-65\"/>\r\n     <use x=\"192.474609\" xlink:href=\"#DejaVuSans-88\"/>\r\n    </g>\r\n   </g>\r\n   <g id=\"text_26\">\r\n    <!-- 0.2% -->\r\n    <g transform=\"translate(218.173942 103.871481)scale(0.1 -0.1)\">\r\n     <use xlink:href=\"#DejaVuSans-48\"/>\r\n     <use x=\"63.623047\" xlink:href=\"#DejaVuSans-46\"/>\r\n     <use x=\"95.410156\" xlink:href=\"#DejaVuSans-50\"/>\r\n     <use x=\"159.033203\" xlink:href=\"#DejaVuSans-37\"/>\r\n    </g>\r\n   </g>\r\n   <g id=\"text_27\">\r\n    <!-- DENT -->\r\n    <g transform=\"translate(276.972816 86.709328)scale(0.1 -0.1)\">\r\n     <use xlink:href=\"#DejaVuSans-68\"/>\r\n     <use x=\"77.001953\" xlink:href=\"#DejaVuSans-69\"/>\r\n     <use x=\"140.185547\" xlink:href=\"#DejaVuSans-78\"/>\r\n     <use x=\"214.990234\" xlink:href=\"#DejaVuSans-84\"/>\r\n    </g>\r\n   </g>\r\n   <g id=\"text_28\">\r\n    <!-- 0.2% -->\r\n    <g transform=\"translate(217.939769 103.200853)scale(0.1 -0.1)\">\r\n     <use xlink:href=\"#DejaVuSans-48\"/>\r\n     <use x=\"63.623047\" xlink:href=\"#DejaVuSans-46\"/>\r\n     <use x=\"95.410156\" xlink:href=\"#DejaVuSans-50\"/>\r\n     <use x=\"159.033203\" xlink:href=\"#DejaVuSans-37\"/>\r\n    </g>\r\n   </g>\r\n   <g id=\"text_29\">\r\n    <!-- EGLD -->\r\n    <g transform=\"translate(276.395137 85.125583)scale(0.1 -0.1)\">\r\n     <defs>\r\n      <path d=\"M 59.515625 10.40625 \r\nL 59.515625 29.984375 \r\nL 43.40625 29.984375 \r\nL 43.40625 38.09375 \r\nL 69.28125 38.09375 \r\nL 69.28125 6.78125 \r\nQ 63.578125 2.734375 56.6875 0.65625 \r\nQ 49.8125 -1.421875 42 -1.421875 \r\nQ 24.90625 -1.421875 15.25 8.5625 \r\nQ 5.609375 18.5625 5.609375 36.375 \r\nQ 5.609375 54.25 15.25 64.234375 \r\nQ 24.90625 74.21875 42 74.21875 \r\nQ 49.125 74.21875 55.546875 72.453125 \r\nQ 61.96875 70.703125 67.390625 67.28125 \r\nL 67.390625 56.78125 \r\nQ 61.921875 61.421875 55.765625 63.765625 \r\nQ 49.609375 66.109375 42.828125 66.109375 \r\nQ 29.4375 66.109375 22.71875 58.640625 \r\nQ 16.015625 51.171875 16.015625 36.375 \r\nQ 16.015625 21.625 22.71875 14.15625 \r\nQ 29.4375 6.6875 42.828125 6.6875 \r\nQ 48.046875 6.6875 52.140625 7.59375 \r\nQ 56.25 8.5 59.515625 10.40625 \r\nz\r\n\" id=\"DejaVuSans-71\"/>\r\n     </defs>\r\n     <use xlink:href=\"#DejaVuSans-69\"/>\r\n     <use x=\"63.183594\" xlink:href=\"#DejaVuSans-71\"/>\r\n     <use x=\"140.673828\" xlink:href=\"#DejaVuSans-76\"/>\r\n     <use x=\"196.386719\" xlink:href=\"#DejaVuSans-68\"/>\r\n    </g>\r\n   </g>\r\n   <g id=\"text_30\">\r\n    <!-- 0.3% -->\r\n    <g transform=\"translate(217.624671 102.336992)scale(0.1 -0.1)\">\r\n     <use xlink:href=\"#DejaVuSans-48\"/>\r\n     <use x=\"63.623047\" xlink:href=\"#DejaVuSans-46\"/>\r\n     <use x=\"95.410156\" xlink:href=\"#DejaVuSans-51\"/>\r\n     <use x=\"159.033203\" xlink:href=\"#DejaVuSans-37\"/>\r\n    </g>\r\n   </g>\r\n   <g id=\"text_31\">\r\n    <!-- HOT -->\r\n    <g transform=\"translate(275.649726 83.187356)scale(0.1 -0.1)\">\r\n     <use xlink:href=\"#DejaVuSans-72\"/>\r\n     <use x=\"75.195312\" xlink:href=\"#DejaVuSans-79\"/>\r\n     <use x=\"153.90625\" xlink:href=\"#DejaVuSans-84\"/>\r\n    </g>\r\n   </g>\r\n   <g id=\"text_32\">\r\n    <!-- 0.3% -->\r\n    <g transform=\"translate(217.218083 101.279777)scale(0.1 -0.1)\">\r\n     <use xlink:href=\"#DejaVuSans-48\"/>\r\n     <use x=\"63.623047\" xlink:href=\"#DejaVuSans-46\"/>\r\n     <use x=\"95.410156\" xlink:href=\"#DejaVuSans-51\"/>\r\n     <use x=\"159.033203\" xlink:href=\"#DejaVuSans-37\"/>\r\n    </g>\r\n   </g>\r\n   <g id=\"text_33\">\r\n    <!-- TRX -->\r\n    <g transform=\"translate(274.952405 81.46809)scale(0.1 -0.1)\">\r\n     <defs>\r\n      <path d=\"M 44.390625 34.1875 \r\nQ 47.5625 33.109375 50.5625 29.59375 \r\nQ 53.5625 26.078125 56.59375 19.921875 \r\nL 66.609375 0 \r\nL 56 0 \r\nL 46.6875 18.703125 \r\nQ 43.0625 26.03125 39.671875 28.421875 \r\nQ 36.28125 30.8125 30.421875 30.8125 \r\nL 19.671875 30.8125 \r\nL 19.671875 0 \r\nL 9.8125 0 \r\nL 9.8125 72.90625 \r\nL 32.078125 72.90625 \r\nQ 44.578125 72.90625 50.734375 67.671875 \r\nQ 56.890625 62.453125 56.890625 51.90625 \r\nQ 56.890625 45.015625 53.6875 40.46875 \r\nQ 50.484375 35.9375 44.390625 34.1875 \r\nz\r\nM 19.671875 64.796875 \r\nL 19.671875 38.921875 \r\nL 32.078125 38.921875 \r\nQ 39.203125 38.921875 42.84375 42.21875 \r\nQ 46.484375 45.515625 46.484375 51.90625 \r\nQ 46.484375 58.296875 42.84375 61.546875 \r\nQ 39.203125 64.796875 32.078125 64.796875 \r\nz\r\n\" id=\"DejaVuSans-82\"/>\r\n     </defs>\r\n     <use xlink:href=\"#DejaVuSans-84\"/>\r\n     <use x=\"61.083984\" xlink:href=\"#DejaVuSans-82\"/>\r\n     <use x=\"130.566406\" xlink:href=\"#DejaVuSans-88\"/>\r\n    </g>\r\n   </g>\r\n   <g id=\"text_34\">\r\n    <!-- 0.3% -->\r\n    <g transform=\"translate(216.837726 100.341996)scale(0.1 -0.1)\">\r\n     <use xlink:href=\"#DejaVuSans-48\"/>\r\n     <use x=\"63.623047\" xlink:href=\"#DejaVuSans-46\"/>\r\n     <use x=\"95.410156\" xlink:href=\"#DejaVuSans-51\"/>\r\n     <use x=\"159.033203\" xlink:href=\"#DejaVuSans-37\"/>\r\n    </g>\r\n   </g>\r\n   <g id=\"text_35\">\r\n    <!-- ONE -->\r\n    <g transform=\"translate(274.114451 79.506677)scale(0.1 -0.1)\">\r\n     <use xlink:href=\"#DejaVuSans-79\"/>\r\n     <use x=\"78.710938\" xlink:href=\"#DejaVuSans-78\"/>\r\n     <use x=\"153.515625\" xlink:href=\"#DejaVuSans-69\"/>\r\n    </g>\r\n   </g>\r\n   <g id=\"text_36\">\r\n    <!-- 0.4% -->\r\n    <g transform=\"translate(216.38066 99.272134)scale(0.1 -0.1)\">\r\n     <defs>\r\n      <path d=\"M 37.796875 64.3125 \r\nL 12.890625 25.390625 \r\nL 37.796875 25.390625 \r\nz\r\nM 35.203125 72.90625 \r\nL 47.609375 72.90625 \r\nL 47.609375 25.390625 \r\nL 58.015625 25.390625 \r\nL 58.015625 17.1875 \r\nL 47.609375 17.1875 \r\nL 47.609375 0 \r\nL 37.796875 0 \r\nL 37.796875 17.1875 \r\nL 4.890625 17.1875 \r\nL 4.890625 26.703125 \r\nz\r\n\" id=\"DejaVuSans-52\"/>\r\n     </defs>\r\n     <use xlink:href=\"#DejaVuSans-48\"/>\r\n     <use x=\"63.623047\" xlink:href=\"#DejaVuSans-46\"/>\r\n     <use x=\"95.410156\" xlink:href=\"#DejaVuSans-52\"/>\r\n     <use x=\"159.033203\" xlink:href=\"#DejaVuSans-37\"/>\r\n    </g>\r\n   </g>\r\n   <g id=\"text_37\">\r\n    <!-- BAND -->\r\n    <g transform=\"translate(272.946778 76.937929)scale(0.1 -0.1)\">\r\n     <use xlink:href=\"#DejaVuSans-66\"/>\r\n     <use x=\"68.603516\" xlink:href=\"#DejaVuSans-65\"/>\r\n     <use x=\"137.011719\" xlink:href=\"#DejaVuSans-78\"/>\r\n     <use x=\"211.816406\" xlink:href=\"#DejaVuSans-68\"/>\r\n    </g>\r\n   </g>\r\n   <g id=\"text_38\">\r\n    <!-- 0.5% -->\r\n    <g transform=\"translate(215.743748 97.870999)scale(0.1 -0.1)\">\r\n     <use xlink:href=\"#DejaVuSans-48\"/>\r\n     <use x=\"63.623047\" xlink:href=\"#DejaVuSans-46\"/>\r\n     <use x=\"95.410156\" xlink:href=\"#DejaVuSans-53\"/>\r\n     <use x=\"159.033203\" xlink:href=\"#DejaVuSans-37\"/>\r\n    </g>\r\n   </g>\r\n   <g id=\"text_39\">\r\n    <!-- SXP -->\r\n    <g transform=\"translate(270.678125 72.395045)scale(0.1 -0.1)\">\r\n     <defs>\r\n      <path d=\"M 19.671875 64.796875 \r\nL 19.671875 37.40625 \r\nL 32.078125 37.40625 \r\nQ 38.96875 37.40625 42.71875 40.96875 \r\nQ 46.484375 44.53125 46.484375 51.125 \r\nQ 46.484375 57.671875 42.71875 61.234375 \r\nQ 38.96875 64.796875 32.078125 64.796875 \r\nz\r\nM 9.8125 72.90625 \r\nL 32.078125 72.90625 \r\nQ 44.34375 72.90625 50.609375 67.359375 \r\nQ 56.890625 61.8125 56.890625 51.125 \r\nQ 56.890625 40.328125 50.609375 34.8125 \r\nQ 44.34375 29.296875 32.078125 29.296875 \r\nL 19.671875 29.296875 \r\nL 19.671875 0 \r\nL 9.8125 0 \r\nz\r\n\" id=\"DejaVuSans-80\"/>\r\n     </defs>\r\n     <use xlink:href=\"#DejaVuSans-83\"/>\r\n     <use x=\"63.476562\" xlink:href=\"#DejaVuSans-88\"/>\r\n     <use x=\"131.982422\" xlink:href=\"#DejaVuSans-80\"/>\r\n    </g>\r\n   </g>\r\n   <g id=\"text_40\">\r\n    <!-- 1.0% -->\r\n    <g transform=\"translate(214.5063 95.393062)scale(0.1 -0.1)\">\r\n     <use xlink:href=\"#DejaVuSans-49\"/>\r\n     <use x=\"63.623047\" xlink:href=\"#DejaVuSans-46\"/>\r\n     <use x=\"95.410156\" xlink:href=\"#DejaVuSans-48\"/>\r\n     <use x=\"159.033203\" xlink:href=\"#DejaVuSans-37\"/>\r\n    </g>\r\n   </g>\r\n   <g id=\"text_41\">\r\n    <!-- LINK -->\r\n    <g transform=\"translate(268.528284 68.525211)scale(0.1 -0.1)\">\r\n     <use xlink:href=\"#DejaVuSans-76\"/>\r\n     <use x=\"55.712891\" xlink:href=\"#DejaVuSans-73\"/>\r\n     <use x=\"85.205078\" xlink:href=\"#DejaVuSans-78\"/>\r\n     <use x=\"160.009766\" xlink:href=\"#DejaVuSans-75\"/>\r\n    </g>\r\n   </g>\r\n   <g id=\"text_42\">\r\n    <!-- 0.3% -->\r\n    <g transform=\"translate(213.33366 93.282244)scale(0.1 -0.1)\">\r\n     <use xlink:href=\"#DejaVuSans-48\"/>\r\n     <use x=\"63.623047\" xlink:href=\"#DejaVuSans-46\"/>\r\n     <use x=\"95.410156\" xlink:href=\"#DejaVuSans-51\"/>\r\n     <use x=\"159.033203\" xlink:href=\"#DejaVuSans-37\"/>\r\n    </g>\r\n   </g>\r\n   <g id=\"text_43\">\r\n    <!-- UTK -->\r\n    <g transform=\"translate(267.491566 66.783531)scale(0.1 -0.1)\">\r\n     <defs>\r\n      <path d=\"M 8.6875 72.90625 \r\nL 18.609375 72.90625 \r\nL 18.609375 28.609375 \r\nQ 18.609375 16.890625 22.84375 11.734375 \r\nQ 27.09375 6.59375 36.625 6.59375 \r\nQ 46.09375 6.59375 50.34375 11.734375 \r\nQ 54.59375 16.890625 54.59375 28.609375 \r\nL 54.59375 72.90625 \r\nL 64.5 72.90625 \r\nL 64.5 27.390625 \r\nQ 64.5 13.140625 57.4375 5.859375 \r\nQ 50.390625 -1.421875 36.625 -1.421875 \r\nQ 22.796875 -1.421875 15.734375 5.859375 \r\nQ 8.6875 13.140625 8.6875 27.390625 \r\nz\r\n\" id=\"DejaVuSans-85\"/>\r\n     </defs>\r\n     <use xlink:href=\"#DejaVuSans-85\"/>\r\n     <use x=\"73.193359\" xlink:href=\"#DejaVuSans-84\"/>\r\n     <use x=\"134.277344\" xlink:href=\"#DejaVuSans-75\"/>\r\n    </g>\r\n   </g>\r\n   <g id=\"text_44\">\r\n    <!-- 0.3% -->\r\n    <g transform=\"translate(212.768177 92.332237)scale(0.1 -0.1)\">\r\n     <use xlink:href=\"#DejaVuSans-48\"/>\r\n     <use x=\"63.623047\" xlink:href=\"#DejaVuSans-46\"/>\r\n     <use x=\"95.410156\" xlink:href=\"#DejaVuSans-51\"/>\r\n     <use x=\"159.033203\" xlink:href=\"#DejaVuSans-37\"/>\r\n    </g>\r\n   </g>\r\n   <g id=\"text_45\">\r\n    <!-- USDT -->\r\n    <g transform=\"translate(227.606 28.42361)scale(0.1 -0.1)\">\r\n     <use xlink:href=\"#DejaVuSans-85\"/>\r\n     <use x=\"73.193359\" xlink:href=\"#DejaVuSans-83\"/>\r\n     <use x=\"136.669922\" xlink:href=\"#DejaVuSans-68\"/>\r\n     <use x=\"213.671875\" xlink:href=\"#DejaVuSans-84\"/>\r\n    </g>\r\n   </g>\r\n   <g id=\"text_46\">\r\n    <!-- 16.1% -->\r\n    <g transform=\"translate(187.831164 71.408643)scale(0.1 -0.1)\">\r\n     <defs>\r\n      <path d=\"M 33.015625 40.375 \r\nQ 26.375 40.375 22.484375 35.828125 \r\nQ 18.609375 31.296875 18.609375 23.390625 \r\nQ 18.609375 15.53125 22.484375 10.953125 \r\nQ 26.375 6.390625 33.015625 6.390625 \r\nQ 39.65625 6.390625 43.53125 10.953125 \r\nQ 47.40625 15.53125 47.40625 23.390625 \r\nQ 47.40625 31.296875 43.53125 35.828125 \r\nQ 39.65625 40.375 33.015625 40.375 \r\nz\r\nM 52.59375 71.296875 \r\nL 52.59375 62.3125 \r\nQ 48.875 64.0625 45.09375 64.984375 \r\nQ 41.3125 65.921875 37.59375 65.921875 \r\nQ 27.828125 65.921875 22.671875 59.328125 \r\nQ 17.53125 52.734375 16.796875 39.40625 \r\nQ 19.671875 43.65625 24.015625 45.921875 \r\nQ 28.375 48.1875 33.59375 48.1875 \r\nQ 44.578125 48.1875 50.953125 41.515625 \r\nQ 57.328125 34.859375 57.328125 23.390625 \r\nQ 57.328125 12.15625 50.6875 5.359375 \r\nQ 44.046875 -1.421875 33.015625 -1.421875 \r\nQ 20.359375 -1.421875 13.671875 8.265625 \r\nQ 6.984375 17.96875 6.984375 36.375 \r\nQ 6.984375 53.65625 15.1875 63.9375 \r\nQ 23.390625 74.21875 37.203125 74.21875 \r\nQ 40.921875 74.21875 44.703125 73.484375 \r\nQ 48.484375 72.75 52.59375 71.296875 \r\nz\r\n\" id=\"DejaVuSans-54\"/>\r\n     </defs>\r\n     <use xlink:href=\"#DejaVuSans-49\"/>\r\n     <use x=\"63.623047\" xlink:href=\"#DejaVuSans-54\"/>\r\n     <use x=\"127.246094\" xlink:href=\"#DejaVuSans-46\"/>\r\n     <use x=\"159.033203\" xlink:href=\"#DejaVuSans-49\"/>\r\n     <use x=\"222.65625\" xlink:href=\"#DejaVuSans-37\"/>\r\n    </g>\r\n   </g>\r\n   <g id=\"text_47\">\r\n    <!-- BUSD -->\r\n    <g transform=\"translate(175.045299 14.798437)scale(0.1 -0.1)\">\r\n     <use xlink:href=\"#DejaVuSans-66\"/>\r\n     <use x=\"68.603516\" xlink:href=\"#DejaVuSans-85\"/>\r\n     <use x=\"141.796875\" xlink:href=\"#DejaVuSans-83\"/>\r\n     <use x=\"205.273438\" xlink:href=\"#DejaVuSans-68\"/>\r\n    </g>\r\n   </g>\r\n   <g id=\"text_48\">\r\n    <!-- 0.0% -->\r\n    <g transform=\"translate(162.342941 63.976731)scale(0.1 -0.1)\">\r\n     <use xlink:href=\"#DejaVuSans-48\"/>\r\n     <use x=\"63.623047\" xlink:href=\"#DejaVuSans-46\"/>\r\n     <use x=\"95.410156\" xlink:href=\"#DejaVuSans-48\"/>\r\n     <use x=\"159.033203\" xlink:href=\"#DejaVuSans-37\"/>\r\n    </g>\r\n   </g>\r\n  </g>\r\n </g>\r\n</svg>\r\n",
      "image/png": "[encoded data removed]"
     },
     "metadata": {}
    }
   ],
   "metadata": {}
  },
  {
   "cell_type": "code",
   "execution_count": 19,
   "source": [
    "## Bilan\r\n",
    "\r\n",
    "# global balance\r\n",
    "les_chiffres = {}\r\n",
    "les_chiffres['current_value'] = 0\r\n",
    "les_chiffres['total_usdt_invest'] = 0\r\n",
    "les_chiffres['total_spot'] = 0\r\n",
    "les_chiffres['total_saving'] = 0\r\n",
    "les_chiffres['total_stacking'] = 0\r\n",
    "les_chiffres['balance'] = 0\r\n",
    "les_chiffres['plus-value'] = 0\r\n",
    "les_chiffres['plus-value percent'] = 0\r\n",
    "\r\n",
    "for asset in wallet:\r\n",
    "    if asset != \"USDT\" and  asset != \"BUSD\":\r\n",
    "        les_chiffres['balance'] += wallet[asset]['Balance']\r\n",
    "        les_chiffres['total_usdt_invest'] +=  wallet[asset]['Buy']\r\n",
    "        les_chiffres['total_usdt_invest'] -=  wallet[asset]['Sell']\r\n",
    "        les_chiffres['total_spot'] += wallet[asset]['Spot_value']\r\n",
    "        les_chiffres['total_saving'] += wallet[asset]['Saving_value']\r\n",
    "        les_chiffres['total_stacking'] += wallet[asset]['Stack_value']\r\n",
    "    else:\r\n",
    "        les_chiffres['total_usdt_invest'] +=wallet[asset]['Balance']\r\n",
    "        les_chiffres['total_spot'] += wallet[asset]['Spot_value']\r\n",
    "        les_chiffres['total_saving'] += wallet[asset]['Saving_value']\r\n",
    "        les_chiffres['total_stacking'] += wallet[asset]['Stack_value']\r\n",
    "\r\n",
    "les_chiffres['current_value'] = les_chiffres['total_spot'] + les_chiffres['total_saving'] + les_chiffres['total_stacking']\r\n",
    "\r\n",
    "\r\n",
    "les_chiffres['plus-value'] = les_chiffres['current_value'] - les_chiffres['total_usdt_invest']\r\n",
    "les_chiffres['plus-value percent'] = (les_chiffres['current_value'] - les_chiffres['total_usdt_invest']) / les_chiffres['total_usdt_invest'] * 100\r\n",
    "\r\n",
    "pd.DataFrame.from_dict(les_chiffres,  orient='index')"
   ],
   "outputs": [
    {
     "output_type": "execute_result",
     "data": {
      "text/plain": [
       "                              0\n",
       "current_value       1893.237696\n",
       "total_usdt_invest   1870.062988\n",
       "total_spot            50.465522\n",
       "total_saving         700.735185\n",
       "total_stacking      1142.036989\n",
       "balance               23.174708\n",
       "plus-value            23.174708\n",
       "plus-value percent     1.239247"
      ],
      "text/html": [
       "<div>\n",
       "<style scoped>\n",
       "    .dataframe tbody tr th:only-of-type {\n",
       "        vertical-align: middle;\n",
       "    }\n",
       "\n",
       "    .dataframe tbody tr th {\n",
       "        vertical-align: top;\n",
       "    }\n",
       "\n",
       "    .dataframe thead th {\n",
       "        text-align: right;\n",
       "    }\n",
       "</style>\n",
       "<table border=\"1\" class=\"dataframe\">\n",
       "  <thead>\n",
       "    <tr style=\"text-align: right;\">\n",
       "      <th></th>\n",
       "      <th>0</th>\n",
       "    </tr>\n",
       "  </thead>\n",
       "  <tbody>\n",
       "    <tr>\n",
       "      <th>current_value</th>\n",
       "      <td>1893.237696</td>\n",
       "    </tr>\n",
       "    <tr>\n",
       "      <th>total_usdt_invest</th>\n",
       "      <td>1870.062988</td>\n",
       "    </tr>\n",
       "    <tr>\n",
       "      <th>total_spot</th>\n",
       "      <td>50.465522</td>\n",
       "    </tr>\n",
       "    <tr>\n",
       "      <th>total_saving</th>\n",
       "      <td>700.735185</td>\n",
       "    </tr>\n",
       "    <tr>\n",
       "      <th>total_stacking</th>\n",
       "      <td>1142.036989</td>\n",
       "    </tr>\n",
       "    <tr>\n",
       "      <th>balance</th>\n",
       "      <td>23.174708</td>\n",
       "    </tr>\n",
       "    <tr>\n",
       "      <th>plus-value</th>\n",
       "      <td>23.174708</td>\n",
       "    </tr>\n",
       "    <tr>\n",
       "      <th>plus-value percent</th>\n",
       "      <td>1.239247</td>\n",
       "    </tr>\n",
       "  </tbody>\n",
       "</table>\n",
       "</div>"
      ]
     },
     "metadata": {},
     "execution_count": 19
    }
   ],
   "metadata": {}
  },
  {
   "cell_type": "code",
   "execution_count": 20,
   "source": [
    "plt.figure(1, figsize=(10, 10))\r\n",
    "chats_labels = my_coins\r\n",
    "num_columns = 4                                \r\n",
    "num_rows  = len(chats_labels) // 4 + 1\r\n",
    "fig, ax = plt.subplots(num_rows,num_columns)\r\n",
    "label = ['spot', 'saving', \"stacking\"]\r\n",
    "for i, coin in enumerate(chats_labels):\r\n",
    "    data = [wallet[coin]['Spot_value'], wallet[coin]['Saving_value'], wallet[coin]['Stack_value']]\r\n",
    "    ax[i//4,i%4].set_title(coin)                           # Add 1 to j index\r\n",
    "    ax[i//4,i%4].pie(data, labels=label,                 # Add 1 to j index\r\n",
    "                autopct='%1.1f%%', shadow=True, startangle=90)\r\n",
    "fig.set_size_inches(15,15)\r\n",
    "plt.show()"
   ],
   "outputs": [
    {
     "output_type": "stream",
     "name": "stderr",
     "text": [
      "C:\\Users\\Thibaut - Eva\\AppData\\Roaming\\Python\\Python37\\site-packages\\ipykernel_launcher.py:11: MatplotlibDeprecationWarning: normalize=None does not normalize if the sum is less than 1 but this behavior is deprecated since 3.3 until two minor releases later. After the deprecation period the default value will be normalize=True. To prevent normalization pass normalize=False \n",
      "  # This is added back by InteractiveShellApp.init_path()\n"
     ]
    },
    {
     "output_type": "display_data",
     "data": {
      "text/plain": [
       "<Figure size 720x720 with 0 Axes>"
      ]
     },
     "metadata": {}
    }
   ],
   "metadata": {}
  },
  {
   "cell_type": "code",
   "execution_count": null,
   "source": [
    "import matplotlib as mpl\r\n",
    "import matplotlib.pyplot as plt\r\n",
    "import numpy as np\r\n",
    "from ipywidgets import IntProgress, widgets\r\n",
    "\r\n",
    "def colorFader(c1,c2,mix=0): #fade (linear interpolate) from color c1 (at mix=0) to c2 (mix=1)\r\n",
    "    c1=np.array(mpl.colors.to_rgb(c1))\r\n",
    "    c2=np.array(mpl.colors.to_rgb(c2))\r\n",
    "    return mpl.colors.to_hex((1-mix)*c1 + mix*c2)\r\n",
    "\r\n",
    "c1='#FF4600'\r\n",
    "c2='#3DD600' \r\n",
    "\r\n",
    "color = colorFader(c1,c2,mix=0.5)\r\n",
    "for asset in my_coins:\r\n",
    "    value=wallet[asset]['Current_market_price']\r\n",
    "    maxi=wallet[asset]['ATH']\r\n",
    "    color = colorFader(c1,c2,mix=wallet[asset]['ATH_percent'])\r\n",
    "    \r\n",
    "    display(widgets.FloatProgress(\r\n",
    "        value=value,\r\n",
    "        min=0,\r\n",
    "        max=maxi,\r\n",
    "        description=asset,\r\n",
    "        bar_style='success',\r\n",
    "        style={'bar_color': color},\r\n",
    "        orientation='horizontal',\r\n",
    "    readout=True,\r\n",
    "    readout_format='.1f',\r\n",
    "    disabled=False\r\n",
    "    ))\r\n",
    "    \r\n",
    "    display(widgets.HTML(\r\n",
    "    value = asset + \": \"+str(wallet[asset]['Current_market_price']) + ' / '+ str(wallet[asset]['ATH'])\r\n",
    "    ))\r\n"
   ],
   "outputs": [
    {
     "output_type": "display_data",
     "data": {
      "text/plain": [
       "FloatProgress(value=43667.81, bar_style='success', description='BTC', max=59500.0, style=ProgressStyle(bar_col…"
      ],
      "application/vnd.jupyter.widget-view+json": {
       "version_major": 2,
       "version_minor": 0,
       "model_id": "2bbfcedc69f64f739776cf9a6be28941"
      }
     },
     "metadata": {}
    },
    {
     "output_type": "display_data",
     "data": {
      "text/plain": [
       "HTML(value='BTC: 43667.81 / 59500.0')"
      ],
      "application/vnd.jupyter.widget-view+json": {
       "version_major": 2,
       "version_minor": 0,
       "model_id": "945eaa2c5d1a408281661363308f3e3d"
      }
     },
     "metadata": {}
    },
    {
     "output_type": "display_data",
     "data": {
      "text/plain": [
       "FloatProgress(value=3038.65, bar_style='success', description='ETH', max=4372.72, style=ProgressStyle(bar_colo…"
      ],
      "application/vnd.jupyter.widget-view+json": {
       "version_major": 2,
       "version_minor": 0,
       "model_id": "831cad10101f4f91b344677719edf0de"
      }
     },
     "metadata": {}
    },
    {
     "output_type": "display_data",
     "data": {
      "text/plain": [
       "HTML(value='ETH: 3038.65 / 4372.72')"
      ],
      "application/vnd.jupyter.widget-view+json": {
       "version_major": 2,
       "version_minor": 0,
       "model_id": "ce8c6cc442e94abab6d624063748973d"
      }
     },
     "metadata": {}
    },
    {
     "output_type": "display_data",
     "data": {
      "text/plain": [
       "FloatProgress(value=1.4598, bar_style='success', description='ADA', max=2.47, style=ProgressStyle(bar_color='#…"
      ],
      "application/vnd.jupyter.widget-view+json": {
       "version_major": 2,
       "version_minor": 0,
       "model_id": "ab4d3bd235ac4dcea359639a2dffcd7f"
      }
     },
     "metadata": {}
    },
    {
     "output_type": "display_data",
     "data": {
      "text/plain": [
       "HTML(value='ADA: 1.4598 / 2.47')"
      ],
      "application/vnd.jupyter.widget-view+json": {
       "version_major": 2,
       "version_minor": 0,
       "model_id": "3f1775d7858a474d9ad64710aabe9f61"
      }
     },
     "metadata": {}
    },
    {
     "output_type": "display_data",
     "data": {
      "text/plain": [
       "FloatProgress(value=21.225, bar_style='success', description='DOT', max=49.78, style=ProgressStyle(bar_color='…"
      ],
      "application/vnd.jupyter.widget-view+json": {
       "version_major": 2,
       "version_minor": 0,
       "model_id": "4f6add8330174d068faf70ba8162988b"
      }
     },
     "metadata": {}
    },
    {
     "output_type": "display_data",
     "data": {
      "text/plain": [
       "HTML(value='DOT: 21.225 / 49.78')"
      ],
      "application/vnd.jupyter.widget-view+json": {
       "version_major": 2,
       "version_minor": 0,
       "model_id": "0a0e77359cb74ecebe7e137b8a894137"
      }
     },
     "metadata": {}
    },
    {
     "output_type": "display_data",
     "data": {
      "text/plain": [
       "FloatProgress(value=1.15642, bar_style='success', description='MATIC', max=2.7, style=ProgressStyle(bar_color=…"
      ],
      "application/vnd.jupyter.widget-view+json": {
       "version_major": 2,
       "version_minor": 0,
       "model_id": "735c41ba41394d0b9646981332746494"
      }
     },
     "metadata": {}
    },
    {
     "output_type": "display_data",
     "data": {
      "text/plain": [
       "HTML(value='MATIC: 1.15642 / 2.7')"
      ],
      "application/vnd.jupyter.widget-view+json": {
       "version_major": 2,
       "version_minor": 0,
       "model_id": "e3f12ff364f7490792ab29e6acd3adfb"
      }
     },
     "metadata": {}
    },
    {
     "output_type": "display_data",
     "data": {
      "text/plain": [
       "FloatProgress(value=237.26, bar_style='success', description='KSM', max=625.0, style=ProgressStyle(bar_color='…"
      ],
      "application/vnd.jupyter.widget-view+json": {
       "version_major": 2,
       "version_minor": 0,
       "model_id": "a1d560b2702140e8bd51bb8800838424"
      }
     },
     "metadata": {}
    },
    {
     "output_type": "display_data",
     "data": {
      "text/plain": [
       "HTML(value='KSM: 237.26 / 625.0')"
      ],
      "application/vnd.jupyter.widget-view+json": {
       "version_major": 2,
       "version_minor": 0,
       "model_id": "e70aab260a354194b95a01dcbbd2c14a"
      }
     },
     "metadata": {}
    },
    {
     "output_type": "display_data",
     "data": {
      "text/plain": [
       "FloatProgress(value=18.649, bar_style='success', description='CAKE', max=42.98, style=ProgressStyle(bar_color=…"
      ],
      "application/vnd.jupyter.widget-view+json": {
       "version_major": 2,
       "version_minor": 0,
       "model_id": "be6661b508c949268a4c79c62c00a6b2"
      }
     },
     "metadata": {}
    },
    {
     "output_type": "display_data",
     "data": {
      "text/plain": [
       "HTML(value='CAKE: 18.649 / 42.98')"
      ],
      "application/vnd.jupyter.widget-view+json": {
       "version_major": 2,
       "version_minor": 0,
       "model_id": "29368d5fd3694dbbb23a5866be48d0cf"
      }
     },
     "metadata": {}
    },
    {
     "output_type": "display_data",
     "data": {
      "text/plain": [
       "FloatProgress(value=0.10716, bar_style='success', description='VET', max=0.25, style=ProgressStyle(bar_color='…"
      ],
      "application/vnd.jupyter.widget-view+json": {
       "version_major": 2,
       "version_minor": 0,
       "model_id": "3e9c85a297dd448b827b66bef7ebc357"
      }
     },
     "metadata": {}
    },
    {
     "output_type": "display_data",
     "data": {
      "text/plain": [
       "HTML(value='VET: 0.10716 / 0.25')"
      ],
      "application/vnd.jupyter.widget-view+json": {
       "version_major": 2,
       "version_minor": 0,
       "model_id": "ad5458dcd5ba42f9b99477e8101800c0"
      }
     },
     "metadata": {}
    },
    {
     "output_type": "display_data",
     "data": {
      "text/plain": [
       "FloatProgress(value=40.157, bar_style='success', description='SOL', max=58.38, style=ProgressStyle(bar_color='…"
      ],
      "application/vnd.jupyter.widget-view+json": {
       "version_major": 2,
       "version_minor": 0,
       "model_id": "87cca359734c4dd78a1a35e4f70fc66b"
      }
     },
     "metadata": {}
    },
    {
     "output_type": "display_data",
     "data": {
      "text/plain": [
       "HTML(value='SOL: 40.157 / 58.38')"
      ],
      "application/vnd.jupyter.widget-view+json": {
       "version_major": 2,
       "version_minor": 0,
       "model_id": "4fbec9630d7a43bd84b71338815a2f48"
      }
     },
     "metadata": {}
    },
    {
     "output_type": "display_data",
     "data": {
      "text/plain": [
       "FloatProgress(value=354.51, bar_style='success', description='BNB', max=691.77, style=ProgressStyle(bar_color=…"
      ],
      "application/vnd.jupyter.widget-view+json": {
       "version_major": 2,
       "version_minor": 0,
       "model_id": "b2434e2aa17d4cb0a8c09f08bc908448"
      }
     },
     "metadata": {}
    },
    {
     "output_type": "display_data",
     "data": {
      "text/plain": [
       "HTML(value='BNB: 354.51 / 691.77')"
      ],
      "application/vnd.jupyter.widget-view+json": {
       "version_major": 2,
       "version_minor": 0,
       "model_id": "327e8e9f81f448a08069531fb020b797"
      }
     },
     "metadata": {}
    },
    {
     "output_type": "display_data",
     "data": {
      "text/plain": [
       "FloatProgress(value=154.55, bar_style='success', description='LTC', max=413.49, style=ProgressStyle(bar_color=…"
      ],
      "application/vnd.jupyter.widget-view+json": {
       "version_major": 2,
       "version_minor": 0,
       "model_id": "8be140e5027b40b3a620561bbee33220"
      }
     },
     "metadata": {}
    },
    {
     "output_type": "display_data",
     "data": {
      "text/plain": [
       "HTML(value='LTC: 154.55 / 413.49')"
      ],
      "application/vnd.jupyter.widget-view+json": {
       "version_major": 2,
       "version_minor": 0,
       "model_id": "1e71162161c24f3cbdae542867aa1974"
      }
     },
     "metadata": {}
    },
    {
     "output_type": "display_data",
     "data": {
      "text/plain": [
       "FloatProgress(value=7.142, bar_style='success', description='THETA', max=13.2, style=ProgressStyle(bar_color='…"
      ],
      "application/vnd.jupyter.widget-view+json": {
       "version_major": 2,
       "version_minor": 0,
       "model_id": "d142f72ab4004dcc9a80f95d0cb0e5e2"
      }
     },
     "metadata": {}
    },
    {
     "output_type": "display_data",
     "data": {
      "text/plain": [
       "HTML(value='THETA: 7.142 / 13.2')"
      ],
      "application/vnd.jupyter.widget-view+json": {
       "version_major": 2,
       "version_minor": 0,
       "model_id": "c46db312041e4b969ea6fff913a732fc"
      }
     },
     "metadata": {}
    },
    {
     "output_type": "display_data",
     "data": {
      "text/plain": [
       "FloatProgress(value=15.637, bar_style='success', description='AVAX', max=43.885, style=ProgressStyle(bar_color…"
      ],
      "application/vnd.jupyter.widget-view+json": {
       "version_major": 2,
       "version_minor": 0,
       "model_id": "4c65357eba9b469280546fd40ea55682"
      }
     },
     "metadata": {}
    },
    {
     "output_type": "display_data",
     "data": {
      "text/plain": [
       "HTML(value='AVAX: 15.637 / 43.885')"
      ],
      "application/vnd.jupyter.widget-view+json": {
       "version_major": 2,
       "version_minor": 0,
       "model_id": "4c048957e76943b9bce63934f3ea3d0d"
      }
     },
     "metadata": {}
    },
    {
     "output_type": "display_data",
     "data": {
      "text/plain": [
       "FloatProgress(value=0.002962, bar_style='success', description='DENT', max=0.011699, style=ProgressStyle(bar_c…"
      ],
      "application/vnd.jupyter.widget-view+json": {
       "version_major": 2,
       "version_minor": 0,
       "model_id": "f9f2fe8009cf404385856f9a4ccce07a"
      }
     },
     "metadata": {}
    },
    {
     "output_type": "display_data",
     "data": {
      "text/plain": [
       "HTML(value='DENT: 0.002962 / 0.011699')"
      ],
      "application/vnd.jupyter.widget-view+json": {
       "version_major": 2,
       "version_minor": 0,
       "model_id": "318687625f574fa288cb79f1949a0431"
      }
     },
     "metadata": {}
    },
    {
     "output_type": "display_data",
     "data": {
      "text/plain": [
       "FloatProgress(value=120.12, bar_style='success', description='EGLD', max=205.0, style=ProgressStyle(bar_color=…"
      ],
      "application/vnd.jupyter.widget-view+json": {
       "version_major": 2,
       "version_minor": 0,
       "model_id": "c843975b2a4a4927b5074058e3ea3cdf"
      }
     },
     "metadata": {}
    },
    {
     "output_type": "display_data",
     "data": {
      "text/plain": [
       "HTML(value='EGLD: 120.12 / 205.0')"
      ],
      "application/vnd.jupyter.widget-view+json": {
       "version_major": 2,
       "version_minor": 0,
       "model_id": "0d4586b0fcbb413386b1fd7a66827f6c"
      }
     },
     "metadata": {}
    },
    {
     "output_type": "display_data",
     "data": {
      "text/plain": [
       "FloatProgress(value=0.00802, bar_style='success', description='HOT', max=0.01684, style=ProgressStyle(bar_colo…"
      ],
      "application/vnd.jupyter.widget-view+json": {
       "version_major": 2,
       "version_minor": 0,
       "model_id": "ea577198cf7147d69f8cf89668a6e92c"
      }
     },
     "metadata": {}
    },
    {
     "output_type": "display_data",
     "data": {
      "text/plain": [
       "HTML(value='HOT: 0.00802 / 0.01684')"
      ],
      "application/vnd.jupyter.widget-view+json": {
       "version_major": 2,
       "version_minor": 0,
       "model_id": "04af2369a43547c3951ff90982baffd8"
      }
     },
     "metadata": {}
    },
    {
     "output_type": "display_data",
     "data": {
      "text/plain": [
       "FloatProgress(value=0.07591, bar_style='success', description='TRX', max=0.17, style=ProgressStyle(bar_color='…"
      ],
      "application/vnd.jupyter.widget-view+json": {
       "version_major": 2,
       "version_minor": 0,
       "model_id": "914f0fffb4e4442e8e123c3b8a5183d3"
      }
     },
     "metadata": {}
    },
    {
     "output_type": "display_data",
     "data": {
      "text/plain": [
       "HTML(value='TRX: 0.07591 / 0.17')"
      ],
      "application/vnd.jupyter.widget-view+json": {
       "version_major": 2,
       "version_minor": 0,
       "model_id": "206e0934646242d68df61348ee1a95fd"
      }
     },
     "metadata": {}
    },
    {
     "output_type": "display_data",
     "data": {
      "text/plain": [
       "FloatProgress(value=0.08397, bar_style='success', description='ONE', max=0.18858, style=ProgressStyle(bar_colo…"
      ],
      "application/vnd.jupyter.widget-view+json": {
       "version_major": 2,
       "version_minor": 0,
       "model_id": "abe11d80befb4e20aa55b9453757b880"
      }
     },
     "metadata": {}
    },
    {
     "output_type": "display_data",
     "data": {
      "text/plain": [
       "HTML(value='ONE: 0.08397 / 0.18858')"
      ],
      "application/vnd.jupyter.widget-view+json": {
       "version_major": 2,
       "version_minor": 0,
       "model_id": "d0ced749a70a4e51838f9fee7ca960a3"
      }
     },
     "metadata": {}
    },
    {
     "output_type": "display_data",
     "data": {
      "text/plain": [
       "FloatProgress(value=7.662, bar_style='success', description='BAND', max=20.673, style=ProgressStyle(bar_color=…"
      ],
      "application/vnd.jupyter.widget-view+json": {
       "version_major": 2,
       "version_minor": 0,
       "model_id": "1322e8858def43bb9154b83106d57a54"
      }
     },
     "metadata": {}
    },
    {
     "output_type": "display_data",
     "data": {
      "text/plain": [
       "HTML(value='BAND: 7.662 / 20.673')"
      ],
      "application/vnd.jupyter.widget-view+json": {
       "version_major": 2,
       "version_minor": 0,
       "model_id": "30f1cf47945141698c8532418b642092"
      }
     },
     "metadata": {}
    },
    {
     "output_type": "display_data",
     "data": {
      "text/plain": [
       "FloatProgress(value=2.64, bar_style='success', description='SXP', max=5.87, style=ProgressStyle(bar_color='#a8…"
      ],
      "application/vnd.jupyter.widget-view+json": {
       "version_major": 2,
       "version_minor": 0,
       "model_id": "e039e3f899724f00a095ebf7590c504c"
      }
     },
     "metadata": {}
    },
    {
     "output_type": "display_data",
     "data": {
      "text/plain": [
       "HTML(value='SXP: 2.64 / 5.87')"
      ],
      "application/vnd.jupyter.widget-view+json": {
       "version_major": 2,
       "version_minor": 0,
       "model_id": "6ffd7c5eb5374fc6b715b80fb4ed94fb"
      }
     },
     "metadata": {}
    },
    {
     "output_type": "display_data",
     "data": {
      "text/plain": [
       "FloatProgress(value=24.573, bar_style='success', description='LINK', max=53.0, style=ProgressStyle(bar_color='…"
      ],
      "application/vnd.jupyter.widget-view+json": {
       "version_major": 2,
       "version_minor": 0,
       "model_id": "560b794d24af48c89a16721602e31c49"
      }
     },
     "metadata": {}
    },
    {
     "output_type": "display_data",
     "data": {
      "text/plain": [
       "HTML(value='LINK: 24.573 / 53.0')"
      ],
      "application/vnd.jupyter.widget-view+json": {
       "version_major": 2,
       "version_minor": 0,
       "model_id": "5058105510354a779819391451b2e145"
      }
     },
     "metadata": {}
    },
    {
     "output_type": "display_data",
     "data": {
      "text/plain": [
       "FloatProgress(value=0.3154, bar_style='success', description='UTK', max=1.065, style=ProgressStyle(bar_color='…"
      ],
      "application/vnd.jupyter.widget-view+json": {
       "version_major": 2,
       "version_minor": 0,
       "model_id": "4ea3d1f4316747509ac5d3109efe933a"
      }
     },
     "metadata": {}
    },
    {
     "output_type": "display_data",
     "data": {
      "text/plain": [
       "HTML(value='UTK: 0.3154 / 1.065')"
      ],
      "application/vnd.jupyter.widget-view+json": {
       "version_major": 2,
       "version_minor": 0,
       "model_id": "d03c546d0090459983cacb9e325be8ee"
      }
     },
     "metadata": {}
    },
    {
     "output_type": "display_data",
     "data": {
      "text/plain": [
       "FloatProgress(value=0.0, bar_style='success', description='USDT', max=0.0, style=ProgressStyle(bar_color='#ff4…"
      ],
      "application/vnd.jupyter.widget-view+json": {
       "version_major": 2,
       "version_minor": 0,
       "model_id": "7eb4bfdba9c2434992729e6bd92ef903"
      }
     },
     "metadata": {}
    },
    {
     "output_type": "display_data",
     "data": {
      "text/plain": [
       "HTML(value='USDT: 0 / 0')"
      ],
      "application/vnd.jupyter.widget-view+json": {
       "version_major": 2,
       "version_minor": 0,
       "model_id": "948be9ebac734ceb8d57f604e723b72a"
      }
     },
     "metadata": {}
    },
    {
     "output_type": "display_data",
     "data": {
      "text/plain": [
       "FloatProgress(value=0.9994, bar_style='success', description='BUSD', max=1.0029, style=ProgressStyle(bar_color…"
      ],
      "application/vnd.jupyter.widget-view+json": {
       "version_major": 2,
       "version_minor": 0,
       "model_id": "ed3fbbacc0d648a8942a0d4a7f2a6c04"
      }
     },
     "metadata": {}
    },
    {
     "output_type": "display_data",
     "data": {
      "text/plain": [
       "HTML(value='BUSD: 0.9994 / 1.0029')"
      ],
      "application/vnd.jupyter.widget-view+json": {
       "version_major": 2,
       "version_minor": 0,
       "model_id": "d6b01fb1e1dc4312bfe2f0db945e9854"
      }
     },
     "metadata": {}
    }
   ],
   "metadata": {}
  }
 ]
}