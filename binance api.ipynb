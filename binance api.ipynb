{
 "metadata": {
  "language_info": {
   "codemirror_mode": {
    "name": "ipython",
    "version": 3
   },
   "file_extension": ".py",
   "mimetype": "text/x-python",
   "name": "python",
   "nbconvert_exporter": "python",
   "pygments_lexer": "ipython3",
   "version": "3.7.8"
  },
  "orig_nbformat": 2,
  "kernelspec": {
   "name": "python378jvsc74a57bd040a72caf6fa46f53aa7f5b366fbd5b98b2736726cc2be7465f0404892e27bcbd",
   "display_name": "Python 3.7.8 64-bit"
  },
  "metadata": {
   "interpreter": {
    "hash": "40a72caf6fa46f53aa7f5b366fbd5b98b2736726cc2be7465f0404892e27bcbd"
   }
  }
 },
 "nbformat": 4,
 "nbformat_minor": 2,
 "cells": [
  {
   "source": [
    "# Binance\n",
    "\n",
    "- Créér un clé API : https://www.binance.com/en/support/faq/360002502072\n",
    "- **Quand elle est créée garder en mémoire l'api key et la secret KEY**\n",
    "\n",
    "- créer un fichier config.cfg dans le même répertoire que le notebook et remplacer les valeurs par celles de l'API créée\n",
    "\n",
    "```cfg\n",
    "[BINANCE]\n",
    "API_KEY = YOUR KEY                  # A MODIFIER\n",
    "SECRET_KEY = YOUR SECRET KEY        # A MODIFIER\n",
    "```\n",
    "\n",
    "- installer le package python-binance \n",
    "\n",
    "```shell\n",
    "pip install python-binance\n",
    "ou\n",
    "py -m pip install python-binance\n",
    "ou autre\n",
    "```\n",
    "- Editer la list my_coins avec vos crypto\n",
    "\n",
    "```python\n",
    "#exemple\n",
    "my_coins = ['BTC','USDT', 'ETH']     # A ADAPTER\n",
    "```\n",
    "\n",
    "- Editer le dict stack car l'API ne sait pas encore récupérer les crypto stackées \n",
    "\n",
    "```python\n",
    "#exemple\n",
    "stack = {'DOT':3, 'ADA':6.1938, 'CAKE':3.125, 'TRX': 67}      # A ADAPTER\n",
    "```\n",
    "\n",
    "- et lancer tout les cellules\n",
    "! Tout est en dollars\n"
   ],
   "cell_type": "markdown",
   "metadata": {}
  },
  {
   "cell_type": "code",
   "execution_count": null,
   "metadata": {},
   "outputs": [],
   "source": [
    "from binance import Client, ThreadedWebsocketManager, ThreadedDepthCacheManager\n",
    "import requests, json, time, hashlib,hmac, configparser\n",
    "\n",
    "# A ADAPTER\n",
    "my_coins = ['BTC','USDT', 'ETH', 'ADA', 'DOT', 'CAKE', 'MATIC', 'VET', 'BNB', 'LTC', 'KSM', 'THETA', 'AVAX', 'DENT', 'EGLD', 'HOT', 'TRX', 'ONE', 'BAND', 'SXP', 'LINK']  \n",
    "my_symbols = [coin + 'USDT' for coin in my_coins]\n",
    "\n",
    "config = configparser.ConfigParser()\n",
    "config.read_file(open('config.cfg'))\n",
    "\n",
    "KEY = config.get('BINANCE', 'API_KEY')\n",
    "SECRET_KEY = config.get('BINANCE', 'SECRET_KEY')\n",
    "BASE_URL = 'https://api.binance.com/'\n",
    "\n",
    "client = Client(KEY, SECRET_KEY)\n"
   ]
  },
  {
   "cell_type": "code",
   "execution_count": null,
   "metadata": {},
   "outputs": [],
   "source": [
    "from urllib.parse import urlencode\n",
    "\n",
    "# fonctions utilitaires\n",
    "\n",
    "def get_timestamp():\n",
    "    return int(time.time() * 1000)\n",
    "\n",
    "def hashing(query_string):\n",
    "    return hmac.new(SECRET_KEY.encode('utf-8'), query_string.encode('utf-8'), hashlib.sha256).hexdigest()\n",
    "\n",
    "def dispatch_request(http_method):\n",
    "    session = requests.Session()\n",
    "    session.headers.update({\n",
    "        'Content-Type': 'application/json;charset=utf-8',\n",
    "        'X-MBX-APIKEY': KEY\n",
    "    })\n",
    "    return {\n",
    "        'GET': session.get,\n",
    "        'DELETE': session.delete,\n",
    "        'PUT': session.put,\n",
    "        'POST': session.post,\n",
    "    }.get(http_method, 'GET')\n",
    "\n",
    "def send_signed_request(http_method, url_path, payload={}):\n",
    "    query_string = urlencode(payload, True)\n",
    "    if query_string:\n",
    "        query_string = \"{}&timestamp={}\".format(query_string, get_timestamp())\n",
    "    else:\n",
    "        query_string = 'timestamp={}'.format(get_timestamp())\n",
    "\n",
    "    url = BASE_URL + url_path + '?' + query_string + '&signature=' + hashing(query_string)\n",
    "    print(\"{} {}\".format(http_method, url))\n",
    "    params = {'url': url, 'params': {}}\n",
    "    response = dispatch_request(http_method)(**params)\n",
    "    return response.json()\n"
   ]
  },
  {
   "cell_type": "code",
   "execution_count": null,
   "metadata": {},
   "outputs": [],
   "source": [
    "# Create wallet\n",
    "def create_wallet():\n",
    "    wallet = {}\n",
    "    for asset in my_coins:\n",
    "        wallet[asset] = {'Qty':0, 'Price':0, 'Saving_value':0, 'Spot_value':0, 'Stack_value':0, 'Balance':0}\n",
    "    return wallet"
   ]
  },
  {
   "cell_type": "code",
   "execution_count": null,
   "metadata": {},
   "outputs": [],
   "source": [
    "# Get order history\n",
    "def update_order_history():\n",
    "    for symbol in my_symbols:\n",
    "        if symbol != 'USDTUSDT':\n",
    "            orders_history = client.get_all_orders(symbol=symbol)\n",
    "            sum_coin = 0.0\n",
    "            sum_cost = 0.0\n",
    "            for order in orders_history:\n",
    "                sum_cost += float(order['executedQty']) * float(order['price'])\n",
    "                sum_coin += float(order['executedQty']) \n",
    "            wallet[symbol.replace('USDT', '')]['Qty'] = sum_coin\n",
    "            wallet[symbol.replace('USDT', '')]['Price'] =sum_cost"
   ]
  },
  {
   "cell_type": "code",
   "execution_count": null,
   "metadata": {},
   "outputs": [],
   "source": [
    "# Get current Savings\n",
    "def update_saving():\n",
    "    saving = send_signed_request('GET', 'sapi/v1/lending/union/account')\n",
    "    savings = saving['positionAmountVos']\n",
    "    for asset in savings:\n",
    "        wallet[asset['asset']][\"Saving_value\"] = float(asset['amountInUSDT'])"
   ]
  },
  {
   "cell_type": "code",
   "execution_count": null,
   "metadata": {
    "tags": []
   },
   "outputs": [],
   "source": [
    "# stop value\n",
    "def update_spot():\n",
    "    all_coins = client.get_all_tickers()\n",
    "    spot = send_signed_request('GET', 'api/v3/account')\n",
    "\n",
    "    for asset in my_coins:\n",
    "        for asset_spot in spot[\"balances\"]:\n",
    "            if asset_spot['asset'] == asset:\n",
    "                for symbol in all_coins:\n",
    "                    if symbol['symbol'] == asset+'USDT':\n",
    "                        wallet[asset]['Spot_value'] = float(symbol['price']) * float(asset_spot['free'])"
   ]
  },
  {
   "cell_type": "code",
   "execution_count": null,
   "metadata": {},
   "outputs": [],
   "source": [
    "# get stacking value\n",
    "def update_stacking():    \n",
    "    all_coins = client.get_all_tickers()\n",
    "    # A ADAPTER\n",
    "    stack = {'DOT':2.50085407+1.12174, 'ADA':6.1938, 'CAKE':3.125, 'TRX': 67}\n",
    "    for asset in my_coins:\n",
    "        try:\n",
    "            coin = stack[asset]\n",
    "            for symbol in all_coins:\n",
    "                if symbol['symbol'] == asset+'USDT':\n",
    "                    wallet[asset]['Stack_value'] = float(symbol['price']) * coin\n",
    "        except:\n",
    "            pass"
   ]
  },
  {
   "cell_type": "code",
   "execution_count": null,
   "metadata": {},
   "outputs": [],
   "source": [
    "# balance calcul\n",
    "def update_balance():\n",
    "    for asset in my_coins:\n",
    "        wallet[asset][\"Balance\"] =  wallet[asset][\"Stack_value\"] + wallet[asset][\"Saving_value\"] + wallet[asset][\"Spot_value\"] -  wallet[asset][\"Price\"]"
   ]
  },
  {
   "cell_type": "code",
   "execution_count": null,
   "metadata": {},
   "outputs": [],
   "source": [
    "wallet = create_wallet()\n",
    "update_order_history()\n",
    "update_saving()\n",
    "update_spot()\n",
    "update_stacking()\n",
    "update_balance()\n",
    "\n",
    "wallet"
   ]
  },
  {
   "cell_type": "code",
   "execution_count": null,
   "metadata": {},
   "outputs": [],
   "source": [
    "## Bilan\n",
    "\n",
    "# global balance\n",
    "balance = 0\n",
    "total_usdt_invest = 0\n",
    "total_spot = 0\n",
    "total_saving = 0\n",
    "total_stacking = 0\n",
    "current_value = 0\n",
    "\n",
    "for asset in wallet:\n",
    "    if asset != \"USDT\":\n",
    "        balance += wallet[asset]['Balance']\n",
    "        total_usdt_invest +=  wallet[asset]['Price']\n",
    "        total_spot += wallet[asset]['Spot_value']\n",
    "        total_saving += wallet[asset]['Saving_value']\n",
    "        total_stacking += wallet[asset]['Stack_value']\n",
    "    else:\n",
    "        total_usdt_invest +=wallet[asset]['Balance']\n",
    "        total_spot += wallet[asset]['Spot_value']\n",
    "        total_saving += wallet[asset]['Saving_value']\n",
    "        total_stacking += wallet[asset]['Stack_value']\n",
    "\n",
    "current_value = total_spot + total_saving + total_stacking\n",
    "\n",
    "print('total_usdt_invest',total_usdt_invest,'$')\n",
    "print('current_value',current_value,'$')\n",
    "print('balance',balance,'$')\n",
    "print('total_spot',total_spot,'$')\n",
    "print('total_saving',total_saving,'$')\n",
    "print('total_stacking',total_stacking,'$')"
   ]
  },
  {
   "cell_type": "code",
   "execution_count": null,
   "metadata": {},
   "outputs": [],
   "source": []
  }
 ]
}