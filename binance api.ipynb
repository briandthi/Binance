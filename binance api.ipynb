{
 "metadata": {
  "language_info": {
   "codemirror_mode": {
    "name": "ipython",
    "version": 3
   },
   "file_extension": ".py",
   "mimetype": "text/x-python",
   "name": "python",
   "nbconvert_exporter": "python",
   "pygments_lexer": "ipython3",
   "version": "3.7.8"
  },
  "orig_nbformat": 2,
  "kernelspec": {
   "name": "python378jvsc74a57bd040a72caf6fa46f53aa7f5b366fbd5b98b2736726cc2be7465f0404892e27bcbd",
   "display_name": "Python 3.7.8 64-bit"
  },
  "metadata": {
   "interpreter": {
    "hash": "40a72caf6fa46f53aa7f5b366fbd5b98b2736726cc2be7465f0404892e27bcbd"
   }
  }
 },
 "nbformat": 4,
 "nbformat_minor": 2,
 "cells": [
  {
   "source": [
    "# Binance\n",
    "\n",
    "- Créér un clé API : https://www.binance.com/en/support/faq/360002502072\n",
    "- **Quand elle est créée garder en mémoire l'api key et la secret KEY**\n",
    "\n",
    "- créer un fichier config.cfg dans le même répertoire que le notebook et remplacer les valeurs par celles de l'API créée\n",
    "\n",
    "```cfg\n",
    "[BINANCE]\n",
    "API_KEY = YOUR KEY                  # A MODIFIER\n",
    "SECRET_KEY = YOUR SECRET KEY        # A MODIFIER\n",
    "```\n",
    "\n",
    "- installer le package python-binance \n",
    "\n",
    "```shell\n",
    "pip install python-binance\n",
    "ou\n",
    "py -m pip install python-binance\n",
    "ou autre\n",
    "```\n",
    "- Editer la list my_coins avec vos crypto\n",
    "\n",
    "```python\n",
    "#exemple\n",
    "my_coins = ['BTC','USDT', 'ETH']     # A ADAPTER\n",
    "```\n",
    "\n",
    "- Editer le dict stack car l'API ne sait pas encore récupérer les crypto stackées \n",
    "\n",
    "```python\n",
    "#exemple\n",
    "stack = {'DOT':3, 'ADA':6.1938, 'CAKE':3.125, 'TRX': 67}      # A ADAPTER\n",
    "```\n",
    "\n",
    "- et lancer tout les cellules\n",
    "! Tout est en dollars\n"
   ],
   "cell_type": "markdown",
   "metadata": {}
  },
  {
   "cell_type": "code",
   "execution_count": 2,
   "metadata": {},
   "outputs": [],
   "source": [
    "from binance import Client, ThreadedWebsocketManager, ThreadedDepthCacheManager\n",
    "import requests, json, time, hashlib,hmac, configparser\n",
    "\n",
    "my_coins = ['BTC','USDT', 'ETH', 'ADA', 'DOT', 'CAKE', 'MATIC', 'VET', 'BNB', 'LTC', 'KSM', 'THETA', 'AVAX', 'DENT', 'EGLD', 'HOT', 'TRX', 'ONE', 'BAND', 'SXP', 'LINK']\n",
    "my_symbols = [coin + 'USDT' for coin in my_coins]\n",
    "\n",
    "config = configparser.ConfigParser()\n",
    "config.read_file(open('config.cfg'))\n",
    "\n",
    "KEY = config.get('BINANCE', 'API_KEY')\n",
    "SECRET_KEY = config.get('BINANCE', 'SECRET_KEY')\n",
    "BASE_URL = 'https://api.binance.com/'\n",
    "\n",
    "client = Client(KEY, SECRET_KEY)\n"
   ]
  },
  {
   "cell_type": "code",
   "execution_count": 3,
   "metadata": {},
   "outputs": [],
   "source": [
    "from urllib.parse import urlencode\n",
    "\n",
    "# fonctions utilitaires\n",
    "\n",
    "def get_timestamp():\n",
    "    return int(time.time() * 1000)\n",
    "\n",
    "def hashing(query_string):\n",
    "    return hmac.new(SECRET_KEY.encode('utf-8'), query_string.encode('utf-8'), hashlib.sha256).hexdigest()\n",
    "\n",
    "def dispatch_request(http_method):\n",
    "    session = requests.Session()\n",
    "    session.headers.update({\n",
    "        'Content-Type': 'application/json;charset=utf-8',\n",
    "        'X-MBX-APIKEY': KEY\n",
    "    })\n",
    "    return {\n",
    "        'GET': session.get,\n",
    "        'DELETE': session.delete,\n",
    "        'PUT': session.put,\n",
    "        'POST': session.post,\n",
    "    }.get(http_method, 'GET')\n",
    "\n",
    "def send_signed_request(http_method, url_path, payload={}):\n",
    "    query_string = urlencode(payload, True)\n",
    "    if query_string:\n",
    "        query_string = \"{}&timestamp={}\".format(query_string, get_timestamp())\n",
    "    else:\n",
    "        query_string = 'timestamp={}'.format(get_timestamp())\n",
    "\n",
    "    url = BASE_URL + url_path + '?' + query_string + '&signature=' + hashing(query_string)\n",
    "    print(\"{} {}\".format(http_method, url))\n",
    "    params = {'url': url, 'params': {}}\n",
    "    response = dispatch_request(http_method)(**params)\n",
    "    return response.json()\n"
   ]
  },
  {
   "cell_type": "code",
   "execution_count": 4,
   "metadata": {},
   "outputs": [],
   "source": [
    "# Create wallet\n",
    "wallet = {}\n",
    "for asset in my_coins:\n",
    "    wallet[asset] = {'Qty':0, 'Price':0, 'Saving_value':0, 'Spot_value':0, 'Stack_value':0, 'Balance':0}"
   ]
  },
  {
   "cell_type": "code",
   "execution_count": 5,
   "metadata": {},
   "outputs": [],
   "source": [
    "# Get order history\n",
    "for symbol in my_symbols:\n",
    "    if symbol != 'USDTUSDT':\n",
    "        orders_history = client.get_all_orders(symbol=symbol)\n",
    "        sum_coin = 0.0\n",
    "        sum_cost = 0.0\n",
    "        for order in orders_history:\n",
    "            sum_cost += float(order['executedQty']) * float(order['price'])\n",
    "            sum_coin += float(order['executedQty']) \n",
    "        wallet[symbol.replace('USDT', '')]['Qty'] = sum_coin\n",
    "        wallet[symbol.replace('USDT', '')]['Price'] =sum_cost"
   ]
  },
  {
   "cell_type": "code",
   "execution_count": 6,
   "metadata": {},
   "outputs": [
    {
     "output_type": "stream",
     "name": "stdout",
     "text": [
      "GET https://api.binance.com/sapi/v1/lending/union/account?timestamp=1622113223513&signature=7d83d8f16ecfd2a14302e989956f32717c3c9be5644ca881509df20e238f7b1a\n"
     ]
    }
   ],
   "source": [
    "# Get current Savings\n",
    "saving = send_signed_request('GET', 'sapi/v1/lending/union/account')\n",
    "savings = saving['positionAmountVos']\n",
    "for asset in savings:\n",
    "    wallet[asset['asset']][\"Saving_value\"] = float(asset['amountInUSDT'])"
   ]
  },
  {
   "cell_type": "code",
   "execution_count": 7,
   "metadata": {
    "tags": []
   },
   "outputs": [
    {
     "output_type": "stream",
     "name": "stdout",
     "text": [
      "GET https://api.binance.com/api/v3/account?timestamp=1622113224522&signature=4284f391207be46080ccc69d8e04e798615093659bee2a776db412e7c11a3bd4\n"
     ]
    }
   ],
   "source": [
    "# stop value\n",
    "all_coins = client.get_all_tickers()\n",
    "spot = send_signed_request('GET', 'api/v3/account')\n",
    "\n",
    "for asset in my_coins:\n",
    "    for asset_spot in spot[\"balances\"]:\n",
    "        if asset_spot['asset'] == asset:\n",
    "            for symbol in all_coins:\n",
    "                if symbol['symbol'] == asset+'USDT':\n",
    "                    wallet[asset]['Spot_value'] = float(symbol['price']) * float(asset_spot['free'])"
   ]
  },
  {
   "cell_type": "code",
   "execution_count": 8,
   "metadata": {},
   "outputs": [],
   "source": [
    "# get stacking value\n",
    "stack = {'DOT':2.50085407+1.12174, 'ADA':6.1938, 'CAKE':3.125, 'TRX': 67}\n",
    "for asset in my_coins:\n",
    "    try:\n",
    "        coin = stack[asset]\n",
    "        for symbol in all_coins:\n",
    "            if symbol['symbol'] == asset+'USDT':\n",
    "                wallet[asset]['Stack_value'] = float(symbol['price']) * coin\n",
    "    except:\n",
    "        pass"
   ]
  },
  {
   "cell_type": "code",
   "execution_count": 9,
   "metadata": {},
   "outputs": [
    {
     "output_type": "execute_result",
     "data": {
      "text/plain": [
       "{'BTC': {'Qty': 0.004071,\n",
       "  'Price': 160.29399999999998,\n",
       "  'Saving_value': 159.51752867,\n",
       "  'Spot_value': 0.0,\n",
       "  'Stack_value': 0,\n",
       "  'Balance': -0.7764713299999926},\n",
       " 'USDT': {'Qty': 0,\n",
       "  'Price': 0,\n",
       "  'Saving_value': 107.10418394,\n",
       "  'Spot_value': 0,\n",
       "  'Stack_value': 0,\n",
       "  'Balance': 107.10418394},\n",
       " 'ETH': {'Qty': 0.01458,\n",
       "  'Price': 44.96249999999999,\n",
       "  'Saving_value': 40.44483473,\n",
       "  'Spot_value': 0.0,\n",
       "  'Stack_value': 0,\n",
       "  'Balance': -4.517665269999995},\n",
       " 'ADA': {'Qty': 6.2,\n",
       "  'Price': 10.0626,\n",
       "  'Saving_value': 0.0,\n",
       "  'Spot_value': 0.007464337376,\n",
       "  'Stack_value': 10.70536392,\n",
       "  'Balance': 0.6502282573759999},\n",
       " 'DOT': {'Qty': 3.622,\n",
       "  'Price': 90.6357,\n",
       "  'Saving_value': 0.06052429,\n",
       "  'Spot_value': 0.06539226708,\n",
       "  'Stack_value': 85.88808280562999,\n",
       "  'Balance': -4.6217006372900045},\n",
       " 'CAKE': {'Qty': 3.125,\n",
       "  'Price': 50.0,\n",
       "  'Saving_value': 0,\n",
       "  'Spot_value': 0.060186022250000006,\n",
       "  'Stack_value': 58.596875000000004,\n",
       "  'Balance': 8.657061022250005},\n",
       " 'MATIC': {'Qty': 11.3,\n",
       "  'Price': 24.860000000000003,\n",
       "  'Saving_value': 0,\n",
       "  'Spot_value': 24.749033999999998,\n",
       "  'Stack_value': 0,\n",
       "  'Balance': -0.11096600000000478},\n",
       " 'VET': {'Qty': 44.0,\n",
       "  'Price': 10.0716,\n",
       "  'Saving_value': 5.63220032,\n",
       "  'Spot_value': 0.0,\n",
       "  'Stack_value': 0,\n",
       "  'Balance': -4.43939968},\n",
       " 'BNB': {'Qty': 0.016,\n",
       "  'Price': 10.15776,\n",
       "  'Saving_value': 0,\n",
       "  'Spot_value': 5.5624601868,\n",
       "  'Stack_value': 0,\n",
       "  'Balance': -4.5952998132},\n",
       " 'LTC': {'Qty': 0.106,\n",
       "  'Price': 30.442,\n",
       "  'Saving_value': 20.78232502,\n",
       "  'Spot_value': 0.0,\n",
       "  'Stack_value': 0,\n",
       "  'Balance': -9.659674980000002},\n",
       " 'KSM': {'Qty': 0.0408,\n",
       "  'Price': 19.992,\n",
       "  'Saving_value': 0,\n",
       "  'Spot_value': 13.072728000000001,\n",
       "  'Stack_value': 0,\n",
       "  'Balance': -6.919271999999999},\n",
       " 'THETA': {'Qty': 2.0,\n",
       "  'Price': 21.0,\n",
       "  'Saving_value': 14.67431916,\n",
       "  'Spot_value': 0.0,\n",
       "  'Stack_value': 0,\n",
       "  'Balance': -6.32568084},\n",
       " 'AVAX': {'Qty': 0.265,\n",
       "  'Price': 10.0965,\n",
       "  'Saving_value': 0,\n",
       "  'Spot_value': 5.30689,\n",
       "  'Stack_value': 0,\n",
       "  'Balance': -4.789610000000001},\n",
       " 'DENT': {'Qty': 1050.0,\n",
       "  'Price': 10.185,\n",
       "  'Saving_value': 0,\n",
       "  'Spot_value': 4.647195,\n",
       "  'Stack_value': 0,\n",
       "  'Balance': -5.5378050000000005},\n",
       " 'EGLD': {'Qty': 0.053,\n",
       "  'Price': 10.0859,\n",
       "  'Saving_value': 5.93151127,\n",
       "  'Spot_value': 0.0,\n",
       "  'Stack_value': 0,\n",
       "  'Balance': -4.154388730000001},\n",
       " 'HOT': {'Qty': 660.0,\n",
       "  'Price': 10.131,\n",
       "  'Saving_value': 0,\n",
       "  'Spot_value': 6.6257399999999995,\n",
       "  'Stack_value': 0,\n",
       "  'Balance': -3.5052600000000007},\n",
       " 'TRX': {'Qty': 67.0,\n",
       "  'Price': 10.116999999999999,\n",
       "  'Saving_value': 0.0,\n",
       "  'Spot_value': 0.0092704232755,\n",
       "  'Stack_value': 5.41829,\n",
       "  'Balance': -4.689439576724499},\n",
       " 'ONE': {'Qty': 79.0,\n",
       "  'Price': 10.1278,\n",
       "  'Saving_value': 8.90242052,\n",
       "  'Spot_value': 0.0,\n",
       "  'Stack_value': 0,\n",
       "  'Balance': -1.2253794800000009},\n",
       " 'BAND': {'Qty': 1.181,\n",
       "  'Price': 19.99433,\n",
       "  'Saving_value': 0,\n",
       "  'Spot_value': 10.379809,\n",
       "  'Stack_value': 0,\n",
       "  'Balance': -9.614521000000002},\n",
       " 'SXP': {'Qty': 7.385,\n",
       "  'Price': 31.395599999999995,\n",
       "  'Saving_value': 17.4753038,\n",
       "  'Spot_value': 0.0,\n",
       "  'Stack_value': 0,\n",
       "  'Balance': -13.920296199999996},\n",
       " 'LINK': {'Qty': 0.215,\n",
       "  'Price': 10.019,\n",
       "  'Saving_value': 7.27943273,\n",
       "  'Spot_value': 0.0,\n",
       "  'Stack_value': 0,\n",
       "  'Balance': -2.73956727}}"
      ]
     },
     "metadata": {},
     "execution_count": 9
    }
   ],
   "source": [
    "# balance calcul\n",
    "for asset in my_coins:\n",
    "    wallet[asset][\"Balance\"] =  wallet[asset][\"Stack_value\"] + wallet[asset][\"Saving_value\"] + wallet[asset][\"Spot_value\"] -  wallet[asset][\"Price\"]\n",
    "wallet"
   ]
  },
  {
   "cell_type": "code",
   "execution_count": 10,
   "metadata": {},
   "outputs": [
    {
     "output_type": "stream",
     "name": "stdout",
     "text": [
      "-82.83510852758847 701.7344739399997 70.4861692367815 387.8045844499999 160.60861172563 618.8993654124114\n"
     ]
    }
   ],
   "source": [
    "# global balance\n",
    "balance = 0\n",
    "total_usdt_invest = 0\n",
    "total_spot = 0\n",
    "total_saving = 0\n",
    "total_stacking = 0\n",
    "current_value = 0\n",
    "for asset in wallet:\n",
    "    if asset != \"USDT\":\n",
    "        balance += wallet[asset]['Balance']\n",
    "        total_usdt_invest +=  wallet[asset]['Price']\n",
    "        total_spot += wallet[asset]['Spot_value']\n",
    "        total_saving += wallet[asset]['Saving_value']\n",
    "        total_stacking += wallet[asset]['Stack_value']\n",
    "    else:\n",
    "        total_usdt_invest +=wallet[asset]['Balance']\n",
    "        total_spot += wallet[asset]['Spot_value']\n",
    "        total_saving += wallet[asset]['Saving_value']\n",
    "        total_stacking += wallet[asset]['Stack_value']\n",
    "current_value = total_spot + total_saving + total_stacking\n",
    "print(balance, total_usdt_invest, total_spot, total_saving, total_stacking, current_value)"
   ]
  },
  {
   "cell_type": "code",
   "execution_count": null,
   "metadata": {},
   "outputs": [],
   "source": []
  }
 ]
}